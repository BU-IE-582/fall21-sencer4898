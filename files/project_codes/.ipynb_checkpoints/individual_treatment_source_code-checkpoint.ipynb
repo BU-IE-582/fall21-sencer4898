{
 "cells": [
  {
   "cell_type": "code",
   "execution_count": 3,
   "id": "64df89e5",
   "metadata": {},
   "outputs": [],
   "source": [
    "import h2o\n",
    "from h2o.automl import H2OAutoML"
   ]
  },
  {
   "cell_type": "code",
   "execution_count": 5,
   "id": "f4d3e84f",
   "metadata": {},
   "outputs": [],
   "source": [
    "import pandas as pd\n",
    "import numpy as np\n",
    "import missingno as msno\n",
    "import seaborn as sns\n",
    "from datetime import datetime\n",
    "\n",
    "from sklearn.svm import SVC\n",
    "\n",
    "from vboUtil import eda, preprocessing\n",
    "\n",
    "from sklearn.impute import KNNImputer\n",
    "from sklearn.ensemble import RandomForestClassifier\n",
    "from sklearn.ensemble import RandomForestRegressor\n",
    "from sklearn.preprocessing import LabelEncoder\n",
    "from sklearn.model_selection import GridSearchCV\n",
    "from sklearn.model_selection import RandomizedSearchCV\n",
    "from sklearn.model_selection import cross_val_score\n",
    "from sklearn.model_selection import learning_curve\n",
    "\n",
    "from yellowbrick.model_selection import LearningCurve\n",
    "from yellowbrick.model_selection import ValidationCurve\n",
    "from sklearn.model_selection import train_test_split\n",
    "\n",
    "import lightgbm as lgb\n",
    "from lightgbm import LGBMRegressor\n",
    "from lightgbm import LGBMClassifier\n",
    "from sklearn.cluster import KMeans\n",
    "from vboUtil import eda, preprocessing"
   ]
  },
  {
   "cell_type": "code",
   "execution_count": 7,
   "id": "14df1a94",
   "metadata": {
    "scrolled": true
   },
   "outputs": [
    {
     "ename": "KeyboardInterrupt",
     "evalue": "",
     "output_type": "error",
     "traceback": [
      "\u001b[1;31m---------------------------------------------------------------------------\u001b[0m",
      "\u001b[1;31mKeyboardInterrupt\u001b[0m                         Traceback (most recent call last)",
      "\u001b[1;32m~\\AppData\\Local\\Temp/ipykernel_9916/3180332355.py\u001b[0m in \u001b[0;36m<module>\u001b[1;34m\u001b[0m\n\u001b[1;32m----> 1\u001b[1;33m \u001b[0mtrain\u001b[0m \u001b[1;33m=\u001b[0m \u001b[0mpd\u001b[0m\u001b[1;33m.\u001b[0m\u001b[0mread_csv\u001b[0m\u001b[1;33m(\u001b[0m\u001b[1;34m'train.csv'\u001b[0m\u001b[1;33m)\u001b[0m\u001b[1;33m\u001b[0m\u001b[1;33m\u001b[0m\u001b[0m\n\u001b[0m\u001b[0;32m      2\u001b[0m \u001b[0mtest\u001b[0m \u001b[1;33m=\u001b[0m \u001b[0mpd\u001b[0m\u001b[1;33m.\u001b[0m\u001b[0mread_csv\u001b[0m\u001b[1;33m(\u001b[0m\u001b[1;34m'test.csv'\u001b[0m\u001b[1;33m)\u001b[0m\u001b[1;33m\u001b[0m\u001b[1;33m\u001b[0m\u001b[0m\n",
      "\u001b[1;32m~\\AppData\\Roaming\\Python\\Python38\\site-packages\\pandas\\io\\parsers.py\u001b[0m in \u001b[0;36mparser_f\u001b[1;34m(filepath_or_buffer, sep, delimiter, header, names, index_col, usecols, squeeze, prefix, mangle_dupe_cols, dtype, engine, converters, true_values, false_values, skipinitialspace, skiprows, skipfooter, nrows, na_values, keep_default_na, na_filter, verbose, skip_blank_lines, parse_dates, infer_datetime_format, keep_date_col, date_parser, dayfirst, cache_dates, iterator, chunksize, compression, thousands, decimal, lineterminator, quotechar, quoting, doublequote, escapechar, comment, encoding, dialect, error_bad_lines, warn_bad_lines, delim_whitespace, low_memory, memory_map, float_precision)\u001b[0m\n\u001b[0;32m    674\u001b[0m         )\n\u001b[0;32m    675\u001b[0m \u001b[1;33m\u001b[0m\u001b[0m\n\u001b[1;32m--> 676\u001b[1;33m         \u001b[1;32mreturn\u001b[0m \u001b[0m_read\u001b[0m\u001b[1;33m(\u001b[0m\u001b[0mfilepath_or_buffer\u001b[0m\u001b[1;33m,\u001b[0m \u001b[0mkwds\u001b[0m\u001b[1;33m)\u001b[0m\u001b[1;33m\u001b[0m\u001b[1;33m\u001b[0m\u001b[0m\n\u001b[0m\u001b[0;32m    677\u001b[0m \u001b[1;33m\u001b[0m\u001b[0m\n\u001b[0;32m    678\u001b[0m     \u001b[0mparser_f\u001b[0m\u001b[1;33m.\u001b[0m\u001b[0m__name__\u001b[0m \u001b[1;33m=\u001b[0m \u001b[0mname\u001b[0m\u001b[1;33m\u001b[0m\u001b[1;33m\u001b[0m\u001b[0m\n",
      "\u001b[1;32m~\\AppData\\Roaming\\Python\\Python38\\site-packages\\pandas\\io\\parsers.py\u001b[0m in \u001b[0;36m_read\u001b[1;34m(filepath_or_buffer, kwds)\u001b[0m\n\u001b[0;32m    452\u001b[0m \u001b[1;33m\u001b[0m\u001b[0m\n\u001b[0;32m    453\u001b[0m     \u001b[1;32mtry\u001b[0m\u001b[1;33m:\u001b[0m\u001b[1;33m\u001b[0m\u001b[1;33m\u001b[0m\u001b[0m\n\u001b[1;32m--> 454\u001b[1;33m         \u001b[0mdata\u001b[0m \u001b[1;33m=\u001b[0m \u001b[0mparser\u001b[0m\u001b[1;33m.\u001b[0m\u001b[0mread\u001b[0m\u001b[1;33m(\u001b[0m\u001b[0mnrows\u001b[0m\u001b[1;33m)\u001b[0m\u001b[1;33m\u001b[0m\u001b[1;33m\u001b[0m\u001b[0m\n\u001b[0m\u001b[0;32m    455\u001b[0m     \u001b[1;32mfinally\u001b[0m\u001b[1;33m:\u001b[0m\u001b[1;33m\u001b[0m\u001b[1;33m\u001b[0m\u001b[0m\n\u001b[0;32m    456\u001b[0m         \u001b[0mparser\u001b[0m\u001b[1;33m.\u001b[0m\u001b[0mclose\u001b[0m\u001b[1;33m(\u001b[0m\u001b[1;33m)\u001b[0m\u001b[1;33m\u001b[0m\u001b[1;33m\u001b[0m\u001b[0m\n",
      "\u001b[1;32m~\\AppData\\Roaming\\Python\\Python38\\site-packages\\pandas\\io\\parsers.py\u001b[0m in \u001b[0;36mread\u001b[1;34m(self, nrows)\u001b[0m\n\u001b[0;32m   1131\u001b[0m     \u001b[1;32mdef\u001b[0m \u001b[0mread\u001b[0m\u001b[1;33m(\u001b[0m\u001b[0mself\u001b[0m\u001b[1;33m,\u001b[0m \u001b[0mnrows\u001b[0m\u001b[1;33m=\u001b[0m\u001b[1;32mNone\u001b[0m\u001b[1;33m)\u001b[0m\u001b[1;33m:\u001b[0m\u001b[1;33m\u001b[0m\u001b[1;33m\u001b[0m\u001b[0m\n\u001b[0;32m   1132\u001b[0m         \u001b[0mnrows\u001b[0m \u001b[1;33m=\u001b[0m \u001b[0m_validate_integer\u001b[0m\u001b[1;33m(\u001b[0m\u001b[1;34m\"nrows\"\u001b[0m\u001b[1;33m,\u001b[0m \u001b[0mnrows\u001b[0m\u001b[1;33m)\u001b[0m\u001b[1;33m\u001b[0m\u001b[1;33m\u001b[0m\u001b[0m\n\u001b[1;32m-> 1133\u001b[1;33m         \u001b[0mret\u001b[0m \u001b[1;33m=\u001b[0m \u001b[0mself\u001b[0m\u001b[1;33m.\u001b[0m\u001b[0m_engine\u001b[0m\u001b[1;33m.\u001b[0m\u001b[0mread\u001b[0m\u001b[1;33m(\u001b[0m\u001b[0mnrows\u001b[0m\u001b[1;33m)\u001b[0m\u001b[1;33m\u001b[0m\u001b[1;33m\u001b[0m\u001b[0m\n\u001b[0m\u001b[0;32m   1134\u001b[0m \u001b[1;33m\u001b[0m\u001b[0m\n\u001b[0;32m   1135\u001b[0m         \u001b[1;31m# May alter columns / col_dict\u001b[0m\u001b[1;33m\u001b[0m\u001b[1;33m\u001b[0m\u001b[1;33m\u001b[0m\u001b[0m\n",
      "\u001b[1;32m~\\AppData\\Roaming\\Python\\Python38\\site-packages\\pandas\\io\\parsers.py\u001b[0m in \u001b[0;36mread\u001b[1;34m(self, nrows)\u001b[0m\n\u001b[0;32m   2035\u001b[0m     \u001b[1;32mdef\u001b[0m \u001b[0mread\u001b[0m\u001b[1;33m(\u001b[0m\u001b[0mself\u001b[0m\u001b[1;33m,\u001b[0m \u001b[0mnrows\u001b[0m\u001b[1;33m=\u001b[0m\u001b[1;32mNone\u001b[0m\u001b[1;33m)\u001b[0m\u001b[1;33m:\u001b[0m\u001b[1;33m\u001b[0m\u001b[1;33m\u001b[0m\u001b[0m\n\u001b[0;32m   2036\u001b[0m         \u001b[1;32mtry\u001b[0m\u001b[1;33m:\u001b[0m\u001b[1;33m\u001b[0m\u001b[1;33m\u001b[0m\u001b[0m\n\u001b[1;32m-> 2037\u001b[1;33m             \u001b[0mdata\u001b[0m \u001b[1;33m=\u001b[0m \u001b[0mself\u001b[0m\u001b[1;33m.\u001b[0m\u001b[0m_reader\u001b[0m\u001b[1;33m.\u001b[0m\u001b[0mread\u001b[0m\u001b[1;33m(\u001b[0m\u001b[0mnrows\u001b[0m\u001b[1;33m)\u001b[0m\u001b[1;33m\u001b[0m\u001b[1;33m\u001b[0m\u001b[0m\n\u001b[0m\u001b[0;32m   2038\u001b[0m         \u001b[1;32mexcept\u001b[0m \u001b[0mStopIteration\u001b[0m\u001b[1;33m:\u001b[0m\u001b[1;33m\u001b[0m\u001b[1;33m\u001b[0m\u001b[0m\n\u001b[0;32m   2039\u001b[0m             \u001b[1;32mif\u001b[0m \u001b[0mself\u001b[0m\u001b[1;33m.\u001b[0m\u001b[0m_first_chunk\u001b[0m\u001b[1;33m:\u001b[0m\u001b[1;33m\u001b[0m\u001b[1;33m\u001b[0m\u001b[0m\n",
      "\u001b[1;32mD:\\Users\\www\\anaconda3\\lib\\site-packages\\pandas\\_libs\\parsers.pyx\u001b[0m in \u001b[0;36mpandas._libs.parsers.TextReader.read\u001b[1;34m()\u001b[0m\n",
      "\u001b[1;32mD:\\Users\\www\\anaconda3\\lib\\site-packages\\pandas\\_libs\\parsers.pyx\u001b[0m in \u001b[0;36mpandas._libs.parsers.TextReader._read_low_memory\u001b[1;34m()\u001b[0m\n",
      "\u001b[1;32mD:\\Users\\www\\anaconda3\\lib\\site-packages\\pandas\\_libs\\parsers.pyx\u001b[0m in \u001b[0;36mpandas._libs.parsers.TextReader._read_rows\u001b[1;34m()\u001b[0m\n",
      "\u001b[1;32mD:\\Users\\www\\anaconda3\\lib\\site-packages\\pandas\\_libs\\parsers.pyx\u001b[0m in \u001b[0;36mpandas._libs.parsers.TextReader._convert_column_data\u001b[1;34m()\u001b[0m\n",
      "\u001b[1;32m~\\AppData\\Roaming\\Python\\Python38\\site-packages\\pandas\\core\\dtypes\\common.py\u001b[0m in \u001b[0;36mis_extension_array_dtype\u001b[1;34m(arr_or_dtype)\u001b[0m\n\u001b[0;32m   1563\u001b[0m \u001b[1;33m\u001b[0m\u001b[0m\n\u001b[0;32m   1564\u001b[0m \u001b[1;33m\u001b[0m\u001b[0m\n\u001b[1;32m-> 1565\u001b[1;33m \u001b[1;32mdef\u001b[0m \u001b[0mis_extension_array_dtype\u001b[0m\u001b[1;33m(\u001b[0m\u001b[0marr_or_dtype\u001b[0m\u001b[1;33m)\u001b[0m \u001b[1;33m->\u001b[0m \u001b[0mbool\u001b[0m\u001b[1;33m:\u001b[0m\u001b[1;33m\u001b[0m\u001b[1;33m\u001b[0m\u001b[0m\n\u001b[0m\u001b[0;32m   1566\u001b[0m     \"\"\"\n\u001b[0;32m   1567\u001b[0m     \u001b[0mCheck\u001b[0m \u001b[1;32mif\u001b[0m \u001b[0man\u001b[0m \u001b[0mobject\u001b[0m \u001b[1;32mis\u001b[0m \u001b[0ma\u001b[0m \u001b[0mpandas\u001b[0m \u001b[0mextension\u001b[0m \u001b[0marray\u001b[0m \u001b[0mtype\u001b[0m\u001b[1;33m.\u001b[0m\u001b[1;33m\u001b[0m\u001b[1;33m\u001b[0m\u001b[0m\n",
      "\u001b[1;31mKeyboardInterrupt\u001b[0m: "
     ]
    }
   ],
   "source": [
    "train = pd.read_csv('train.csv')\n",
    "test = pd.read_csv('test.csv')"
   ]
  },
  {
   "cell_type": "code",
   "execution_count": 11,
   "id": "ef396ae8",
   "metadata": {},
   "outputs": [
    {
     "name": "stdout",
     "output_type": "stream",
     "text": [
      "5493268\n",
      "2077356\n"
     ]
    }
   ],
   "source": [
    "print(len(train))\n",
    "print(len(train.drop_duplicates()))"
   ]
  },
  {
   "cell_type": "code",
   "execution_count": 12,
   "id": "63ec4cab",
   "metadata": {},
   "outputs": [
    {
     "data": {
      "text/plain": [
       "3415912"
      ]
     },
     "execution_count": 12,
     "metadata": {},
     "output_type": "execute_result"
    }
   ],
   "source": [
    "5493268 - 2077356"
   ]
  },
  {
   "cell_type": "code",
   "execution_count": 13,
   "id": "38a54687",
   "metadata": {},
   "outputs": [
    {
     "name": "stdout",
     "output_type": "stream",
     "text": [
      "2324814\n",
      "877989\n"
     ]
    }
   ],
   "source": [
    "print(len(test))\n",
    "print(len(test.drop_duplicates()))"
   ]
  },
  {
   "cell_type": "code",
   "execution_count": 14,
   "id": "bde18cb7",
   "metadata": {},
   "outputs": [
    {
     "data": {
      "text/plain": [
       "1446825"
      ]
     },
     "execution_count": 14,
     "metadata": {},
     "output_type": "execute_result"
    }
   ],
   "source": [
    "2324814 - 877989"
   ]
  },
  {
   "cell_type": "code",
   "execution_count": 20,
   "id": "cc3d8966",
   "metadata": {},
   "outputs": [
    {
     "data": {
      "text/plain": [
       "time_stamp                   0\n",
       "contentid                    2\n",
       "user_action                  0\n",
       "sellingprice             32013\n",
       "product_name              2184\n",
       "brand_id                  2184\n",
       "brand_name                2184\n",
       "businessunit              2184\n",
       "product_gender          234595\n",
       "category_id               2184\n",
       "Level1_Category_Id        2184\n",
       "Level1_Category_Name      2184\n",
       "Level2_Category_Id        2184\n",
       "Level2_Category_Name      2184\n",
       "Level3_Category_Id        2184\n",
       "Level3_Category_Name      2184\n",
       "gender                       0\n",
       "unique_id                    0\n",
       "type                         0\n",
       "dtype: int64"
      ]
     },
     "execution_count": 20,
     "metadata": {},
     "output_type": "execute_result"
    }
   ],
   "source": [
    "df.isna().sum()"
   ]
  },
  {
   "cell_type": "code",
   "execution_count": 21,
   "id": "56f89e4d",
   "metadata": {
    "scrolled": true
   },
   "outputs": [
    {
     "data": {
      "text/plain": [
       "time_stamp                   0\n",
       "contentid                    1\n",
       "user_action                  0\n",
       "sellingprice             14256\n",
       "product_name               902\n",
       "brand_id                   902\n",
       "brand_name                 902\n",
       "businessunit               902\n",
       "product_gender          105229\n",
       "category_id                902\n",
       "Level1_Category_Id         902\n",
       "Level1_Category_Name       902\n",
       "Level2_Category_Id         902\n",
       "Level2_Category_Name       902\n",
       "Level3_Category_Id         902\n",
       "Level3_Category_Name       902\n",
       "gender                  877989\n",
       "unique_id                    0\n",
       "type                         0\n",
       "dtype: int64"
      ]
     },
     "execution_count": 21,
     "metadata": {},
     "output_type": "execute_result"
    }
   ],
   "source": [
    "df_test.isna().sum()"
   ]
  },
  {
   "cell_type": "code",
   "execution_count": 17,
   "id": "483bcb95",
   "metadata": {},
   "outputs": [],
   "source": [
    "df = train.copy()\n",
    "df_test = test.copy()\n",
    "df.drop_duplicates(inplace=True) # Train set has a lot of duplicates. Since timestamp with split seconds precision can't\n",
    "# be same for different users and different actions, we drop all the duplicates.\n",
    "df_test.drop_duplicates(inplace=True) # Same reason"
   ]
  },
  {
   "cell_type": "code",
   "execution_count": 883,
   "id": "21ff3760",
   "metadata": {},
   "outputs": [],
   "source": [
    "train_ids = df['unique_id']"
   ]
  },
  {
   "cell_type": "code",
   "execution_count": 739,
   "id": "6304e480",
   "metadata": {
    "scrolled": true
   },
   "outputs": [
    {
     "data": {
      "text/plain": [
       "2077356"
      ]
     },
     "execution_count": 739,
     "metadata": {},
     "output_type": "execute_result"
    }
   ],
   "source": [
    "len(df)"
   ]
  },
  {
   "cell_type": "code",
   "execution_count": 740,
   "id": "6069f846",
   "metadata": {},
   "outputs": [
    {
     "data": {
      "text/plain": [
       "False"
      ]
     },
     "execution_count": 740,
     "metadata": {},
     "output_type": "execute_result"
    }
   ],
   "source": [
    "df['unique_id'].isin(df_test['unique_id'].unique()).any() # Train and Test sets have different unique_id values. (Checked)"
   ]
  },
  {
   "cell_type": "code",
   "execution_count": 741,
   "id": "f2e5ef0d",
   "metadata": {
    "scrolled": true
   },
   "outputs": [
    {
     "data": {
      "text/html": [
       "<div>\n",
       "<style scoped>\n",
       "    .dataframe tbody tr th:only-of-type {\n",
       "        vertical-align: middle;\n",
       "    }\n",
       "\n",
       "    .dataframe tbody tr th {\n",
       "        vertical-align: top;\n",
       "    }\n",
       "\n",
       "    .dataframe thead th {\n",
       "        text-align: right;\n",
       "    }\n",
       "</style>\n",
       "<table border=\"1\" class=\"dataframe\">\n",
       "  <thead>\n",
       "    <tr style=\"text-align: right;\">\n",
       "      <th></th>\n",
       "      <th>time_stamp</th>\n",
       "      <th>contentid</th>\n",
       "      <th>user_action</th>\n",
       "      <th>sellingprice</th>\n",
       "      <th>product_name</th>\n",
       "      <th>brand_id</th>\n",
       "      <th>brand_name</th>\n",
       "      <th>businessunit</th>\n",
       "      <th>product_gender</th>\n",
       "      <th>category_id</th>\n",
       "      <th>Level1_Category_Id</th>\n",
       "      <th>Level1_Category_Name</th>\n",
       "      <th>Level2_Category_Id</th>\n",
       "      <th>Level2_Category_Name</th>\n",
       "      <th>Level3_Category_Id</th>\n",
       "      <th>Level3_Category_Name</th>\n",
       "      <th>gender</th>\n",
       "      <th>unique_id</th>\n",
       "      <th>type</th>\n",
       "    </tr>\n",
       "  </thead>\n",
       "  <tbody>\n",
       "    <tr>\n",
       "      <th>0</th>\n",
       "      <td>2020-12-02T22:26:14.023Z</td>\n",
       "      <td>39918893</td>\n",
       "      <td>favorite</td>\n",
       "      <td>3099</td>\n",
       "      <td>PerfectCare 600 EW6F449ST A+++ 9 KG 1400 Devir Çamaşır Makinesi</td>\n",
       "      <td>8511</td>\n",
       "      <td>Electrolux</td>\n",
       "      <td>Beyaz Eşya</td>\n",
       "      <td>Unisex</td>\n",
       "      <td>1272</td>\n",
       "      <td>1071</td>\n",
       "      <td>Elektronik</td>\n",
       "      <td>1212</td>\n",
       "      <td>Beyaz Eşya</td>\n",
       "      <td>1272</td>\n",
       "      <td>Çamaşır Makinesi</td>\n",
       "      <td>F</td>\n",
       "      <td>425</td>\n",
       "      <td>train</td>\n",
       "    </tr>\n",
       "    <tr>\n",
       "      <th>1</th>\n",
       "      <td>2020-12-08T23:15:04.603Z</td>\n",
       "      <td>3558544</td>\n",
       "      <td>favorite</td>\n",
       "      <td>3079</td>\n",
       "      <td>WW90J5475FW A+++ 1400 Devir 9 kg Çamaşır Makinesi</td>\n",
       "      <td>3228</td>\n",
       "      <td>Samsung</td>\n",
       "      <td>Beyaz Eşya</td>\n",
       "      <td>NaN</td>\n",
       "      <td>1272</td>\n",
       "      <td>1071</td>\n",
       "      <td>Elektronik</td>\n",
       "      <td>1212</td>\n",
       "      <td>Beyaz Eşya</td>\n",
       "      <td>1272</td>\n",
       "      <td>Çamaşır Makinesi</td>\n",
       "      <td>F</td>\n",
       "      <td>425</td>\n",
       "      <td>train</td>\n",
       "    </tr>\n",
       "    <tr>\n",
       "      <th>2</th>\n",
       "      <td>2020-12-05T16:19:01.157Z</td>\n",
       "      <td>31292729</td>\n",
       "      <td>favorite</td>\n",
       "      <td>3999</td>\n",
       "      <td>KM 9711 A++ 9 kg Çamaşır Kurutma Makinesi</td>\n",
       "      <td>10989</td>\n",
       "      <td>Vestel</td>\n",
       "      <td>Beyaz Eşya</td>\n",
       "      <td>Unisex</td>\n",
       "      <td>1276</td>\n",
       "      <td>1071</td>\n",
       "      <td>Elektronik</td>\n",
       "      <td>1212</td>\n",
       "      <td>Beyaz Eşya</td>\n",
       "      <td>1276</td>\n",
       "      <td>Kurutma Makinesi</td>\n",
       "      <td>F</td>\n",
       "      <td>425</td>\n",
       "      <td>train</td>\n",
       "    </tr>\n",
       "    <tr>\n",
       "      <th>3</th>\n",
       "      <td>2020-12-05T16:28:00Z</td>\n",
       "      <td>6363103</td>\n",
       "      <td>visit</td>\n",
       "      <td>2544</td>\n",
       "      <td>CMI 9710 A+++ 1000 Devir 9 kg Çamaşır Makinesi</td>\n",
       "      <td>10989</td>\n",
       "      <td>Vestel</td>\n",
       "      <td>Beyaz Eşya</td>\n",
       "      <td>NaN</td>\n",
       "      <td>1272</td>\n",
       "      <td>1071</td>\n",
       "      <td>Elektronik</td>\n",
       "      <td>1212</td>\n",
       "      <td>Beyaz Eşya</td>\n",
       "      <td>1272</td>\n",
       "      <td>Çamaşır Makinesi</td>\n",
       "      <td>F</td>\n",
       "      <td>425</td>\n",
       "      <td>train</td>\n",
       "    </tr>\n",
       "    <tr>\n",
       "      <th>4</th>\n",
       "      <td>2020-12-02T22:26:59Z</td>\n",
       "      <td>39918893</td>\n",
       "      <td>visit</td>\n",
       "      <td>3099</td>\n",
       "      <td>PerfectCare 600 EW6F449ST A+++ 9 KG 1400 Devir Çamaşır Makinesi</td>\n",
       "      <td>8511</td>\n",
       "      <td>Electrolux</td>\n",
       "      <td>Beyaz Eşya</td>\n",
       "      <td>Unisex</td>\n",
       "      <td>1272</td>\n",
       "      <td>1071</td>\n",
       "      <td>Elektronik</td>\n",
       "      <td>1212</td>\n",
       "      <td>Beyaz Eşya</td>\n",
       "      <td>1272</td>\n",
       "      <td>Çamaşır Makinesi</td>\n",
       "      <td>F</td>\n",
       "      <td>425</td>\n",
       "      <td>train</td>\n",
       "    </tr>\n",
       "  </tbody>\n",
       "</table>\n",
       "</div>"
      ],
      "text/plain": [
       "                 time_stamp  contentid user_action  sellingprice  \\\n",
       "0  2020-12-02T22:26:14.023Z   39918893    favorite          3099   \n",
       "1  2020-12-08T23:15:04.603Z    3558544    favorite          3079   \n",
       "2  2020-12-05T16:19:01.157Z   31292729    favorite          3999   \n",
       "3      2020-12-05T16:28:00Z    6363103       visit          2544   \n",
       "4      2020-12-02T22:26:59Z   39918893       visit          3099   \n",
       "\n",
       "                                                      product_name  brand_id  \\\n",
       "0  PerfectCare 600 EW6F449ST A+++ 9 KG 1400 Devir Çamaşır Makinesi      8511   \n",
       "1                WW90J5475FW A+++ 1400 Devir 9 kg Çamaşır Makinesi      3228   \n",
       "2                        KM 9711 A++ 9 kg Çamaşır Kurutma Makinesi     10989   \n",
       "3                   CMI 9710 A+++ 1000 Devir 9 kg Çamaşır Makinesi     10989   \n",
       "4  PerfectCare 600 EW6F449ST A+++ 9 KG 1400 Devir Çamaşır Makinesi      8511   \n",
       "\n",
       "   brand_name businessunit product_gender  category_id  Level1_Category_Id  \\\n",
       "0  Electrolux   Beyaz Eşya         Unisex         1272                1071   \n",
       "1     Samsung   Beyaz Eşya            NaN         1272                1071   \n",
       "2      Vestel   Beyaz Eşya         Unisex         1276                1071   \n",
       "3      Vestel   Beyaz Eşya            NaN         1272                1071   \n",
       "4  Electrolux   Beyaz Eşya         Unisex         1272                1071   \n",
       "\n",
       "  Level1_Category_Name  Level2_Category_Id Level2_Category_Name  \\\n",
       "0           Elektronik                1212           Beyaz Eşya   \n",
       "1           Elektronik                1212           Beyaz Eşya   \n",
       "2           Elektronik                1212           Beyaz Eşya   \n",
       "3           Elektronik                1212           Beyaz Eşya   \n",
       "4           Elektronik                1212           Beyaz Eşya   \n",
       "\n",
       "   Level3_Category_Id Level3_Category_Name gender  unique_id   type  \n",
       "0                1272     Çamaşır Makinesi      F        425  train  \n",
       "1                1272     Çamaşır Makinesi      F        425  train  \n",
       "2                1276     Kurutma Makinesi      F        425  train  \n",
       "3                1272     Çamaşır Makinesi      F        425  train  \n",
       "4                1272     Çamaşır Makinesi      F        425  train  "
      ]
     },
     "execution_count": 741,
     "metadata": {},
     "output_type": "execute_result"
    }
   ],
   "source": [
    "df.head()# unique_id = customer_id"
   ]
  },
  {
   "cell_type": "code",
   "execution_count": 742,
   "id": "8bdff4e9",
   "metadata": {},
   "outputs": [
    {
     "data": {
      "text/plain": [
       "brand_id\n",
       "34614     2\n",
       "110447    2\n",
       "966197    2\n",
       "998446    2\n",
       "Name: brand_name, dtype: int64"
      ]
     },
     "execution_count": 742,
     "metadata": {},
     "output_type": "execute_result"
    }
   ],
   "source": [
    "a = df.groupby('brand_id')['brand_name'].nunique() # 4 brand_id has more than 1 brand_name.\n",
    "a[a>1]"
   ]
  },
  {
   "cell_type": "code",
   "execution_count": 743,
   "id": "702ca788",
   "metadata": {},
   "outputs": [
    {
     "data": {
      "text/plain": [
       "Series([], Name: brand_id, dtype: int64)"
      ]
     },
     "execution_count": 743,
     "metadata": {},
     "output_type": "execute_result"
    }
   ],
   "source": [
    "a = df.groupby('brand_name')['brand_id'].nunique() # Each brand_name has a unique brand_id\n",
    "a[a>1]"
   ]
  },
  {
   "cell_type": "code",
   "execution_count": 744,
   "id": "4c693a31",
   "metadata": {},
   "outputs": [
    {
     "data": {
      "text/plain": [
       "33328"
      ]
     },
     "execution_count": 744,
     "metadata": {},
     "output_type": "execute_result"
    }
   ],
   "source": [
    "df['brand_name'].nunique() #33332\n",
    "df['brand_id'].nunique() #33328"
   ]
  },
  {
   "cell_type": "code",
   "execution_count": 745,
   "id": "42d2950a",
   "metadata": {},
   "outputs": [],
   "source": [
    "# brand_name is more unique. Therefore, brand_id could be dropped."
   ]
  },
  {
   "cell_type": "code",
   "execution_count": 746,
   "id": "56b355a2",
   "metadata": {},
   "outputs": [
    {
     "data": {
      "text/plain": [
       "True"
      ]
     },
     "execution_count": 746,
     "metadata": {},
     "output_type": "execute_result"
    }
   ],
   "source": [
    "(df['brand_name'].isnull() == df['brand_id'].isnull()).all() # Their NA values are in the same rows."
   ]
  },
  {
   "cell_type": "code",
   "execution_count": 747,
   "id": "6f200ac6",
   "metadata": {},
   "outputs": [
    {
     "data": {
      "text/plain": [
       "482796"
      ]
     },
     "execution_count": 747,
     "metadata": {},
     "output_type": "execute_result"
    }
   ],
   "source": [
    "len(df['contentid'].value_counts()) # It has a lot of levels, therefore, it is safe to drop it. (It is an id anyways,\n",
    "# unlikely to provide info.)"
   ]
  },
  {
   "cell_type": "code",
   "execution_count": 748,
   "id": "b623193f",
   "metadata": {},
   "outputs": [
    {
     "data": {
      "text/plain": [
       "Series([], Name: Level1_Category_Name, dtype: int64)"
      ]
     },
     "execution_count": 748,
     "metadata": {},
     "output_type": "execute_result"
    }
   ],
   "source": [
    "a = df.groupby('Level1_Category_Id')['Level1_Category_Name'].nunique()\n",
    "a[a>1] # Each Level1_Category_Id correspond to a unique Level1_Category_Name. Level1_Category_Name should be dropped."
   ]
  },
  {
   "cell_type": "code",
   "execution_count": 749,
   "id": "a11af69a",
   "metadata": {},
   "outputs": [
    {
     "data": {
      "text/plain": [
       "Series([], Name: Level2_Category_Name, dtype: int64)"
      ]
     },
     "execution_count": 749,
     "metadata": {},
     "output_type": "execute_result"
    }
   ],
   "source": [
    "a = df.groupby('Level2_Category_Id')['Level2_Category_Name'].nunique()\n",
    "a[a>1] # # Each Level2_Category_Id correspond to a unique Level2_Category_Name. Level2_Category_Name should be dropped."
   ]
  },
  {
   "cell_type": "code",
   "execution_count": 750,
   "id": "6807b6bc",
   "metadata": {},
   "outputs": [
    {
     "data": {
      "text/plain": [
       "Series([], Name: Level3_Category_Name, dtype: int64)"
      ]
     },
     "execution_count": 750,
     "metadata": {},
     "output_type": "execute_result"
    }
   ],
   "source": [
    "a = df.groupby('Level3_Category_Id')['Level3_Category_Name'].nunique()\n",
    "a[a>1] # Each Level3_Category_Id correspond to a unique Level3_Category_Name. Level3_Category_Name should be dropped."
   ]
  },
  {
   "cell_type": "code",
   "execution_count": 751,
   "id": "7a428ddb",
   "metadata": {},
   "outputs": [
    {
     "data": {
      "text/html": [
       "<div>\n",
       "<style scoped>\n",
       "    .dataframe tbody tr th:only-of-type {\n",
       "        vertical-align: middle;\n",
       "    }\n",
       "\n",
       "    .dataframe tbody tr th {\n",
       "        vertical-align: top;\n",
       "    }\n",
       "\n",
       "    .dataframe thead th {\n",
       "        text-align: right;\n",
       "    }\n",
       "</style>\n",
       "<table border=\"1\" class=\"dataframe\">\n",
       "  <thead>\n",
       "    <tr style=\"text-align: right;\">\n",
       "      <th></th>\n",
       "      <th>category_id</th>\n",
       "      <th>Level3_Category_Id</th>\n",
       "    </tr>\n",
       "  </thead>\n",
       "  <tbody>\n",
       "    <tr>\n",
       "      <th>0</th>\n",
       "      <td>1272</td>\n",
       "      <td>1272</td>\n",
       "    </tr>\n",
       "    <tr>\n",
       "      <th>1</th>\n",
       "      <td>1272</td>\n",
       "      <td>1272</td>\n",
       "    </tr>\n",
       "    <tr>\n",
       "      <th>2</th>\n",
       "      <td>1276</td>\n",
       "      <td>1276</td>\n",
       "    </tr>\n",
       "    <tr>\n",
       "      <th>3</th>\n",
       "      <td>1272</td>\n",
       "      <td>1272</td>\n",
       "    </tr>\n",
       "    <tr>\n",
       "      <th>4</th>\n",
       "      <td>1272</td>\n",
       "      <td>1272</td>\n",
       "    </tr>\n",
       "    <tr>\n",
       "      <th>...</th>\n",
       "      <td>...</td>\n",
       "      <td>...</td>\n",
       "    </tr>\n",
       "    <tr>\n",
       "      <th>5493263</th>\n",
       "      <td>864</td>\n",
       "      <td>864</td>\n",
       "    </tr>\n",
       "    <tr>\n",
       "      <th>5493264</th>\n",
       "      <td>1186</td>\n",
       "      <td>1186</td>\n",
       "    </tr>\n",
       "    <tr>\n",
       "      <th>5493265</th>\n",
       "      <td>864</td>\n",
       "      <td>864</td>\n",
       "    </tr>\n",
       "    <tr>\n",
       "      <th>5493266</th>\n",
       "      <td>975</td>\n",
       "      <td>975</td>\n",
       "    </tr>\n",
       "    <tr>\n",
       "      <th>5493267</th>\n",
       "      <td>975</td>\n",
       "      <td>975</td>\n",
       "    </tr>\n",
       "  </tbody>\n",
       "</table>\n",
       "<p>2077356 rows × 2 columns</p>\n",
       "</div>"
      ],
      "text/plain": [
       "         category_id  Level3_Category_Id\n",
       "0               1272                1272\n",
       "1               1272                1272\n",
       "2               1276                1276\n",
       "3               1272                1272\n",
       "4               1272                1272\n",
       "...              ...                 ...\n",
       "5493263          864                 864\n",
       "5493264         1186                1186\n",
       "5493265          864                 864\n",
       "5493266          975                 975\n",
       "5493267          975                 975\n",
       "\n",
       "[2077356 rows x 2 columns]"
      ]
     },
     "execution_count": 751,
     "metadata": {},
     "output_type": "execute_result"
    }
   ],
   "source": [
    "df[['category_id', 'Level3_Category_Id']] # category_id and Level3_Category_Id seem similar."
   ]
  },
  {
   "cell_type": "code",
   "execution_count": 752,
   "id": "ac8ce9a3",
   "metadata": {
    "scrolled": true
   },
   "outputs": [
    {
     "data": {
      "text/plain": [
       "Level3_Category_Id\n",
       "397      6\n",
       "399      7\n",
       "400      6\n",
       "401      6\n",
       "469      2\n",
       "        ..\n",
       "4540    13\n",
       "4569    11\n",
       "4588     2\n",
       "4589    39\n",
       "4591    11\n",
       "Name: category_id, Length: 166, dtype: int64"
      ]
     },
     "execution_count": 752,
     "metadata": {},
     "output_type": "execute_result"
    }
   ],
   "source": [
    "a = df.groupby('Level3_Category_Id')['category_id'].nunique()\n",
    "a[a>1] # There are levels of Level3_Category_Id that correspond to more than one category_id."
   ]
  },
  {
   "cell_type": "code",
   "execution_count": 753,
   "id": "683617f8",
   "metadata": {},
   "outputs": [
    {
     "data": {
      "text/plain": [
       "Series([], Name: Level3_Category_Id, dtype: int64)"
      ]
     },
     "execution_count": 753,
     "metadata": {},
     "output_type": "execute_result"
    }
   ],
   "source": [
    "a = df.groupby('category_id')['Level3_Category_Id'].nunique()\n",
    "a[a>1] # Each category_id correspond to a unique Level3_Category_Id."
   ]
  },
  {
   "cell_type": "code",
   "execution_count": 754,
   "id": "5c013f67",
   "metadata": {},
   "outputs": [
    {
     "data": {
      "text/plain": [
       "739"
      ]
     },
     "execution_count": 754,
     "metadata": {},
     "output_type": "execute_result"
    }
   ],
   "source": [
    "df['category_id'].nunique() #2240\n",
    "df['Level3_Category_Id'].nunique() #739"
   ]
  },
  {
   "cell_type": "code",
   "execution_count": 755,
   "id": "b1149962",
   "metadata": {},
   "outputs": [
    {
     "data": {
      "text/plain": [
       "True"
      ]
     },
     "execution_count": 755,
     "metadata": {},
     "output_type": "execute_result"
    }
   ],
   "source": [
    "(df['category_id'].isna() == df['Level3_Category_Id'].isna()).all() # Rows that they are missing are the same.\n",
    "# Therefore, since the category_id is more unique and they provide the same information\n",
    "# Level3_Category_Id is dropped."
   ]
  },
  {
   "cell_type": "code",
   "execution_count": 23,
   "id": "7cca26c2",
   "metadata": {},
   "outputs": [],
   "source": [
    "# Drop the columns that we decided to drop before.\n",
    "# Type column is not necessary at this point, therefore we can drop it as well.\n",
    "\n",
    "df = train.drop(['contentid', 'Level1_Category_Name', 'Level2_Category_Name', 'Level3_Category_Name',\n",
    "        'Level3_Category_Id', 'brand_id', 'type'], axis=1)\n",
    "df.drop_duplicates(inplace=True)\n",
    "df_test = test.drop(['contentid', 'Level1_Category_Name', 'Level2_Category_Name', 'Level3_Category_Name',\n",
    "        'Level3_Category_Id', 'brand_id', 'type'], axis=1)\n",
    "df_test.drop('gender', inplace=True, axis=1) # Gender column is dropped because it is the target feature and full of NA's.\n",
    "df_test.drop_duplicates(inplace=True)"
   ]
  },
  {
   "cell_type": "code",
   "execution_count": 24,
   "id": "475c0b0f",
   "metadata": {},
   "outputs": [],
   "source": [
    "test_ids = df_test['unique_id']\n",
    "train_ids = df['unique_id']"
   ]
  },
  {
   "cell_type": "code",
   "execution_count": 25,
   "id": "c5431659",
   "metadata": {},
   "outputs": [
    {
     "data": {
      "text/plain": [
       "visit       1027149\n",
       "search       771374\n",
       "favorite     156204\n",
       "basket        99102\n",
       "order         23299\n",
       "Name: user_action, dtype: int64"
      ]
     },
     "execution_count": 25,
     "metadata": {},
     "output_type": "execute_result"
    }
   ],
   "source": [
    "df['user_action'].value_counts() "
   ]
  },
  {
   "cell_type": "code",
   "execution_count": 764,
   "id": "70ccf64b",
   "metadata": {},
   "outputs": [
    {
     "data": {
      "text/plain": [
       "time_stamp            False\n",
       "user_action           False\n",
       "sellingprice           True\n",
       "product_name           True\n",
       "brand_name             True\n",
       "businessunit           True\n",
       "product_gender         True\n",
       "category_id            True\n",
       "Level1_Category_Id     True\n",
       "Level2_Category_Id     True\n",
       "gender                False\n",
       "unique_id             False\n",
       "dtype: bool"
      ]
     },
     "execution_count": 764,
     "metadata": {},
     "output_type": "execute_result"
    }
   ],
   "source": [
    "df.isnull().any()"
   ]
  },
  {
   "cell_type": "code",
   "execution_count": 765,
   "id": "bccaac36",
   "metadata": {},
   "outputs": [
    {
     "data": {
      "text/plain": [
       "2077128"
      ]
     },
     "execution_count": 765,
     "metadata": {},
     "output_type": "execute_result"
    }
   ],
   "source": [
    "len(df) #2077128"
   ]
  },
  {
   "cell_type": "code",
   "execution_count": 26,
   "id": "382b1659",
   "metadata": {
    "scrolled": true
   },
   "outputs": [
    {
     "data": {
      "text/plain": [
       "time_stamp                 0\n",
       "user_action                0\n",
       "sellingprice           32012\n",
       "product_name            2184\n",
       "brand_name              2184\n",
       "businessunit            2184\n",
       "product_gender        234567\n",
       "category_id             2184\n",
       "Level1_Category_Id      2184\n",
       "Level2_Category_Id      2184\n",
       "gender                     0\n",
       "unique_id                  0\n",
       "dtype: int64"
      ]
     },
     "execution_count": 26,
     "metadata": {},
     "output_type": "execute_result"
    }
   ],
   "source": [
    "df.isnull().sum()"
   ]
  },
  {
   "cell_type": "code",
   "execution_count": 27,
   "id": "d4dbfd8f",
   "metadata": {},
   "outputs": [
    {
     "data": {
      "text/plain": [
       "time_stamp            0.000000\n",
       "user_action           0.000000\n",
       "sellingprice          0.015412\n",
       "product_name          0.001051\n",
       "brand_name            0.001051\n",
       "businessunit          0.001051\n",
       "product_gender        0.112929\n",
       "category_id           0.001051\n",
       "Level1_Category_Id    0.001051\n",
       "Level2_Category_Id    0.001051\n",
       "gender                0.000000\n",
       "unique_id             0.000000\n",
       "dtype: float64"
      ]
     },
     "execution_count": 27,
     "metadata": {},
     "output_type": "execute_result"
    }
   ],
   "source": [
    "df.isnull().sum()/len(df) # There are very few product-related missing columns."
   ]
  },
  {
   "cell_type": "code",
   "execution_count": 28,
   "id": "c031bfc4",
   "metadata": {},
   "outputs": [
    {
     "data": {
      "text/plain": [
       "time_stamp                 0\n",
       "user_action                0\n",
       "sellingprice           14255\n",
       "product_name             902\n",
       "brand_name               902\n",
       "businessunit             902\n",
       "product_gender        105213\n",
       "category_id              902\n",
       "Level1_Category_Id       902\n",
       "Level2_Category_Id       902\n",
       "unique_id                  0\n",
       "dtype: int64"
      ]
     },
     "execution_count": 28,
     "metadata": {},
     "output_type": "execute_result"
    }
   ],
   "source": [
    "df_test.isnull().sum()"
   ]
  },
  {
   "cell_type": "code",
   "execution_count": 29,
   "id": "59bae8e4",
   "metadata": {},
   "outputs": [],
   "source": [
    "s = df_test.notnull().all(axis=1)"
   ]
  },
  {
   "cell_type": "code",
   "execution_count": 30,
   "id": "0a7c681d",
   "metadata": {},
   "outputs": [],
   "source": [
    "notnull = s[s].index"
   ]
  },
  {
   "cell_type": "code",
   "execution_count": 31,
   "id": "cf10c489",
   "metadata": {},
   "outputs": [
    {
     "data": {
      "text/plain": [
       "2380"
      ]
     },
     "execution_count": 31,
     "metadata": {},
     "output_type": "execute_result"
    }
   ],
   "source": [
    "len(df_test.unique_id.unique())"
   ]
  },
  {
   "cell_type": "code",
   "execution_count": 772,
   "id": "faf70de3",
   "metadata": {},
   "outputs": [
    {
     "data": {
      "text/plain": [
       "2331"
      ]
     },
     "execution_count": 772,
     "metadata": {},
     "output_type": "execute_result"
    }
   ],
   "source": [
    "len(df_test.loc[notnull,:].unique_id.unique()) # There are 2380-2331 = 49 unique_id values that has at least 1 missing value\n",
    "# in their features, therefore we can't directly drop rows with missing values and apply majority voting."
   ]
  },
  {
   "cell_type": "code",
   "execution_count": 773,
   "id": "d50b2e40",
   "metadata": {
    "scrolled": true
   },
   "outputs": [
    {
     "data": {
      "text/plain": [
       "time_stamp             True\n",
       "user_action            True\n",
       "sellingprice           True\n",
       "product_name          False\n",
       "brand_name            False\n",
       "businessunit          False\n",
       "product_gender        False\n",
       "category_id           False\n",
       "Level1_Category_Id    False\n",
       "Level2_Category_Id    False\n",
       "gender                 True\n",
       "unique_id              True\n",
       "dtype: bool"
      ]
     },
     "execution_count": 773,
     "metadata": {},
     "output_type": "execute_result"
    }
   ],
   "source": [
    "df[df['product_name'].isnull()].notnull().any() #product_name, brand_name, business_unit, category_id, Level1_Category_Id\n",
    "# and Level2_Category_Id missing values are in the same rows. There are 2184 of these rows."
   ]
  },
  {
   "cell_type": "code",
   "execution_count": 774,
   "id": "bac3bf1d",
   "metadata": {},
   "outputs": [
    {
     "data": {
      "text/plain": [
       "2379"
      ]
     },
     "execution_count": 774,
     "metadata": {},
     "output_type": "execute_result"
    }
   ],
   "source": [
    "df_test[df_test['product_name'].notnull()]['unique_id'].nunique() # We can't drop the product-related rows as well. (1 unique_id is lost that way)"
   ]
  },
  {
   "cell_type": "code",
   "execution_count": 775,
   "id": "511c8b30",
   "metadata": {},
   "outputs": [
    {
     "data": {
      "text/plain": [
       "True"
      ]
     },
     "execution_count": 775,
     "metadata": {},
     "output_type": "execute_result"
    }
   ],
   "source": [
    "df[~(df['product_name'].notnull())]['sellingprice'].isnull().any() # True\n",
    "df[~(df['product_name'].notnull())]['product_gender'].isnull().any() # True\n",
    "# Both sellingprice and product_gender missing values overlap with product-related columns' missing values at some rows.\n",
    "# Therefore, we can't use these values to impute missing values of each other."
   ]
  },
  {
   "cell_type": "markdown",
   "id": "d6444e76",
   "metadata": {},
   "source": [
    "## I will be filling the brand-related values with their most frequent values, as they are not that frequent anyways. Then, I will impute sellingprice, using rf. Lastly, I will impute productgender, using rf. Before imputations, I will create isNA columns to state that they were NA beforehand."
   ]
  },
  {
   "cell_type": "code",
   "execution_count": 776,
   "id": "60893e3a",
   "metadata": {
    "scrolled": true
   },
   "outputs": [
    {
     "data": {
      "text/html": [
       "<div>\n",
       "<style scoped>\n",
       "    .dataframe tbody tr th:only-of-type {\n",
       "        vertical-align: middle;\n",
       "    }\n",
       "\n",
       "    .dataframe tbody tr th {\n",
       "        vertical-align: top;\n",
       "    }\n",
       "\n",
       "    .dataframe thead th {\n",
       "        text-align: right;\n",
       "    }\n",
       "</style>\n",
       "<table border=\"1\" class=\"dataframe\">\n",
       "  <thead>\n",
       "    <tr style=\"text-align: right;\">\n",
       "      <th></th>\n",
       "      <th>time_stamp</th>\n",
       "      <th>user_action</th>\n",
       "      <th>sellingprice</th>\n",
       "      <th>product_name</th>\n",
       "      <th>brand_name</th>\n",
       "      <th>businessunit</th>\n",
       "      <th>product_gender</th>\n",
       "      <th>category_id</th>\n",
       "      <th>Level1_Category_Id</th>\n",
       "      <th>Level2_Category_Id</th>\n",
       "      <th>gender</th>\n",
       "      <th>unique_id</th>\n",
       "    </tr>\n",
       "  </thead>\n",
       "  <tbody>\n",
       "    <tr>\n",
       "      <th>10182</th>\n",
       "      <td>2020-11-27T06:40:58Z</td>\n",
       "      <td>visit</td>\n",
       "      <td>66</td>\n",
       "      <td>NaN</td>\n",
       "      <td>NaN</td>\n",
       "      <td>NaN</td>\n",
       "      <td>NaN</td>\n",
       "      <td>NaN</td>\n",
       "      <td>NaN</td>\n",
       "      <td>NaN</td>\n",
       "      <td>F</td>\n",
       "      <td>1983</td>\n",
       "    </tr>\n",
       "    <tr>\n",
       "      <th>17988</th>\n",
       "      <td>2020-10-21T21:52:56Z</td>\n",
       "      <td>visit</td>\n",
       "      <td>564</td>\n",
       "      <td>NaN</td>\n",
       "      <td>NaN</td>\n",
       "      <td>NaN</td>\n",
       "      <td>NaN</td>\n",
       "      <td>NaN</td>\n",
       "      <td>NaN</td>\n",
       "      <td>NaN</td>\n",
       "      <td>F</td>\n",
       "      <td>737</td>\n",
       "    </tr>\n",
       "    <tr>\n",
       "      <th>17989</th>\n",
       "      <td>2020-10-21T21:51:38Z</td>\n",
       "      <td>visit</td>\n",
       "      <td>564</td>\n",
       "      <td>NaN</td>\n",
       "      <td>NaN</td>\n",
       "      <td>NaN</td>\n",
       "      <td>NaN</td>\n",
       "      <td>NaN</td>\n",
       "      <td>NaN</td>\n",
       "      <td>NaN</td>\n",
       "      <td>F</td>\n",
       "      <td>737</td>\n",
       "    </tr>\n",
       "    <tr>\n",
       "      <th>18724</th>\n",
       "      <td>2020-10-22T19:36:40Z</td>\n",
       "      <td>visit</td>\n",
       "      <td>564</td>\n",
       "      <td>NaN</td>\n",
       "      <td>NaN</td>\n",
       "      <td>NaN</td>\n",
       "      <td>NaN</td>\n",
       "      <td>NaN</td>\n",
       "      <td>NaN</td>\n",
       "      <td>NaN</td>\n",
       "      <td>F</td>\n",
       "      <td>737</td>\n",
       "    </tr>\n",
       "    <tr>\n",
       "      <th>20323</th>\n",
       "      <td>2020-10-21T21:52:00Z</td>\n",
       "      <td>visit</td>\n",
       "      <td>564</td>\n",
       "      <td>NaN</td>\n",
       "      <td>NaN</td>\n",
       "      <td>NaN</td>\n",
       "      <td>NaN</td>\n",
       "      <td>NaN</td>\n",
       "      <td>NaN</td>\n",
       "      <td>NaN</td>\n",
       "      <td>F</td>\n",
       "      <td>737</td>\n",
       "    </tr>\n",
       "    <tr>\n",
       "      <th>...</th>\n",
       "      <td>...</td>\n",
       "      <td>...</td>\n",
       "      <td>...</td>\n",
       "      <td>...</td>\n",
       "      <td>...</td>\n",
       "      <td>...</td>\n",
       "      <td>...</td>\n",
       "      <td>...</td>\n",
       "      <td>...</td>\n",
       "      <td>...</td>\n",
       "      <td>...</td>\n",
       "      <td>...</td>\n",
       "    </tr>\n",
       "    <tr>\n",
       "      <th>5483497</th>\n",
       "      <td>2020-11-28T13:36:52Z</td>\n",
       "      <td>search</td>\n",
       "      <td>560</td>\n",
       "      <td>NaN</td>\n",
       "      <td>NaN</td>\n",
       "      <td>NaN</td>\n",
       "      <td>NaN</td>\n",
       "      <td>NaN</td>\n",
       "      <td>NaN</td>\n",
       "      <td>NaN</td>\n",
       "      <td>F</td>\n",
       "      <td>5457</td>\n",
       "    </tr>\n",
       "    <tr>\n",
       "      <th>5484856</th>\n",
       "      <td>2020-11-27T23:51:26Z</td>\n",
       "      <td>visit</td>\n",
       "      <td>100</td>\n",
       "      <td>NaN</td>\n",
       "      <td>NaN</td>\n",
       "      <td>NaN</td>\n",
       "      <td>NaN</td>\n",
       "      <td>NaN</td>\n",
       "      <td>NaN</td>\n",
       "      <td>NaN</td>\n",
       "      <td>F</td>\n",
       "      <td>3071</td>\n",
       "    </tr>\n",
       "    <tr>\n",
       "      <th>5487463</th>\n",
       "      <td>2020-11-29T10:16:38Z</td>\n",
       "      <td>basket</td>\n",
       "      <td>110</td>\n",
       "      <td>NaN</td>\n",
       "      <td>NaN</td>\n",
       "      <td>NaN</td>\n",
       "      <td>NaN</td>\n",
       "      <td>NaN</td>\n",
       "      <td>NaN</td>\n",
       "      <td>NaN</td>\n",
       "      <td>M</td>\n",
       "      <td>3354</td>\n",
       "    </tr>\n",
       "    <tr>\n",
       "      <th>5487465</th>\n",
       "      <td>2020-11-29T10:16:25Z</td>\n",
       "      <td>visit</td>\n",
       "      <td>110</td>\n",
       "      <td>NaN</td>\n",
       "      <td>NaN</td>\n",
       "      <td>NaN</td>\n",
       "      <td>NaN</td>\n",
       "      <td>NaN</td>\n",
       "      <td>NaN</td>\n",
       "      <td>NaN</td>\n",
       "      <td>M</td>\n",
       "      <td>3354</td>\n",
       "    </tr>\n",
       "    <tr>\n",
       "      <th>5487469</th>\n",
       "      <td>2020-11-29T10:19:55Z</td>\n",
       "      <td>basket</td>\n",
       "      <td>110</td>\n",
       "      <td>NaN</td>\n",
       "      <td>NaN</td>\n",
       "      <td>NaN</td>\n",
       "      <td>NaN</td>\n",
       "      <td>NaN</td>\n",
       "      <td>NaN</td>\n",
       "      <td>NaN</td>\n",
       "      <td>M</td>\n",
       "      <td>3354</td>\n",
       "    </tr>\n",
       "  </tbody>\n",
       "</table>\n",
       "<p>2184 rows × 12 columns</p>\n",
       "</div>"
      ],
      "text/plain": [
       "                   time_stamp user_action  sellingprice product_name  \\\n",
       "10182    2020-11-27T06:40:58Z       visit            66          NaN   \n",
       "17988    2020-10-21T21:52:56Z       visit           564          NaN   \n",
       "17989    2020-10-21T21:51:38Z       visit           564          NaN   \n",
       "18724    2020-10-22T19:36:40Z       visit           564          NaN   \n",
       "20323    2020-10-21T21:52:00Z       visit           564          NaN   \n",
       "...                       ...         ...           ...          ...   \n",
       "5483497  2020-11-28T13:36:52Z      search           560          NaN   \n",
       "5484856  2020-11-27T23:51:26Z       visit           100          NaN   \n",
       "5487463  2020-11-29T10:16:38Z      basket           110          NaN   \n",
       "5487465  2020-11-29T10:16:25Z       visit           110          NaN   \n",
       "5487469  2020-11-29T10:19:55Z      basket           110          NaN   \n",
       "\n",
       "        brand_name businessunit product_gender  category_id  \\\n",
       "10182          NaN          NaN            NaN          NaN   \n",
       "17988          NaN          NaN            NaN          NaN   \n",
       "17989          NaN          NaN            NaN          NaN   \n",
       "18724          NaN          NaN            NaN          NaN   \n",
       "20323          NaN          NaN            NaN          NaN   \n",
       "...            ...          ...            ...          ...   \n",
       "5483497        NaN          NaN            NaN          NaN   \n",
       "5484856        NaN          NaN            NaN          NaN   \n",
       "5487463        NaN          NaN            NaN          NaN   \n",
       "5487465        NaN          NaN            NaN          NaN   \n",
       "5487469        NaN          NaN            NaN          NaN   \n",
       "\n",
       "         Level1_Category_Id  Level2_Category_Id gender  unique_id  \n",
       "10182                   NaN                 NaN      F       1983  \n",
       "17988                   NaN                 NaN      F        737  \n",
       "17989                   NaN                 NaN      F        737  \n",
       "18724                   NaN                 NaN      F        737  \n",
       "20323                   NaN                 NaN      F        737  \n",
       "...                     ...                 ...    ...        ...  \n",
       "5483497                 NaN                 NaN      F       5457  \n",
       "5484856                 NaN                 NaN      F       3071  \n",
       "5487463                 NaN                 NaN      M       3354  \n",
       "5487465                 NaN                 NaN      M       3354  \n",
       "5487469                 NaN                 NaN      M       3354  \n",
       "\n",
       "[2184 rows x 12 columns]"
      ]
     },
     "execution_count": 776,
     "metadata": {},
     "output_type": "execute_result"
    }
   ],
   "source": [
    "df[~(df['product_name'].notnull())]"
   ]
  },
  {
   "cell_type": "code",
   "execution_count": 777,
   "id": "2dc80ab6",
   "metadata": {},
   "outputs": [
    {
     "data": {
      "text/plain": [
       "visit       1100\n",
       "search       826\n",
       "basket       120\n",
       "favorite     102\n",
       "order         36\n",
       "Name: user_action, dtype: int64"
      ]
     },
     "execution_count": 777,
     "metadata": {},
     "output_type": "execute_result"
    }
   ],
   "source": [
    "df[~(df['product_name'].notnull())]['user_action'].value_counts()"
   ]
  },
  {
   "cell_type": "code",
   "execution_count": 778,
   "id": "dbd21ba2",
   "metadata": {},
   "outputs": [
    {
     "data": {
      "text/plain": [
       "visit       1026049\n",
       "search       770548\n",
       "favorite     156102\n",
       "basket        98982\n",
       "order         23263\n",
       "Name: user_action, dtype: int64"
      ]
     },
     "execution_count": 778,
     "metadata": {},
     "output_type": "execute_result"
    }
   ],
   "source": [
    "df[(df['product_name'].notnull())]['user_action'].value_counts() # Missing values are not due to the nature of any action."
   ]
  },
  {
   "cell_type": "code",
   "execution_count": 779,
   "id": "8220e239",
   "metadata": {},
   "outputs": [],
   "source": [
    "# Convert TZ timestamp to datetime64 object\n",
    "\n",
    "df['timestamp_dt'] = df.apply(lambda x: datetime.fromisoformat(x['time_stamp'].strip('Z')), axis=1)\n",
    "df_test['timestamp_dt'] = df_test.apply(lambda x: datetime.fromisoformat(x['time_stamp'].strip('Z')), axis=1)\n",
    "\n",
    "df.drop('time_stamp', axis=1, inplace=True)\n",
    "df_test.drop('time_stamp', axis=1, inplace=True)"
   ]
  },
  {
   "cell_type": "code",
   "execution_count": 780,
   "id": "06c78895",
   "metadata": {},
   "outputs": [
    {
     "data": {
      "text/plain": [
       "Timestamp('2020-12-09 13:29:58')"
      ]
     },
     "execution_count": 780,
     "metadata": {},
     "output_type": "execute_result"
    }
   ],
   "source": [
    "df['timestamp_dt'].min()  # 2020-10-14\n",
    "df['timestamp_dt'].max()  # 2020-12-09\n",
    "\n",
    "df_test['timestamp_dt'].min()  # 2020-10-14\n",
    "df_test['timestamp_dt'].max()  # 2020-12-09\n",
    "# Data is collected between October 14 and December 9, 2020"
   ]
  },
  {
   "cell_type": "code",
   "execution_count": 781,
   "id": "aa757a19",
   "metadata": {
    "scrolled": true
   },
   "outputs": [],
   "source": [
    "# I will be creating new variables month, day, day_name hour and minute. I believe that minute and day will not be \n",
    "# significant but we can decide it later.\n",
    "\n",
    "df['weekday'] = df['timestamp_dt'].apply(lambda x: x.weekday())\n",
    "#df['day'] = df['timestamp_dt'].apply(lambda x: x.day)    - Computationally expensive, creates extra 30 rows.\n",
    "df['month'] = df['timestamp_dt'].apply(lambda x: x.month)\n",
    "df['hour'] = df['timestamp_dt'].apply(lambda x: x.hour)\n",
    "df['minute'] = df['timestamp_dt'].apply(lambda x: x.minute) # Computationally expensive, probably unimportant.\n",
    "\n",
    "df.drop(['timestamp_dt', 'unique_id'], axis=1, inplace=True) # Not needed anymore\n",
    "\n",
    "df_test['weekday'] = df_test['timestamp_dt'].apply(lambda x: x.weekday())\n",
    "#df_test['day'] = df_test['timestamp_dt'].apply(lambda x: x.day)\n",
    "df_test['month'] = df_test['timestamp_dt'].apply(lambda x: x.month)\n",
    "df_test['hour'] = df_test['timestamp_dt'].apply(lambda x: x.hour)\n",
    "df_test['minute'] = df_test['timestamp_dt'].apply(lambda x: x.minute)\n",
    "\n",
    "df_test.drop(['timestamp_dt', 'unique_id'], axis=1, inplace=True) # Not needed anymore"
   ]
  },
  {
   "cell_type": "code",
   "execution_count": 782,
   "id": "4646b9b9",
   "metadata": {
    "scrolled": true
   },
   "outputs": [
    {
     "data": {
      "text/html": [
       "<div>\n",
       "<style scoped>\n",
       "    .dataframe tbody tr th:only-of-type {\n",
       "        vertical-align: middle;\n",
       "    }\n",
       "\n",
       "    .dataframe tbody tr th {\n",
       "        vertical-align: top;\n",
       "    }\n",
       "\n",
       "    .dataframe thead th {\n",
       "        text-align: right;\n",
       "    }\n",
       "</style>\n",
       "<table border=\"1\" class=\"dataframe\">\n",
       "  <thead>\n",
       "    <tr style=\"text-align: right;\">\n",
       "      <th></th>\n",
       "      <th>user_action</th>\n",
       "      <th>sellingprice</th>\n",
       "      <th>product_name</th>\n",
       "      <th>brand_name</th>\n",
       "      <th>businessunit</th>\n",
       "      <th>product_gender</th>\n",
       "      <th>category_id</th>\n",
       "      <th>Level1_Category_Id</th>\n",
       "      <th>Level2_Category_Id</th>\n",
       "      <th>gender</th>\n",
       "      <th>weekday</th>\n",
       "      <th>month</th>\n",
       "      <th>hour</th>\n",
       "      <th>minute</th>\n",
       "    </tr>\n",
       "  </thead>\n",
       "  <tbody>\n",
       "    <tr>\n",
       "      <th>0</th>\n",
       "      <td>favorite</td>\n",
       "      <td>3099</td>\n",
       "      <td>PerfectCare 600 EW6F449ST A+++ 9 KG 1400 Devir Çamaşır Makinesi</td>\n",
       "      <td>Electrolux</td>\n",
       "      <td>Beyaz Eşya</td>\n",
       "      <td>Unisex</td>\n",
       "      <td>1272</td>\n",
       "      <td>1071</td>\n",
       "      <td>1212</td>\n",
       "      <td>F</td>\n",
       "      <td>2</td>\n",
       "      <td>12</td>\n",
       "      <td>22</td>\n",
       "      <td>26</td>\n",
       "    </tr>\n",
       "    <tr>\n",
       "      <th>1</th>\n",
       "      <td>favorite</td>\n",
       "      <td>3079</td>\n",
       "      <td>WW90J5475FW A+++ 1400 Devir 9 kg Çamaşır Makinesi</td>\n",
       "      <td>Samsung</td>\n",
       "      <td>Beyaz Eşya</td>\n",
       "      <td>NaN</td>\n",
       "      <td>1272</td>\n",
       "      <td>1071</td>\n",
       "      <td>1212</td>\n",
       "      <td>F</td>\n",
       "      <td>1</td>\n",
       "      <td>12</td>\n",
       "      <td>23</td>\n",
       "      <td>15</td>\n",
       "    </tr>\n",
       "    <tr>\n",
       "      <th>2</th>\n",
       "      <td>favorite</td>\n",
       "      <td>3999</td>\n",
       "      <td>KM 9711 A++ 9 kg Çamaşır Kurutma Makinesi</td>\n",
       "      <td>Vestel</td>\n",
       "      <td>Beyaz Eşya</td>\n",
       "      <td>Unisex</td>\n",
       "      <td>1276</td>\n",
       "      <td>1071</td>\n",
       "      <td>1212</td>\n",
       "      <td>F</td>\n",
       "      <td>5</td>\n",
       "      <td>12</td>\n",
       "      <td>16</td>\n",
       "      <td>19</td>\n",
       "    </tr>\n",
       "    <tr>\n",
       "      <th>3</th>\n",
       "      <td>visit</td>\n",
       "      <td>2544</td>\n",
       "      <td>CMI 9710 A+++ 1000 Devir 9 kg Çamaşır Makinesi</td>\n",
       "      <td>Vestel</td>\n",
       "      <td>Beyaz Eşya</td>\n",
       "      <td>NaN</td>\n",
       "      <td>1272</td>\n",
       "      <td>1071</td>\n",
       "      <td>1212</td>\n",
       "      <td>F</td>\n",
       "      <td>5</td>\n",
       "      <td>12</td>\n",
       "      <td>16</td>\n",
       "      <td>28</td>\n",
       "    </tr>\n",
       "    <tr>\n",
       "      <th>4</th>\n",
       "      <td>visit</td>\n",
       "      <td>3099</td>\n",
       "      <td>PerfectCare 600 EW6F449ST A+++ 9 KG 1400 Devir Çamaşır Makinesi</td>\n",
       "      <td>Electrolux</td>\n",
       "      <td>Beyaz Eşya</td>\n",
       "      <td>Unisex</td>\n",
       "      <td>1272</td>\n",
       "      <td>1071</td>\n",
       "      <td>1212</td>\n",
       "      <td>F</td>\n",
       "      <td>2</td>\n",
       "      <td>12</td>\n",
       "      <td>22</td>\n",
       "      <td>26</td>\n",
       "    </tr>\n",
       "  </tbody>\n",
       "</table>\n",
       "</div>"
      ],
      "text/plain": [
       "  user_action  sellingprice  \\\n",
       "0    favorite          3099   \n",
       "1    favorite          3079   \n",
       "2    favorite          3999   \n",
       "3       visit          2544   \n",
       "4       visit          3099   \n",
       "\n",
       "                                                      product_name  \\\n",
       "0  PerfectCare 600 EW6F449ST A+++ 9 KG 1400 Devir Çamaşır Makinesi   \n",
       "1                WW90J5475FW A+++ 1400 Devir 9 kg Çamaşır Makinesi   \n",
       "2                        KM 9711 A++ 9 kg Çamaşır Kurutma Makinesi   \n",
       "3                   CMI 9710 A+++ 1000 Devir 9 kg Çamaşır Makinesi   \n",
       "4  PerfectCare 600 EW6F449ST A+++ 9 KG 1400 Devir Çamaşır Makinesi   \n",
       "\n",
       "   brand_name businessunit product_gender  category_id  Level1_Category_Id  \\\n",
       "0  Electrolux   Beyaz Eşya         Unisex         1272                1071   \n",
       "1     Samsung   Beyaz Eşya            NaN         1272                1071   \n",
       "2      Vestel   Beyaz Eşya         Unisex         1276                1071   \n",
       "3      Vestel   Beyaz Eşya            NaN         1272                1071   \n",
       "4  Electrolux   Beyaz Eşya         Unisex         1272                1071   \n",
       "\n",
       "   Level2_Category_Id gender  weekday  month  hour  minute  \n",
       "0                1212      F        2     12    22      26  \n",
       "1                1212      F        1     12    23      15  \n",
       "2                1212      F        5     12    16      19  \n",
       "3                1212      F        5     12    16      28  \n",
       "4                1212      F        2     12    22      26  "
      ]
     },
     "execution_count": 782,
     "metadata": {},
     "output_type": "execute_result"
    }
   ],
   "source": [
    "df.head()"
   ]
  },
  {
   "cell_type": "code",
   "execution_count": 783,
   "id": "2493eeaa",
   "metadata": {},
   "outputs": [],
   "source": [
    "# Create FLAG_weekend variable\n",
    "\n",
    "df['FLAG_weekend'] = df.apply(lambda x: 1 if x['weekday']>=5 else 0, axis=1)\n",
    "\n",
    "df_test['FLAG_weekend'] = df_test.apply(lambda x: 1 if x['weekday']>=5 else 0, axis=1)"
   ]
  },
  {
   "cell_type": "code",
   "execution_count": 784,
   "id": "caffb2e1",
   "metadata": {},
   "outputs": [],
   "source": [
    "# Fill the product cols with the most frequent values\n",
    "\n",
    "product_cols = ['product_name', 'brand_name', 'businessunit', 'category_id', 'Level1_Category_Id', 'Level2_Category_Id']\n",
    "\n",
    "# Save the most frequent cols to use for test missing values as well\n",
    "\n",
    "frequent_values = []\n",
    "\n",
    "for col in product_cols:\n",
    "    frequent_values.append(df[col].value_counts().sort_values().index[-1])\n",
    "\n",
    "# Fill the train set missing values\n",
    "for col in product_cols:\n",
    "    df[col].fillna(df[col].value_counts().sort_values().index[-1], inplace=True)\n",
    "    \n",
    "# Fill the test set missing values\n",
    "i=0\n",
    "\n",
    "for col in product_cols:\n",
    "    df_test[col].fillna(frequent_values[i], inplace=True)\n",
    "    i+=1"
   ]
  },
  {
   "cell_type": "code",
   "execution_count": 785,
   "id": "1188a54a",
   "metadata": {},
   "outputs": [
    {
     "data": {
      "text/plain": [
       "user_action                0\n",
       "sellingprice           32012\n",
       "product_name               0\n",
       "brand_name                 0\n",
       "businessunit               0\n",
       "product_gender        234567\n",
       "category_id                0\n",
       "Level1_Category_Id         0\n",
       "Level2_Category_Id         0\n",
       "gender                     0\n",
       "weekday                    0\n",
       "month                      0\n",
       "hour                       0\n",
       "minute                     0\n",
       "FLAG_weekend               0\n",
       "dtype: int64"
      ]
     },
     "execution_count": 785,
     "metadata": {},
     "output_type": "execute_result"
    }
   ],
   "source": [
    "df.isnull().sum()"
   ]
  },
  {
   "cell_type": "code",
   "execution_count": 786,
   "id": "30653b82",
   "metadata": {},
   "outputs": [
    {
     "data": {
      "text/plain": [
       "user_action                0\n",
       "sellingprice           14255\n",
       "product_name               0\n",
       "brand_name                 0\n",
       "businessunit               0\n",
       "product_gender        105213\n",
       "category_id                0\n",
       "Level1_Category_Id         0\n",
       "Level2_Category_Id         0\n",
       "weekday                    0\n",
       "month                      0\n",
       "hour                       0\n",
       "minute                     0\n",
       "FLAG_weekend               0\n",
       "dtype: int64"
      ]
     },
     "execution_count": 786,
     "metadata": {},
     "output_type": "execute_result"
    }
   ],
   "source": [
    "df_test.isnull().sum()"
   ]
  },
  {
   "cell_type": "code",
   "execution_count": 787,
   "id": "8e85b411",
   "metadata": {},
   "outputs": [],
   "source": [
    "# Checkpoint\n",
    "\n",
    "df_1 = df.copy().drop('gender', axis=1)\n",
    "df_test_1 = df_test.copy()"
   ]
  },
  {
   "cell_type": "code",
   "execution_count": 788,
   "id": "1c1b63c0",
   "metadata": {},
   "outputs": [
    {
     "data": {
      "text/html": [
       "<div>\n",
       "<style scoped>\n",
       "    .dataframe tbody tr th:only-of-type {\n",
       "        vertical-align: middle;\n",
       "    }\n",
       "\n",
       "    .dataframe tbody tr th {\n",
       "        vertical-align: top;\n",
       "    }\n",
       "\n",
       "    .dataframe thead th {\n",
       "        text-align: right;\n",
       "    }\n",
       "</style>\n",
       "<table border=\"1\" class=\"dataframe\">\n",
       "  <thead>\n",
       "    <tr style=\"text-align: right;\">\n",
       "      <th></th>\n",
       "      <th>user_action</th>\n",
       "      <th>sellingprice</th>\n",
       "      <th>product_name</th>\n",
       "      <th>brand_name</th>\n",
       "      <th>businessunit</th>\n",
       "      <th>product_gender</th>\n",
       "      <th>category_id</th>\n",
       "      <th>Level1_Category_Id</th>\n",
       "      <th>Level2_Category_Id</th>\n",
       "      <th>weekday</th>\n",
       "      <th>month</th>\n",
       "      <th>hour</th>\n",
       "      <th>minute</th>\n",
       "      <th>FLAG_weekend</th>\n",
       "    </tr>\n",
       "  </thead>\n",
       "  <tbody>\n",
       "    <tr>\n",
       "      <th>0</th>\n",
       "      <td>favorite</td>\n",
       "      <td>3099</td>\n",
       "      <td>PerfectCare 600 EW6F449ST A+++ 9 KG 1400 Devir Çamaşır Makinesi</td>\n",
       "      <td>Electrolux</td>\n",
       "      <td>Beyaz Eşya</td>\n",
       "      <td>Unisex</td>\n",
       "      <td>1272</td>\n",
       "      <td>1071</td>\n",
       "      <td>1212</td>\n",
       "      <td>2</td>\n",
       "      <td>12</td>\n",
       "      <td>22</td>\n",
       "      <td>26</td>\n",
       "      <td>0</td>\n",
       "    </tr>\n",
       "    <tr>\n",
       "      <th>1</th>\n",
       "      <td>favorite</td>\n",
       "      <td>3079</td>\n",
       "      <td>WW90J5475FW A+++ 1400 Devir 9 kg Çamaşır Makinesi</td>\n",
       "      <td>Samsung</td>\n",
       "      <td>Beyaz Eşya</td>\n",
       "      <td>NaN</td>\n",
       "      <td>1272</td>\n",
       "      <td>1071</td>\n",
       "      <td>1212</td>\n",
       "      <td>1</td>\n",
       "      <td>12</td>\n",
       "      <td>23</td>\n",
       "      <td>15</td>\n",
       "      <td>0</td>\n",
       "    </tr>\n",
       "    <tr>\n",
       "      <th>2</th>\n",
       "      <td>favorite</td>\n",
       "      <td>3999</td>\n",
       "      <td>KM 9711 A++ 9 kg Çamaşır Kurutma Makinesi</td>\n",
       "      <td>Vestel</td>\n",
       "      <td>Beyaz Eşya</td>\n",
       "      <td>Unisex</td>\n",
       "      <td>1276</td>\n",
       "      <td>1071</td>\n",
       "      <td>1212</td>\n",
       "      <td>5</td>\n",
       "      <td>12</td>\n",
       "      <td>16</td>\n",
       "      <td>19</td>\n",
       "      <td>1</td>\n",
       "    </tr>\n",
       "    <tr>\n",
       "      <th>3</th>\n",
       "      <td>visit</td>\n",
       "      <td>2544</td>\n",
       "      <td>CMI 9710 A+++ 1000 Devir 9 kg Çamaşır Makinesi</td>\n",
       "      <td>Vestel</td>\n",
       "      <td>Beyaz Eşya</td>\n",
       "      <td>NaN</td>\n",
       "      <td>1272</td>\n",
       "      <td>1071</td>\n",
       "      <td>1212</td>\n",
       "      <td>5</td>\n",
       "      <td>12</td>\n",
       "      <td>16</td>\n",
       "      <td>28</td>\n",
       "      <td>1</td>\n",
       "    </tr>\n",
       "    <tr>\n",
       "      <th>4</th>\n",
       "      <td>visit</td>\n",
       "      <td>3099</td>\n",
       "      <td>PerfectCare 600 EW6F449ST A+++ 9 KG 1400 Devir Çamaşır Makinesi</td>\n",
       "      <td>Electrolux</td>\n",
       "      <td>Beyaz Eşya</td>\n",
       "      <td>Unisex</td>\n",
       "      <td>1272</td>\n",
       "      <td>1071</td>\n",
       "      <td>1212</td>\n",
       "      <td>2</td>\n",
       "      <td>12</td>\n",
       "      <td>22</td>\n",
       "      <td>26</td>\n",
       "      <td>0</td>\n",
       "    </tr>\n",
       "  </tbody>\n",
       "</table>\n",
       "</div>"
      ],
      "text/plain": [
       "  user_action  sellingprice  \\\n",
       "0    favorite          3099   \n",
       "1    favorite          3079   \n",
       "2    favorite          3999   \n",
       "3       visit          2544   \n",
       "4       visit          3099   \n",
       "\n",
       "                                                      product_name  \\\n",
       "0  PerfectCare 600 EW6F449ST A+++ 9 KG 1400 Devir Çamaşır Makinesi   \n",
       "1                WW90J5475FW A+++ 1400 Devir 9 kg Çamaşır Makinesi   \n",
       "2                        KM 9711 A++ 9 kg Çamaşır Kurutma Makinesi   \n",
       "3                   CMI 9710 A+++ 1000 Devir 9 kg Çamaşır Makinesi   \n",
       "4  PerfectCare 600 EW6F449ST A+++ 9 KG 1400 Devir Çamaşır Makinesi   \n",
       "\n",
       "   brand_name businessunit product_gender  category_id  Level1_Category_Id  \\\n",
       "0  Electrolux   Beyaz Eşya         Unisex         1272                1071   \n",
       "1     Samsung   Beyaz Eşya            NaN         1272                1071   \n",
       "2      Vestel   Beyaz Eşya         Unisex         1276                1071   \n",
       "3      Vestel   Beyaz Eşya            NaN         1272                1071   \n",
       "4  Electrolux   Beyaz Eşya         Unisex         1272                1071   \n",
       "\n",
       "   Level2_Category_Id  weekday  month  hour  minute  FLAG_weekend  \n",
       "0                1212        2     12    22      26             0  \n",
       "1                1212        1     12    23      15             0  \n",
       "2                1212        5     12    16      19             1  \n",
       "3                1212        5     12    16      28             1  \n",
       "4                1212        2     12    22      26             0  "
      ]
     },
     "execution_count": 788,
     "metadata": {},
     "output_type": "execute_result"
    }
   ],
   "source": [
    "df_1.head()"
   ]
  },
  {
   "cell_type": "code",
   "execution_count": 789,
   "id": "cca18afd",
   "metadata": {},
   "outputs": [],
   "source": [
    "# Need to do Rare Encoding before Label Encoding"
   ]
  },
  {
   "cell_type": "code",
   "execution_count": 790,
   "id": "1fff0190",
   "metadata": {},
   "outputs": [],
   "source": [
    "a = df_1.nunique()\n",
    "b = df_test_1.nunique()"
   ]
  },
  {
   "cell_type": "code",
   "execution_count": 791,
   "id": "a287247e",
   "metadata": {},
   "outputs": [
    {
     "name": "stdout",
     "output_type": "stream",
     "text": [
      "                     Unique Values\n",
      "                     -------------\n",
      "                     train   test\n",
      "                     -------------\n",
      "user_action          5      5\n",
      "sellingprice         35433  24356\n",
      "product_name         441470 239085\n",
      "brand_name           33332  23943\n",
      "businessunit         83     83\n",
      "product_gender       3      3\n",
      "category_id          2240   2022\n",
      "Level1_Category_Id   10     10\n",
      "Level2_Category_Id   95     94\n",
      "weekday              7      7\n",
      "month                3      3\n",
      "hour                 24     24\n",
      "minute               60     60\n",
      "FLAG_weekend         2      2\n"
     ]
    }
   ],
   "source": [
    "print(\"Unique Values\".rjust(34))\n",
    "print(\"-------------\".rjust(34))\n",
    "print(\"train\".rjust(26), \"test\".rjust(6))\n",
    "print(\"-------------\".rjust(34))\n",
    "for i in range(len(a)):\n",
    "    print(a.index[i].ljust(20), str(a[i]).ljust(6), b[i])"
   ]
  },
  {
   "cell_type": "code",
   "execution_count": 32,
   "id": "77a67382",
   "metadata": {},
   "outputs": [],
   "source": [
    "# Some categorical features have different unique values in train and test. Therefore, we should label the ones that\n",
    "# are not in the intersection as \"Other\"."
   ]
  },
  {
   "cell_type": "code",
   "execution_count": 793,
   "id": "428d4d66",
   "metadata": {},
   "outputs": [
    {
     "data": {
      "text/plain": [
       "427659"
      ]
     },
     "execution_count": 793,
     "metadata": {},
     "output_type": "execute_result"
    }
   ],
   "source": [
    "product_name_outliers = set(df_1['product_name'].dropna()).union(set(df_test_1['product_name'].dropna()))-\\\n",
    "set(df_1['product_name'].dropna()).intersection(set(df_test_1['product_name'].dropna()))\n",
    "len(product_name_outliers)\n",
    "# Product name has around 427000 different values. This category is probably useless, considering that only\n",
    "# around 250000 of the values are common in both data sets."
   ]
  },
  {
   "cell_type": "code",
   "execution_count": 794,
   "id": "abf9535d",
   "metadata": {},
   "outputs": [
    {
     "data": {
      "text/plain": [
       "17627"
      ]
     },
     "execution_count": 794,
     "metadata": {},
     "output_type": "execute_result"
    }
   ],
   "source": [
    "brand_name_outliers = set(df_1['brand_name'].dropna()).union(set(df_test_1['brand_name'].dropna()))-\\\n",
    "set(df_1['brand_name'].dropna()).intersection(set(df_test_1['brand_name'].dropna()))\n",
    "len(brand_name_outliers)\n",
    "# brand_name_outliers have 17627 different values. This also looks like it will not be useful. We will see."
   ]
  },
  {
   "cell_type": "code",
   "execution_count": 795,
   "id": "6cf0f004",
   "metadata": {},
   "outputs": [
    {
     "data": {
      "text/plain": [
       "376"
      ]
     },
     "execution_count": 795,
     "metadata": {},
     "output_type": "execute_result"
    }
   ],
   "source": [
    "category_id_outliers = set(df_1['category_id'].dropna()).union(set(df_test_1['category_id'].dropna()))-\\\n",
    "set(df_1['category_id'].dropna()).intersection(set(df_test_1['category_id'].dropna()))\n",
    "len(category_id_outliers)\n",
    "# category_id_outliers have different values"
   ]
  },
  {
   "cell_type": "code",
   "execution_count": 796,
   "id": "77bf30a8",
   "metadata": {},
   "outputs": [
    {
     "data": {
      "text/plain": [
       "{2901.0, 4530.0, 4572.0}"
      ]
     },
     "execution_count": 796,
     "metadata": {},
     "output_type": "execute_result"
    }
   ],
   "source": [
    "level2_outliers = set(df_1['Level2_Category_Id'].dropna()).union(set(df_test_1['Level2_Category_Id'].dropna()))-\\\n",
    "set(df_1['Level2_Category_Id'].dropna()).intersection(set(df_test_1['Level2_Category_Id'].dropna()))\n",
    "level2_outliers # Level2 has different levels"
   ]
  },
  {
   "cell_type": "code",
   "execution_count": 797,
   "id": "3944a674",
   "metadata": {},
   "outputs": [
    {
     "data": {
      "text/plain": [
       "set()"
      ]
     },
     "execution_count": 797,
     "metadata": {},
     "output_type": "execute_result"
    }
   ],
   "source": [
    "set(df_1['Level1_Category_Id'].dropna()).union(set(df_test_1['Level1_Category_Id'].dropna()))-\\\n",
    "set(df_1['Level1_Category_Id'].dropna()).intersection(set(df_test_1['Level1_Category_Id'].dropna()))\n",
    "# Level1 is fine"
   ]
  },
  {
   "cell_type": "code",
   "execution_count": 798,
   "id": "dc298f3b",
   "metadata": {},
   "outputs": [
    {
     "data": {
      "text/plain": [
       "set()"
      ]
     },
     "execution_count": 798,
     "metadata": {},
     "output_type": "execute_result"
    }
   ],
   "source": [
    "set(df_1['businessunit'].dropna()).union(set(df_test_1['businessunit'].dropna()))-\\\n",
    "set(df_1['businessunit'].dropna()).intersection(set(df_test_1['businessunit'].dropna()))\n",
    "# businessunit is fine"
   ]
  },
  {
   "cell_type": "code",
   "execution_count": 799,
   "id": "edb96c2a",
   "metadata": {},
   "outputs": [],
   "source": [
    "df_1['type'] = 'train'\n",
    "df_test_1['type'] = 'test'\n",
    "combined_df = pd.concat([df_1, df_test_1])"
   ]
  },
  {
   "cell_type": "code",
   "execution_count": 800,
   "id": "6019c2c7",
   "metadata": {},
   "outputs": [],
   "source": [
    "# Replace non-common levels with \"Other\"\n",
    "\n",
    "combined_df['product_name'] = combined_df['product_name'].apply(lambda x: \"Other\" if x in product_name_outliers else x)\n",
    "combined_df['brand_name'] = combined_df['brand_name'].apply(lambda x: \"Other\" if x in brand_name_outliers else x)\n",
    "combined_df['category_id'] = combined_df['category_id'].apply(lambda x: \"Other\" if x in category_id_outliers else x)\n",
    "combined_df['Level2_Category_Id'] = combined_df['Level2_Category_Id'].\\\n",
    "apply(lambda x: \"Other\" if x in level2_outliers else x)"
   ]
  },
  {
   "cell_type": "code",
   "execution_count": 801,
   "id": "9a5c3536",
   "metadata": {},
   "outputs": [],
   "source": [
    "df_withother = combined_df[combined_df['type']=='train']\n",
    "df_test_withother = combined_df[combined_df['type']=='test']"
   ]
  },
  {
   "cell_type": "code",
   "execution_count": 802,
   "id": "62a2e2f5",
   "metadata": {},
   "outputs": [],
   "source": [
    "a = df_withother.nunique()\n",
    "b = df_test_withother.nunique()"
   ]
  },
  {
   "cell_type": "code",
   "execution_count": 803,
   "id": "d737191d",
   "metadata": {},
   "outputs": [
    {
     "name": "stdout",
     "output_type": "stream",
     "text": [
      "                     Unique Values\n",
      "                     -------------\n",
      "                     train   test\n",
      "                     -------------\n",
      "user_action          5      5\n",
      "sellingprice         35433  24356\n",
      "product_name         126449 126449\n",
      "brand_name           19825  19825\n",
      "businessunit         83     83\n",
      "product_gender       3      3\n",
      "category_id          1944   1944\n",
      "Level1_Category_Id   10     10\n",
      "Level2_Category_Id   94     94\n",
      "weekday              7      7\n",
      "month                3      3\n",
      "hour                 24     24\n",
      "minute               60     60\n",
      "FLAG_weekend         2      2\n",
      "type                 1      1\n"
     ]
    }
   ],
   "source": [
    "print(\"Unique Values\".rjust(34))\n",
    "print(\"-------------\".rjust(34))\n",
    "print(\"train\".rjust(26), \"test\".rjust(6))\n",
    "print(\"-------------\".rjust(34))\n",
    "for i in range(len(a)):\n",
    "    print(a.index[i].ljust(20), str(a[i]).ljust(6), b[i])"
   ]
  },
  {
   "cell_type": "code",
   "execution_count": 804,
   "id": "5ce0b341",
   "metadata": {},
   "outputs": [],
   "source": [
    "# As we see, different levels problem is solved."
   ]
  },
  {
   "cell_type": "code",
   "execution_count": 805,
   "id": "6563f378",
   "metadata": {},
   "outputs": [],
   "source": [
    "def rare_encoder(dataframe, rare_perc):\n",
    "    temp_df = dataframe.copy()\n",
    "\n",
    "    rare_columns = [col for col in temp_df.columns if temp_df[col].dtypes == 'O'\n",
    "                    and (temp_df[col].value_counts() / len(temp_df) < rare_perc).any(axis=None)]\n",
    "\n",
    "    for var in rare_columns:\n",
    "        tmp = temp_df[var].value_counts() / len(temp_df)\n",
    "        rare_labels = tmp[tmp < rare_perc].index\n",
    "        temp_df[var] = np.where(temp_df[var].isin(rare_labels), 'Rare', temp_df[var])\n",
    "\n",
    "    return temp_df"
   ]
  },
  {
   "cell_type": "code",
   "execution_count": 807,
   "id": "1fc5848d",
   "metadata": {},
   "outputs": [],
   "source": [
    "# Rare Encoding\n",
    "# Before, 1/10000\n",
    "\n",
    "#mask_train = df.copy().isnull() # Create a mask to have nan values back after encoding\n",
    "rare_df = rare_encoder(combined_df, 0.01)"
   ]
  },
  {
   "cell_type": "code",
   "execution_count": 808,
   "id": "99654dd7",
   "metadata": {},
   "outputs": [],
   "source": [
    "rare_train = rare_df[rare_df['type']=='train']\n",
    "rare_test = rare_df[rare_df['type']=='test']\n",
    "del rare_train['type']\n",
    "del rare_test['type']"
   ]
  },
  {
   "cell_type": "code",
   "execution_count": 809,
   "id": "8aadb8e1",
   "metadata": {},
   "outputs": [
    {
     "name": "stdout",
     "output_type": "stream",
     "text": [
      "True\n",
      "True\n",
      "True\n",
      "True\n",
      "True\n",
      "True\n"
     ]
    }
   ],
   "source": [
    "# Check if the categories are same for train and test, after rare encoding\n",
    "cat_cols = ['product_name','brand_name','businessunit','category_id','Level1_Category_Id','Level2_Category_Id']\n",
    "\n",
    "for col in cat_cols:\n",
    "    a = set(rare_train[col].dropna())\n",
    "    b = set(rare_test[col].dropna())\n",
    "    print(a==b)"
   ]
  },
  {
   "cell_type": "code",
   "execution_count": 810,
   "id": "9a6e5aae",
   "metadata": {},
   "outputs": [],
   "source": [
    "# We encoded the rare values as 'Rare' and train and test sets have the same levels. We are ready to go."
   ]
  },
  {
   "cell_type": "code",
   "execution_count": 811,
   "id": "9e9f654a",
   "metadata": {},
   "outputs": [
    {
     "data": {
      "text/html": [
       "<div>\n",
       "<style scoped>\n",
       "    .dataframe tbody tr th:only-of-type {\n",
       "        vertical-align: middle;\n",
       "    }\n",
       "\n",
       "    .dataframe tbody tr th {\n",
       "        vertical-align: top;\n",
       "    }\n",
       "\n",
       "    .dataframe thead th {\n",
       "        text-align: right;\n",
       "    }\n",
       "</style>\n",
       "<table border=\"1\" class=\"dataframe\">\n",
       "  <thead>\n",
       "    <tr style=\"text-align: right;\">\n",
       "      <th></th>\n",
       "      <th>user_action</th>\n",
       "      <th>sellingprice</th>\n",
       "      <th>product_name</th>\n",
       "      <th>brand_name</th>\n",
       "      <th>businessunit</th>\n",
       "      <th>product_gender</th>\n",
       "      <th>category_id</th>\n",
       "      <th>Level1_Category_Id</th>\n",
       "      <th>Level2_Category_Id</th>\n",
       "      <th>weekday</th>\n",
       "      <th>month</th>\n",
       "      <th>hour</th>\n",
       "      <th>minute</th>\n",
       "      <th>FLAG_weekend</th>\n",
       "    </tr>\n",
       "  </thead>\n",
       "  <tbody>\n",
       "    <tr>\n",
       "      <th>0</th>\n",
       "      <td>favorite</td>\n",
       "      <td>3099</td>\n",
       "      <td>Rare</td>\n",
       "      <td>Rare</td>\n",
       "      <td>Rare</td>\n",
       "      <td>Unisex</td>\n",
       "      <td>Rare</td>\n",
       "      <td>1071</td>\n",
       "      <td>Rare</td>\n",
       "      <td>2</td>\n",
       "      <td>12</td>\n",
       "      <td>22</td>\n",
       "      <td>26</td>\n",
       "      <td>0</td>\n",
       "    </tr>\n",
       "  </tbody>\n",
       "</table>\n",
       "</div>"
      ],
      "text/plain": [
       "  user_action  sellingprice product_name brand_name businessunit  \\\n",
       "0    favorite          3099         Rare       Rare         Rare   \n",
       "\n",
       "  product_gender category_id  Level1_Category_Id Level2_Category_Id  weekday  \\\n",
       "0         Unisex        Rare                1071               Rare        2   \n",
       "\n",
       "   month  hour  minute  FLAG_weekend  \n",
       "0     12    22      26             0  "
      ]
     },
     "execution_count": 811,
     "metadata": {},
     "output_type": "execute_result"
    }
   ],
   "source": [
    "#df['sellingprice']=sel_price_tr\n",
    "#df_test['sellingprice'] = sel_price_te\n",
    "rare_train.head(1)"
   ]
  },
  {
   "cell_type": "code",
   "execution_count": 812,
   "id": "b4822801",
   "metadata": {},
   "outputs": [
    {
     "data": {
      "text/plain": [
       "user_action           False\n",
       "sellingprice           True\n",
       "product_name          False\n",
       "brand_name            False\n",
       "businessunit          False\n",
       "product_gender         True\n",
       "category_id           False\n",
       "Level1_Category_Id    False\n",
       "Level2_Category_Id    False\n",
       "weekday               False\n",
       "month                 False\n",
       "hour                  False\n",
       "minute                False\n",
       "FLAG_weekend          False\n",
       "dtype: bool"
      ]
     },
     "execution_count": 812,
     "metadata": {},
     "output_type": "execute_result"
    }
   ],
   "source": [
    "rare_train.isnull().any()"
   ]
  },
  {
   "cell_type": "code",
   "execution_count": 813,
   "id": "5b11d31b",
   "metadata": {},
   "outputs": [],
   "source": [
    "a = rare_train['Level1_Category_Id']"
   ]
  },
  {
   "cell_type": "code",
   "execution_count": 814,
   "id": "28b5e035",
   "metadata": {},
   "outputs": [
    {
     "name": "stderr",
     "output_type": "stream",
     "text": [
      "/opt/anaconda/anaconda3/lib/python3.7/site-packages/pandas/core/frame.py:5177: SettingWithCopyWarning: \n",
      "A value is trying to be set on a copy of a slice from a DataFrame\n",
      "\n",
      "See the caveats in the documentation: https://pandas.pydata.org/pandas-docs/stable/user_guide/indexing.html#returning-a-view-versus-a-copy\n",
      "  downcast=downcast,\n",
      "/opt/anaconda/anaconda3/lib/python3.7/site-packages/pandas/core/frame.py:3636: SettingWithCopyWarning: \n",
      "A value is trying to be set on a copy of a slice from a DataFrame.\n",
      "Try using .loc[row_indexer,col_indexer] = value instead\n",
      "\n",
      "See the caveats in the documentation: https://pandas.pydata.org/pandas-docs/stable/user_guide/indexing.html#returning-a-view-versus-a-copy\n",
      "  self[k1] = value[k2]\n"
     ]
    }
   ],
   "source": [
    "mask_train = rare_train.copy().isnull() # Create a mask to have nan values back after encoding\n",
    "original_train = rare_train.copy()\n",
    "rare_train.fillna(\"kalamar\", inplace=True) # To deal with a issue due to nan-str not being comparable\n",
    "\n",
    "mask_test = rare_test.copy().isnull() # Create a mask to have nan values back after encoding\n",
    "original_test = rare_test.copy()\n",
    "rare_test.fillna(\"kalamar\", inplace=True) # To deal with a issue due to nan-str not being comparable\n",
    "\n",
    "cols = ['user_action','weekday','month','hour','product_name','brand_name','businessunit','product_gender',\n",
    "        'category_id' ,'Level1_Category_Id','Level2_Category_Id']\n",
    "rare_train[cols] = rare_train[cols].astype('str')\n",
    "rare_test[cols] = rare_test[cols].astype('str')\n",
    "\n",
    "\n",
    "encoders = {}\n",
    "\n",
    "x = 0\n",
    "\n",
    "for i in rare_train:\n",
    "    if i!=\"sellingprice\":\n",
    "        # print(i) #Debugging purposes\n",
    "        le = LabelEncoder()\n",
    "        le.fit(rare_train[i])\n",
    "        encoders[x] = le\n",
    "        x+=1\n",
    "        \n",
    "x = 0\n",
    "train_data = pd.DataFrame()\n",
    "\n",
    "for i in rare_train:\n",
    "    # print(i) # Debugging\n",
    "    if i!=\"sellingprice\":\n",
    "        le = encoders[x]\n",
    "        train_data[i] = le.transform(rare_train[i])\n",
    "        x+=1\n",
    "\n",
    "\n",
    "x = 0\n",
    "test_data = pd.DataFrame()\n",
    "for i in rare_test:\n",
    "    #print(i) # Debugging\n",
    "    if i!=\"sellingprice\":\n",
    "        le = encoders[x]\n",
    "        test_data[i] = le.transform(rare_test[i])\n",
    "        x+=1\n"
   ]
  },
  {
   "cell_type": "code",
   "execution_count": 815,
   "id": "832c8eb2",
   "metadata": {},
   "outputs": [],
   "source": [
    "train_data.index = rare_train.index\n",
    "test_data.index = rare_test.index\n",
    "\n",
    "encoded_train = train_data.where(~mask_train, original_train)\n",
    "encoded_test = test_data.where(~mask_test, original_test)"
   ]
  },
  {
   "cell_type": "code",
   "execution_count": 816,
   "id": "e3fbefa6",
   "metadata": {},
   "outputs": [],
   "source": [
    "encoded_train = encoded_train.astype('category')\n",
    "encoded_test = encoded_test.astype('category')"
   ]
  },
  {
   "cell_type": "code",
   "execution_count": 817,
   "id": "3e493cef",
   "metadata": {},
   "outputs": [],
   "source": [
    "encoded_train['sellingprice'] = df_1['sellingprice']\n",
    "encoded_test['sellingprice'] = df_test_1['sellingprice']"
   ]
  },
  {
   "cell_type": "code",
   "execution_count": 818,
   "id": "ab629c9b",
   "metadata": {},
   "outputs": [
    {
     "data": {
      "text/plain": [
       "user_action                0\n",
       "product_name               0\n",
       "brand_name                 0\n",
       "businessunit               0\n",
       "product_gender        105213\n",
       "category_id                0\n",
       "Level1_Category_Id         0\n",
       "Level2_Category_Id         0\n",
       "weekday                    0\n",
       "month                      0\n",
       "hour                       0\n",
       "minute                     0\n",
       "FLAG_weekend               0\n",
       "sellingprice           14255\n",
       "dtype: int64"
      ]
     },
     "execution_count": 818,
     "metadata": {},
     "output_type": "execute_result"
    }
   ],
   "source": [
    "encoded_test.isnull().sum()"
   ]
  },
  {
   "cell_type": "markdown",
   "id": "5da6909a",
   "metadata": {},
   "source": [
    "# Before imputation, lets check the distribution of the sellingprice."
   ]
  },
  {
   "cell_type": "code",
   "execution_count": 819,
   "id": "a38c96d2",
   "metadata": {},
   "outputs": [
    {
     "data": {
      "text/html": [
       "<div>\n",
       "<style scoped>\n",
       "    .dataframe tbody tr th:only-of-type {\n",
       "        vertical-align: middle;\n",
       "    }\n",
       "\n",
       "    .dataframe tbody tr th {\n",
       "        vertical-align: top;\n",
       "    }\n",
       "\n",
       "    .dataframe thead th {\n",
       "        text-align: right;\n",
       "    }\n",
       "</style>\n",
       "<table border=\"1\" class=\"dataframe\">\n",
       "  <thead>\n",
       "    <tr style=\"text-align: right;\">\n",
       "      <th></th>\n",
       "      <th>count</th>\n",
       "      <th>mean</th>\n",
       "      <th>std</th>\n",
       "      <th>min</th>\n",
       "      <th>1%</th>\n",
       "      <th>5%</th>\n",
       "      <th>10%</th>\n",
       "      <th>25%</th>\n",
       "      <th>50%</th>\n",
       "      <th>75%</th>\n",
       "      <th>90%</th>\n",
       "      <th>95%</th>\n",
       "      <th>99%</th>\n",
       "      <th>99.9%</th>\n",
       "      <th>99.99%</th>\n",
       "      <th>max</th>\n",
       "    </tr>\n",
       "  </thead>\n",
       "  <tbody>\n",
       "    <tr>\n",
       "      <th>sellingprice</th>\n",
       "      <td>2045116</td>\n",
       "      <td>234</td>\n",
       "      <td>1089</td>\n",
       "      <td>0</td>\n",
       "      <td>0</td>\n",
       "      <td>12</td>\n",
       "      <td>25</td>\n",
       "      <td>50</td>\n",
       "      <td>90</td>\n",
       "      <td>180</td>\n",
       "      <td>350</td>\n",
       "      <td>599</td>\n",
       "      <td>3150</td>\n",
       "      <td>10999</td>\n",
       "      <td>39448</td>\n",
       "      <td>226320</td>\n",
       "    </tr>\n",
       "  </tbody>\n",
       "</table>\n",
       "</div>"
      ],
      "text/plain": [
       "               count  mean  std  min  1%  5%  10%  25%  50%  75%  90%  95%  \\\n",
       "sellingprice 2045116   234 1089    0   0  12   25   50   90  180  350  599   \n",
       "\n",
       "              99%  99.9%  99.99%    max  \n",
       "sellingprice 3150  10999   39448 226320  "
      ]
     },
     "execution_count": 819,
     "metadata": {},
     "output_type": "execute_result"
    }
   ],
   "source": [
    "pd.options.display.float_format = '{:.0f}'.format\n",
    "encoded_train.describe([.01, .05, .1, .25, .5, .75, .9, .95, .99, .999, .9999]).T"
   ]
  },
  {
   "cell_type": "code",
   "execution_count": 820,
   "id": "cecce31c",
   "metadata": {},
   "outputs": [
    {
     "data": {
      "text/html": [
       "<div>\n",
       "<style scoped>\n",
       "    .dataframe tbody tr th:only-of-type {\n",
       "        vertical-align: middle;\n",
       "    }\n",
       "\n",
       "    .dataframe tbody tr th {\n",
       "        vertical-align: top;\n",
       "    }\n",
       "\n",
       "    .dataframe thead th {\n",
       "        text-align: right;\n",
       "    }\n",
       "</style>\n",
       "<table border=\"1\" class=\"dataframe\">\n",
       "  <thead>\n",
       "    <tr style=\"text-align: right;\">\n",
       "      <th></th>\n",
       "      <th>count</th>\n",
       "      <th>mean</th>\n",
       "      <th>std</th>\n",
       "      <th>min</th>\n",
       "      <th>1%</th>\n",
       "      <th>5%</th>\n",
       "      <th>10%</th>\n",
       "      <th>25%</th>\n",
       "      <th>50%</th>\n",
       "      <th>75%</th>\n",
       "      <th>90%</th>\n",
       "      <th>95%</th>\n",
       "      <th>99%</th>\n",
       "      <th>99.9%</th>\n",
       "      <th>99.99%</th>\n",
       "      <th>max</th>\n",
       "    </tr>\n",
       "  </thead>\n",
       "  <tbody>\n",
       "    <tr>\n",
       "      <th>sellingprice</th>\n",
       "      <td>863654</td>\n",
       "      <td>238</td>\n",
       "      <td>911</td>\n",
       "      <td>0</td>\n",
       "      <td>0</td>\n",
       "      <td>12</td>\n",
       "      <td>25</td>\n",
       "      <td>50</td>\n",
       "      <td>90</td>\n",
       "      <td>186</td>\n",
       "      <td>370</td>\n",
       "      <td>629</td>\n",
       "      <td>3251</td>\n",
       "      <td>11429</td>\n",
       "      <td>30918</td>\n",
       "      <td>95750</td>\n",
       "    </tr>\n",
       "  </tbody>\n",
       "</table>\n",
       "</div>"
      ],
      "text/plain": [
       "              count  mean  std  min  1%  5%  10%  25%  50%  75%  90%  95%  \\\n",
       "sellingprice 863654   238  911    0   0  12   25   50   90  186  370  629   \n",
       "\n",
       "              99%  99.9%  99.99%   max  \n",
       "sellingprice 3251  11429   30918 95750  "
      ]
     },
     "execution_count": 820,
     "metadata": {},
     "output_type": "execute_result"
    }
   ],
   "source": [
    "encoded_test.describe([.01, .05, .1, .25, .5, .75, .9, .95, .99, .999, .9999]).T # Train data has high values that are not representative of the majority. Therefore, they can be imputed."
   ]
  },
  {
   "cell_type": "code",
   "execution_count": 821,
   "id": "fef9dabf",
   "metadata": {},
   "outputs": [],
   "source": [
    "# It has outliers, however tree is robust to these."
   ]
  },
  {
   "cell_type": "code",
   "execution_count": 822,
   "id": "3cedc5e1",
   "metadata": {},
   "outputs": [],
   "source": [
    "# Next, we will impute the missing sellingprice values, using other columns except product_gender (and of course, gender).\n",
    "\n",
    "impute_sp_df = encoded_train.drop('product_gender', axis=1)\n",
    "\n",
    "impute_sp_train= impute_sp_df[impute_sp_df['sellingprice'].notnull()]\n",
    "impute_sp_train_X = impute_sp_train.drop('sellingprice', axis=1)\n",
    "impute_sp_train_y = impute_sp_train['sellingprice']\n",
    "\n",
    "impute_sp_predict = impute_sp_df[impute_sp_df['sellingprice'].isnull()].drop('sellingprice', axis=1)\n",
    "impute_sp_test_X = encoded_test.drop(['product_gender', 'sellingprice'], axis=1)"
   ]
  },
  {
   "cell_type": "code",
   "execution_count": 823,
   "id": "7b1728d7",
   "metadata": {},
   "outputs": [],
   "source": [
    "#lgb = LGBMRegressor(n_estimators = 2000)\n",
    "\n",
    "#param_grid = {'max_depth': np.arange(8,12),\n",
    "#             'learning_rate': np.arange(0.01, 0.05, 0.005),\n",
    "#             'num_leaves': np.arange(10, 30)}\n",
    "\n",
    "#lgb_cv = RandomizedSearchCV(lgb, param_grid, cv=5, scoring='neg_mean_absolute_error', n_iter=10, n_jobs=-1)\n",
    "#lgb_cv.fit(impute_sp_train_X, impute_sp_train_y) # best_score_=-126 # 'num_leaves': 22, 'max_depth': 11, 'learning_rate': 0.019999999999999997"
   ]
  },
  {
   "cell_type": "code",
   "execution_count": 824,
   "id": "d156ffad",
   "metadata": {},
   "outputs": [
    {
     "data": {
      "text/plain": [
       "LGBMRegressor(learning_rate=0.02, max_depth=11, n_estimators=2000,\n",
       "              num_leaves=22)"
      ]
     },
     "execution_count": 824,
     "metadata": {},
     "output_type": "execute_result"
    }
   ],
   "source": [
    "lgb_impute_sp = LGBMRegressor(n_estimators = 2000, num_leaves=22, max_depth=11, learning_rate=0.02)\n",
    "lgb_impute_sp.fit(impute_sp_train_X, impute_sp_train_y)"
   ]
  },
  {
   "cell_type": "code",
   "execution_count": 825,
   "id": "db08567a",
   "metadata": {},
   "outputs": [],
   "source": [
    "# Before imputation, create isNA columns."
   ]
  },
  {
   "cell_type": "code",
   "execution_count": 826,
   "id": "b0054567",
   "metadata": {},
   "outputs": [],
   "source": [
    "encoded_train['FLAG_NA_product_gender'] = (encoded_train['product_gender'].isna())*1\n",
    "encoded_train['FLAG_NA_sellingprice'] = (encoded_train['sellingprice'].isna())*1\n",
    "\n",
    "encoded_test['FLAG_NA_product_gender'] = (encoded_test['product_gender'].isna())*1\n",
    "encoded_test['FLAG_NA_sellingprice'] = (encoded_test['sellingprice'].isna())*1"
   ]
  },
  {
   "cell_type": "code",
   "execution_count": 827,
   "id": "063477d4",
   "metadata": {},
   "outputs": [],
   "source": [
    "na_indexes_train = list(impute_sp_predict.index)\n",
    "impute_values_train = lgb_impute_sp.predict(impute_sp_predict)\n",
    "\n",
    "na_indexes_test = list(impute_sp_test_X.index)\n",
    "impute_values_test = lgb_impute_sp.predict(impute_sp_test_X)"
   ]
  },
  {
   "cell_type": "code",
   "execution_count": 828,
   "id": "c8c5fdd7",
   "metadata": {},
   "outputs": [],
   "source": [
    "# Impute values\n",
    "\n",
    "encoded_train.loc[na_indexes_train, 'sellingprice'] = impute_values_train\n",
    "encoded_test.loc[na_indexes_test, 'sellingprice'] = impute_values_test"
   ]
  },
  {
   "cell_type": "code",
   "execution_count": 829,
   "id": "77a79560",
   "metadata": {},
   "outputs": [],
   "source": [
    "# Next, we will impute the productgender values.\n",
    "\n",
    "impute_pg_df = encoded_train.drop(['FLAG_NA_product_gender', 'FLAG_NA_sellingprice'], axis=1)\n",
    "\n",
    "impute_pg_train= impute_pg_df[impute_pg_df['product_gender'].notnull()]\n",
    "impute_pg_train_X = impute_pg_train.drop('product_gender', axis=1)\n",
    "impute_pg_train_y = impute_pg_train['product_gender']\n",
    "\n",
    "impute_pg_predict = impute_pg_df[impute_pg_df['product_gender'].isnull()].drop('product_gender', axis=1)\n",
    "impute_pg_test_X = encoded_test.drop(['product_gender', 'FLAG_NA_sellingprice', 'FLAG_NA_product_gender'], axis=1)"
   ]
  },
  {
   "cell_type": "code",
   "execution_count": 830,
   "id": "248ec560",
   "metadata": {},
   "outputs": [],
   "source": [
    "#lgb = LGBMClassifier(n_estimators = 1000)\n",
    "#\n",
    "#param_grid = {'max_depth': np.arange(5,20),\n",
    "#             'min_child_samples' : np.arange(5,30),\n",
    "#             'learning_rate': np.arange(0.001, 0.1, 0.005),\n",
    "#             'num_leaves': np.arange(10, 30)}  # {'num_leaves': 26,'min_child_samples': 23,'max_depth': 6,'learning_rate': 0.081} # 0.8949158282812538\n",
    "#\n",
    "#lgb_cv = RandomizedSearchCV(lgb, param_grid, cv=5, scoring='accuracy', n_iter=20, n_jobs=-1)\n",
    "#lgb_cv.fit(impute_sp_train_X, impute_sp_train_y)\n",
    "#\n",
    "#print(lgb_cv.best_score_)\n",
    "#print(lgb_cv.best_params_)"
   ]
  },
  {
   "cell_type": "code",
   "execution_count": 831,
   "id": "ea311892",
   "metadata": {},
   "outputs": [
    {
     "data": {
      "text/plain": [
       "LGBMClassifier(learning_rate=0.081, max_depth=6, min_child_samples=23,\n",
       "               n_estimators=200, num_leaves=26)"
      ]
     },
     "execution_count": 831,
     "metadata": {},
     "output_type": "execute_result"
    }
   ],
   "source": [
    "lgb_impute_pg = LGBMClassifier(n_estimators=200, max_depth=6, min_child_samples=23, num_leaves=26 , learning_rate =0.081)\n",
    "lgb_impute_pg.fit(impute_pg_train_X, impute_pg_train_y)"
   ]
  },
  {
   "cell_type": "code",
   "execution_count": 832,
   "id": "044508c8",
   "metadata": {},
   "outputs": [],
   "source": [
    "na_indexes_train = list(impute_pg_predict.index)\n",
    "impute_values_train = lgb_impute_pg.predict(impute_pg_predict)\n",
    "\n",
    "na_indexes_test = list(impute_pg_test_X.index)\n",
    "impute_values_test = lgb_impute_pg.predict(impute_pg_test_X)"
   ]
  },
  {
   "cell_type": "code",
   "execution_count": 833,
   "id": "cbffadfa",
   "metadata": {},
   "outputs": [],
   "source": [
    "# Impute values\n",
    "\n",
    "encoded_train.loc[na_indexes_train, 'product_gender'] = impute_values_train\n",
    "encoded_test.loc[na_indexes_test, 'product_gender'] = impute_values_test"
   ]
  },
  {
   "cell_type": "code",
   "execution_count": 834,
   "id": "0a6a881c",
   "metadata": {},
   "outputs": [],
   "source": [
    "# encoded_test.isna().sum()\n",
    "# encoded_test.isna().sum()\n",
    "# No missing value is left, we are ready to roll."
   ]
  },
  {
   "cell_type": "code",
   "execution_count": 835,
   "id": "7b94485b",
   "metadata": {},
   "outputs": [],
   "source": [
    "# Before, uniquetotal=2403\n",
    "# Now, 200"
   ]
  },
  {
   "cell_type": "code",
   "execution_count": 836,
   "id": "4dcfe0b8",
   "metadata": {},
   "outputs": [
    {
     "data": {
      "text/plain": [
       "202"
      ]
     },
     "execution_count": 836,
     "metadata": {},
     "output_type": "execute_result"
    }
   ],
   "source": [
    "unique_total = 0\n",
    "\n",
    "for col in encoded_train.columns:\n",
    "    if col != 'sellingprice':\n",
    "        unique_total += encoded_train[col].nunique()\n",
    "\n",
    "unique_total # It is hard to one hot encode that many cols and use RF. I will use LightGbm."
   ]
  },
  {
   "cell_type": "code",
   "execution_count": 837,
   "id": "30b315ae",
   "metadata": {},
   "outputs": [],
   "source": [
    "category_cols = ['FLAG_NA_product_gender', 'FLAG_NA_sellingprice', 'product_gender']\n",
    "\n",
    "for col in category_cols:\n",
    "    encoded_train[col] = encoded_train[col] .astype('category')\n",
    "    \n",
    "for col in category_cols:\n",
    "    encoded_test[col] = encoded_test[col] .astype('category')"
   ]
  },
  {
   "cell_type": "code",
   "execution_count": 838,
   "id": "99b2e706",
   "metadata": {},
   "outputs": [
    {
     "data": {
      "text/plain": [
       "user_action               category\n",
       "product_name              category\n",
       "brand_name                category\n",
       "businessunit              category\n",
       "product_gender            category\n",
       "category_id               category\n",
       "Level1_Category_Id        category\n",
       "Level2_Category_Id        category\n",
       "weekday                   category\n",
       "month                     category\n",
       "hour                      category\n",
       "minute                    category\n",
       "FLAG_weekend              category\n",
       "sellingprice               float64\n",
       "FLAG_NA_product_gender    category\n",
       "FLAG_NA_sellingprice      category\n",
       "dtype: object"
      ]
     },
     "execution_count": 838,
     "metadata": {},
     "output_type": "execute_result"
    }
   ],
   "source": [
    "encoded_test.dtypes # They are fine."
   ]
  },
  {
   "cell_type": "code",
   "execution_count": 841,
   "id": "dae1cd41",
   "metadata": {},
   "outputs": [],
   "source": [
    "a = encoded_train.nunique()\n",
    "b = encoded_test.nunique()"
   ]
  },
  {
   "cell_type": "code",
   "execution_count": 842,
   "id": "661f9c04",
   "metadata": {},
   "outputs": [
    {
     "name": "stdout",
     "output_type": "stream",
     "text": [
      "                     Unique Values\n",
      "                     -------------\n",
      "                     train   test\n",
      "                     -------------\n",
      "user_action          5      5\n",
      "product_name         2      2\n",
      "brand_name           10     10\n",
      "businessunit         29     29\n",
      "product_gender       3      3\n",
      "category_id          18     18\n",
      "Level1_Category_Id   10     10\n",
      "Level2_Category_Id   25     25\n",
      "weekday              7      7\n",
      "month                3      3\n",
      "hour                 24     24\n",
      "minute               60     60\n",
      "FLAG_weekend         2      2\n",
      "sellingprice         60865  607764\n",
      "FLAG_NA_product_gender 2      2\n",
      "FLAG_NA_sellingprice 2      2\n"
     ]
    }
   ],
   "source": [
    "print(\"Unique Values\".rjust(34))\n",
    "print(\"-------------\".rjust(34))\n",
    "print(\"train\".rjust(26), \"test\".rjust(6))\n",
    "print(\"-------------\".rjust(34))\n",
    "for i in range(len(a)):\n",
    "    print(a.index[i].ljust(20), str(a[i]).ljust(6), b[i])"
   ]
  },
  {
   "cell_type": "code",
   "execution_count": 843,
   "id": "f8c10eae",
   "metadata": {},
   "outputs": [],
   "source": [
    "# Levels seem to be the same."
   ]
  },
  {
   "cell_type": "code",
   "execution_count": null,
   "id": "0db37d80",
   "metadata": {},
   "outputs": [],
   "source": []
  },
  {
   "cell_type": "code",
   "execution_count": null,
   "id": "aff6aaf7",
   "metadata": {},
   "outputs": [],
   "source": []
  },
  {
   "cell_type": "code",
   "execution_count": null,
   "id": "ef752a51",
   "metadata": {},
   "outputs": [],
   "source": [
    "######## SKIP BELOW SECTION. (It is for Group by approach)"
   ]
  },
  {
   "cell_type": "code",
   "execution_count": 845,
   "id": "a74f8719",
   "metadata": {},
   "outputs": [],
   "source": [
    "final_train_X = encoded_train.copy()\n",
    "final_train_y = (df['gender']=='F')*1\n",
    "\n",
    "final_test_X = encoded_test.copy()"
   ]
  },
  {
   "cell_type": "code",
   "execution_count": 1111,
   "id": "36257072",
   "metadata": {},
   "outputs": [],
   "source": [
    "train_genders = pd.concat([pd.concat([final_train_X, final_train_y], axis=1), train_ids], axis=1).groupby('unique_id')['gender'].mean()"
   ]
  },
  {
   "cell_type": "code",
   "execution_count": 1103,
   "id": "6b408940",
   "metadata": {},
   "outputs": [
    {
     "data": {
      "text/plain": [
       "0          1\n",
       "1          1\n",
       "2          1\n",
       "3          1\n",
       "4          1\n",
       "          ..\n",
       "5493263    0\n",
       "5493264    0\n",
       "5493265    0\n",
       "5493266    0\n",
       "5493267    0\n",
       "Name: gender, Length: 2077128, dtype: int64"
      ]
     },
     "execution_count": 1103,
     "metadata": {},
     "output_type": "execute_result"
    }
   ],
   "source": [
    "random = pd.concat([final_train_X, final_train_y])"
   ]
  },
  {
   "cell_type": "code",
   "execution_count": 847,
   "id": "fb1e4831",
   "metadata": {},
   "outputs": [
    {
     "name": "stdout",
     "output_type": "stream",
     "text": [
      "user_action classes: 5\n",
      "product_name classes: 2\n",
      "brand_name classes: 10\n",
      "businessunit classes: 29\n",
      "product_gender classes: 3\n",
      "category_id classes: 18\n",
      "Level1_Category_Id classes: 10\n",
      "Level2_Category_Id classes: 25\n",
      "weekday classes: 7\n",
      "month classes: 3\n",
      "hour classes: 24\n",
      "minute classes: 60\n",
      "FLAG_weekend classes: 2\n",
      "sellingprice classes: 60865\n",
      "FLAG_NA_product_gender classes: 2\n",
      "FLAG_NA_sellingprice classes: 2\n"
     ]
    }
   ],
   "source": [
    "for col in final_train_X.columns:\n",
    "    print(f\"{col} classes: {final_train_X[col].nunique()}\")"
   ]
  },
  {
   "cell_type": "code",
   "execution_count": 703,
   "id": "d98d200c",
   "metadata": {},
   "outputs": [],
   "source": [
    "define_categoric = ['user_action', 'product_name', 'brand_name', 'businessunit', 'product_gender', 'category_id', 'Level1_Category_Id', 'weekday', 'month', 'hour']"
   ]
  },
  {
   "cell_type": "code",
   "execution_count": 927,
   "id": "ea127297",
   "metadata": {},
   "outputs": [],
   "source": [
    "# train_ids"
   ]
  },
  {
   "cell_type": "code",
   "execution_count": 1023,
   "id": "7c65545f",
   "metadata": {},
   "outputs": [],
   "source": [
    "final_train_with_id = pd.concat([final_train_X, train_ids], axis=1)"
   ]
  },
  {
   "cell_type": "code",
   "execution_count": 1024,
   "id": "4b17446f",
   "metadata": {},
   "outputs": [],
   "source": [
    "final_train_full = final_train_with_id\n",
    "final_train_full['minute'] = final_train_full['minute'].astype('int64')\n",
    "final_train_full['hour'] = final_train_full['hour'].astype('int64')\n",
    "final_train_full['type'] = \"train\""
   ]
  },
  {
   "cell_type": "code",
   "execution_count": 1025,
   "id": "cbb65e5c",
   "metadata": {},
   "outputs": [
    {
     "data": {
      "text/html": [
       "<div>\n",
       "<style scoped>\n",
       "    .dataframe tbody tr th:only-of-type {\n",
       "        vertical-align: middle;\n",
       "    }\n",
       "\n",
       "    .dataframe tbody tr th {\n",
       "        vertical-align: top;\n",
       "    }\n",
       "\n",
       "    .dataframe thead th {\n",
       "        text-align: right;\n",
       "    }\n",
       "</style>\n",
       "<table border=\"1\" class=\"dataframe\">\n",
       "  <thead>\n",
       "    <tr style=\"text-align: right;\">\n",
       "      <th></th>\n",
       "      <th>user_action</th>\n",
       "      <th>product_name</th>\n",
       "      <th>brand_name</th>\n",
       "      <th>businessunit</th>\n",
       "      <th>product_gender</th>\n",
       "      <th>category_id</th>\n",
       "      <th>Level1_Category_Id</th>\n",
       "      <th>Level2_Category_Id</th>\n",
       "      <th>weekday</th>\n",
       "      <th>month</th>\n",
       "      <th>hour</th>\n",
       "      <th>minute</th>\n",
       "      <th>FLAG_weekend</th>\n",
       "      <th>sellingprice</th>\n",
       "      <th>FLAG_NA_product_gender</th>\n",
       "      <th>FLAG_NA_sellingprice</th>\n",
       "      <th>unique_id</th>\n",
       "      <th>type</th>\n",
       "    </tr>\n",
       "  </thead>\n",
       "  <tbody>\n",
       "    <tr>\n",
       "      <th>0</th>\n",
       "      <td>1</td>\n",
       "      <td>1</td>\n",
       "      <td>7</td>\n",
       "      <td>21</td>\n",
       "      <td>2</td>\n",
       "      <td>17</td>\n",
       "      <td>1</td>\n",
       "      <td>24</td>\n",
       "      <td>2</td>\n",
       "      <td>2</td>\n",
       "      <td>15</td>\n",
       "      <td>26</td>\n",
       "      <td>0</td>\n",
       "      <td>3099.0000</td>\n",
       "      <td>0</td>\n",
       "      <td>0</td>\n",
       "      <td>425</td>\n",
       "      <td>train</td>\n",
       "    </tr>\n",
       "    <tr>\n",
       "      <th>1</th>\n",
       "      <td>1</td>\n",
       "      <td>1</td>\n",
       "      <td>7</td>\n",
       "      <td>21</td>\n",
       "      <td>2</td>\n",
       "      <td>17</td>\n",
       "      <td>1</td>\n",
       "      <td>24</td>\n",
       "      <td>1</td>\n",
       "      <td>2</td>\n",
       "      <td>16</td>\n",
       "      <td>15</td>\n",
       "      <td>0</td>\n",
       "      <td>3079.0000</td>\n",
       "      <td>1</td>\n",
       "      <td>0</td>\n",
       "      <td>425</td>\n",
       "      <td>train</td>\n",
       "    </tr>\n",
       "    <tr>\n",
       "      <th>2</th>\n",
       "      <td>1</td>\n",
       "      <td>1</td>\n",
       "      <td>7</td>\n",
       "      <td>21</td>\n",
       "      <td>2</td>\n",
       "      <td>17</td>\n",
       "      <td>1</td>\n",
       "      <td>24</td>\n",
       "      <td>5</td>\n",
       "      <td>2</td>\n",
       "      <td>8</td>\n",
       "      <td>19</td>\n",
       "      <td>1</td>\n",
       "      <td>3999.0000</td>\n",
       "      <td>0</td>\n",
       "      <td>0</td>\n",
       "      <td>425</td>\n",
       "      <td>train</td>\n",
       "    </tr>\n",
       "    <tr>\n",
       "      <th>3</th>\n",
       "      <td>4</td>\n",
       "      <td>1</td>\n",
       "      <td>7</td>\n",
       "      <td>21</td>\n",
       "      <td>2</td>\n",
       "      <td>17</td>\n",
       "      <td>1</td>\n",
       "      <td>24</td>\n",
       "      <td>5</td>\n",
       "      <td>2</td>\n",
       "      <td>8</td>\n",
       "      <td>28</td>\n",
       "      <td>1</td>\n",
       "      <td>2544.0000</td>\n",
       "      <td>1</td>\n",
       "      <td>0</td>\n",
       "      <td>425</td>\n",
       "      <td>train</td>\n",
       "    </tr>\n",
       "  </tbody>\n",
       "</table>\n",
       "</div>"
      ],
      "text/plain": [
       "  user_action product_name brand_name businessunit product_gender category_id  \\\n",
       "0           1            1          7           21              2          17   \n",
       "1           1            1          7           21              2          17   \n",
       "2           1            1          7           21              2          17   \n",
       "3           4            1          7           21              2          17   \n",
       "\n",
       "  Level1_Category_Id Level2_Category_Id weekday month  hour  minute  \\\n",
       "0                  1                 24       2     2    15      26   \n",
       "1                  1                 24       1     2    16      15   \n",
       "2                  1                 24       5     2     8      19   \n",
       "3                  1                 24       5     2     8      28   \n",
       "\n",
       "  FLAG_weekend  sellingprice FLAG_NA_product_gender FLAG_NA_sellingprice  \\\n",
       "0            0     3099.0000                      0                    0   \n",
       "1            0     3079.0000                      1                    0   \n",
       "2            1     3999.0000                      0                    0   \n",
       "3            1     2544.0000                      1                    0   \n",
       "\n",
       "   unique_id   type  \n",
       "0        425  train  \n",
       "1        425  train  \n",
       "2        425  train  \n",
       "3        425  train  "
      ]
     },
     "execution_count": 1025,
     "metadata": {},
     "output_type": "execute_result"
    }
   ],
   "source": [
    "final_train_full.head(4)"
   ]
  },
  {
   "cell_type": "code",
   "execution_count": 1000,
   "id": "2045ae0a",
   "metadata": {},
   "outputs": [
    {
     "data": {
      "text/plain": [
       "gender\n",
       "0   119.9900\n",
       "1    88.0000\n",
       "Name: sellingprice, dtype: float64"
      ]
     },
     "execution_count": 1000,
     "metadata": {},
     "output_type": "execute_result"
    }
   ],
   "source": [
    "final_train_full.groupby(['gender'])['sellingprice'].median()"
   ]
  },
  {
   "cell_type": "code",
   "execution_count": 999,
   "id": "47a34602",
   "metadata": {},
   "outputs": [
    {
     "data": {
      "text/plain": [
       "count   2077128.0000\n",
       "mean        233.9926\n",
       "std        1081.4102\n",
       "min        -477.8052\n",
       "25%          49.9900\n",
       "50%          89.9900\n",
       "75%         181.0000\n",
       "max      226320.0000\n",
       "Name: sellingprice, dtype: float64"
      ]
     },
     "execution_count": 999,
     "metadata": {},
     "output_type": "execute_result"
    }
   ],
   "source": [
    "final_train_full['sellingprice'].describe()"
   ]
  },
  {
   "cell_type": "code",
   "execution_count": 1029,
   "id": "bd1aec46",
   "metadata": {},
   "outputs": [
    {
     "data": {
      "text/html": [
       "<div>\n",
       "<style scoped>\n",
       "    .dataframe tbody tr th:only-of-type {\n",
       "        vertical-align: middle;\n",
       "    }\n",
       "\n",
       "    .dataframe tbody tr th {\n",
       "        vertical-align: top;\n",
       "    }\n",
       "\n",
       "    .dataframe thead th {\n",
       "        text-align: right;\n",
       "    }\n",
       "</style>\n",
       "<table border=\"1\" class=\"dataframe\">\n",
       "  <thead>\n",
       "    <tr style=\"text-align: right;\">\n",
       "      <th></th>\n",
       "      <th>user_action</th>\n",
       "      <th>product_name</th>\n",
       "      <th>brand_name</th>\n",
       "      <th>businessunit</th>\n",
       "      <th>product_gender</th>\n",
       "      <th>category_id</th>\n",
       "      <th>Level1_Category_Id</th>\n",
       "      <th>Level2_Category_Id</th>\n",
       "      <th>weekday</th>\n",
       "      <th>month</th>\n",
       "      <th>hour</th>\n",
       "      <th>minute</th>\n",
       "      <th>FLAG_weekend</th>\n",
       "      <th>sellingprice</th>\n",
       "      <th>FLAG_NA_product_gender</th>\n",
       "      <th>FLAG_NA_sellingprice</th>\n",
       "    </tr>\n",
       "  </thead>\n",
       "  <tbody>\n",
       "    <tr>\n",
       "      <th>0</th>\n",
       "      <td>4</td>\n",
       "      <td>0</td>\n",
       "      <td>7</td>\n",
       "      <td>13</td>\n",
       "      <td>1</td>\n",
       "      <td>17</td>\n",
       "      <td>6</td>\n",
       "      <td>24</td>\n",
       "      <td>1</td>\n",
       "      <td>2</td>\n",
       "      <td>0</td>\n",
       "      <td>46</td>\n",
       "      <td>0</td>\n",
       "      <td>117.1099</td>\n",
       "      <td>0</td>\n",
       "      <td>0</td>\n",
       "    </tr>\n",
       "    <tr>\n",
       "      <th>1</th>\n",
       "      <td>4</td>\n",
       "      <td>1</td>\n",
       "      <td>7</td>\n",
       "      <td>21</td>\n",
       "      <td>1</td>\n",
       "      <td>17</td>\n",
       "      <td>6</td>\n",
       "      <td>24</td>\n",
       "      <td>3</td>\n",
       "      <td>2</td>\n",
       "      <td>11</td>\n",
       "      <td>26</td>\n",
       "      <td>0</td>\n",
       "      <td>347.5445</td>\n",
       "      <td>0</td>\n",
       "      <td>0</td>\n",
       "    </tr>\n",
       "    <tr>\n",
       "      <th>2</th>\n",
       "      <td>4</td>\n",
       "      <td>1</td>\n",
       "      <td>7</td>\n",
       "      <td>21</td>\n",
       "      <td>2</td>\n",
       "      <td>17</td>\n",
       "      <td>1</td>\n",
       "      <td>24</td>\n",
       "      <td>3</td>\n",
       "      <td>1</td>\n",
       "      <td>14</td>\n",
       "      <td>55</td>\n",
       "      <td>0</td>\n",
       "      <td>1372.8592</td>\n",
       "      <td>0</td>\n",
       "      <td>0</td>\n",
       "    </tr>\n",
       "    <tr>\n",
       "      <th>3</th>\n",
       "      <td>4</td>\n",
       "      <td>0</td>\n",
       "      <td>7</td>\n",
       "      <td>16</td>\n",
       "      <td>2</td>\n",
       "      <td>17</td>\n",
       "      <td>0</td>\n",
       "      <td>24</td>\n",
       "      <td>0</td>\n",
       "      <td>1</td>\n",
       "      <td>12</td>\n",
       "      <td>7</td>\n",
       "      <td>0</td>\n",
       "      <td>86.9309</td>\n",
       "      <td>1</td>\n",
       "      <td>0</td>\n",
       "    </tr>\n",
       "    <tr>\n",
       "      <th>4</th>\n",
       "      <td>4</td>\n",
       "      <td>1</td>\n",
       "      <td>3</td>\n",
       "      <td>13</td>\n",
       "      <td>1</td>\n",
       "      <td>17</td>\n",
       "      <td>6</td>\n",
       "      <td>24</td>\n",
       "      <td>3</td>\n",
       "      <td>1</td>\n",
       "      <td>10</td>\n",
       "      <td>7</td>\n",
       "      <td>0</td>\n",
       "      <td>55.4639</td>\n",
       "      <td>0</td>\n",
       "      <td>0</td>\n",
       "    </tr>\n",
       "    <tr>\n",
       "      <th>...</th>\n",
       "      <td>...</td>\n",
       "      <td>...</td>\n",
       "      <td>...</td>\n",
       "      <td>...</td>\n",
       "      <td>...</td>\n",
       "      <td>...</td>\n",
       "      <td>...</td>\n",
       "      <td>...</td>\n",
       "      <td>...</td>\n",
       "      <td>...</td>\n",
       "      <td>...</td>\n",
       "      <td>...</td>\n",
       "      <td>...</td>\n",
       "      <td>...</td>\n",
       "      <td>...</td>\n",
       "      <td>...</td>\n",
       "    </tr>\n",
       "    <tr>\n",
       "      <th>2324809</th>\n",
       "      <td>4</td>\n",
       "      <td>1</td>\n",
       "      <td>7</td>\n",
       "      <td>23</td>\n",
       "      <td>2</td>\n",
       "      <td>17</td>\n",
       "      <td>2</td>\n",
       "      <td>6</td>\n",
       "      <td>1</td>\n",
       "      <td>2</td>\n",
       "      <td>15</td>\n",
       "      <td>42</td>\n",
       "      <td>0</td>\n",
       "      <td>65.8313</td>\n",
       "      <td>1</td>\n",
       "      <td>0</td>\n",
       "    </tr>\n",
       "    <tr>\n",
       "      <th>2324810</th>\n",
       "      <td>0</td>\n",
       "      <td>1</td>\n",
       "      <td>7</td>\n",
       "      <td>23</td>\n",
       "      <td>2</td>\n",
       "      <td>17</td>\n",
       "      <td>2</td>\n",
       "      <td>6</td>\n",
       "      <td>1</td>\n",
       "      <td>2</td>\n",
       "      <td>15</td>\n",
       "      <td>42</td>\n",
       "      <td>0</td>\n",
       "      <td>52.0386</td>\n",
       "      <td>1</td>\n",
       "      <td>0</td>\n",
       "    </tr>\n",
       "    <tr>\n",
       "      <th>2324811</th>\n",
       "      <td>4</td>\n",
       "      <td>1</td>\n",
       "      <td>7</td>\n",
       "      <td>23</td>\n",
       "      <td>2</td>\n",
       "      <td>17</td>\n",
       "      <td>2</td>\n",
       "      <td>6</td>\n",
       "      <td>1</td>\n",
       "      <td>2</td>\n",
       "      <td>15</td>\n",
       "      <td>42</td>\n",
       "      <td>0</td>\n",
       "      <td>65.8313</td>\n",
       "      <td>1</td>\n",
       "      <td>0</td>\n",
       "    </tr>\n",
       "    <tr>\n",
       "      <th>2324812</th>\n",
       "      <td>0</td>\n",
       "      <td>1</td>\n",
       "      <td>7</td>\n",
       "      <td>23</td>\n",
       "      <td>2</td>\n",
       "      <td>17</td>\n",
       "      <td>2</td>\n",
       "      <td>6</td>\n",
       "      <td>1</td>\n",
       "      <td>2</td>\n",
       "      <td>15</td>\n",
       "      <td>42</td>\n",
       "      <td>0</td>\n",
       "      <td>52.0386</td>\n",
       "      <td>1</td>\n",
       "      <td>0</td>\n",
       "    </tr>\n",
       "    <tr>\n",
       "      <th>2324813</th>\n",
       "      <td>4</td>\n",
       "      <td>1</td>\n",
       "      <td>7</td>\n",
       "      <td>23</td>\n",
       "      <td>2</td>\n",
       "      <td>17</td>\n",
       "      <td>2</td>\n",
       "      <td>6</td>\n",
       "      <td>1</td>\n",
       "      <td>2</td>\n",
       "      <td>15</td>\n",
       "      <td>42</td>\n",
       "      <td>0</td>\n",
       "      <td>65.8313</td>\n",
       "      <td>1</td>\n",
       "      <td>0</td>\n",
       "    </tr>\n",
       "  </tbody>\n",
       "</table>\n",
       "<p>877909 rows × 16 columns</p>\n",
       "</div>"
      ],
      "text/plain": [
       "        user_action product_name brand_name businessunit product_gender  \\\n",
       "0                 4            0          7           13              1   \n",
       "1                 4            1          7           21              1   \n",
       "2                 4            1          7           21              2   \n",
       "3                 4            0          7           16              2   \n",
       "4                 4            1          3           13              1   \n",
       "...             ...          ...        ...          ...            ...   \n",
       "2324809           4            1          7           23              2   \n",
       "2324810           0            1          7           23              2   \n",
       "2324811           4            1          7           23              2   \n",
       "2324812           0            1          7           23              2   \n",
       "2324813           4            1          7           23              2   \n",
       "\n",
       "        category_id Level1_Category_Id Level2_Category_Id weekday month hour  \\\n",
       "0                17                  6                 24       1     2    0   \n",
       "1                17                  6                 24       3     2   11   \n",
       "2                17                  1                 24       3     1   14   \n",
       "3                17                  0                 24       0     1   12   \n",
       "4                17                  6                 24       3     1   10   \n",
       "...             ...                ...                ...     ...   ...  ...   \n",
       "2324809          17                  2                  6       1     2   15   \n",
       "2324810          17                  2                  6       1     2   15   \n",
       "2324811          17                  2                  6       1     2   15   \n",
       "2324812          17                  2                  6       1     2   15   \n",
       "2324813          17                  2                  6       1     2   15   \n",
       "\n",
       "        minute FLAG_weekend  sellingprice FLAG_NA_product_gender  \\\n",
       "0           46            0      117.1099                      0   \n",
       "1           26            0      347.5445                      0   \n",
       "2           55            0     1372.8592                      0   \n",
       "3            7            0       86.9309                      1   \n",
       "4            7            0       55.4639                      0   \n",
       "...        ...          ...           ...                    ...   \n",
       "2324809     42            0       65.8313                      1   \n",
       "2324810     42            0       52.0386                      1   \n",
       "2324811     42            0       65.8313                      1   \n",
       "2324812     42            0       52.0386                      1   \n",
       "2324813     42            0       65.8313                      1   \n",
       "\n",
       "        FLAG_NA_sellingprice  \n",
       "0                          0  \n",
       "1                          0  \n",
       "2                          0  \n",
       "3                          0  \n",
       "4                          0  \n",
       "...                      ...  \n",
       "2324809                    0  \n",
       "2324810                    0  \n",
       "2324811                    0  \n",
       "2324812                    0  \n",
       "2324813                    0  \n",
       "\n",
       "[877909 rows x 16 columns]"
      ]
     },
     "execution_count": 1029,
     "metadata": {},
     "output_type": "execute_result"
    }
   ],
   "source": [
    "final_test_X"
   ]
  },
  {
   "cell_type": "code",
   "execution_count": 1036,
   "id": "bd8e1a5f",
   "metadata": {},
   "outputs": [],
   "source": [
    "final_test_with_id = pd.concat([final_test_X, test_ids], axis=1)"
   ]
  },
  {
   "cell_type": "code",
   "execution_count": 1037,
   "id": "5001155d",
   "metadata": {},
   "outputs": [],
   "source": [
    "final_test_full = final_test_with_id\n",
    "final_test_full['minute'] = final_test_full['minute'].astype('int64')\n",
    "final_test_full['hour'] = final_test_full['hour'].astype('int64')\n",
    "final_test_full['type'] = 'test'"
   ]
  },
  {
   "cell_type": "code",
   "execution_count": 1041,
   "id": "ff98971f",
   "metadata": {},
   "outputs": [],
   "source": [
    "final_whole = pd.concat([final_train_full, final_test_full])"
   ]
  },
  {
   "cell_type": "code",
   "execution_count": 1042,
   "id": "36d09a8e",
   "metadata": {},
   "outputs": [
    {
     "data": {
      "text/html": [
       "<div>\n",
       "<style scoped>\n",
       "    .dataframe tbody tr th:only-of-type {\n",
       "        vertical-align: middle;\n",
       "    }\n",
       "\n",
       "    .dataframe tbody tr th {\n",
       "        vertical-align: top;\n",
       "    }\n",
       "\n",
       "    .dataframe thead th {\n",
       "        text-align: right;\n",
       "    }\n",
       "</style>\n",
       "<table border=\"1\" class=\"dataframe\">\n",
       "  <thead>\n",
       "    <tr style=\"text-align: right;\">\n",
       "      <th></th>\n",
       "      <th>user_action</th>\n",
       "      <th>product_name</th>\n",
       "      <th>brand_name</th>\n",
       "      <th>businessunit</th>\n",
       "      <th>product_gender</th>\n",
       "      <th>category_id</th>\n",
       "      <th>Level1_Category_Id</th>\n",
       "      <th>Level2_Category_Id</th>\n",
       "      <th>weekday</th>\n",
       "      <th>month</th>\n",
       "      <th>hour</th>\n",
       "      <th>minute</th>\n",
       "      <th>FLAG_weekend</th>\n",
       "      <th>sellingprice</th>\n",
       "      <th>FLAG_NA_product_gender</th>\n",
       "      <th>FLAG_NA_sellingprice</th>\n",
       "      <th>unique_id</th>\n",
       "      <th>type</th>\n",
       "    </tr>\n",
       "  </thead>\n",
       "  <tbody>\n",
       "    <tr>\n",
       "      <th>0</th>\n",
       "      <td>1</td>\n",
       "      <td>1</td>\n",
       "      <td>7</td>\n",
       "      <td>21</td>\n",
       "      <td>2</td>\n",
       "      <td>17</td>\n",
       "      <td>1</td>\n",
       "      <td>24</td>\n",
       "      <td>2</td>\n",
       "      <td>2</td>\n",
       "      <td>15</td>\n",
       "      <td>26</td>\n",
       "      <td>0</td>\n",
       "      <td>3099.0000</td>\n",
       "      <td>0</td>\n",
       "      <td>0</td>\n",
       "      <td>425</td>\n",
       "      <td>train</td>\n",
       "    </tr>\n",
       "    <tr>\n",
       "      <th>1</th>\n",
       "      <td>1</td>\n",
       "      <td>1</td>\n",
       "      <td>7</td>\n",
       "      <td>21</td>\n",
       "      <td>2</td>\n",
       "      <td>17</td>\n",
       "      <td>1</td>\n",
       "      <td>24</td>\n",
       "      <td>1</td>\n",
       "      <td>2</td>\n",
       "      <td>16</td>\n",
       "      <td>15</td>\n",
       "      <td>0</td>\n",
       "      <td>3079.0000</td>\n",
       "      <td>1</td>\n",
       "      <td>0</td>\n",
       "      <td>425</td>\n",
       "      <td>train</td>\n",
       "    </tr>\n",
       "    <tr>\n",
       "      <th>2</th>\n",
       "      <td>1</td>\n",
       "      <td>1</td>\n",
       "      <td>7</td>\n",
       "      <td>21</td>\n",
       "      <td>2</td>\n",
       "      <td>17</td>\n",
       "      <td>1</td>\n",
       "      <td>24</td>\n",
       "      <td>5</td>\n",
       "      <td>2</td>\n",
       "      <td>8</td>\n",
       "      <td>19</td>\n",
       "      <td>1</td>\n",
       "      <td>3999.0000</td>\n",
       "      <td>0</td>\n",
       "      <td>0</td>\n",
       "      <td>425</td>\n",
       "      <td>train</td>\n",
       "    </tr>\n",
       "    <tr>\n",
       "      <th>3</th>\n",
       "      <td>4</td>\n",
       "      <td>1</td>\n",
       "      <td>7</td>\n",
       "      <td>21</td>\n",
       "      <td>2</td>\n",
       "      <td>17</td>\n",
       "      <td>1</td>\n",
       "      <td>24</td>\n",
       "      <td>5</td>\n",
       "      <td>2</td>\n",
       "      <td>8</td>\n",
       "      <td>28</td>\n",
       "      <td>1</td>\n",
       "      <td>2544.0000</td>\n",
       "      <td>1</td>\n",
       "      <td>0</td>\n",
       "      <td>425</td>\n",
       "      <td>train</td>\n",
       "    </tr>\n",
       "    <tr>\n",
       "      <th>4</th>\n",
       "      <td>4</td>\n",
       "      <td>1</td>\n",
       "      <td>7</td>\n",
       "      <td>21</td>\n",
       "      <td>2</td>\n",
       "      <td>17</td>\n",
       "      <td>1</td>\n",
       "      <td>24</td>\n",
       "      <td>2</td>\n",
       "      <td>2</td>\n",
       "      <td>15</td>\n",
       "      <td>26</td>\n",
       "      <td>0</td>\n",
       "      <td>3099.0000</td>\n",
       "      <td>0</td>\n",
       "      <td>0</td>\n",
       "      <td>425</td>\n",
       "      <td>train</td>\n",
       "    </tr>\n",
       "    <tr>\n",
       "      <th>...</th>\n",
       "      <td>...</td>\n",
       "      <td>...</td>\n",
       "      <td>...</td>\n",
       "      <td>...</td>\n",
       "      <td>...</td>\n",
       "      <td>...</td>\n",
       "      <td>...</td>\n",
       "      <td>...</td>\n",
       "      <td>...</td>\n",
       "      <td>...</td>\n",
       "      <td>...</td>\n",
       "      <td>...</td>\n",
       "      <td>...</td>\n",
       "      <td>...</td>\n",
       "      <td>...</td>\n",
       "      <td>...</td>\n",
       "      <td>...</td>\n",
       "      <td>...</td>\n",
       "    </tr>\n",
       "    <tr>\n",
       "      <th>2324809</th>\n",
       "      <td>4</td>\n",
       "      <td>1</td>\n",
       "      <td>7</td>\n",
       "      <td>23</td>\n",
       "      <td>2</td>\n",
       "      <td>17</td>\n",
       "      <td>2</td>\n",
       "      <td>6</td>\n",
       "      <td>1</td>\n",
       "      <td>2</td>\n",
       "      <td>15</td>\n",
       "      <td>42</td>\n",
       "      <td>0</td>\n",
       "      <td>65.8313</td>\n",
       "      <td>1</td>\n",
       "      <td>0</td>\n",
       "      <td>7509</td>\n",
       "      <td>test</td>\n",
       "    </tr>\n",
       "    <tr>\n",
       "      <th>2324810</th>\n",
       "      <td>0</td>\n",
       "      <td>1</td>\n",
       "      <td>7</td>\n",
       "      <td>23</td>\n",
       "      <td>2</td>\n",
       "      <td>17</td>\n",
       "      <td>2</td>\n",
       "      <td>6</td>\n",
       "      <td>1</td>\n",
       "      <td>2</td>\n",
       "      <td>15</td>\n",
       "      <td>42</td>\n",
       "      <td>0</td>\n",
       "      <td>52.0386</td>\n",
       "      <td>1</td>\n",
       "      <td>0</td>\n",
       "      <td>7509</td>\n",
       "      <td>test</td>\n",
       "    </tr>\n",
       "    <tr>\n",
       "      <th>2324811</th>\n",
       "      <td>4</td>\n",
       "      <td>1</td>\n",
       "      <td>7</td>\n",
       "      <td>23</td>\n",
       "      <td>2</td>\n",
       "      <td>17</td>\n",
       "      <td>2</td>\n",
       "      <td>6</td>\n",
       "      <td>1</td>\n",
       "      <td>2</td>\n",
       "      <td>15</td>\n",
       "      <td>42</td>\n",
       "      <td>0</td>\n",
       "      <td>65.8313</td>\n",
       "      <td>1</td>\n",
       "      <td>0</td>\n",
       "      <td>7509</td>\n",
       "      <td>test</td>\n",
       "    </tr>\n",
       "    <tr>\n",
       "      <th>2324812</th>\n",
       "      <td>0</td>\n",
       "      <td>1</td>\n",
       "      <td>7</td>\n",
       "      <td>23</td>\n",
       "      <td>2</td>\n",
       "      <td>17</td>\n",
       "      <td>2</td>\n",
       "      <td>6</td>\n",
       "      <td>1</td>\n",
       "      <td>2</td>\n",
       "      <td>15</td>\n",
       "      <td>42</td>\n",
       "      <td>0</td>\n",
       "      <td>52.0386</td>\n",
       "      <td>1</td>\n",
       "      <td>0</td>\n",
       "      <td>7509</td>\n",
       "      <td>test</td>\n",
       "    </tr>\n",
       "    <tr>\n",
       "      <th>2324813</th>\n",
       "      <td>4</td>\n",
       "      <td>1</td>\n",
       "      <td>7</td>\n",
       "      <td>23</td>\n",
       "      <td>2</td>\n",
       "      <td>17</td>\n",
       "      <td>2</td>\n",
       "      <td>6</td>\n",
       "      <td>1</td>\n",
       "      <td>2</td>\n",
       "      <td>15</td>\n",
       "      <td>42</td>\n",
       "      <td>0</td>\n",
       "      <td>65.8313</td>\n",
       "      <td>1</td>\n",
       "      <td>0</td>\n",
       "      <td>7509</td>\n",
       "      <td>test</td>\n",
       "    </tr>\n",
       "  </tbody>\n",
       "</table>\n",
       "<p>2955037 rows × 18 columns</p>\n",
       "</div>"
      ],
      "text/plain": [
       "        user_action product_name brand_name businessunit product_gender  \\\n",
       "0                 1            1          7           21              2   \n",
       "1                 1            1          7           21              2   \n",
       "2                 1            1          7           21              2   \n",
       "3                 4            1          7           21              2   \n",
       "4                 4            1          7           21              2   \n",
       "...             ...          ...        ...          ...            ...   \n",
       "2324809           4            1          7           23              2   \n",
       "2324810           0            1          7           23              2   \n",
       "2324811           4            1          7           23              2   \n",
       "2324812           0            1          7           23              2   \n",
       "2324813           4            1          7           23              2   \n",
       "\n",
       "        category_id Level1_Category_Id Level2_Category_Id weekday month  hour  \\\n",
       "0                17                  1                 24       2     2    15   \n",
       "1                17                  1                 24       1     2    16   \n",
       "2                17                  1                 24       5     2     8   \n",
       "3                17                  1                 24       5     2     8   \n",
       "4                17                  1                 24       2     2    15   \n",
       "...             ...                ...                ...     ...   ...   ...   \n",
       "2324809          17                  2                  6       1     2    15   \n",
       "2324810          17                  2                  6       1     2    15   \n",
       "2324811          17                  2                  6       1     2    15   \n",
       "2324812          17                  2                  6       1     2    15   \n",
       "2324813          17                  2                  6       1     2    15   \n",
       "\n",
       "         minute FLAG_weekend  sellingprice FLAG_NA_product_gender  \\\n",
       "0            26            0     3099.0000                      0   \n",
       "1            15            0     3079.0000                      1   \n",
       "2            19            1     3999.0000                      0   \n",
       "3            28            1     2544.0000                      1   \n",
       "4            26            0     3099.0000                      0   \n",
       "...         ...          ...           ...                    ...   \n",
       "2324809      42            0       65.8313                      1   \n",
       "2324810      42            0       52.0386                      1   \n",
       "2324811      42            0       65.8313                      1   \n",
       "2324812      42            0       52.0386                      1   \n",
       "2324813      42            0       65.8313                      1   \n",
       "\n",
       "        FLAG_NA_sellingprice  unique_id   type  \n",
       "0                          0        425  train  \n",
       "1                          0        425  train  \n",
       "2                          0        425  train  \n",
       "3                          0        425  train  \n",
       "4                          0        425  train  \n",
       "...                      ...        ...    ...  \n",
       "2324809                    0       7509   test  \n",
       "2324810                    0       7509   test  \n",
       "2324811                    0       7509   test  \n",
       "2324812                    0       7509   test  \n",
       "2324813                    0       7509   test  \n",
       "\n",
       "[2955037 rows x 18 columns]"
      ]
     },
     "execution_count": 1042,
     "metadata": {},
     "output_type": "execute_result"
    }
   ],
   "source": [
    "final_whole"
   ]
  },
  {
   "cell_type": "code",
   "execution_count": 1044,
   "id": "b2a8f8cc",
   "metadata": {},
   "outputs": [],
   "source": [
    "final_whole['min_0_10'] = final_whole.apply(lambda x: 1 if (x['minute']<10 and x['minute']>=0) else 0, axis=1)\n",
    "final_whole['min_10_20'] = final_whole.apply(lambda x: 1 if (x['minute']<20 and x['minute']>=10) else 0, axis=1)\n",
    "final_whole['min_20_30'] = final_whole.apply(lambda x: 1 if (x['minute']<30 and x['minute']>=20) else 0, axis=1)\n",
    "final_whole['min_30_40'] = final_whole.apply(lambda x: 1 if (x['minute']<40 and x['minute']>=30) else 0, axis=1)\n",
    "final_whole['min_40_50'] = final_whole.apply(lambda x: 1 if (x['minute']<50 and x['minute']>=40) else 0, axis=1)\n",
    "final_whole['min_50_60'] = final_whole.apply(lambda x: 1 if (x['minute']<=60 and x['minute']>=50) else 0, axis=1)\n",
    "\n",
    "final_whole['hour_9_12'] = final_whole.apply(lambda x: 1 if (x['hour']<12 and x['hour']>=9) else 0, axis=1)\n",
    "final_whole['hour_12_14'] = final_whole.apply(lambda x: 1 if (x['hour']<14 and x['hour']>=12) else 0, axis=1)\n",
    "final_whole['hour_14_18'] = final_whole.apply(lambda x: 1 if (x['hour']<18 and x['hour']>=12) else 0, axis=1)\n",
    "final_whole['hour_18_20'] = final_whole.apply(lambda x: 1 if (x['hour']<20 and x['hour']>=18) else 0, axis=1)\n",
    "final_whole['hour_20_23'] = final_whole.apply(lambda x: 1 if (x['hour']<23 and x['hour']>=20) else 0, axis=1)\n",
    "final_whole['hour_23_2'] = final_whole.apply(lambda x: 1 if (x['hour']<2 or x['hour']>=23) else 0, axis=1)\n",
    "final_whole['hour_2_7'] = final_whole.apply(lambda x: 1 if (x['hour']<7 and x['hour']>=2) else 0, axis=1)\n",
    "final_whole['hour_7_9'] = final_whole.apply(lambda x: 1 if (x['hour']<9 and x['hour']>=7) else 0, axis=1)\n",
    "\n",
    "final_whole['price_0_50'] = final_whole.apply(lambda x: 1 if (x['sellingprice']<50 and x['sellingprice']>=0) else 0, axis=1)\n",
    "final_whole['price_50_100'] = final_whole.apply(lambda x: 1 if (x['sellingprice']<100 and x['sellingprice']>=50) else 0, axis=1)\n",
    "final_whole['price_100_200'] = final_whole.apply(lambda x: 1 if (x['sellingprice']<200 and x['sellingprice']>=100) else 0, axis=1)\n",
    "final_whole['price_200_500'] = final_whole.apply(lambda x: 1 if (x['sellingprice']<500 and x['sellingprice']>=200) else 0, axis=1)\n",
    "final_whole['price_500_1000'] = final_whole.apply(lambda x: 1 if (x['sellingprice']<1000 and x['sellingprice']>=500) else 0, axis=1)\n",
    "final_whole['price_1000_2000'] = final_whole.apply(lambda x: 1 if (x['sellingprice']<2000 and x['sellingprice']>=1000) else 0, axis=1)\n",
    "final_whole['price_2000_5000'] = final_whole.apply(lambda x: 1 if (x['sellingprice']<5000 and x['sellingprice']>=2000) else 0, axis=1)\n",
    "final_whole['price_5000_10000'] = final_whole.apply(lambda x: 1 if (x['sellingprice']<10000 and x['sellingprice']>=5000) else 0, axis=1)\n",
    "final_whole['price_10000_inf'] = final_whole.apply(lambda x: 1 if x['sellingprice']>=10000 else 0, axis=1)"
   ]
  },
  {
   "cell_type": "code",
   "execution_count": 1045,
   "id": "2dfb0502",
   "metadata": {},
   "outputs": [
    {
     "data": {
      "text/html": [
       "<div>\n",
       "<style scoped>\n",
       "    .dataframe tbody tr th:only-of-type {\n",
       "        vertical-align: middle;\n",
       "    }\n",
       "\n",
       "    .dataframe tbody tr th {\n",
       "        vertical-align: top;\n",
       "    }\n",
       "\n",
       "    .dataframe thead th {\n",
       "        text-align: right;\n",
       "    }\n",
       "</style>\n",
       "<table border=\"1\" class=\"dataframe\">\n",
       "  <thead>\n",
       "    <tr style=\"text-align: right;\">\n",
       "      <th></th>\n",
       "      <th>user_action</th>\n",
       "      <th>product_name</th>\n",
       "      <th>brand_name</th>\n",
       "      <th>businessunit</th>\n",
       "      <th>product_gender</th>\n",
       "      <th>category_id</th>\n",
       "      <th>Level1_Category_Id</th>\n",
       "      <th>Level2_Category_Id</th>\n",
       "      <th>weekday</th>\n",
       "      <th>month</th>\n",
       "      <th>...</th>\n",
       "      <th>hour_7_9</th>\n",
       "      <th>price_0_50</th>\n",
       "      <th>price_50_100</th>\n",
       "      <th>price_100_200</th>\n",
       "      <th>price_200_500</th>\n",
       "      <th>price_500_1000</th>\n",
       "      <th>price_1000_2000</th>\n",
       "      <th>price_2000_5000</th>\n",
       "      <th>price_5000_10000</th>\n",
       "      <th>price_10000_inf</th>\n",
       "    </tr>\n",
       "  </thead>\n",
       "  <tbody>\n",
       "    <tr>\n",
       "      <th>0</th>\n",
       "      <td>1</td>\n",
       "      <td>1</td>\n",
       "      <td>7</td>\n",
       "      <td>21</td>\n",
       "      <td>2</td>\n",
       "      <td>17</td>\n",
       "      <td>1</td>\n",
       "      <td>24</td>\n",
       "      <td>2</td>\n",
       "      <td>2</td>\n",
       "      <td>...</td>\n",
       "      <td>0</td>\n",
       "      <td>0</td>\n",
       "      <td>0</td>\n",
       "      <td>0</td>\n",
       "      <td>0</td>\n",
       "      <td>0</td>\n",
       "      <td>0</td>\n",
       "      <td>1</td>\n",
       "      <td>0</td>\n",
       "      <td>0</td>\n",
       "    </tr>\n",
       "    <tr>\n",
       "      <th>1</th>\n",
       "      <td>1</td>\n",
       "      <td>1</td>\n",
       "      <td>7</td>\n",
       "      <td>21</td>\n",
       "      <td>2</td>\n",
       "      <td>17</td>\n",
       "      <td>1</td>\n",
       "      <td>24</td>\n",
       "      <td>1</td>\n",
       "      <td>2</td>\n",
       "      <td>...</td>\n",
       "      <td>0</td>\n",
       "      <td>0</td>\n",
       "      <td>0</td>\n",
       "      <td>0</td>\n",
       "      <td>0</td>\n",
       "      <td>0</td>\n",
       "      <td>0</td>\n",
       "      <td>1</td>\n",
       "      <td>0</td>\n",
       "      <td>0</td>\n",
       "    </tr>\n",
       "    <tr>\n",
       "      <th>2</th>\n",
       "      <td>1</td>\n",
       "      <td>1</td>\n",
       "      <td>7</td>\n",
       "      <td>21</td>\n",
       "      <td>2</td>\n",
       "      <td>17</td>\n",
       "      <td>1</td>\n",
       "      <td>24</td>\n",
       "      <td>5</td>\n",
       "      <td>2</td>\n",
       "      <td>...</td>\n",
       "      <td>1</td>\n",
       "      <td>0</td>\n",
       "      <td>0</td>\n",
       "      <td>0</td>\n",
       "      <td>0</td>\n",
       "      <td>0</td>\n",
       "      <td>0</td>\n",
       "      <td>1</td>\n",
       "      <td>0</td>\n",
       "      <td>0</td>\n",
       "    </tr>\n",
       "    <tr>\n",
       "      <th>3</th>\n",
       "      <td>4</td>\n",
       "      <td>1</td>\n",
       "      <td>7</td>\n",
       "      <td>21</td>\n",
       "      <td>2</td>\n",
       "      <td>17</td>\n",
       "      <td>1</td>\n",
       "      <td>24</td>\n",
       "      <td>5</td>\n",
       "      <td>2</td>\n",
       "      <td>...</td>\n",
       "      <td>1</td>\n",
       "      <td>0</td>\n",
       "      <td>0</td>\n",
       "      <td>0</td>\n",
       "      <td>0</td>\n",
       "      <td>0</td>\n",
       "      <td>0</td>\n",
       "      <td>1</td>\n",
       "      <td>0</td>\n",
       "      <td>0</td>\n",
       "    </tr>\n",
       "    <tr>\n",
       "      <th>4</th>\n",
       "      <td>4</td>\n",
       "      <td>1</td>\n",
       "      <td>7</td>\n",
       "      <td>21</td>\n",
       "      <td>2</td>\n",
       "      <td>17</td>\n",
       "      <td>1</td>\n",
       "      <td>24</td>\n",
       "      <td>2</td>\n",
       "      <td>2</td>\n",
       "      <td>...</td>\n",
       "      <td>0</td>\n",
       "      <td>0</td>\n",
       "      <td>0</td>\n",
       "      <td>0</td>\n",
       "      <td>0</td>\n",
       "      <td>0</td>\n",
       "      <td>0</td>\n",
       "      <td>1</td>\n",
       "      <td>0</td>\n",
       "      <td>0</td>\n",
       "    </tr>\n",
       "    <tr>\n",
       "      <th>5</th>\n",
       "      <td>4</td>\n",
       "      <td>0</td>\n",
       "      <td>7</td>\n",
       "      <td>0</td>\n",
       "      <td>1</td>\n",
       "      <td>17</td>\n",
       "      <td>7</td>\n",
       "      <td>24</td>\n",
       "      <td>1</td>\n",
       "      <td>1</td>\n",
       "      <td>...</td>\n",
       "      <td>0</td>\n",
       "      <td>0</td>\n",
       "      <td>0</td>\n",
       "      <td>0</td>\n",
       "      <td>1</td>\n",
       "      <td>0</td>\n",
       "      <td>0</td>\n",
       "      <td>0</td>\n",
       "      <td>0</td>\n",
       "      <td>0</td>\n",
       "    </tr>\n",
       "    <tr>\n",
       "      <th>6</th>\n",
       "      <td>4</td>\n",
       "      <td>0</td>\n",
       "      <td>7</td>\n",
       "      <td>21</td>\n",
       "      <td>1</td>\n",
       "      <td>17</td>\n",
       "      <td>6</td>\n",
       "      <td>24</td>\n",
       "      <td>5</td>\n",
       "      <td>2</td>\n",
       "      <td>...</td>\n",
       "      <td>1</td>\n",
       "      <td>1</td>\n",
       "      <td>0</td>\n",
       "      <td>0</td>\n",
       "      <td>0</td>\n",
       "      <td>0</td>\n",
       "      <td>0</td>\n",
       "      <td>0</td>\n",
       "      <td>0</td>\n",
       "      <td>0</td>\n",
       "    </tr>\n",
       "    <tr>\n",
       "      <th>7</th>\n",
       "      <td>1</td>\n",
       "      <td>1</td>\n",
       "      <td>7</td>\n",
       "      <td>21</td>\n",
       "      <td>2</td>\n",
       "      <td>17</td>\n",
       "      <td>1</td>\n",
       "      <td>24</td>\n",
       "      <td>5</td>\n",
       "      <td>2</td>\n",
       "      <td>...</td>\n",
       "      <td>1</td>\n",
       "      <td>0</td>\n",
       "      <td>0</td>\n",
       "      <td>0</td>\n",
       "      <td>0</td>\n",
       "      <td>0</td>\n",
       "      <td>0</td>\n",
       "      <td>1</td>\n",
       "      <td>0</td>\n",
       "      <td>0</td>\n",
       "    </tr>\n",
       "    <tr>\n",
       "      <th>8</th>\n",
       "      <td>4</td>\n",
       "      <td>0</td>\n",
       "      <td>7</td>\n",
       "      <td>21</td>\n",
       "      <td>2</td>\n",
       "      <td>17</td>\n",
       "      <td>1</td>\n",
       "      <td>24</td>\n",
       "      <td>5</td>\n",
       "      <td>2</td>\n",
       "      <td>...</td>\n",
       "      <td>1</td>\n",
       "      <td>0</td>\n",
       "      <td>0</td>\n",
       "      <td>0</td>\n",
       "      <td>0</td>\n",
       "      <td>0</td>\n",
       "      <td>0</td>\n",
       "      <td>1</td>\n",
       "      <td>0</td>\n",
       "      <td>0</td>\n",
       "    </tr>\n",
       "    <tr>\n",
       "      <th>9</th>\n",
       "      <td>4</td>\n",
       "      <td>0</td>\n",
       "      <td>7</td>\n",
       "      <td>21</td>\n",
       "      <td>2</td>\n",
       "      <td>17</td>\n",
       "      <td>1</td>\n",
       "      <td>24</td>\n",
       "      <td>5</td>\n",
       "      <td>2</td>\n",
       "      <td>...</td>\n",
       "      <td>1</td>\n",
       "      <td>0</td>\n",
       "      <td>0</td>\n",
       "      <td>0</td>\n",
       "      <td>0</td>\n",
       "      <td>0</td>\n",
       "      <td>0</td>\n",
       "      <td>1</td>\n",
       "      <td>0</td>\n",
       "      <td>0</td>\n",
       "    </tr>\n",
       "  </tbody>\n",
       "</table>\n",
       "<p>10 rows × 40 columns</p>\n",
       "</div>"
      ],
      "text/plain": [
       "  user_action product_name brand_name businessunit product_gender category_id  \\\n",
       "0           1            1          7           21              2          17   \n",
       "1           1            1          7           21              2          17   \n",
       "2           1            1          7           21              2          17   \n",
       "3           4            1          7           21              2          17   \n",
       "4           4            1          7           21              2          17   \n",
       "5           4            0          7            0              1          17   \n",
       "6           4            0          7           21              1          17   \n",
       "7           1            1          7           21              2          17   \n",
       "8           4            0          7           21              2          17   \n",
       "9           4            0          7           21              2          17   \n",
       "\n",
       "  Level1_Category_Id Level2_Category_Id weekday month  ...  hour_7_9  \\\n",
       "0                  1                 24       2     2  ...         0   \n",
       "1                  1                 24       1     2  ...         0   \n",
       "2                  1                 24       5     2  ...         1   \n",
       "3                  1                 24       5     2  ...         1   \n",
       "4                  1                 24       2     2  ...         0   \n",
       "5                  7                 24       1     1  ...         0   \n",
       "6                  6                 24       5     2  ...         1   \n",
       "7                  1                 24       5     2  ...         1   \n",
       "8                  1                 24       5     2  ...         1   \n",
       "9                  1                 24       5     2  ...         1   \n",
       "\n",
       "   price_0_50 price_50_100  price_100_200 price_200_500 price_500_1000  \\\n",
       "0           0            0              0             0              0   \n",
       "1           0            0              0             0              0   \n",
       "2           0            0              0             0              0   \n",
       "3           0            0              0             0              0   \n",
       "4           0            0              0             0              0   \n",
       "5           0            0              0             1              0   \n",
       "6           1            0              0             0              0   \n",
       "7           0            0              0             0              0   \n",
       "8           0            0              0             0              0   \n",
       "9           0            0              0             0              0   \n",
       "\n",
       "   price_1000_2000 price_2000_5000  price_5000_10000  price_10000_inf  \n",
       "0                0               1                 0                0  \n",
       "1                0               1                 0                0  \n",
       "2                0               1                 0                0  \n",
       "3                0               1                 0                0  \n",
       "4                0               1                 0                0  \n",
       "5                0               0                 0                0  \n",
       "6                0               0                 0                0  \n",
       "7                0               1                 0                0  \n",
       "8                0               1                 0                0  \n",
       "9                0               1                 0                0  \n",
       "\n",
       "[10 rows x 40 columns]"
      ]
     },
     "execution_count": 1045,
     "metadata": {},
     "output_type": "execute_result"
    }
   ],
   "source": [
    "final_whole.head(10)"
   ]
  },
  {
   "cell_type": "code",
   "execution_count": null,
   "id": "4dfbb01b",
   "metadata": {},
   "outputs": [],
   "source": [
    "final_whole_copy = final_whole.copy()"
   ]
  },
  {
   "cell_type": "code",
   "execution_count": 1058,
   "id": "77a8fc50",
   "metadata": {},
   "outputs": [],
   "source": [
    "final_whole = final_whole_copy.copy()"
   ]
  },
  {
   "cell_type": "code",
   "execution_count": 1059,
   "id": "46e73dbc",
   "metadata": {},
   "outputs": [],
   "source": [
    "final_whole.drop(['hour', 'minute', 'month'], inplace=True, axis=1)"
   ]
  },
  {
   "cell_type": "code",
   "execution_count": 1060,
   "id": "15256a3e",
   "metadata": {},
   "outputs": [
    {
     "data": {
      "text/plain": [
       "Index(['user_action', 'product_name', 'brand_name', 'businessunit',\n",
       "       'product_gender', 'category_id', 'Level1_Category_Id',\n",
       "       'Level2_Category_Id', 'weekday', 'FLAG_weekend', 'sellingprice',\n",
       "       'FLAG_NA_product_gender', 'FLAG_NA_sellingprice', 'unique_id', 'type',\n",
       "       'min_0_10', 'min_10_20', 'min_20_30', 'min_30_40', 'min_40_50',\n",
       "       'min_50_60', 'hour_9_12', 'hour_12_14', 'hour_18_20', 'hour_20_23',\n",
       "       'hour_23_2', 'hour_2_7', 'hour_7_9', 'price_0_50', 'price_50_100',\n",
       "       'price_100_200', 'price_200_500', 'price_500_1000', 'price_1000_2000',\n",
       "       'price_2000_5000', 'price_5000_10000', 'price_10000_inf'],\n",
       "      dtype='object')"
      ]
     },
     "execution_count": 1060,
     "metadata": {},
     "output_type": "execute_result"
    }
   ],
   "source": [
    "final_whole.columns"
   ]
  },
  {
   "cell_type": "code",
   "execution_count": 1061,
   "id": "3092e407",
   "metadata": {},
   "outputs": [],
   "source": [
    "final_w_dummies = pd.get_dummies(final_whole, columns=['user_action', 'product_name', 'brand_name', 'businessunit', 'product_gender', 'category_id', 'Level1_Category_Id',\n",
    "                                                      'Level2_Category_Id', 'weekday'], drop_first=True)"
   ]
  },
  {
   "cell_type": "code",
   "execution_count": 1068,
   "id": "af4f0523",
   "metadata": {},
   "outputs": [
    {
     "data": {
      "text/html": [
       "<div>\n",
       "<style scoped>\n",
       "    .dataframe tbody tr th:only-of-type {\n",
       "        vertical-align: middle;\n",
       "    }\n",
       "\n",
       "    .dataframe tbody tr th {\n",
       "        vertical-align: top;\n",
       "    }\n",
       "\n",
       "    .dataframe thead th {\n",
       "        text-align: right;\n",
       "    }\n",
       "</style>\n",
       "<table border=\"1\" class=\"dataframe\">\n",
       "  <thead>\n",
       "    <tr style=\"text-align: right;\">\n",
       "      <th></th>\n",
       "      <th>FLAG_weekend</th>\n",
       "      <th>sellingprice</th>\n",
       "      <th>FLAG_NA_product_gender</th>\n",
       "      <th>FLAG_NA_sellingprice</th>\n",
       "      <th>unique_id</th>\n",
       "      <th>type</th>\n",
       "      <th>min_0_10</th>\n",
       "      <th>min_10_20</th>\n",
       "      <th>min_20_30</th>\n",
       "      <th>min_30_40</th>\n",
       "      <th>...</th>\n",
       "      <th>Level2_Category_Id_21</th>\n",
       "      <th>Level2_Category_Id_22</th>\n",
       "      <th>Level2_Category_Id_23</th>\n",
       "      <th>Level2_Category_Id_24</th>\n",
       "      <th>weekday_1</th>\n",
       "      <th>weekday_2</th>\n",
       "      <th>weekday_3</th>\n",
       "      <th>weekday_4</th>\n",
       "      <th>weekday_5</th>\n",
       "      <th>weekday_6</th>\n",
       "    </tr>\n",
       "  </thead>\n",
       "  <tbody>\n",
       "    <tr>\n",
       "      <th>0</th>\n",
       "      <td>0</td>\n",
       "      <td>3099.0000</td>\n",
       "      <td>0</td>\n",
       "      <td>0</td>\n",
       "      <td>425</td>\n",
       "      <td>train</td>\n",
       "      <td>0</td>\n",
       "      <td>0</td>\n",
       "      <td>1</td>\n",
       "      <td>0</td>\n",
       "      <td>...</td>\n",
       "      <td>0</td>\n",
       "      <td>0</td>\n",
       "      <td>0</td>\n",
       "      <td>1</td>\n",
       "      <td>0</td>\n",
       "      <td>1</td>\n",
       "      <td>0</td>\n",
       "      <td>0</td>\n",
       "      <td>0</td>\n",
       "      <td>0</td>\n",
       "    </tr>\n",
       "    <tr>\n",
       "      <th>1</th>\n",
       "      <td>0</td>\n",
       "      <td>3079.0000</td>\n",
       "      <td>1</td>\n",
       "      <td>0</td>\n",
       "      <td>425</td>\n",
       "      <td>train</td>\n",
       "      <td>0</td>\n",
       "      <td>1</td>\n",
       "      <td>0</td>\n",
       "      <td>0</td>\n",
       "      <td>...</td>\n",
       "      <td>0</td>\n",
       "      <td>0</td>\n",
       "      <td>0</td>\n",
       "      <td>1</td>\n",
       "      <td>1</td>\n",
       "      <td>0</td>\n",
       "      <td>0</td>\n",
       "      <td>0</td>\n",
       "      <td>0</td>\n",
       "      <td>0</td>\n",
       "    </tr>\n",
       "    <tr>\n",
       "      <th>2</th>\n",
       "      <td>1</td>\n",
       "      <td>3999.0000</td>\n",
       "      <td>0</td>\n",
       "      <td>0</td>\n",
       "      <td>425</td>\n",
       "      <td>train</td>\n",
       "      <td>0</td>\n",
       "      <td>1</td>\n",
       "      <td>0</td>\n",
       "      <td>0</td>\n",
       "      <td>...</td>\n",
       "      <td>0</td>\n",
       "      <td>0</td>\n",
       "      <td>0</td>\n",
       "      <td>1</td>\n",
       "      <td>0</td>\n",
       "      <td>0</td>\n",
       "      <td>0</td>\n",
       "      <td>0</td>\n",
       "      <td>1</td>\n",
       "      <td>0</td>\n",
       "    </tr>\n",
       "    <tr>\n",
       "      <th>3</th>\n",
       "      <td>1</td>\n",
       "      <td>2544.0000</td>\n",
       "      <td>1</td>\n",
       "      <td>0</td>\n",
       "      <td>425</td>\n",
       "      <td>train</td>\n",
       "      <td>0</td>\n",
       "      <td>0</td>\n",
       "      <td>1</td>\n",
       "      <td>0</td>\n",
       "      <td>...</td>\n",
       "      <td>0</td>\n",
       "      <td>0</td>\n",
       "      <td>0</td>\n",
       "      <td>1</td>\n",
       "      <td>0</td>\n",
       "      <td>0</td>\n",
       "      <td>0</td>\n",
       "      <td>0</td>\n",
       "      <td>1</td>\n",
       "      <td>0</td>\n",
       "    </tr>\n",
       "    <tr>\n",
       "      <th>4</th>\n",
       "      <td>0</td>\n",
       "      <td>3099.0000</td>\n",
       "      <td>0</td>\n",
       "      <td>0</td>\n",
       "      <td>425</td>\n",
       "      <td>train</td>\n",
       "      <td>0</td>\n",
       "      <td>0</td>\n",
       "      <td>1</td>\n",
       "      <td>0</td>\n",
       "      <td>...</td>\n",
       "      <td>0</td>\n",
       "      <td>0</td>\n",
       "      <td>0</td>\n",
       "      <td>1</td>\n",
       "      <td>0</td>\n",
       "      <td>1</td>\n",
       "      <td>0</td>\n",
       "      <td>0</td>\n",
       "      <td>0</td>\n",
       "      <td>0</td>\n",
       "    </tr>\n",
       "    <tr>\n",
       "      <th>...</th>\n",
       "      <td>...</td>\n",
       "      <td>...</td>\n",
       "      <td>...</td>\n",
       "      <td>...</td>\n",
       "      <td>...</td>\n",
       "      <td>...</td>\n",
       "      <td>...</td>\n",
       "      <td>...</td>\n",
       "      <td>...</td>\n",
       "      <td>...</td>\n",
       "      <td>...</td>\n",
       "      <td>...</td>\n",
       "      <td>...</td>\n",
       "      <td>...</td>\n",
       "      <td>...</td>\n",
       "      <td>...</td>\n",
       "      <td>...</td>\n",
       "      <td>...</td>\n",
       "      <td>...</td>\n",
       "      <td>...</td>\n",
       "      <td>...</td>\n",
       "    </tr>\n",
       "    <tr>\n",
       "      <th>2324809</th>\n",
       "      <td>0</td>\n",
       "      <td>65.8313</td>\n",
       "      <td>1</td>\n",
       "      <td>0</td>\n",
       "      <td>7509</td>\n",
       "      <td>test</td>\n",
       "      <td>0</td>\n",
       "      <td>0</td>\n",
       "      <td>0</td>\n",
       "      <td>0</td>\n",
       "      <td>...</td>\n",
       "      <td>0</td>\n",
       "      <td>0</td>\n",
       "      <td>0</td>\n",
       "      <td>0</td>\n",
       "      <td>1</td>\n",
       "      <td>0</td>\n",
       "      <td>0</td>\n",
       "      <td>0</td>\n",
       "      <td>0</td>\n",
       "      <td>0</td>\n",
       "    </tr>\n",
       "    <tr>\n",
       "      <th>2324810</th>\n",
       "      <td>0</td>\n",
       "      <td>52.0386</td>\n",
       "      <td>1</td>\n",
       "      <td>0</td>\n",
       "      <td>7509</td>\n",
       "      <td>test</td>\n",
       "      <td>0</td>\n",
       "      <td>0</td>\n",
       "      <td>0</td>\n",
       "      <td>0</td>\n",
       "      <td>...</td>\n",
       "      <td>0</td>\n",
       "      <td>0</td>\n",
       "      <td>0</td>\n",
       "      <td>0</td>\n",
       "      <td>1</td>\n",
       "      <td>0</td>\n",
       "      <td>0</td>\n",
       "      <td>0</td>\n",
       "      <td>0</td>\n",
       "      <td>0</td>\n",
       "    </tr>\n",
       "    <tr>\n",
       "      <th>2324811</th>\n",
       "      <td>0</td>\n",
       "      <td>65.8313</td>\n",
       "      <td>1</td>\n",
       "      <td>0</td>\n",
       "      <td>7509</td>\n",
       "      <td>test</td>\n",
       "      <td>0</td>\n",
       "      <td>0</td>\n",
       "      <td>0</td>\n",
       "      <td>0</td>\n",
       "      <td>...</td>\n",
       "      <td>0</td>\n",
       "      <td>0</td>\n",
       "      <td>0</td>\n",
       "      <td>0</td>\n",
       "      <td>1</td>\n",
       "      <td>0</td>\n",
       "      <td>0</td>\n",
       "      <td>0</td>\n",
       "      <td>0</td>\n",
       "      <td>0</td>\n",
       "    </tr>\n",
       "    <tr>\n",
       "      <th>2324812</th>\n",
       "      <td>0</td>\n",
       "      <td>52.0386</td>\n",
       "      <td>1</td>\n",
       "      <td>0</td>\n",
       "      <td>7509</td>\n",
       "      <td>test</td>\n",
       "      <td>0</td>\n",
       "      <td>0</td>\n",
       "      <td>0</td>\n",
       "      <td>0</td>\n",
       "      <td>...</td>\n",
       "      <td>0</td>\n",
       "      <td>0</td>\n",
       "      <td>0</td>\n",
       "      <td>0</td>\n",
       "      <td>1</td>\n",
       "      <td>0</td>\n",
       "      <td>0</td>\n",
       "      <td>0</td>\n",
       "      <td>0</td>\n",
       "      <td>0</td>\n",
       "    </tr>\n",
       "    <tr>\n",
       "      <th>2324813</th>\n",
       "      <td>0</td>\n",
       "      <td>65.8313</td>\n",
       "      <td>1</td>\n",
       "      <td>0</td>\n",
       "      <td>7509</td>\n",
       "      <td>test</td>\n",
       "      <td>0</td>\n",
       "      <td>0</td>\n",
       "      <td>0</td>\n",
       "      <td>0</td>\n",
       "      <td>...</td>\n",
       "      <td>0</td>\n",
       "      <td>0</td>\n",
       "      <td>0</td>\n",
       "      <td>0</td>\n",
       "      <td>1</td>\n",
       "      <td>0</td>\n",
       "      <td>0</td>\n",
       "      <td>0</td>\n",
       "      <td>0</td>\n",
       "      <td>0</td>\n",
       "    </tr>\n",
       "  </tbody>\n",
       "</table>\n",
       "<p>2955037 rows × 128 columns</p>\n",
       "</div>"
      ],
      "text/plain": [
       "        FLAG_weekend  sellingprice FLAG_NA_product_gender  \\\n",
       "0                  0     3099.0000                      0   \n",
       "1                  0     3079.0000                      1   \n",
       "2                  1     3999.0000                      0   \n",
       "3                  1     2544.0000                      1   \n",
       "4                  0     3099.0000                      0   \n",
       "...              ...           ...                    ...   \n",
       "2324809            0       65.8313                      1   \n",
       "2324810            0       52.0386                      1   \n",
       "2324811            0       65.8313                      1   \n",
       "2324812            0       52.0386                      1   \n",
       "2324813            0       65.8313                      1   \n",
       "\n",
       "        FLAG_NA_sellingprice  unique_id   type  min_0_10  min_10_20  \\\n",
       "0                          0        425  train         0          0   \n",
       "1                          0        425  train         0          1   \n",
       "2                          0        425  train         0          1   \n",
       "3                          0        425  train         0          0   \n",
       "4                          0        425  train         0          0   \n",
       "...                      ...        ...    ...       ...        ...   \n",
       "2324809                    0       7509   test         0          0   \n",
       "2324810                    0       7509   test         0          0   \n",
       "2324811                    0       7509   test         0          0   \n",
       "2324812                    0       7509   test         0          0   \n",
       "2324813                    0       7509   test         0          0   \n",
       "\n",
       "         min_20_30  min_30_40  ...  Level2_Category_Id_21  \\\n",
       "0                1          0  ...                      0   \n",
       "1                0          0  ...                      0   \n",
       "2                0          0  ...                      0   \n",
       "3                1          0  ...                      0   \n",
       "4                1          0  ...                      0   \n",
       "...            ...        ...  ...                    ...   \n",
       "2324809          0          0  ...                      0   \n",
       "2324810          0          0  ...                      0   \n",
       "2324811          0          0  ...                      0   \n",
       "2324812          0          0  ...                      0   \n",
       "2324813          0          0  ...                      0   \n",
       "\n",
       "         Level2_Category_Id_22  Level2_Category_Id_23  Level2_Category_Id_24  \\\n",
       "0                            0                      0                      1   \n",
       "1                            0                      0                      1   \n",
       "2                            0                      0                      1   \n",
       "3                            0                      0                      1   \n",
       "4                            0                      0                      1   \n",
       "...                        ...                    ...                    ...   \n",
       "2324809                      0                      0                      0   \n",
       "2324810                      0                      0                      0   \n",
       "2324811                      0                      0                      0   \n",
       "2324812                      0                      0                      0   \n",
       "2324813                      0                      0                      0   \n",
       "\n",
       "         weekday_1  weekday_2  weekday_3  weekday_4  weekday_5  weekday_6  \n",
       "0                0          1          0          0          0          0  \n",
       "1                1          0          0          0          0          0  \n",
       "2                0          0          0          0          1          0  \n",
       "3                0          0          0          0          1          0  \n",
       "4                0          1          0          0          0          0  \n",
       "...            ...        ...        ...        ...        ...        ...  \n",
       "2324809          1          0          0          0          0          0  \n",
       "2324810          1          0          0          0          0          0  \n",
       "2324811          1          0          0          0          0          0  \n",
       "2324812          1          0          0          0          0          0  \n",
       "2324813          1          0          0          0          0          0  \n",
       "\n",
       "[2955037 rows x 128 columns]"
      ]
     },
     "execution_count": 1068,
     "metadata": {},
     "output_type": "execute_result"
    }
   ],
   "source": [
    "final_w_dummies"
   ]
  },
  {
   "cell_type": "code",
   "execution_count": 1070,
   "id": "686cb41c",
   "metadata": {},
   "outputs": [],
   "source": [
    "onehot_train = final_w_dummies[final_w_dummies['type']=='train'].copy()\n",
    "onehot_test = final_w_dummies[final_w_dummies['type']=='test'].copy()"
   ]
  },
  {
   "cell_type": "code",
   "execution_count": 1071,
   "id": "ca82fe6f",
   "metadata": {},
   "outputs": [],
   "source": [
    "onehot_train.drop('type', axis=1, inplace=True)\n",
    "onehot_test.drop('type', axis=1, inplace=True)"
   ]
  },
  {
   "cell_type": "code",
   "execution_count": 1078,
   "id": "1503cf58",
   "metadata": {},
   "outputs": [],
   "source": [
    "numeric_columns = [col for col in onehot_train.columns if col !='unique_id']"
   ]
  },
  {
   "cell_type": "code",
   "execution_count": 1082,
   "id": "14b2babe",
   "metadata": {},
   "outputs": [],
   "source": [
    "onehot_train[numeric_columns] = onehot_train[numeric_columns].astype('float')"
   ]
  },
  {
   "cell_type": "code",
   "execution_count": 1086,
   "id": "a23a697d",
   "metadata": {},
   "outputs": [],
   "source": [
    "onehot_test[numeric_columns] = onehot_test[numeric_columns].astype('float')"
   ]
  },
  {
   "cell_type": "code",
   "execution_count": 1155,
   "id": "50d294bc",
   "metadata": {},
   "outputs": [],
   "source": [
    "grouped_onehot_train = onehot_train.groupby('unique_id').apply(np.max)\n",
    "grouped_onehot_test = onehot_test.groupby('unique_id').apply(np.max)"
   ]
  },
  {
   "cell_type": "code",
   "execution_count": 1156,
   "id": "a43bd3f2",
   "metadata": {},
   "outputs": [],
   "source": [
    "grouped_onehot_train['unique_id'] = grouped_onehot_train['unique_id'].astype('int64').astype('O')\n",
    "grouped_onehot_test['unique_id'] = grouped_onehot_test['unique_id'].astype('int64').astype('O')"
   ]
  },
  {
   "cell_type": "code",
   "execution_count": 1157,
   "id": "3a9fa68e",
   "metadata": {},
   "outputs": [],
   "source": [
    "onehot_train_ids = grouped_onehot_train['unique_id']\n",
    "onehot_test_ids = grouped_onehot_test['unique_id']"
   ]
  },
  {
   "cell_type": "code",
   "execution_count": 1158,
   "id": "32522dfb",
   "metadata": {},
   "outputs": [],
   "source": [
    "grouped_onehot_final_train = grouped_onehot_train.drop('unique_id', axis=1)\n",
    "grouped_onehot_final_test = grouped_onehot_test.drop('unique_id', axis=1)"
   ]
  },
  {
   "cell_type": "code",
   "execution_count": 1187,
   "id": "80e0ebb2",
   "metadata": {},
   "outputs": [],
   "source": [
    "y_train = train_genders.astype('int64').astype('O')\n",
    "X_train = grouped_onehot_final_train"
   ]
  },
  {
   "cell_type": "code",
   "execution_count": null,
   "id": "8b1106ab",
   "metadata": {},
   "outputs": [],
   "source": [
    "# Onehot Encoded"
   ]
  },
  {
   "cell_type": "code",
   "execution_count": 1160,
   "id": "22606cc7",
   "metadata": {},
   "outputs": [],
   "source": [
    "data_types = {'gender': 'categorical'}"
   ]
  },
  {
   "cell_type": "code",
   "execution_count": 1161,
   "id": "4667022b",
   "metadata": {},
   "outputs": [],
   "source": [
    "y_train = train_genders.astype('int64').astype('O')\n",
    "X_train = grouped_onehot_final_train"
   ]
  },
  {
   "cell_type": "code",
   "execution_count": 1162,
   "id": "adc0ecbe",
   "metadata": {},
   "outputs": [
    {
     "name": "stdout",
     "output_type": "stream",
     "text": [
      "Parse progress: |████████████████████████████████████████████████████████████████| (done) 100%\n",
      "Parse progress: |████████████████████████████████████████████████████████████████| (done) 100%\n"
     ]
    }
   ],
   "source": [
    "train = pd.concat([X_train, y_train], axis=1)\n",
    "test = grouped_onehot_final_test\n",
    "train = hf = h2o.H2OFrame(train, column_types = data_types)\n",
    "test = hf = h2o.H2OFrame(test)"
   ]
  },
  {
   "cell_type": "code",
   "execution_count": null,
   "id": "38138fff",
   "metadata": {},
   "outputs": [],
   "source": [
    "######## SKIP ABOVE SECTION."
   ]
  },
  {
   "cell_type": "code",
   "execution_count": null,
   "id": "9c85b46b",
   "metadata": {},
   "outputs": [],
   "source": []
  },
  {
   "cell_type": "code",
   "execution_count": null,
   "id": "b0912063",
   "metadata": {},
   "outputs": [],
   "source": []
  },
  {
   "cell_type": "markdown",
   "id": "0564adcf",
   "metadata": {},
   "source": [
    "# AutoML Section"
   ]
  },
  {
   "cell_type": "code",
   "execution_count": 848,
   "id": "d346ca00",
   "metadata": {},
   "outputs": [
    {
     "name": "stdout",
     "output_type": "stream",
     "text": [
      "Checking whether there is an H2O instance running at http://localhost:54321 . connected.\n"
     ]
    },
    {
     "data": {
      "text/html": [
       "<div style=\"overflow:auto\"><table style=\"width:50%\"><tr><td>H2O_cluster_uptime:</td>\n",
       "<td>1 day 4 hours 38 mins</td></tr>\n",
       "<tr><td>H2O_cluster_timezone:</td>\n",
       "<td>Europe/Istanbul</td></tr>\n",
       "<tr><td>H2O_data_parsing_timezone:</td>\n",
       "<td>UTC</td></tr>\n",
       "<tr><td>H2O_cluster_version:</td>\n",
       "<td>3.34.0.7</td></tr>\n",
       "<tr><td>H2O_cluster_version_age:</td>\n",
       "<td>1 month </td></tr>\n",
       "<tr><td>H2O_cluster_name:</td>\n",
       "<td>H2O_from_python_meozer_m2azic</td></tr>\n",
       "<tr><td>H2O_cluster_total_nodes:</td>\n",
       "<td>1</td></tr>\n",
       "<tr><td>H2O_cluster_free_memory:</td>\n",
       "<td>13.59 Gb</td></tr>\n",
       "<tr><td>H2O_cluster_total_cores:</td>\n",
       "<td>88</td></tr>\n",
       "<tr><td>H2O_cluster_allowed_cores:</td>\n",
       "<td>88</td></tr>\n",
       "<tr><td>H2O_cluster_status:</td>\n",
       "<td>locked, healthy</td></tr>\n",
       "<tr><td>H2O_connection_url:</td>\n",
       "<td>http://localhost:54321</td></tr>\n",
       "<tr><td>H2O_connection_proxy:</td>\n",
       "<td>{\"http\": null, \"https\": null}</td></tr>\n",
       "<tr><td>H2O_internal_security:</td>\n",
       "<td>False</td></tr>\n",
       "<tr><td>H2O_API_Extensions:</td>\n",
       "<td>Amazon S3, XGBoost, Algos, AutoML, Core V3, TargetEncoder, Core V4</td></tr>\n",
       "<tr><td>Python_version:</td>\n",
       "<td>3.7.7 final</td></tr></table></div>"
      ],
      "text/plain": [
       "--------------------------  ------------------------------------------------------------------\n",
       "H2O_cluster_uptime:         1 day 4 hours 38 mins\n",
       "H2O_cluster_timezone:       Europe/Istanbul\n",
       "H2O_data_parsing_timezone:  UTC\n",
       "H2O_cluster_version:        3.34.0.7\n",
       "H2O_cluster_version_age:    1 month\n",
       "H2O_cluster_name:           H2O_from_python_meozer_m2azic\n",
       "H2O_cluster_total_nodes:    1\n",
       "H2O_cluster_free_memory:    13.59 Gb\n",
       "H2O_cluster_total_cores:    88\n",
       "H2O_cluster_allowed_cores:  88\n",
       "H2O_cluster_status:         locked, healthy\n",
       "H2O_connection_url:         http://localhost:54321\n",
       "H2O_connection_proxy:       {\"http\": null, \"https\": null}\n",
       "H2O_internal_security:      False\n",
       "H2O_API_Extensions:         Amazon S3, XGBoost, Algos, AutoML, Core V3, TargetEncoder, Core V4\n",
       "Python_version:             3.7.7 final\n",
       "--------------------------  ------------------------------------------------------------------"
      ]
     },
     "metadata": {},
     "output_type": "display_data"
    }
   ],
   "source": [
    "h2o.init()"
   ]
  },
  {
   "cell_type": "code",
   "execution_count": 323,
   "id": "944132b7",
   "metadata": {},
   "outputs": [],
   "source": [
    "# OVERSAMPLING WITH SMOTE\n",
    "\n",
    "smote_nc = SMOTENC(categorical_features =[0, 1, 2, 3, 4, 5, 6, 7, 8, 9, 10, 12, 14, 15] , random_state=1)\n",
    "final_train_X_smote, final_train_y_smote = smote_nc.fit_resample(final_train_X, final_train_y)"
   ]
  },
  {
   "cell_type": "code",
   "execution_count": 857,
   "id": "cb65941c",
   "metadata": {},
   "outputs": [],
   "source": [
    "# UNDERSAMPLING\n",
    "\n",
    "sampler = RandomUnderSampler(replacement=True)\n",
    "X_under, y_under = sampler.fit_resample(final_train_X, final_train_y)"
   ]
  },
  {
   "cell_type": "code",
   "execution_count": 336,
   "id": "8db0aad1",
   "metadata": {},
   "outputs": [],
   "source": [
    "# Create Validation Set from SMOTE\n",
    "X_train, X_val, y_train, y_val = train_test_split(final_train_X_smote, final_train_y_smote, test_size=0.2, stratify= final_train_y_smote)"
   ]
  },
  {
   "cell_type": "code",
   "execution_count": 858,
   "id": "3d6854cc",
   "metadata": {},
   "outputs": [],
   "source": [
    "# Create Validation Set from Undersample\n",
    "X_train, X_val, y_train, y_val = train_test_split(X_under, y_under, test_size=0.2, stratify= y_under)"
   ]
  },
  {
   "cell_type": "code",
   "execution_count": 677,
   "id": "5e239d00",
   "metadata": {},
   "outputs": [],
   "source": [
    "# Create Validation from imbalanced data\n",
    "X_train, X_val, y_train, y_val = train_test_split(final_train_X, final_train_y, test_size=0.2, stratify= final_train_y)"
   ]
  },
  {
   "cell_type": "code",
   "execution_count": 859,
   "id": "523be1dd",
   "metadata": {},
   "outputs": [],
   "source": [
    "# With product gender\n",
    "data_types = {'user_action': 'categorical', 'product_name': 'categorical', 'brand_name': 'categorical',\n",
    "             'businessunit': 'categorical', 'product_gender': 'categorical', 'category_id': 'categorical',\n",
    "             'Level1_Category_Id': 'categorical', 'Level2_Category_Id': 'categorical', 'weekday': 'categorical',\n",
    "             'month': 'categorical', 'hour': 'categorical', 'minute': 'numeric', 'FLAG_weekend': 'categorical',\n",
    "             'sellingprice': 'numeric', 'FLAG_NA_product_gender': 'categorical', 'FLAG_NA_sellingprice': 'categorical'}"
   ]
  },
  {
   "cell_type": "code",
   "execution_count": 907,
   "id": "553f0e76",
   "metadata": {},
   "outputs": [
    {
     "name": "stdout",
     "output_type": "stream",
     "text": [
      "Parse progress: |████████████████████████████████████████████████████████████████| (done) 100%\n",
      "Parse progress: |████████████████████████████████████████████████████████████████| (done) 100%\n",
      "Parse progress: |████████████████████████████████████████████████████████████████| (done) 100%\n"
     ]
    }
   ],
   "source": [
    "train = pd.concat([X_train, y_train], axis=1)\n",
    "val = pd.concat([X_val, y_val], axis=1)\n",
    "test = final_test_X\n",
    "train = hf = h2o.H2OFrame(train, column_types = data_types)\n",
    "val = hf = h2o.H2OFrame(val, column_types = data_types)\n",
    "test = hf = h2o.H2OFrame(test, column_types = data_types)"
   ]
  },
  {
   "cell_type": "code",
   "execution_count": 1,
   "id": "8e3f80c5",
   "metadata": {},
   "outputs": [],
   "source": [
    "# Without product gender\n",
    "data_types = {'user_action': 'categorical', 'product_name': 'categorical', 'brand_name': 'categorical',\n",
    "             'businessunit': 'categorical', 'category_id': 'categorical',\n",
    "             'Level1_Category_Id': 'categorical', 'Level2_Category_Id': 'categorical', 'weekday': 'categorical',\n",
    "             'month': 'categorical', 'hour': 'categorical', 'minute': 'numeric', 'FLAG_weekend': 'categorical',\n",
    "             'sellingprice': 'numeric', 'FLAG_NA_product_gender': 'categorical', 'FLAG_NA_sellingprice': 'categorical'}"
   ]
  },
  {
   "cell_type": "code",
   "execution_count": 245,
   "id": "ffc1a497",
   "metadata": {},
   "outputs": [],
   "source": [
    "ftx = final_train_X.drop('product_gender', axis=1)\n",
    "ftex = final_test_X.drop('product_gender', axis=1)"
   ]
  },
  {
   "cell_type": "code",
   "execution_count": 210,
   "id": "0fc092a3",
   "metadata": {},
   "outputs": [
    {
     "name": "stdout",
     "output_type": "stream",
     "text": [
      "Parse progress: |████████████████████████████████████████████████████████████████| (done) 100%\n",
      "Parse progress: |████████████████████████████████████████████████████████████████| (done) 100%\n"
     ]
    }
   ],
   "source": [
    "train = pd.concat([ftx, final_train_y], axis=1)\n",
    "test = ftex\n",
    "train = hf = h2o.H2OFrame(train, column_types = data_types)\n",
    "test = hf = h2o.H2OFrame(test, column_types = data_types)"
   ]
  },
  {
   "cell_type": "code",
   "execution_count": null,
   "id": "ea7c9d46",
   "metadata": {},
   "outputs": [],
   "source": []
  },
  {
   "cell_type": "code",
   "execution_count": 1163,
   "id": "6c88201b",
   "metadata": {},
   "outputs": [],
   "source": [
    "# Set the input and output columns\n",
    "x = train.columns\n",
    "val_x = val.columns\n",
    "y = 'gender'\n",
    "x.remove(y)\n",
    "val_x.remove(y)"
   ]
  },
  {
   "cell_type": "code",
   "execution_count": 1164,
   "id": "55fd60b1",
   "metadata": {},
   "outputs": [],
   "source": [
    "# Convert output to factor.\n",
    "train[y] = train[y].asfactor()\n",
    "val[y] = val[y].asfactor()"
   ]
  },
  {
   "cell_type": "code",
   "execution_count": 1181,
   "id": "2dff9331",
   "metadata": {},
   "outputs": [
    {
     "name": "stdout",
     "output_type": "stream",
     "text": [
      "AutoML progress: |██████████████ (cancelled)\n"
     ]
    },
    {
     "ename": "H2OJobCancelled",
     "evalue": "Job<$03017f00000132d4ffffffff$_82fdf3790358459017ca47f9485d4f3b> was cancelled by the user.",
     "output_type": "error",
     "traceback": [
      "\u001b[0;31m---------------------------------------------------------------------------\u001b[0m",
      "\u001b[0;31mH2OJobCancelled\u001b[0m                           Traceback (most recent call last)",
      "\u001b[0;32m/tmp/ipykernel_40400/1243368636.py\u001b[0m in \u001b[0;36m<module>\u001b[0;34m\u001b[0m\n\u001b[1;32m      1\u001b[0m \u001b[0maml\u001b[0m \u001b[0;34m=\u001b[0m \u001b[0mH2OAutoML\u001b[0m\u001b[0;34m(\u001b[0m\u001b[0mmax_runtime_secs\u001b[0m \u001b[0;34m=\u001b[0m \u001b[0;36m600\u001b[0m\u001b[0;34m,\u001b[0m \u001b[0mstopping_metric\u001b[0m \u001b[0;34m=\u001b[0m \u001b[0;34m'auc'\u001b[0m\u001b[0;34m,\u001b[0m \u001b[0mseed\u001b[0m\u001b[0;34m=\u001b[0m\u001b[0;36m1\u001b[0m\u001b[0;34m,\u001b[0m \u001b[0mbalance_classes\u001b[0m\u001b[0;34m=\u001b[0m\u001b[0;32mTrue\u001b[0m\u001b[0;34m,\u001b[0m \u001b[0mnfolds\u001b[0m\u001b[0;34m=\u001b[0m\u001b[0;36m20\u001b[0m\u001b[0;34m)\u001b[0m\u001b[0;34m\u001b[0m\u001b[0;34m\u001b[0m\u001b[0m\n\u001b[0;32m----> 2\u001b[0;31m \u001b[0maml\u001b[0m\u001b[0;34m.\u001b[0m\u001b[0mtrain\u001b[0m\u001b[0;34m(\u001b[0m\u001b[0mx\u001b[0m\u001b[0;34m=\u001b[0m\u001b[0mx\u001b[0m\u001b[0;34m,\u001b[0m \u001b[0my\u001b[0m\u001b[0;34m=\u001b[0m\u001b[0my\u001b[0m\u001b[0;34m,\u001b[0m \u001b[0mtraining_frame\u001b[0m\u001b[0;34m=\u001b[0m\u001b[0mtrain\u001b[0m\u001b[0;34m)\u001b[0m \u001b[0;31m#,validation_frame = val)\u001b[0m\u001b[0;34m\u001b[0m\u001b[0;34m\u001b[0m\u001b[0m\n\u001b[0m",
      "\u001b[0;32m~/.local/lib/python3.7/site-packages/h2o/automl/_estimator.py\u001b[0m in \u001b[0;36mtrain\u001b[0;34m(self, x, y, training_frame, fold_column, weights_column, validation_frame, leaderboard_frame, blending_frame)\u001b[0m\n\u001b[1;32m    590\u001b[0m         \u001b[0mpoll_updates\u001b[0m \u001b[0;34m=\u001b[0m \u001b[0mft\u001b[0m\u001b[0;34m.\u001b[0m\u001b[0mpartial\u001b[0m\u001b[0;34m(\u001b[0m\u001b[0mself\u001b[0m\u001b[0;34m.\u001b[0m\u001b[0m_poll_training_updates\u001b[0m\u001b[0;34m,\u001b[0m \u001b[0mverbosity\u001b[0m\u001b[0;34m=\u001b[0m\u001b[0mself\u001b[0m\u001b[0;34m.\u001b[0m\u001b[0m_verbosity\u001b[0m\u001b[0;34m,\u001b[0m \u001b[0mstate\u001b[0m\u001b[0;34m=\u001b[0m\u001b[0;34m{\u001b[0m\u001b[0;34m}\u001b[0m\u001b[0;34m)\u001b[0m\u001b[0;34m\u001b[0m\u001b[0;34m\u001b[0m\u001b[0m\n\u001b[1;32m    591\u001b[0m         \u001b[0;32mtry\u001b[0m\u001b[0;34m:\u001b[0m\u001b[0;34m\u001b[0m\u001b[0;34m\u001b[0m\u001b[0m\n\u001b[0;32m--> 592\u001b[0;31m             \u001b[0mself\u001b[0m\u001b[0;34m.\u001b[0m\u001b[0m_job\u001b[0m\u001b[0;34m.\u001b[0m\u001b[0mpoll\u001b[0m\u001b[0;34m(\u001b[0m\u001b[0mpoll_updates\u001b[0m\u001b[0;34m=\u001b[0m\u001b[0mpoll_updates\u001b[0m\u001b[0;34m)\u001b[0m\u001b[0;34m\u001b[0m\u001b[0;34m\u001b[0m\u001b[0m\n\u001b[0m\u001b[1;32m    593\u001b[0m         \u001b[0;32mfinally\u001b[0m\u001b[0;34m:\u001b[0m\u001b[0;34m\u001b[0m\u001b[0;34m\u001b[0m\u001b[0m\n\u001b[1;32m    594\u001b[0m             \u001b[0mpoll_updates\u001b[0m\u001b[0;34m(\u001b[0m\u001b[0mself\u001b[0m\u001b[0;34m.\u001b[0m\u001b[0m_job\u001b[0m\u001b[0;34m,\u001b[0m \u001b[0;36m1\u001b[0m\u001b[0;34m)\u001b[0m\u001b[0;34m\u001b[0m\u001b[0;34m\u001b[0m\u001b[0m\n",
      "\u001b[0;32m~/.local/lib/python3.7/site-packages/h2o/job.py\u001b[0m in \u001b[0;36mpoll\u001b[0;34m(self, poll_updates)\u001b[0m\n\u001b[1;32m     85\u001b[0m         \u001b[0;31m# check if failed... and politely print relevant message\u001b[0m\u001b[0;34m\u001b[0m\u001b[0;34m\u001b[0m\u001b[0;34m\u001b[0m\u001b[0m\n\u001b[1;32m     86\u001b[0m         \u001b[0;32mif\u001b[0m \u001b[0mself\u001b[0m\u001b[0;34m.\u001b[0m\u001b[0mstatus\u001b[0m \u001b[0;34m==\u001b[0m \u001b[0;34m\"CANCELLED\"\u001b[0m\u001b[0;34m:\u001b[0m\u001b[0;34m\u001b[0m\u001b[0;34m\u001b[0m\u001b[0m\n\u001b[0;32m---> 87\u001b[0;31m             \u001b[0;32mraise\u001b[0m \u001b[0mH2OJobCancelled\u001b[0m\u001b[0;34m(\u001b[0m\u001b[0;34m\"Job<%s> was cancelled by the user.\"\u001b[0m \u001b[0;34m%\u001b[0m \u001b[0mself\u001b[0m\u001b[0;34m.\u001b[0m\u001b[0mjob_key\u001b[0m\u001b[0;34m)\u001b[0m\u001b[0;34m\u001b[0m\u001b[0;34m\u001b[0m\u001b[0m\n\u001b[0m\u001b[1;32m     88\u001b[0m         \u001b[0;32mif\u001b[0m \u001b[0mself\u001b[0m\u001b[0;34m.\u001b[0m\u001b[0mstatus\u001b[0m \u001b[0;34m==\u001b[0m \u001b[0;34m\"FAILED\"\u001b[0m\u001b[0;34m:\u001b[0m\u001b[0;34m\u001b[0m\u001b[0;34m\u001b[0m\u001b[0m\n\u001b[1;32m     89\u001b[0m             \u001b[0;32mif\u001b[0m \u001b[0;34m(\u001b[0m\u001b[0misinstance\u001b[0m\u001b[0;34m(\u001b[0m\u001b[0mself\u001b[0m\u001b[0;34m.\u001b[0m\u001b[0mjob\u001b[0m\u001b[0;34m,\u001b[0m \u001b[0mdict\u001b[0m\u001b[0;34m)\u001b[0m\u001b[0;34m)\u001b[0m \u001b[0;32mand\u001b[0m \u001b[0;34m(\u001b[0m\u001b[0;34m\"stacktrace\"\u001b[0m \u001b[0;32min\u001b[0m \u001b[0mlist\u001b[0m\u001b[0;34m(\u001b[0m\u001b[0mself\u001b[0m\u001b[0;34m.\u001b[0m\u001b[0mjob\u001b[0m\u001b[0;34m)\u001b[0m\u001b[0;34m)\u001b[0m\u001b[0;34m:\u001b[0m\u001b[0;34m\u001b[0m\u001b[0;34m\u001b[0m\u001b[0m\n",
      "\u001b[0;31mH2OJobCancelled\u001b[0m: Job<$03017f00000132d4ffffffff$_82fdf3790358459017ca47f9485d4f3b> was cancelled by the user."
     ]
    }
   ],
   "source": [
    "# Run the model\n",
    "\n",
    "aml = H2OAutoML(max_runtime_secs = 600, stopping_metric = 'auc', seed=1, balance_classes=True, nfolds=20)\n",
    "aml.train(x=x, y=y, training_frame=train) #,validation_frame = val)"
   ]
  },
  {
   "cell_type": "code",
   "execution_count": null,
   "id": "ecc368ba",
   "metadata": {},
   "outputs": [],
   "source": [
    "# Model performances\n",
    "lb = aml.leaderboard\n",
    "lb.head(rows=lb.nrows)"
   ]
  },
  {
   "cell_type": "code",
   "execution_count": 1141,
   "id": "8ee5ce3b",
   "metadata": {},
   "outputs": [
    {
     "data": {
      "text/html": [
       "<div>\n",
       "<style scoped>\n",
       "    .dataframe tbody tr th:only-of-type {\n",
       "        vertical-align: middle;\n",
       "    }\n",
       "\n",
       "    .dataframe tbody tr th {\n",
       "        vertical-align: top;\n",
       "    }\n",
       "\n",
       "    .dataframe thead th {\n",
       "        text-align: right;\n",
       "    }\n",
       "</style>\n",
       "<table border=\"1\" class=\"dataframe\">\n",
       "  <thead>\n",
       "    <tr style=\"text-align: right;\">\n",
       "      <th></th>\n",
       "      <th>XRT_1</th>\n",
       "      <th>DRF_1</th>\n",
       "    </tr>\n",
       "  </thead>\n",
       "  <tbody>\n",
       "    <tr>\n",
       "      <th>FLAG_weekend</th>\n",
       "      <td>0.0080</td>\n",
       "      <td>0.0081</td>\n",
       "    </tr>\n",
       "    <tr>\n",
       "      <th>sellingprice</th>\n",
       "      <td>0.0069</td>\n",
       "      <td>0.0072</td>\n",
       "    </tr>\n",
       "    <tr>\n",
       "      <th>FLAG_NA_product_gender</th>\n",
       "      <td>0.0091</td>\n",
       "      <td>0.0095</td>\n",
       "    </tr>\n",
       "    <tr>\n",
       "      <th>FLAG_NA_sellingprice</th>\n",
       "      <td>0.0025</td>\n",
       "      <td>0.0020</td>\n",
       "    </tr>\n",
       "    <tr>\n",
       "      <th>min_0_10</th>\n",
       "      <td>0.0091</td>\n",
       "      <td>0.0088</td>\n",
       "    </tr>\n",
       "    <tr>\n",
       "      <th>...</th>\n",
       "      <td>...</td>\n",
       "      <td>...</td>\n",
       "    </tr>\n",
       "    <tr>\n",
       "      <th>weekday_2</th>\n",
       "      <td>0.0081</td>\n",
       "      <td>0.0100</td>\n",
       "    </tr>\n",
       "    <tr>\n",
       "      <th>weekday_3</th>\n",
       "      <td>0.0069</td>\n",
       "      <td>0.0070</td>\n",
       "    </tr>\n",
       "    <tr>\n",
       "      <th>weekday_4</th>\n",
       "      <td>0.0077</td>\n",
       "      <td>0.0066</td>\n",
       "    </tr>\n",
       "    <tr>\n",
       "      <th>weekday_5</th>\n",
       "      <td>0.0060</td>\n",
       "      <td>0.0069</td>\n",
       "    </tr>\n",
       "    <tr>\n",
       "      <th>weekday_6</th>\n",
       "      <td>0.0061</td>\n",
       "      <td>0.0068</td>\n",
       "    </tr>\n",
       "  </tbody>\n",
       "</table>\n",
       "<p>126 rows × 2 columns</p>\n",
       "</div>"
      ],
      "text/plain": [
       "                        XRT_1  DRF_1\n",
       "FLAG_weekend           0.0080 0.0081\n",
       "sellingprice           0.0069 0.0072\n",
       "FLAG_NA_product_gender 0.0091 0.0095\n",
       "FLAG_NA_sellingprice   0.0025 0.0020\n",
       "min_0_10               0.0091 0.0088\n",
       "...                       ...    ...\n",
       "weekday_2              0.0081 0.0100\n",
       "weekday_3              0.0069 0.0070\n",
       "weekday_4              0.0077 0.0066\n",
       "weekday_5              0.0060 0.0069\n",
       "weekday_6              0.0061 0.0068\n",
       "\n",
       "[126 rows x 2 columns]"
      ]
     },
     "execution_count": 1141,
     "metadata": {},
     "output_type": "execute_result"
    }
   ],
   "source": [
    "# Feature importances\n",
    "aml.varimp(use_pandas=True)"
   ]
  },
  {
   "cell_type": "markdown",
   "id": "dd413de3",
   "metadata": {},
   "source": [
    "### GET THE VALIDATION SCORES"
   ]
  },
  {
   "cell_type": "code",
   "execution_count": 619,
   "id": "8b590e2e",
   "metadata": {},
   "outputs": [],
   "source": [
    "# Get validation score for a specific model from the leaderboard\n",
    "m = h2o.get_model(\"DRF_1_AutoML_22_20220121_142158\")"
   ]
  },
  {
   "cell_type": "code",
   "execution_count": 620,
   "id": "6da008a2",
   "metadata": {},
   "outputs": [
    {
     "name": "stdout",
     "output_type": "stream",
     "text": [
      "drf prediction progress: |███████████████████████████████████████████████████████| (done) 100%\n"
     ]
    }
   ],
   "source": [
    "val_pred = m.predict(val)\n",
    "val_pred = val_pred.as_data_frame()"
   ]
  },
  {
   "cell_type": "code",
   "execution_count": 607,
   "id": "ec28ff77",
   "metadata": {},
   "outputs": [
    {
     "data": {
      "text/plain": [
       "0.8776252691263069"
      ]
     },
     "execution_count": 607,
     "metadata": {},
     "output_type": "execute_result"
    }
   ],
   "source": [
    "from sklearn.metrics import roc_auc_score\n",
    "\n",
    "roc_auc_score(y_val, val_pred['p1'])"
   ]
  },
  {
   "cell_type": "code",
   "execution_count": null,
   "id": "7f571a9c",
   "metadata": {},
   "outputs": [],
   "source": []
  },
  {
   "cell_type": "code",
   "execution_count": 866,
   "id": "40610ca5",
   "metadata": {},
   "outputs": [
    {
     "name": "stdout",
     "output_type": "stream",
     "text": [
      "stackedensemble prediction progress: |███████████████████████████████████████████| (done) 100%\n"
     ]
    }
   ],
   "source": [
    "# Get validation score for the best model on the leaderboard\n",
    "val_pred = aml.predict(val)\n",
    "val_pred = val_pred.as_data_frame()"
   ]
  },
  {
   "cell_type": "code",
   "execution_count": 867,
   "id": "67f1deb5",
   "metadata": {},
   "outputs": [
    {
     "data": {
      "text/plain": [
       "0.8933481520949222"
      ]
     },
     "execution_count": 867,
     "metadata": {},
     "output_type": "execute_result"
    }
   ],
   "source": [
    "from sklearn.metrics import roc_auc_score\n",
    "\n",
    "roc_auc_score(y_val, val_pred['p1'])"
   ]
  },
  {
   "cell_type": "markdown",
   "id": "edf2778b",
   "metadata": {},
   "source": [
    "### GET THE TEST PREDICTIONS"
   ]
  },
  {
   "cell_type": "code",
   "execution_count": 1169,
   "id": "e0e50bb0",
   "metadata": {},
   "outputs": [
    {
     "name": "stdout",
     "output_type": "stream",
     "text": [
      "stackedensemble prediction progress: |███████████████████████████████████████████| (done) 100%\n"
     ]
    }
   ],
   "source": [
    "# For the best mdel\n",
    "preds = aml.predict(test)\n",
    "automl_pred = preds.as_data_frame()"
   ]
  },
  {
   "cell_type": "code",
   "execution_count": 908,
   "id": "d5a0d453",
   "metadata": {},
   "outputs": [
    {
     "name": "stdout",
     "output_type": "stream",
     "text": [
      "drf prediction progress: |███████████████████████████████████████████████████████| (done) 100%\n"
     ]
    }
   ],
   "source": [
    "# For a specific model from the \n",
    "m = h2o.get_model(\"DRF_1_AutoML_26_20220121_194922\")\n",
    "preds = m.predict(test)\n",
    "automl_pred = preds.as_data_frame()"
   ]
  },
  {
   "cell_type": "code",
   "execution_count": null,
   "id": "9d57557f",
   "metadata": {},
   "outputs": [],
   "source": []
  },
  {
   "cell_type": "markdown",
   "id": "da84bad0",
   "metadata": {},
   "source": [
    "# LightGBM Section"
   ]
  },
  {
   "cell_type": "code",
   "execution_count": 133,
   "id": "8f64ec29",
   "metadata": {},
   "outputs": [
    {
     "data": {
      "text/plain": [
       "RandomizedSearchCV(cv=2,\n",
       "                   estimator=LGBMClassifier(class_weight={0: 1, 1: 0.55},\n",
       "                                            n_estimators=1000),\n",
       "                   n_iter=20, n_jobs=-1,\n",
       "                   param_distributions={'learning_rate': array([0.001, 0.006, 0.011, 0.016, 0.021, 0.026, 0.031, 0.036, 0.041,\n",
       "       0.046, 0.051, 0.056, 0.061, 0.066, 0.071, 0.076, 0.081, 0.086,\n",
       "       0.091, 0.096]),\n",
       "                                        'max_depth': array([ 5,  6,  7,  8,  9, 10, 11, 12, 13, 14, 15, 16, 17, 18, 19]),\n",
       "                                        'min_child_samples': array([ 5,  6,  7,  8,  9, 10, 11, 12, 13, 14, 15, 16, 17, 18, 19, 20, 21,\n",
       "       22, 23, 24, 25, 26, 27, 28, 29]),\n",
       "                                        'num_leaves': array([10, 11, 12, 13, 14, 15, 16, 17, 18, 19, 20, 21, 22, 23, 24, 25, 26,\n",
       "       27, 28, 29])},\n",
       "                   scoring='roc_auc')"
      ]
     },
     "execution_count": 133,
     "metadata": {},
     "output_type": "execute_result"
    }
   ],
   "source": [
    "lgb = LGBMClassifier(n_estimators = 1000, class_weight={0:1, 1:0.55})\n",
    "\n",
    "param_grid = {'max_depth': np.arange(5,20),\n",
    "             'min_child_samples' : np.arange(5,30),\n",
    "             'learning_rate': np.arange(0.001, 0.1, 0.005),\n",
    "             'num_leaves': np.arange(10, 30)} # {'num_leaves': 13, 'min_child_samples': 28, 'max_depth': 9, 'learning_rate': 0.006} # 0.7967939748853456\n",
    "\n",
    "lgb_cv = RandomizedSearchCV(lgb, param_grid, cv=2, scoring='roc_auc', n_iter=20, n_jobs=-1) \n",
    "lgb_cv.fit(final_train_X, final_train_y)"
   ]
  },
  {
   "cell_type": "code",
   "execution_count": 179,
   "id": "8b698d3d",
   "metadata": {},
   "outputs": [],
   "source": [
    "final_model = LGBMClassifier(n_estimators=1600)"
   ]
  },
  {
   "cell_type": "code",
   "execution_count": 180,
   "id": "125c0d0e",
   "metadata": {
    "collapsed": true,
    "jupyter": {
     "outputs_hidden": true
    }
   },
   "outputs": [
    {
     "ename": "KeyboardInterrupt",
     "evalue": "",
     "output_type": "error",
     "traceback": [
      "\u001b[0;31m---------------------------------------------------------------------------\u001b[0m",
      "\u001b[0;31mKeyboardInterrupt\u001b[0m                         Traceback (most recent call last)",
      "\u001b[0;32m/tmp/ipykernel_11688/1014979171.py\u001b[0m in \u001b[0;36m<module>\u001b[0;34m\u001b[0m\n\u001b[0;32m----> 1\u001b[0;31m \u001b[0mlc\u001b[0m \u001b[0;34m=\u001b[0m \u001b[0mlearning_curve\u001b[0m\u001b[0;34m(\u001b[0m\u001b[0mfinal_model\u001b[0m\u001b[0;34m,\u001b[0m \u001b[0mfinal_train_X\u001b[0m\u001b[0;34m,\u001b[0m \u001b[0mfinal_train_y\u001b[0m\u001b[0;34m)\u001b[0m\u001b[0;34m\u001b[0m\u001b[0;34m\u001b[0m\u001b[0m\n\u001b[0m",
      "\u001b[0;32m/opt/anaconda/anaconda3/lib/python3.7/site-packages/sklearn/model_selection/_validation.py\u001b[0m in \u001b[0;36mlearning_curve\u001b[0;34m(estimator, X, y, groups, train_sizes, cv, scoring, exploit_incremental_learning, n_jobs, pre_dispatch, verbose, shuffle, random_state, error_score, return_times, fit_params)\u001b[0m\n\u001b[1;32m   1567\u001b[0m                 \u001b[0mreturn_times\u001b[0m\u001b[0;34m=\u001b[0m\u001b[0mreturn_times\u001b[0m\u001b[0;34m,\u001b[0m\u001b[0;34m\u001b[0m\u001b[0;34m\u001b[0m\u001b[0m\n\u001b[1;32m   1568\u001b[0m             )\n\u001b[0;32m-> 1569\u001b[0;31m             \u001b[0;32mfor\u001b[0m \u001b[0mtrain\u001b[0m\u001b[0;34m,\u001b[0m \u001b[0mtest\u001b[0m \u001b[0;32min\u001b[0m \u001b[0mtrain_test_proportions\u001b[0m\u001b[0;34m\u001b[0m\u001b[0;34m\u001b[0m\u001b[0m\n\u001b[0m\u001b[1;32m   1570\u001b[0m         )\n\u001b[1;32m   1571\u001b[0m         \u001b[0mresults\u001b[0m \u001b[0;34m=\u001b[0m \u001b[0m_aggregate_score_dicts\u001b[0m\u001b[0;34m(\u001b[0m\u001b[0mresults\u001b[0m\u001b[0;34m)\u001b[0m\u001b[0;34m\u001b[0m\u001b[0;34m\u001b[0m\u001b[0m\n",
      "\u001b[0;32m/opt/anaconda/anaconda3/lib/python3.7/site-packages/joblib/parallel.py\u001b[0m in \u001b[0;36m__call__\u001b[0;34m(self, iterable)\u001b[0m\n\u001b[1;32m   1044\u001b[0m                 \u001b[0mself\u001b[0m\u001b[0;34m.\u001b[0m\u001b[0m_iterating\u001b[0m \u001b[0;34m=\u001b[0m \u001b[0mself\u001b[0m\u001b[0;34m.\u001b[0m\u001b[0m_original_iterator\u001b[0m \u001b[0;32mis\u001b[0m \u001b[0;32mnot\u001b[0m \u001b[0;32mNone\u001b[0m\u001b[0;34m\u001b[0m\u001b[0;34m\u001b[0m\u001b[0m\n\u001b[1;32m   1045\u001b[0m \u001b[0;34m\u001b[0m\u001b[0m\n\u001b[0;32m-> 1046\u001b[0;31m             \u001b[0;32mwhile\u001b[0m \u001b[0mself\u001b[0m\u001b[0;34m.\u001b[0m\u001b[0mdispatch_one_batch\u001b[0m\u001b[0;34m(\u001b[0m\u001b[0miterator\u001b[0m\u001b[0;34m)\u001b[0m\u001b[0;34m:\u001b[0m\u001b[0;34m\u001b[0m\u001b[0;34m\u001b[0m\u001b[0m\n\u001b[0m\u001b[1;32m   1047\u001b[0m                 \u001b[0;32mpass\u001b[0m\u001b[0;34m\u001b[0m\u001b[0;34m\u001b[0m\u001b[0m\n\u001b[1;32m   1048\u001b[0m \u001b[0;34m\u001b[0m\u001b[0m\n",
      "\u001b[0;32m/opt/anaconda/anaconda3/lib/python3.7/site-packages/joblib/parallel.py\u001b[0m in \u001b[0;36mdispatch_one_batch\u001b[0;34m(self, iterator)\u001b[0m\n\u001b[1;32m    859\u001b[0m                 \u001b[0;32mreturn\u001b[0m \u001b[0;32mFalse\u001b[0m\u001b[0;34m\u001b[0m\u001b[0;34m\u001b[0m\u001b[0m\n\u001b[1;32m    860\u001b[0m             \u001b[0;32melse\u001b[0m\u001b[0;34m:\u001b[0m\u001b[0;34m\u001b[0m\u001b[0;34m\u001b[0m\u001b[0m\n\u001b[0;32m--> 861\u001b[0;31m                 \u001b[0mself\u001b[0m\u001b[0;34m.\u001b[0m\u001b[0m_dispatch\u001b[0m\u001b[0;34m(\u001b[0m\u001b[0mtasks\u001b[0m\u001b[0;34m)\u001b[0m\u001b[0;34m\u001b[0m\u001b[0;34m\u001b[0m\u001b[0m\n\u001b[0m\u001b[1;32m    862\u001b[0m                 \u001b[0;32mreturn\u001b[0m \u001b[0;32mTrue\u001b[0m\u001b[0;34m\u001b[0m\u001b[0;34m\u001b[0m\u001b[0m\n\u001b[1;32m    863\u001b[0m \u001b[0;34m\u001b[0m\u001b[0m\n",
      "\u001b[0;32m/opt/anaconda/anaconda3/lib/python3.7/site-packages/joblib/parallel.py\u001b[0m in \u001b[0;36m_dispatch\u001b[0;34m(self, batch)\u001b[0m\n\u001b[1;32m    777\u001b[0m         \u001b[0;32mwith\u001b[0m \u001b[0mself\u001b[0m\u001b[0;34m.\u001b[0m\u001b[0m_lock\u001b[0m\u001b[0;34m:\u001b[0m\u001b[0;34m\u001b[0m\u001b[0;34m\u001b[0m\u001b[0m\n\u001b[1;32m    778\u001b[0m             \u001b[0mjob_idx\u001b[0m \u001b[0;34m=\u001b[0m \u001b[0mlen\u001b[0m\u001b[0;34m(\u001b[0m\u001b[0mself\u001b[0m\u001b[0;34m.\u001b[0m\u001b[0m_jobs\u001b[0m\u001b[0;34m)\u001b[0m\u001b[0;34m\u001b[0m\u001b[0;34m\u001b[0m\u001b[0m\n\u001b[0;32m--> 779\u001b[0;31m             \u001b[0mjob\u001b[0m \u001b[0;34m=\u001b[0m \u001b[0mself\u001b[0m\u001b[0;34m.\u001b[0m\u001b[0m_backend\u001b[0m\u001b[0;34m.\u001b[0m\u001b[0mapply_async\u001b[0m\u001b[0;34m(\u001b[0m\u001b[0mbatch\u001b[0m\u001b[0;34m,\u001b[0m \u001b[0mcallback\u001b[0m\u001b[0;34m=\u001b[0m\u001b[0mcb\u001b[0m\u001b[0;34m)\u001b[0m\u001b[0;34m\u001b[0m\u001b[0;34m\u001b[0m\u001b[0m\n\u001b[0m\u001b[1;32m    780\u001b[0m             \u001b[0;31m# A job can complete so quickly than its callback is\u001b[0m\u001b[0;34m\u001b[0m\u001b[0;34m\u001b[0m\u001b[0;34m\u001b[0m\u001b[0m\n\u001b[1;32m    781\u001b[0m             \u001b[0;31m# called before we get here, causing self._jobs to\u001b[0m\u001b[0;34m\u001b[0m\u001b[0;34m\u001b[0m\u001b[0;34m\u001b[0m\u001b[0m\n",
      "\u001b[0;32m/opt/anaconda/anaconda3/lib/python3.7/site-packages/joblib/_parallel_backends.py\u001b[0m in \u001b[0;36mapply_async\u001b[0;34m(self, func, callback)\u001b[0m\n\u001b[1;32m    206\u001b[0m     \u001b[0;32mdef\u001b[0m \u001b[0mapply_async\u001b[0m\u001b[0;34m(\u001b[0m\u001b[0mself\u001b[0m\u001b[0;34m,\u001b[0m \u001b[0mfunc\u001b[0m\u001b[0;34m,\u001b[0m \u001b[0mcallback\u001b[0m\u001b[0;34m=\u001b[0m\u001b[0;32mNone\u001b[0m\u001b[0;34m)\u001b[0m\u001b[0;34m:\u001b[0m\u001b[0;34m\u001b[0m\u001b[0;34m\u001b[0m\u001b[0m\n\u001b[1;32m    207\u001b[0m         \u001b[0;34m\"\"\"Schedule a func to be run\"\"\"\u001b[0m\u001b[0;34m\u001b[0m\u001b[0;34m\u001b[0m\u001b[0m\n\u001b[0;32m--> 208\u001b[0;31m         \u001b[0mresult\u001b[0m \u001b[0;34m=\u001b[0m \u001b[0mImmediateResult\u001b[0m\u001b[0;34m(\u001b[0m\u001b[0mfunc\u001b[0m\u001b[0;34m)\u001b[0m\u001b[0;34m\u001b[0m\u001b[0;34m\u001b[0m\u001b[0m\n\u001b[0m\u001b[1;32m    209\u001b[0m         \u001b[0;32mif\u001b[0m \u001b[0mcallback\u001b[0m\u001b[0;34m:\u001b[0m\u001b[0;34m\u001b[0m\u001b[0;34m\u001b[0m\u001b[0m\n\u001b[1;32m    210\u001b[0m             \u001b[0mcallback\u001b[0m\u001b[0;34m(\u001b[0m\u001b[0mresult\u001b[0m\u001b[0;34m)\u001b[0m\u001b[0;34m\u001b[0m\u001b[0;34m\u001b[0m\u001b[0m\n",
      "\u001b[0;32m/opt/anaconda/anaconda3/lib/python3.7/site-packages/joblib/_parallel_backends.py\u001b[0m in \u001b[0;36m__init__\u001b[0;34m(self, batch)\u001b[0m\n\u001b[1;32m    570\u001b[0m         \u001b[0;31m# Don't delay the application, to avoid keeping the input\u001b[0m\u001b[0;34m\u001b[0m\u001b[0;34m\u001b[0m\u001b[0;34m\u001b[0m\u001b[0m\n\u001b[1;32m    571\u001b[0m         \u001b[0;31m# arguments in memory\u001b[0m\u001b[0;34m\u001b[0m\u001b[0;34m\u001b[0m\u001b[0;34m\u001b[0m\u001b[0m\n\u001b[0;32m--> 572\u001b[0;31m         \u001b[0mself\u001b[0m\u001b[0;34m.\u001b[0m\u001b[0mresults\u001b[0m \u001b[0;34m=\u001b[0m \u001b[0mbatch\u001b[0m\u001b[0;34m(\u001b[0m\u001b[0;34m)\u001b[0m\u001b[0;34m\u001b[0m\u001b[0;34m\u001b[0m\u001b[0m\n\u001b[0m\u001b[1;32m    573\u001b[0m \u001b[0;34m\u001b[0m\u001b[0m\n\u001b[1;32m    574\u001b[0m     \u001b[0;32mdef\u001b[0m \u001b[0mget\u001b[0m\u001b[0;34m(\u001b[0m\u001b[0mself\u001b[0m\u001b[0;34m)\u001b[0m\u001b[0;34m:\u001b[0m\u001b[0;34m\u001b[0m\u001b[0;34m\u001b[0m\u001b[0m\n",
      "\u001b[0;32m/opt/anaconda/anaconda3/lib/python3.7/site-packages/joblib/parallel.py\u001b[0m in \u001b[0;36m__call__\u001b[0;34m(self)\u001b[0m\n\u001b[1;32m    261\u001b[0m         \u001b[0;32mwith\u001b[0m \u001b[0mparallel_backend\u001b[0m\u001b[0;34m(\u001b[0m\u001b[0mself\u001b[0m\u001b[0;34m.\u001b[0m\u001b[0m_backend\u001b[0m\u001b[0;34m,\u001b[0m \u001b[0mn_jobs\u001b[0m\u001b[0;34m=\u001b[0m\u001b[0mself\u001b[0m\u001b[0;34m.\u001b[0m\u001b[0m_n_jobs\u001b[0m\u001b[0;34m)\u001b[0m\u001b[0;34m:\u001b[0m\u001b[0;34m\u001b[0m\u001b[0;34m\u001b[0m\u001b[0m\n\u001b[1;32m    262\u001b[0m             return [func(*args, **kwargs)\n\u001b[0;32m--> 263\u001b[0;31m                     for func, args, kwargs in self.items]\n\u001b[0m\u001b[1;32m    264\u001b[0m \u001b[0;34m\u001b[0m\u001b[0m\n\u001b[1;32m    265\u001b[0m     \u001b[0;32mdef\u001b[0m \u001b[0m__reduce__\u001b[0m\u001b[0;34m(\u001b[0m\u001b[0mself\u001b[0m\u001b[0;34m)\u001b[0m\u001b[0;34m:\u001b[0m\u001b[0;34m\u001b[0m\u001b[0;34m\u001b[0m\u001b[0m\n",
      "\u001b[0;32m/opt/anaconda/anaconda3/lib/python3.7/site-packages/joblib/parallel.py\u001b[0m in \u001b[0;36m<listcomp>\u001b[0;34m(.0)\u001b[0m\n\u001b[1;32m    261\u001b[0m         \u001b[0;32mwith\u001b[0m \u001b[0mparallel_backend\u001b[0m\u001b[0;34m(\u001b[0m\u001b[0mself\u001b[0m\u001b[0;34m.\u001b[0m\u001b[0m_backend\u001b[0m\u001b[0;34m,\u001b[0m \u001b[0mn_jobs\u001b[0m\u001b[0;34m=\u001b[0m\u001b[0mself\u001b[0m\u001b[0;34m.\u001b[0m\u001b[0m_n_jobs\u001b[0m\u001b[0;34m)\u001b[0m\u001b[0;34m:\u001b[0m\u001b[0;34m\u001b[0m\u001b[0;34m\u001b[0m\u001b[0m\n\u001b[1;32m    262\u001b[0m             return [func(*args, **kwargs)\n\u001b[0;32m--> 263\u001b[0;31m                     for func, args, kwargs in self.items]\n\u001b[0m\u001b[1;32m    264\u001b[0m \u001b[0;34m\u001b[0m\u001b[0m\n\u001b[1;32m    265\u001b[0m     \u001b[0;32mdef\u001b[0m \u001b[0m__reduce__\u001b[0m\u001b[0;34m(\u001b[0m\u001b[0mself\u001b[0m\u001b[0;34m)\u001b[0m\u001b[0;34m:\u001b[0m\u001b[0;34m\u001b[0m\u001b[0;34m\u001b[0m\u001b[0m\n",
      "\u001b[0;32m/opt/anaconda/anaconda3/lib/python3.7/site-packages/sklearn/utils/fixes.py\u001b[0m in \u001b[0;36m__call__\u001b[0;34m(self, *args, **kwargs)\u001b[0m\n\u001b[1;32m    209\u001b[0m     \u001b[0;32mdef\u001b[0m \u001b[0m__call__\u001b[0m\u001b[0;34m(\u001b[0m\u001b[0mself\u001b[0m\u001b[0;34m,\u001b[0m \u001b[0;34m*\u001b[0m\u001b[0margs\u001b[0m\u001b[0;34m,\u001b[0m \u001b[0;34m**\u001b[0m\u001b[0mkwargs\u001b[0m\u001b[0;34m)\u001b[0m\u001b[0;34m:\u001b[0m\u001b[0;34m\u001b[0m\u001b[0;34m\u001b[0m\u001b[0m\n\u001b[1;32m    210\u001b[0m         \u001b[0;32mwith\u001b[0m \u001b[0mconfig_context\u001b[0m\u001b[0;34m(\u001b[0m\u001b[0;34m**\u001b[0m\u001b[0mself\u001b[0m\u001b[0;34m.\u001b[0m\u001b[0mconfig\u001b[0m\u001b[0;34m)\u001b[0m\u001b[0;34m:\u001b[0m\u001b[0;34m\u001b[0m\u001b[0;34m\u001b[0m\u001b[0m\n\u001b[0;32m--> 211\u001b[0;31m             \u001b[0;32mreturn\u001b[0m \u001b[0mself\u001b[0m\u001b[0;34m.\u001b[0m\u001b[0mfunction\u001b[0m\u001b[0;34m(\u001b[0m\u001b[0;34m*\u001b[0m\u001b[0margs\u001b[0m\u001b[0;34m,\u001b[0m \u001b[0;34m**\u001b[0m\u001b[0mkwargs\u001b[0m\u001b[0;34m)\u001b[0m\u001b[0;34m\u001b[0m\u001b[0;34m\u001b[0m\u001b[0m\n\u001b[0m\u001b[1;32m    212\u001b[0m \u001b[0;34m\u001b[0m\u001b[0m\n\u001b[1;32m    213\u001b[0m \u001b[0;34m\u001b[0m\u001b[0m\n",
      "\u001b[0;32m/opt/anaconda/anaconda3/lib/python3.7/site-packages/sklearn/model_selection/_validation.py\u001b[0m in \u001b[0;36m_fit_and_score\u001b[0;34m(estimator, X, y, scorer, train, test, verbose, parameters, fit_params, return_train_score, return_parameters, return_n_test_samples, return_times, return_estimator, split_progress, candidate_progress, error_score)\u001b[0m\n\u001b[1;32m    679\u001b[0m             \u001b[0mestimator\u001b[0m\u001b[0;34m.\u001b[0m\u001b[0mfit\u001b[0m\u001b[0;34m(\u001b[0m\u001b[0mX_train\u001b[0m\u001b[0;34m,\u001b[0m \u001b[0;34m**\u001b[0m\u001b[0mfit_params\u001b[0m\u001b[0;34m)\u001b[0m\u001b[0;34m\u001b[0m\u001b[0;34m\u001b[0m\u001b[0m\n\u001b[1;32m    680\u001b[0m         \u001b[0;32melse\u001b[0m\u001b[0;34m:\u001b[0m\u001b[0;34m\u001b[0m\u001b[0;34m\u001b[0m\u001b[0m\n\u001b[0;32m--> 681\u001b[0;31m             \u001b[0mestimator\u001b[0m\u001b[0;34m.\u001b[0m\u001b[0mfit\u001b[0m\u001b[0;34m(\u001b[0m\u001b[0mX_train\u001b[0m\u001b[0;34m,\u001b[0m \u001b[0my_train\u001b[0m\u001b[0;34m,\u001b[0m \u001b[0;34m**\u001b[0m\u001b[0mfit_params\u001b[0m\u001b[0;34m)\u001b[0m\u001b[0;34m\u001b[0m\u001b[0;34m\u001b[0m\u001b[0m\n\u001b[0m\u001b[1;32m    682\u001b[0m \u001b[0;34m\u001b[0m\u001b[0m\n\u001b[1;32m    683\u001b[0m     \u001b[0;32mexcept\u001b[0m \u001b[0mException\u001b[0m\u001b[0;34m:\u001b[0m\u001b[0;34m\u001b[0m\u001b[0;34m\u001b[0m\u001b[0m\n",
      "\u001b[0;32m/opt/anaconda/anaconda3/lib/python3.7/site-packages/lightgbm/sklearn.py\u001b[0m in \u001b[0;36mfit\u001b[0;34m(self, X, y, sample_weight, init_score, eval_set, eval_names, eval_sample_weight, eval_class_weight, eval_init_score, eval_metric, early_stopping_rounds, verbose, feature_name, categorical_feature, callbacks, init_model)\u001b[0m\n\u001b[1;32m    855\u001b[0m                                         \u001b[0mverbose\u001b[0m\u001b[0;34m=\u001b[0m\u001b[0mverbose\u001b[0m\u001b[0;34m,\u001b[0m \u001b[0mfeature_name\u001b[0m\u001b[0;34m=\u001b[0m\u001b[0mfeature_name\u001b[0m\u001b[0;34m,\u001b[0m\u001b[0;34m\u001b[0m\u001b[0;34m\u001b[0m\u001b[0m\n\u001b[1;32m    856\u001b[0m                                         \u001b[0mcategorical_feature\u001b[0m\u001b[0;34m=\u001b[0m\u001b[0mcategorical_feature\u001b[0m\u001b[0;34m,\u001b[0m\u001b[0;34m\u001b[0m\u001b[0;34m\u001b[0m\u001b[0m\n\u001b[0;32m--> 857\u001b[0;31m                                         callbacks=callbacks, init_model=init_model)\n\u001b[0m\u001b[1;32m    858\u001b[0m         \u001b[0;32mreturn\u001b[0m \u001b[0mself\u001b[0m\u001b[0;34m\u001b[0m\u001b[0;34m\u001b[0m\u001b[0m\n\u001b[1;32m    859\u001b[0m \u001b[0;34m\u001b[0m\u001b[0m\n",
      "\u001b[0;32m/opt/anaconda/anaconda3/lib/python3.7/site-packages/lightgbm/sklearn.py\u001b[0m in \u001b[0;36mfit\u001b[0;34m(self, X, y, sample_weight, init_score, group, eval_set, eval_names, eval_sample_weight, eval_class_weight, eval_init_score, eval_group, eval_metric, early_stopping_rounds, verbose, feature_name, categorical_feature, callbacks, init_model)\u001b[0m\n\u001b[1;32m    615\u001b[0m                               \u001b[0mevals_result\u001b[0m\u001b[0;34m=\u001b[0m\u001b[0mevals_result\u001b[0m\u001b[0;34m,\u001b[0m \u001b[0mfobj\u001b[0m\u001b[0;34m=\u001b[0m\u001b[0mself\u001b[0m\u001b[0;34m.\u001b[0m\u001b[0m_fobj\u001b[0m\u001b[0;34m,\u001b[0m \u001b[0mfeval\u001b[0m\u001b[0;34m=\u001b[0m\u001b[0meval_metrics_callable\u001b[0m\u001b[0;34m,\u001b[0m\u001b[0;34m\u001b[0m\u001b[0;34m\u001b[0m\u001b[0m\n\u001b[1;32m    616\u001b[0m                               \u001b[0mverbose_eval\u001b[0m\u001b[0;34m=\u001b[0m\u001b[0mverbose\u001b[0m\u001b[0;34m,\u001b[0m \u001b[0mfeature_name\u001b[0m\u001b[0;34m=\u001b[0m\u001b[0mfeature_name\u001b[0m\u001b[0;34m,\u001b[0m\u001b[0;34m\u001b[0m\u001b[0;34m\u001b[0m\u001b[0m\n\u001b[0;32m--> 617\u001b[0;31m                               callbacks=callbacks, init_model=init_model)\n\u001b[0m\u001b[1;32m    618\u001b[0m \u001b[0;34m\u001b[0m\u001b[0m\n\u001b[1;32m    619\u001b[0m         \u001b[0;32mif\u001b[0m \u001b[0mevals_result\u001b[0m\u001b[0;34m:\u001b[0m\u001b[0;34m\u001b[0m\u001b[0;34m\u001b[0m\u001b[0m\n",
      "\u001b[0;32m/opt/anaconda/anaconda3/lib/python3.7/site-packages/lightgbm/engine.py\u001b[0m in \u001b[0;36mtrain\u001b[0;34m(params, train_set, num_boost_round, valid_sets, valid_names, fobj, feval, init_model, feature_name, categorical_feature, early_stopping_rounds, evals_result, verbose_eval, learning_rates, keep_training_booster, callbacks)\u001b[0m\n\u001b[1;32m    250\u001b[0m                                     evaluation_result_list=None))\n\u001b[1;32m    251\u001b[0m \u001b[0;34m\u001b[0m\u001b[0m\n\u001b[0;32m--> 252\u001b[0;31m         \u001b[0mbooster\u001b[0m\u001b[0;34m.\u001b[0m\u001b[0mupdate\u001b[0m\u001b[0;34m(\u001b[0m\u001b[0mfobj\u001b[0m\u001b[0;34m=\u001b[0m\u001b[0mfobj\u001b[0m\u001b[0;34m)\u001b[0m\u001b[0;34m\u001b[0m\u001b[0;34m\u001b[0m\u001b[0m\n\u001b[0m\u001b[1;32m    253\u001b[0m \u001b[0;34m\u001b[0m\u001b[0m\n\u001b[1;32m    254\u001b[0m         \u001b[0mevaluation_result_list\u001b[0m \u001b[0;34m=\u001b[0m \u001b[0;34m[\u001b[0m\u001b[0;34m]\u001b[0m\u001b[0;34m\u001b[0m\u001b[0;34m\u001b[0m\u001b[0m\n",
      "\u001b[0;32m/opt/anaconda/anaconda3/lib/python3.7/site-packages/lightgbm/basic.py\u001b[0m in \u001b[0;36mupdate\u001b[0;34m(self, train_set, fobj)\u001b[0m\n\u001b[1;32m   2458\u001b[0m             _safe_call(_LIB.LGBM_BoosterUpdateOneIter(\n\u001b[1;32m   2459\u001b[0m                 \u001b[0mself\u001b[0m\u001b[0;34m.\u001b[0m\u001b[0mhandle\u001b[0m\u001b[0;34m,\u001b[0m\u001b[0;34m\u001b[0m\u001b[0;34m\u001b[0m\u001b[0m\n\u001b[0;32m-> 2460\u001b[0;31m                 ctypes.byref(is_finished)))\n\u001b[0m\u001b[1;32m   2461\u001b[0m             \u001b[0mself\u001b[0m\u001b[0;34m.\u001b[0m\u001b[0m__is_predicted_cur_iter\u001b[0m \u001b[0;34m=\u001b[0m \u001b[0;34m[\u001b[0m\u001b[0;32mFalse\u001b[0m \u001b[0;32mfor\u001b[0m \u001b[0m_\u001b[0m \u001b[0;32min\u001b[0m \u001b[0mrange_\u001b[0m\u001b[0;34m(\u001b[0m\u001b[0mself\u001b[0m\u001b[0;34m.\u001b[0m\u001b[0m__num_dataset\u001b[0m\u001b[0;34m)\u001b[0m\u001b[0;34m]\u001b[0m\u001b[0;34m\u001b[0m\u001b[0;34m\u001b[0m\u001b[0m\n\u001b[1;32m   2462\u001b[0m             \u001b[0;32mreturn\u001b[0m \u001b[0mis_finished\u001b[0m\u001b[0;34m.\u001b[0m\u001b[0mvalue\u001b[0m \u001b[0;34m==\u001b[0m \u001b[0;36m1\u001b[0m\u001b[0;34m\u001b[0m\u001b[0;34m\u001b[0m\u001b[0m\n",
      "\u001b[0;31mKeyboardInterrupt\u001b[0m: "
     ]
    }
   ],
   "source": [
    "lc = learning_curve(final_model, final_train_X, final_train_y)"
   ]
  },
  {
   "cell_type": "code",
   "execution_count": null,
   "id": "7bc03229",
   "metadata": {},
   "outputs": [],
   "source": [
    "train_score = lc[1].mean(axis=0)\n",
    "test_score = lc[2].mean(axis=0)"
   ]
  },
  {
   "cell_type": "code",
   "execution_count": null,
   "id": "8e78f124",
   "metadata": {},
   "outputs": [],
   "source": [
    "sns.lineplot(x= range(len(train_score)), y=train_score)\n",
    "sns.lineplot(x= range(len(train_score)), y=test_score);"
   ]
  },
  {
   "cell_type": "code",
   "execution_count": 204,
   "id": "91957534",
   "metadata": {},
   "outputs": [
    {
     "name": "stdout",
     "output_type": "stream",
     "text": [
      "dict_keys(['ax', 'cv', 'estimator', 'groups', 'logx', 'n_jobs', 'param_name', 'param_range', 'pre_dispatch', 'scoring', 'boosting_type', 'class_weight', 'colsample_bytree', 'importance_type', 'learning_rate', 'max_depth', 'min_child_samples', 'min_child_weight', 'min_split_gain', 'n_estimators', 'num_leaves', 'objective', 'random_state', 'reg_alpha', 'reg_lambda', 'silent', 'subsample', 'subsample_for_bin', 'subsample_freq']) \n",
      "\n",
      "\n",
      "dict_keys(['ax', 'cv', 'estimator', 'groups', 'logx', 'n_jobs', 'param_name', 'param_range', 'pre_dispatch', 'scoring', 'boosting_type', 'class_weight', 'colsample_bytree', 'importance_type', 'learning_rate', 'max_depth', 'min_child_samples', 'min_child_weight', 'min_split_gain', 'n_estimators', 'num_leaves', 'objective', 'random_state', 'reg_alpha', 'reg_lambda', 'silent', 'subsample', 'subsample_for_bin', 'subsample_freq']) \n",
      "\n",
      "\n",
      "dict_keys(['ax', 'cv', 'estimator', 'groups', 'logx', 'n_jobs', 'param_name', 'param_range', 'pre_dispatch', 'scoring', 'boosting_type', 'class_weight', 'colsample_bytree', 'importance_type', 'learning_rate', 'max_depth', 'min_child_samples', 'min_child_weight', 'min_split_gain', 'n_estimators', 'num_leaves', 'objective', 'random_state', 'reg_alpha', 'reg_lambda', 'silent', 'subsample', 'subsample_for_bin', 'subsample_freq']) \n",
      "\n",
      "\n",
      "dict_keys(['ax', 'cv', 'estimator', 'groups', 'logx', 'n_jobs', 'param_name', 'param_range', 'pre_dispatch', 'scoring', 'boosting_type', 'class_weight', 'colsample_bytree', 'importance_type', 'learning_rate', 'max_depth', 'min_child_samples', 'min_child_weight', 'min_split_gain', 'n_estimators', 'num_leaves', 'objective', 'random_state', 'reg_alpha', 'reg_lambda', 'silent', 'subsample', 'subsample_for_bin', 'subsample_freq']) \n",
      "\n",
      "\n",
      "dict_keys(['ax', 'cv', 'estimator', 'groups', 'logx', 'n_jobs', 'param_name', 'param_range', 'pre_dispatch', 'scoring', 'boosting_type', 'class_weight', 'colsample_bytree', 'importance_type', 'learning_rate', 'max_depth', 'min_child_samples', 'min_child_weight', 'min_split_gain', 'n_estimators', 'num_leaves', 'objective', 'random_state', 'reg_alpha', 'reg_lambda', 'silent', 'subsample', 'subsample_for_bin', 'subsample_freq']) \n",
      "\n",
      "\n",
      "dict_keys(['ax', 'cv', 'estimator', 'groups', 'logx', 'n_jobs', 'param_name', 'param_range', 'pre_dispatch', 'scoring', 'boosting_type', 'class_weight', 'colsample_bytree', 'importance_type', 'learning_rate', 'max_depth', 'min_child_samples', 'min_child_weight', 'min_split_gain', 'n_estimators', 'num_leaves', 'objective', 'random_state', 'reg_alpha', 'reg_lambda', 'silent', 'subsample', 'subsample_for_bin', 'subsample_freq']) \n",
      "\n",
      "\n",
      "dict_keys(['ax', 'cv', 'estimator', 'groups', 'logx', 'n_jobs', 'param_name', 'param_range', 'pre_dispatch', 'scoring', 'boosting_type', 'class_weight', 'colsample_bytree', 'importance_type', 'learning_rate', 'max_depth', 'min_child_samples', 'min_child_weight', 'min_split_gain', 'n_estimators', 'num_leaves', 'objective', 'random_state', 'reg_alpha', 'reg_lambda', 'silent', 'subsample', 'subsample_for_bin', 'subsample_freq']) \n",
      "\n",
      "\n"
     ]
    },
    {
     "data": {
      "image/png": "[encoded data removed]",
      "text/plain": [
       "<Figure size 576x396 with 1 Axes>"
      ]
     },
     "metadata": {},
     "output_type": "display_data"
    }
   ],
   "source": [
    "# Validation Curve\n",
    "\n",
    "lgb_yb = LGBMClassifier()\n",
    "\n",
    "visualizer = ValidationCurve(\n",
    "    lgb_yb, param_name = 'n_estimators', param_range =[200, 400, 600, 800, 1000, 1200, 1400, 1600, 1800, 2000, 2200, 2400], cv=10, scoring='roc_auc')\n",
    "\n",
    "visualizer.fit(final_train_X, final_train_y)        # Fit the data to the visualizer\n",
    "visualizer.show();"
   ]
  },
  {
   "cell_type": "code",
   "execution_count": null,
   "id": "53bb79fc",
   "metadata": {},
   "outputs": [],
   "source": [
    "lgb_yb = LGBMClassifier()\n",
    "\n",
    "visualizer = LearningCurve(\n",
    "    lgb_yb, param_name = 'n_estimators', param_range =[200, 400, 600, 800, 1000, 1200, 1400, 1600, 1800, 2000, 2200, 2400], cv=10, scoring='roc_auc', train_sizes=lc[0], n_jobs=4\n",
    ")\n",
    "\n",
    "visualizer.fit(final_train_X, final_train_y)        # Fit the data to the visualizer\n",
    "visualizer.show();"
   ]
  },
  {
   "cell_type": "code",
   "execution_count": 183,
   "id": "2e28f042",
   "metadata": {},
   "outputs": [
    {
     "data": {
      "text/plain": [
       "LGBMClassifier(n_estimators=1600)"
      ]
     },
     "execution_count": 183,
     "metadata": {},
     "output_type": "execute_result"
    }
   ],
   "source": [
    "final_model = LGBMClassifier(n_estimators=1600)\n",
    "final_model.fit(final_train_X, final_train_y)"
   ]
  },
  {
   "cell_type": "code",
   "execution_count": null,
   "id": "ad09d03a",
   "metadata": {},
   "outputs": [],
   "source": [
    "lgb = LGBMClassifier(n_estimators = 1000, class_weight={0:1, 1:0.55})\n",
    "\n",
    "param_grid = {'max_depth': np.arange(5,20),\n",
    "             'min_child_samples' : np.arange(5,30),\n",
    "             'learning_rate': np.arange(0.001, 0.1, 0.005),\n",
    "             'num_leaves': np.arange(10, 30)} # {'num_leaves': 13, 'min_child_samples': 28, 'max_depth': 9, 'learning_rate': 0.006} # 0.7967939748853456\n",
    "\n",
    "lgb_cv = RandomizedSearchCV(lgb, param_grid, cv=2, scoring='roc_auc', n_iter=20, n_jobs=-1) \n",
    "lgb_cv.fit(final_train_X, final_train_y)"
   ]
  },
  {
   "cell_type": "code",
   "execution_count": 892,
   "id": "ec55e628",
   "metadata": {},
   "outputs": [
    {
     "data": {
      "text/plain": [
       "0           108\n",
       "1           108\n",
       "2           108\n",
       "3           108\n",
       "4           108\n",
       "           ... \n",
       "2324809    7509\n",
       "2324810    7509\n",
       "2324811    7509\n",
       "2324812    7509\n",
       "2324813    7509\n",
       "Name: unique_id, Length: 877909, dtype: int64"
      ]
     },
     "execution_count": 892,
     "metadata": {},
     "output_type": "execute_result"
    }
   ],
   "source": [
    "preds #877909\n",
    "test_ids #877989"
   ]
  },
  {
   "cell_type": "code",
   "execution_count": null,
   "id": "2b937395",
   "metadata": {},
   "outputs": [],
   "source": []
  },
  {
   "cell_type": "markdown",
   "id": "9e8ad067",
   "metadata": {},
   "source": [
    "# Create Predictions"
   ]
  },
  {
   "cell_type": "code",
   "execution_count": 184,
   "id": "bc727e02",
   "metadata": {},
   "outputs": [],
   "source": [
    "# For LightGBM\n",
    "preds = final_model.predict_proba(final_test_X)[:,1]"
   ]
  },
  {
   "cell_type": "code",
   "execution_count": 2,
   "id": "66f918f7",
   "metadata": {
    "collapsed": true
   },
   "outputs": [
    {
     "ename": "NameError",
     "evalue": "name 'automl_pred' is not defined",
     "output_type": "error",
     "traceback": [
      "\u001b[1;31m---------------------------------------------------------------------------\u001b[0m",
      "\u001b[1;31mNameError\u001b[0m                                 Traceback (most recent call last)",
      "\u001b[1;32m~\\AppData\\Local\\Temp/ipykernel_8176/4124744839.py\u001b[0m in \u001b[0;36m<module>\u001b[1;34m\u001b[0m\n\u001b[0;32m      1\u001b[0m \u001b[1;31m# For AutoML\u001b[0m\u001b[1;33m\u001b[0m\u001b[1;33m\u001b[0m\u001b[1;33m\u001b[0m\u001b[0m\n\u001b[1;32m----> 2\u001b[1;33m \u001b[0mpreds\u001b[0m \u001b[1;33m=\u001b[0m \u001b[0mautoml_pred\u001b[0m\u001b[1;33m[\u001b[0m\u001b[1;34m'p1'\u001b[0m\u001b[1;33m]\u001b[0m\u001b[1;33m\u001b[0m\u001b[1;33m\u001b[0m\u001b[0m\n\u001b[0m",
      "\u001b[1;31mNameError\u001b[0m: name 'automl_pred' is not defined"
     ]
    }
   ],
   "source": [
    "# For AutoML\n",
    "preds = automl_pred['p1']\n",
    "automl_pred = preds.as_data_frame()"
   ]
  },
  {
   "cell_type": "code",
   "execution_count": 3,
   "id": "c6a01de7",
   "metadata": {},
   "outputs": [],
   "source": [
    "# Common for both"
   ]
  },
  {
   "cell_type": "code",
   "execution_count": 1201,
   "id": "e988e775",
   "metadata": {},
   "outputs": [],
   "source": [
    "results = pd.DataFrame({'id': list(onehot_test_ids),\n",
    "                       'prob':list(preds)})"
   ]
  },
  {
   "cell_type": "code",
   "execution_count": 1202,
   "id": "294e91a9",
   "metadata": {},
   "outputs": [
    {
     "data": {
      "text/plain": [
       "1.0"
      ]
     },
     "execution_count": 1202,
     "metadata": {},
     "output_type": "execute_result"
    }
   ],
   "source": [
    "results['prob'].mean()"
   ]
  },
  {
   "cell_type": "code",
   "execution_count": 1174,
   "id": "19010e06",
   "metadata": {},
   "outputs": [
    {
     "data": {
      "text/html": [
       "<div>\n",
       "<style scoped>\n",
       "    .dataframe tbody tr th:only-of-type {\n",
       "        vertical-align: middle;\n",
       "    }\n",
       "\n",
       "    .dataframe tbody tr th {\n",
       "        vertical-align: top;\n",
       "    }\n",
       "\n",
       "    .dataframe thead th {\n",
       "        text-align: right;\n",
       "    }\n",
       "</style>\n",
       "<table border=\"1\" class=\"dataframe\">\n",
       "  <thead>\n",
       "    <tr style=\"text-align: right;\">\n",
       "      <th></th>\n",
       "      <th>id</th>\n",
       "      <th>prob</th>\n",
       "    </tr>\n",
       "  </thead>\n",
       "  <tbody>\n",
       "    <tr>\n",
       "      <th>0</th>\n",
       "      <td>9</td>\n",
       "      <td>0.9621</td>\n",
       "    </tr>\n",
       "    <tr>\n",
       "      <th>1</th>\n",
       "      <td>18</td>\n",
       "      <td>0.9615</td>\n",
       "    </tr>\n",
       "    <tr>\n",
       "      <th>2</th>\n",
       "      <td>21</td>\n",
       "      <td>0.9671</td>\n",
       "    </tr>\n",
       "    <tr>\n",
       "      <th>3</th>\n",
       "      <td>25</td>\n",
       "      <td>0.9841</td>\n",
       "    </tr>\n",
       "    <tr>\n",
       "      <th>4</th>\n",
       "      <td>31</td>\n",
       "      <td>0.9742</td>\n",
       "    </tr>\n",
       "    <tr>\n",
       "      <th>...</th>\n",
       "      <td>...</td>\n",
       "      <td>...</td>\n",
       "    </tr>\n",
       "    <tr>\n",
       "      <th>2375</th>\n",
       "      <td>7982</td>\n",
       "      <td>0.5853</td>\n",
       "    </tr>\n",
       "    <tr>\n",
       "      <th>2376</th>\n",
       "      <td>7990</td>\n",
       "      <td>0.4276</td>\n",
       "    </tr>\n",
       "    <tr>\n",
       "      <th>2377</th>\n",
       "      <td>7993</td>\n",
       "      <td>0.4613</td>\n",
       "    </tr>\n",
       "    <tr>\n",
       "      <th>2378</th>\n",
       "      <td>7994</td>\n",
       "      <td>0.5185</td>\n",
       "    </tr>\n",
       "    <tr>\n",
       "      <th>2379</th>\n",
       "      <td>7998</td>\n",
       "      <td>0.4598</td>\n",
       "    </tr>\n",
       "  </tbody>\n",
       "</table>\n",
       "<p>2380 rows × 2 columns</p>\n",
       "</div>"
      ],
      "text/plain": [
       "        id   prob\n",
       "0        9 0.9621\n",
       "1       18 0.9615\n",
       "2       21 0.9671\n",
       "3       25 0.9841\n",
       "4       31 0.9742\n",
       "...    ...    ...\n",
       "2375  7982 0.5853\n",
       "2376  7990 0.4276\n",
       "2377  7993 0.4613\n",
       "2378  7994 0.5185\n",
       "2379  7998 0.4598\n",
       "\n",
       "[2380 rows x 2 columns]"
      ]
     },
     "execution_count": 1174,
     "metadata": {},
     "output_type": "execute_result"
    }
   ],
   "source": [
    "pd.options.display.float_format = '{:.4f}'.format\n",
    "results"
   ]
  },
  {
   "cell_type": "code",
   "execution_count": 1175,
   "id": "9a475c99",
   "metadata": {},
   "outputs": [
    {
     "data": {
      "text/html": [
       "<div>\n",
       "<style scoped>\n",
       "    .dataframe tbody tr th:only-of-type {\n",
       "        vertical-align: middle;\n",
       "    }\n",
       "\n",
       "    .dataframe tbody tr th {\n",
       "        vertical-align: top;\n",
       "    }\n",
       "\n",
       "    .dataframe thead th {\n",
       "        text-align: right;\n",
       "    }\n",
       "</style>\n",
       "<table border=\"1\" class=\"dataframe\">\n",
       "  <thead>\n",
       "    <tr style=\"text-align: right;\">\n",
       "      <th></th>\n",
       "      <th>unique_id</th>\n",
       "    </tr>\n",
       "  </thead>\n",
       "  <tbody>\n",
       "    <tr>\n",
       "      <th>2375</th>\n",
       "      <td>7982</td>\n",
       "    </tr>\n",
       "    <tr>\n",
       "      <th>2376</th>\n",
       "      <td>7990</td>\n",
       "    </tr>\n",
       "    <tr>\n",
       "      <th>2377</th>\n",
       "      <td>7993</td>\n",
       "    </tr>\n",
       "    <tr>\n",
       "      <th>2378</th>\n",
       "      <td>7994</td>\n",
       "    </tr>\n",
       "    <tr>\n",
       "      <th>2379</th>\n",
       "      <td>7998</td>\n",
       "    </tr>\n",
       "  </tbody>\n",
       "</table>\n",
       "</div>"
      ],
      "text/plain": [
       "      unique_id\n",
       "2375       7982\n",
       "2376       7990\n",
       "2377       7993\n",
       "2378       7994\n",
       "2379       7998"
      ]
     },
     "execution_count": 1175,
     "metadata": {},
     "output_type": "execute_result"
    }
   ],
   "source": [
    "expected_id.tail(5)"
   ]
  },
  {
   "cell_type": "code",
   "execution_count": 1176,
   "id": "d051a33d",
   "metadata": {},
   "outputs": [],
   "source": [
    "expected = expected_id['unique_id']"
   ]
  },
  {
   "cell_type": "code",
   "execution_count": 1177,
   "id": "c47c2879",
   "metadata": {},
   "outputs": [],
   "source": [
    "preds = results.groupby('id').apply(np.mean)['prob']"
   ]
  },
  {
   "cell_type": "code",
   "execution_count": 1178,
   "id": "06878ae5",
   "metadata": {},
   "outputs": [
    {
     "data": {
      "text/plain": [
       "id\n",
       "9      0.9621\n",
       "18     0.9615\n",
       "21     0.9671\n",
       "25     0.9841\n",
       "31     0.9742\n",
       "        ...  \n",
       "7982   0.5853\n",
       "7990   0.4276\n",
       "7993   0.4613\n",
       "7994   0.5185\n",
       "7998   0.4598\n",
       "Name: prob, Length: 2380, dtype: float64"
      ]
     },
     "execution_count": 1178,
     "metadata": {},
     "output_type": "execute_result"
    }
   ],
   "source": [
    "preds"
   ]
  },
  {
   "cell_type": "code",
   "execution_count": 1179,
   "id": "44a2d46d",
   "metadata": {},
   "outputs": [],
   "source": [
    "array_0 = np.array(preds).round(6).astype(str)\n",
    "final_0 = \", \".join(list(array_0))"
   ]
  },
  {
   "cell_type": "code",
   "execution_count": 1180,
   "id": "3f4bc81d",
   "metadata": {},
   "outputs": [
    {
     "data": {
      "text/plain": [
       "'0.962103, 0.961534, 0.967094, 0.984083, 0.974208, 0.983921, 0.950656, 0.307145, 0.576948, 0.975841, 0.356636, 0.084387, 0.951417, 0.98649, 0.976529, 0.976415, 0.445073, 0.12022, 0.961986, 0.97302, 0.962645, 0.848752, 0.981557, 0.969937, 0.977491, 0.994073, 0.913915, 0.974721, 0.935646, 0.95762, 0.982128, 0.965702, 0.962886, 0.936615, 0.925219, 0.97454, 0.750289, 0.687991, 0.967936, 0.963946, 0.961775, 0.912914, 0.935763, 0.980881, 0.972861, 0.96817, 0.99118, 0.543053, 0.416366, 0.238683, 0.403922, 0.978805, 0.948943, 0.10627, 0.378291, 0.126745, 0.984212, 0.961637, 0.983568, 0.981926, 0.983505, 0.842396, 0.120782, 0.981706, 0.990331, 0.827641, 0.974982, 0.966465, 0.969189, 0.987154, 0.99282, 0.908851, 0.967674, 0.971312, 0.965339, 0.72453, 0.930647, 0.983319, 0.957439, 0.874659, 0.262463, 0.911089, 0.990256, 0.273899, 0.982406, 0.973946, 0.758133, 0.981508, 0.980113, 0.962827, 0.987907, 0.932363, 0.707855, 0.976905, 0.188835, 0.925003, 0.948547, 0.949065, 0.461994, 0.981317, 0.975484, 0.973947, 0.983578, 0.937138, 0.638525, 0.406944, 0.427401, 0.851416, 0.958225, 0.533519, 0.976587, 0.986583, 0.976333, 0.959809, 0.879583, 0.969533, 0.957364, 0.963954, 0.974551, 0.870995, 0.970786, 0.990875, 0.539149, 0.754487, 0.993108, 0.898649, 0.985813, 0.967089, 0.133357, 0.145394, 0.968706, 0.595274, 0.158976, 0.942745, 0.887123, 0.942043, 0.886813, 0.954067, 0.803387, 0.98267, 0.199725, 0.886826, 0.962478, 0.974804, 0.777381, 0.972507, 0.971163, 0.916214, 0.251826, 0.928861, 0.983441, 0.975774, 0.986146, 0.990187, 0.30948, 0.907418, 0.973374, 0.961934, 0.98328, 0.876234, 0.936649, 0.968341, 0.971287, 0.716424, 0.986917, 0.959026, 0.782047, 0.968299, 0.983873, 0.464713, 0.981056, 0.729605, 0.625396, 0.975013, 0.949093, 0.966091, 0.970348, 0.943943, 0.420571, 0.7592, 0.30986, 0.265763, 0.951018, 0.231794, 0.241825, 0.94075, 0.980751, 0.992935, 0.96087, 0.917435, 0.983483, 0.279363, 0.308609, 0.97415, 0.953548, 0.243091, 0.967232, 0.411668, 0.978428, 0.768091, 0.839668, 0.968981, 0.986864, 0.972637, 0.941716, 0.945876, 0.433194, 0.256529, 0.298976, 0.062503, 0.976141, 0.980668, 0.209329, 0.987426, 0.958962, 0.582496, 0.97802, 0.977557, 0.485514, 0.970199, 0.735222, 0.944776, 0.283457, 0.937731, 0.939408, 0.234224, 0.246577, 0.899492, 0.554291, 0.234408, 0.126885, 0.930387, 0.863223, 0.987528, 0.338433, 0.982821, 0.980934, 0.937039, 0.98673, 0.984156, 0.178297, 0.982592, 0.987268, 0.971348, 0.985905, 0.3791, 0.975587, 0.20385, 0.958053, 0.967531, 0.891845, 0.167266, 0.934542, 0.973614, 0.104749, 0.920568, 0.990076, 0.975463, 0.456607, 0.158411, 0.970883, 0.681587, 0.282099, 0.966669, 0.984684, 0.973843, 0.68664, 0.990249, 0.92282, 0.168468, 0.881314, 0.925816, 0.975348, 0.709045, 0.971687, 0.947148, 0.976017, 0.854772, 0.92306, 0.980876, 0.940266, 0.972447, 0.204303, 0.959768, 0.801244, 0.227749, 0.869445, 0.959935, 0.647193, 0.963087, 0.199097, 0.116599, 0.228057, 0.951871, 0.721891, 0.177925, 0.980834, 0.16179, 0.919203, 0.945612, 0.936864, 0.981969, 0.971683, 0.968609, 0.980365, 0.985614, 0.977352, 0.934649, 0.960113, 0.931335, 0.993442, 0.968555, 0.131902, 0.966738, 0.958417, 0.218864, 0.98386, 0.347974, 0.857786, 0.651886, 0.882489, 0.935282, 0.507624, 0.268474, 0.95263, 0.869202, 0.275655, 0.942292, 0.89034, 0.650297, 0.14842, 0.975152, 0.172425, 0.985737, 0.96635, 0.838886, 0.978274, 0.988828, 0.107562, 0.915104, 0.707683, 0.984465, 0.977115, 0.973137, 0.94533, 0.981489, 0.933985, 0.191803, 0.953233, 0.985934, 0.423017, 0.270783, 0.969665, 0.937028, 0.421681, 0.975719, 0.940585, 0.974226, 0.979807, 0.981001, 0.98784, 0.948064, 0.587131, 0.968671, 0.966123, 0.889206, 0.226635, 0.9808, 0.950156, 0.098687, 0.922556, 0.970138, 0.936521, 0.987805, 0.880279, 0.94187, 0.918391, 0.961804, 0.96618, 0.909082, 0.909054, 0.962693, 0.109144, 0.729821, 0.971643, 0.953578, 0.166181, 0.983039, 0.989023, 0.913577, 0.165632, 0.975519, 0.744469, 0.985381, 0.89178, 0.971899, 0.989942, 0.987576, 0.989105, 0.966388, 0.849934, 0.948932, 0.992433, 0.70729, 0.979325, 0.903712, 0.317801, 0.167014, 0.938914, 0.494582, 0.292984, 0.269838, 0.960316, 0.840889, 0.918408, 0.156273, 0.887964, 0.37409, 0.519557, 0.826112, 0.984971, 0.960802, 0.964605, 0.966411, 0.798553, 0.563272, 0.408077, 0.216446, 0.984348, 0.757191, 0.869187, 0.184019, 0.077436, 0.985684, 0.454844, 0.977126, 0.959681, 0.929566, 0.385667, 0.980137, 0.168176, 0.887658, 0.944049, 0.420023, 0.963651, 0.745253, 0.518548, 0.9865, 0.083528, 0.450888, 0.980221, 0.846558, 0.265193, 0.984677, 0.873991, 0.968445, 0.979848, 0.990051, 0.977513, 0.982068, 0.984264, 0.502065, 0.980732, 0.910904, 0.945516, 0.977981, 0.177735, 0.872998, 0.360789, 0.962427, 0.872105, 0.513568, 0.195291, 0.97923, 0.914882, 0.940193, 0.965871, 0.977076, 0.342293, 0.854625, 0.212133, 0.703487, 0.991463, 0.132158, 0.32181, 0.236853, 0.978247, 0.918456, 0.957139, 0.256387, 0.143539, 0.912331, 0.329644, 0.956682, 0.482356, 0.987662, 0.980966, 0.43067, 0.679398, 0.166236, 0.973468, 0.957561, 0.989847, 0.682838, 0.166543, 0.976767, 0.376301, 0.983624, 0.98643, 0.623811, 0.979176, 0.828327, 0.96665, 0.626137, 0.251885, 0.183823, 0.141883, 0.277609, 0.747295, 0.166745, 0.342945, 0.220345, 0.175426, 0.430866, 0.87534, 0.987451, 0.980543, 0.985817, 0.972086, 0.96703, 0.217857, 0.973669, 0.781074, 0.151846, 0.978416, 0.918437, 0.790747, 0.112484, 0.582554, 0.456704, 0.198757, 0.899749, 0.449272, 0.121006, 0.946956, 0.174003, 0.148533, 0.911958, 0.87762, 0.635436, 0.986611, 0.975879, 0.975228, 0.963258, 0.959911, 0.930564, 0.086047, 0.700453, 0.381682, 0.92168, 0.964372, 0.177701, 0.880305, 0.973476, 0.422579, 0.974951, 0.949001, 0.304828, 0.503576, 0.798705, 0.966816, 0.425623, 0.091842, 0.143105, 0.763232, 0.962581, 0.88135, 0.73232, 0.962524, 0.986787, 0.990004, 0.290592, 0.927591, 0.970929, 0.412436, 0.993022, 0.978387, 0.840437, 0.983331, 0.891231, 0.964272, 0.983389, 0.920704, 0.175175, 0.952743, 0.976667, 0.991656, 0.23115, 0.386791, 0.980926, 0.978255, 0.98374, 0.649921, 0.945677, 0.230726, 0.655945, 0.383194, 0.952175, 0.88012, 0.855994, 0.976515, 0.987844, 0.110096, 0.858529, 0.093311, 0.965726, 0.835531, 0.238884, 0.208253, 0.277063, 0.981989, 0.981539, 0.972171, 0.971865, 0.968619, 0.537039, 0.129111, 0.985539, 0.957594, 0.988389, 0.933042, 0.915775, 0.4159, 0.159849, 0.892189, 0.402572, 0.459815, 0.171346, 0.865516, 0.966414, 0.969444, 0.979535, 0.757959, 0.323124, 0.973035, 0.203115, 0.351912, 0.926699, 0.978493, 0.893034, 0.848807, 0.296125, 0.105295, 0.92152, 0.976142, 0.935109, 0.921006, 0.462965, 0.943686, 0.989041, 0.734983, 0.888171, 0.208051, 0.35328, 0.402014, 0.345189, 0.975702, 0.991171, 0.972855, 0.907058, 0.548545, 0.929108, 0.913876, 0.233947, 0.921614, 0.852238, 0.96739, 0.86906, 0.258371, 0.382252, 0.82858, 0.15557, 0.790463, 0.963668, 0.94877, 0.966036, 0.121338, 0.952782, 0.928424, 0.878604, 0.189773, 0.562747, 0.926388, 0.695507, 0.970895, 0.865124, 0.982918, 0.987446, 0.21491, 0.763413, 0.954468, 0.969096, 0.150857, 0.987053, 0.856738, 0.902927, 0.963435, 0.287317, 0.97177, 0.271808, 0.986363, 0.510169, 0.988322, 0.289171, 0.961828, 0.980157, 0.944152, 0.963544, 0.904454, 0.146851, 0.838207, 0.818703, 0.980285, 0.243635, 0.965407, 0.967621, 0.423259, 0.980642, 0.297569, 0.228549, 0.973451, 0.933613, 0.929109, 0.967592, 0.940762, 0.938614, 0.972267, 0.975002, 0.964896, 0.980683, 0.979746, 0.963265, 0.922053, 0.985242, 0.980087, 0.285281, 0.888645, 0.99221, 0.345677, 0.96065, 0.980779, 0.407196, 0.958224, 0.9761, 0.430141, 0.914876, 0.983987, 0.183477, 0.415525, 0.921993, 0.974701, 0.984344, 0.117064, 0.70848, 0.989217, 0.950953, 0.850778, 0.205106, 0.973791, 0.554274, 0.315743, 0.976634, 0.98175, 0.327132, 0.413696, 0.45011, 0.576494, 0.816737, 0.983775, 0.863689, 0.908229, 0.306642, 0.961996, 0.763712, 0.987702, 0.902373, 0.672186, 0.740274, 0.984607, 0.112495, 0.366062, 0.973387, 0.56959, 0.957944, 0.681877, 0.640441, 0.954195, 0.274873, 0.981324, 0.730949, 0.37635, 0.166332, 0.979909, 0.101199, 0.780284, 0.987895, 0.925535, 0.896072, 0.957957, 0.958776, 0.969194, 0.406322, 0.961237, 0.520499, 0.8308, 0.96977, 0.975085, 0.976942, 0.987937, 0.984092, 0.98767, 0.991406, 0.716927, 0.818721, 0.895096, 0.679416, 0.922913, 0.885379, 0.46951, 0.982095, 0.960676, 0.973513, 0.877234, 0.669252, 0.637656, 0.935619, 0.594961, 0.138514, 0.897884, 0.337931, 0.983307, 0.873057, 0.983138, 0.961209, 0.943526, 0.948894, 0.978625, 0.757518, 0.939936, 0.236346, 0.577113, 0.958683, 0.862953, 0.365763, 0.454788, 0.985857, 0.977333, 0.326264, 0.990479, 0.972808, 0.966116, 0.99262, 0.699789, 0.986881, 0.446667, 0.474104, 0.342609, 0.936512, 0.758373, 0.399062, 0.979735, 0.725437, 0.972747, 0.420654, 0.953471, 0.968387, 0.967694, 0.990252, 0.106708, 0.281317, 0.591089, 0.260714, 0.957638, 0.987131, 0.868763, 0.13713, 0.984722, 0.528485, 0.663652, 0.501899, 0.973788, 0.139897, 0.546005, 0.737378, 0.98753, 0.987652, 0.968783, 0.262023, 0.089344, 0.783771, 0.472465, 0.956082, 0.897739, 0.394014, 0.456226, 0.831904, 0.280443, 0.196904, 0.733837, 0.783183, 0.258323, 0.32217, 0.99127, 0.980351, 0.251271, 0.882993, 0.986261, 0.952197, 0.369871, 0.980873, 0.848867, 0.195898, 0.956666, 0.922451, 0.921054, 0.310242, 0.93744, 0.404734, 0.649605, 0.21035, 0.979484, 0.987531, 0.988181, 0.992024, 0.255607, 0.96745, 0.959028, 0.133617, 0.693426, 0.898577, 0.978908, 0.260863, 0.405946, 0.984076, 0.974851, 0.971438, 0.969899, 0.987824, 0.979284, 0.15909, 0.995809, 0.858508, 0.173322, 0.979706, 0.796607, 0.987644, 0.978363, 0.955171, 0.965361, 0.926045, 0.985683, 0.464312, 0.604781, 0.697774, 0.947487, 0.880645, 0.910281, 0.257194, 0.95516, 0.230015, 0.881299, 0.282581, 0.256615, 0.962554, 0.959512, 0.912079, 0.975861, 0.975173, 0.960529, 0.663021, 0.986745, 0.958152, 0.929055, 0.444876, 0.893624, 0.376279, 0.976959, 0.5666, 0.915337, 0.990645, 0.97802, 0.966335, 0.868705, 0.980712, 0.293604, 0.979347, 0.896985, 0.618888, 0.918877, 0.952699, 0.981817, 0.745395, 0.653361, 0.972118, 0.971948, 0.912556, 0.696748, 0.19496, 0.982117, 0.69893, 0.117082, 0.985349, 0.541358, 0.956479, 0.966404, 0.47892, 0.262603, 0.989886, 0.413025, 0.992511, 0.527771, 0.875581, 0.618229, 0.945756, 0.188994, 0.766151, 0.193836, 0.565724, 0.212221, 0.968597, 0.984842, 0.966941, 0.879418, 0.472703, 0.984247, 0.520091, 0.706187, 0.191876, 0.720232, 0.928688, 0.147665, 0.36637, 0.242087, 0.532501, 0.246724, 0.212776, 0.962832, 0.986785, 0.74917, 0.92631, 0.968572, 0.304434, 0.845816, 0.962793, 0.967424, 0.979275, 0.972401, 0.221174, 0.86742, 0.94646, 0.880067, 0.306518, 0.978461, 0.965557, 0.717833, 0.973963, 0.984085, 0.966805, 0.964724, 0.655465, 0.967579, 0.149981, 0.932284, 0.932247, 0.82438, 0.944425, 0.67463, 0.992418, 0.353051, 0.945839, 0.40959, 0.337526, 0.394572, 0.424037, 0.750806, 0.88845, 0.384525, 0.519899, 0.782767, 0.315633, 0.397687, 0.669168, 0.930733, 0.227767, 0.325226, 0.556125, 0.982752, 0.96077, 0.94157, 0.984553, 0.857989, 0.220071, 0.58986, 0.397401, 0.84317, 0.284577, 0.619261, 0.709393, 0.53517, 0.239481, 0.20145, 0.975227, 0.975702, 0.409241, 0.718792, 0.706158, 0.384718, 0.94687, 0.475822, 0.711425, 0.258565, 0.989425, 0.697768, 0.708754, 0.599652, 0.937824, 0.499538, 0.570303, 0.966273, 0.788855, 0.172611, 0.962759, 0.169235, 0.981114, 0.337821, 0.783046, 0.971318, 0.745282, 0.992162, 0.142025, 0.654379, 0.728084, 0.594068, 0.394131, 0.949555, 0.444067, 0.58635, 0.120289, 0.969711, 0.711493, 0.839901, 0.191144, 0.945762, 0.972779, 0.985231, 0.700114, 0.977255, 0.964384, 0.342219, 0.33882, 0.367996, 0.833852, 0.970296, 0.988732, 0.805201, 0.883631, 0.660291, 0.94258, 0.862481, 0.811278, 0.469575, 0.988068, 0.182277, 0.9593, 0.609002, 0.983376, 0.477582, 0.644816, 0.144537, 0.925377, 0.936907, 0.64158, 0.551142, 0.317068, 0.922758, 0.897335, 0.878791, 0.199191, 0.982091, 0.357849, 0.200236, 0.956976, 0.236004, 0.233803, 0.955994, 0.309759, 0.926619, 0.689958, 0.907009, 0.405465, 0.603195, 0.756017, 0.761552, 0.513289, 0.925239, 0.328786, 0.791653, 0.948633, 0.734609, 0.97995, 0.963537, 0.294375, 0.978087, 0.977238, 0.959627, 0.508914, 0.948142, 0.942088, 0.910859, 0.621533, 0.900802, 0.98551, 0.786378, 0.610583, 0.331055, 0.26585, 0.425561, 0.689733, 0.618259, 0.719458, 0.241325, 0.30075, 0.938035, 0.727007, 0.956605, 0.972752, 0.303952, 0.969501, 0.360094, 0.36392, 0.122456, 0.248755, 0.974277, 0.892113, 0.193005, 0.91154, 0.955876, 0.979463, 0.866137, 0.443786, 0.657215, 0.989705, 0.883268, 0.237885, 0.915712, 0.414311, 0.975564, 0.363706, 0.530634, 0.319983, 0.974966, 0.827013, 0.978909, 0.491656, 0.542563, 0.361009, 0.707013, 0.992906, 0.97735, 0.345499, 0.950503, 0.185213, 0.889872, 0.88038, 0.873717, 0.494105, 0.205318, 0.977229, 0.488749, 0.966664, 0.982768, 0.160989, 0.932768, 0.955044, 0.220913, 0.672742, 0.734918, 0.275276, 0.891909, 0.883899, 0.61411, 0.64528, 0.449335, 0.272296, 0.300356, 0.826124, 0.161922, 0.600438, 0.916118, 0.912167, 0.948443, 0.694302, 0.191134, 0.97445, 0.308579, 0.985654, 0.32452, 0.978775, 0.200326, 0.782032, 0.87743, 0.951543, 0.273424, 0.245834, 0.934206, 0.397747, 0.892864, 0.988728, 0.565429, 0.203624, 0.457015, 0.911813, 0.957506, 0.335436, 0.939482, 0.385922, 0.530339, 0.554, 0.728969, 0.966923, 0.671402, 0.97756, 0.526327, 0.288019, 0.635246, 0.988799, 0.490675, 0.616229, 0.590365, 0.192681, 0.209394, 0.976456, 0.708202, 0.870355, 0.412078, 0.789879, 0.857532, 0.973087, 0.975971, 0.205313, 0.98979, 0.382173, 0.891392, 0.755546, 0.837683, 0.71774, 0.602567, 0.794231, 0.773598, 0.888747, 0.983817, 0.336264, 0.536373, 0.363545, 0.955096, 0.424831, 0.217175, 0.944939, 0.131607, 0.415655, 0.807432, 0.905939, 0.447462, 0.956522, 0.755597, 0.194088, 0.401648, 0.378579, 0.461498, 0.548824, 0.280169, 0.747487, 0.251467, 0.404116, 0.28376, 0.963243, 0.29081, 0.309719, 0.139279, 0.340962, 0.788948, 0.925488, 0.796667, 0.429161, 0.419304, 0.390267, 0.483966, 0.337055, 0.484181, 0.216406, 0.716642, 0.338812, 0.202055, 0.911708, 0.387866, 0.541238, 0.513014, 0.497584, 0.352864, 0.982598, 0.188677, 0.578914, 0.538179, 0.408372, 0.290895, 0.297448, 0.940879, 0.431635, 0.426562, 0.75605, 0.195861, 0.299737, 0.378016, 0.901756, 0.903913, 0.193229, 0.962579, 0.681166, 0.339226, 0.619132, 0.166288, 0.39056, 0.428465, 0.717904, 0.968859, 0.784784, 0.444787, 0.560305, 0.349774, 0.425656, 0.601515, 0.75076, 0.370206, 0.408317, 0.382947, 0.919392, 0.333988, 0.132304, 0.192253, 0.381431, 0.810982, 0.29562, 0.273779, 0.5643, 0.745568, 0.2118, 0.41229, 0.876717, 0.324741, 0.94863, 0.865547, 0.229831, 0.322738, 0.919511, 0.22684, 0.667348, 0.596753, 0.971985, 0.768323, 0.426493, 0.267717, 0.825729, 0.541689, 0.947859, 0.936121, 0.70117, 0.199199, 0.897629, 0.208279, 0.541779, 0.876723, 0.872622, 0.9503, 0.901457, 0.80377, 0.895822, 0.965683, 0.363969, 0.88904, 0.603038, 0.702198, 0.273787, 0.934819, 0.924798, 0.716232, 0.657443, 0.951103, 0.974213, 0.793583, 0.905645, 0.307262, 0.980523, 0.985809, 0.956806, 0.693362, 0.985347, 0.939108, 0.964872, 0.874166, 0.862761, 0.737373, 0.909149, 0.163782, 0.983704, 0.360762, 0.891064, 0.335958, 0.938413, 0.615372, 0.691228, 0.414919, 0.531593, 0.959732, 0.955364, 0.751138, 0.949069, 0.988872, 0.895717, 0.759969, 0.919402, 0.227243, 0.950739, 0.967449, 0.120706, 0.964932, 0.325164, 0.116706, 0.771263, 0.4022, 0.671395, 0.993267, 0.553114, 0.921438, 0.952436, 0.133339, 0.156461, 0.179098, 0.859808, 0.201483, 0.263592, 0.236806, 0.935966, 0.148473, 0.337781, 0.965814, 0.22093, 0.938788, 0.955988, 0.863375, 0.966056, 0.939658, 0.212764, 0.958774, 0.232434, 0.430225, 0.900921, 0.982857, 0.981113, 0.27661, 0.587551, 0.908445, 0.971254, 0.863528, 0.856038, 0.925657, 0.240992, 0.886556, 0.251987, 0.468832, 0.963853, 0.885549, 0.939862, 0.136375, 0.779184, 0.797478, 0.230097, 0.919262, 0.33756, 0.900116, 0.934559, 0.984889, 0.857482, 0.26347, 0.970372, 0.234885, 0.931923, 0.322691, 0.334996, 0.893819, 0.870935, 0.973196, 0.775331, 0.872468, 0.927998, 0.343185, 0.327562, 0.327712, 0.306104, 0.94204, 0.384828, 0.243613, 0.883173, 0.850592, 0.770978, 0.887005, 0.986598, 0.28248, 0.207115, 0.973637, 0.343727, 0.921202, 0.53936, 0.969535, 0.594683, 0.967021, 0.308761, 0.339773, 0.336927, 0.729696, 0.925347, 0.246671, 0.161238, 0.376525, 0.425431, 0.860565, 0.889429, 0.919674, 0.887019, 0.960642, 0.278422, 0.930939, 0.933032, 0.303525, 0.223925, 0.241329, 0.970304, 0.924566, 0.96292, 0.95064, 0.95434, 0.773549, 0.959549, 0.936365, 0.925621, 0.458029, 0.925038, 0.820309, 0.864167, 0.873891, 0.183036, 0.239234, 0.964196, 0.936174, 0.262987, 0.913448, 0.636042, 0.952143, 0.916907, 0.982736, 0.906046, 0.795814, 0.979236, 0.947191, 0.91194, 0.810334, 0.913975, 0.4569, 0.377016, 0.786165, 0.812721, 0.720058, 0.139704, 0.951611, 0.977276, 0.229902, 0.648425, 0.912053, 0.371187, 0.933373, 0.874121, 0.90456, 0.84645, 0.983748, 0.811385, 0.218973, 0.973746, 0.913916, 0.286866, 0.90558, 0.166486, 0.4668, 0.573803, 0.605476, 0.579387, 0.862259, 0.918096, 0.43065, 0.947048, 0.958122, 0.872629, 0.462505, 0.934862, 0.221631, 0.879102, 0.911579, 0.908106, 0.958215, 0.889078, 0.705946, 0.940797, 0.91669, 0.828463, 0.813207, 0.568093, 0.814455, 0.243832, 0.246861, 0.191142, 0.23554, 0.82955, 0.964243, 0.960629, 0.19268, 0.906391, 0.660451, 0.220498, 0.922131, 0.686168, 0.508055, 0.346578, 0.216185, 0.411626, 0.673142, 0.899084, 0.890692, 0.22283, 0.925503, 0.76908, 0.473516, 0.248777, 0.435101, 0.190513, 0.343202, 0.855353, 0.590486, 0.573031, 0.948073, 0.94687, 0.289288, 0.506397, 0.71641, 0.928931, 0.259168, 0.802421, 0.626818, 0.72514, 0.933262, 0.313495, 0.271137, 0.402544, 0.315846, 0.894449, 0.944109, 0.359341, 0.336815, 0.914046, 0.855263, 0.962515, 0.436403, 0.798018, 0.853084, 0.816186, 0.915544, 0.939958, 0.870961, 0.552002, 0.906513, 0.919132, 0.775027, 0.905264, 0.326426, 0.857755, 0.643807, 0.797251, 0.842259, 0.322502, 0.229957, 0.237106, 0.383092, 0.956489, 0.528334, 0.257317, 0.84683, 0.546423, 0.716534, 0.254227, 0.354216, 0.696999, 0.237079, 0.127279, 0.854678, 0.443452, 0.894637, 0.452671, 0.49665, 0.545451, 0.193685, 0.389587, 0.71266, 0.645487, 0.675924, 0.423815, 0.796142, 0.620747, 0.622139, 0.803306, 0.567304, 0.652463, 0.821507, 0.279216, 0.879638, 0.72068, 0.57972, 0.38127, 0.696015, 0.355452, 0.952292, 0.381748, 0.435256, 0.217043, 0.327856, 0.665752, 0.875416, 0.505795, 0.583228, 0.684259, 0.6791, 0.681828, 0.182853, 0.681391, 0.614911, 0.626767, 0.503307, 0.766545, 0.601274, 0.839143, 0.238262, 0.735878, 0.691229, 0.502243, 0.71214, 0.755187, 0.61929, 0.452604, 0.20807, 0.941651, 0.661549, 0.701904, 0.718826, 0.498474, 0.701443, 0.646198, 0.379185, 0.455139, 0.254341, 0.358428, 0.484277, 0.393341, 0.589823, 0.788642, 0.898741, 0.907896, 0.946259, 0.820538, 0.687052, 0.913804, 0.565952, 0.735992, 0.786333, 0.940513, 0.852233, 0.815966, 0.889353, 0.742003, 0.793123, 0.954019, 0.636782, 0.916571, 0.778025, 0.405369, 0.846654, 0.451138, 0.614964, 0.613633, 0.533728, 0.974224, 0.762266, 0.921573, 0.514374, 0.810247, 0.902825, 0.940021, 0.786367, 0.919887, 0.500548, 0.660166, 0.350484, 0.623624, 0.625303, 0.360654, 0.784933, 0.553528, 0.572427, 0.590767, 0.546346, 0.643819, 0.309365, 0.7683, 0.459266, 0.869623, 0.622461, 0.465734, 0.614091, 0.642138, 0.697382, 0.593618, 0.407292, 0.581455, 0.749354, 0.839231, 0.439629, 0.314177, 0.725916, 0.356557, 0.693559, 0.549007, 0.292739, 0.586323, 0.503929, 0.626247, 0.659302, 0.307626, 0.650145, 0.955849, 0.206534, 0.696903, 0.865048, 0.679241, 0.885826, 0.948543, 0.716184, 0.844884, 0.677093, 0.914629, 0.934446, 0.910946, 0.266815, 0.700338, 0.406567, 0.455256, 0.501959, 0.603103, 0.382046, 0.484681, 0.535839, 0.280635, 0.518824, 0.49037, 0.323644, 0.737962, 0.815727, 0.385287, 0.56025, 0.461759, 0.543499, 0.384884, 0.37502, 0.405107, 0.362575, 0.933322, 0.338012, 0.370481, 0.947156, 0.616291, 0.834928, 0.31338, 0.428247, 0.776558, 0.407208, 0.890767, 0.595452, 0.891042, 0.71404, 0.803255, 0.578411, 0.494462, 0.384249, 0.247952, 0.481754, 0.49089, 0.335769, 0.44068, 0.588484, 0.366642, 0.680105, 0.897816, 0.850502, 0.861472, 0.743021, 0.507809, 0.531364, 0.576971, 0.902977, 0.899515, 0.590347, 0.497162, 0.563518, 0.490167, 0.613159, 0.510439, 0.727967, 0.661496, 0.450426, 0.314438, 0.374847, 0.39289, 0.895194, 0.627317, 0.448308, 0.37816, 0.419129, 0.556685, 0.53158, 0.381811, 0.822362, 0.940283, 0.632233, 0.450692, 0.822269, 0.803402, 0.616862, 0.682308, 0.752334, 0.541677, 0.639755, 0.686177, 0.321817, 0.37052, 0.713287, 0.429872, 0.348781, 0.374585, 0.395155, 0.345387, 0.557945, 0.305213, 0.459935, 0.739453, 0.506738, 0.931658, 0.670785, 0.51679, 0.883061, 0.941337, 0.902921, 0.614334, 0.306393, 0.647978, 0.671824, 0.242868, 0.610442, 0.252156, 0.519885, 0.430063, 0.311495, 0.514534, 0.472546, 0.513088, 0.462579, 0.293877, 0.614676, 0.367133, 0.67231, 0.498484, 0.724504, 0.939273, 0.376082, 0.351945, 0.707333, 0.614153, 0.921606, 0.52349, 0.4501, 0.510097, 0.902131, 0.740571, 0.688589, 0.518077, 0.423726, 0.803521, 0.559167, 0.719069, 0.465353, 0.392873, 0.425808, 0.3494, 0.45773, 0.274491, 0.506515, 0.757701, 0.446885, 0.793879, 0.281597, 0.444275, 0.289997, 0.771453, 0.814474, 0.885356, 0.227465, 0.74367, 0.466867, 0.921797, 0.687021, 0.930965, 0.659317, 0.278141, 0.584824, 0.299095, 0.385857, 0.625545, 0.538313, 0.632043, 0.542808, 0.635064, 0.632408, 0.626735, 0.695307, 0.87108, 0.618329, 0.71456, 0.549865, 0.614542, 0.458135, 0.797624, 0.562327, 0.938673, 0.47058, 0.710856, 0.708026, 0.346455, 0.696109, 0.911515, 0.270067, 0.714857, 0.216267, 0.517123, 0.931109, 0.629685, 0.642907, 0.736565, 0.474139, 0.834472, 0.547107, 0.33726, 0.372612, 0.407104, 0.431037, 0.424767, 0.548244, 0.586929, 0.47396, 0.541384, 0.357682, 0.379732, 0.591152, 0.817157, 0.215805, 0.665683, 0.803458, 0.727704, 0.318433, 0.415068, 0.391606, 0.517355, 0.432404, 0.822121, 0.354943, 0.47033, 0.593259, 0.515935, 0.347921, 0.549007, 0.481359, 0.504741, 0.634935, 0.366476, 0.617027, 0.551201, 0.592563, 0.656769, 0.501409, 0.439932, 0.39429, 0.446627, 0.374435, 0.764012, 0.599042, 0.431384, 0.442883, 0.927019, 0.362495, 0.575748, 0.528721, 0.9468, 0.347005, 0.78696, 0.387249, 0.675474, 0.921679, 0.756958, 0.240153, 0.89656, 0.458015, 0.445068, 0.45856, 0.575683, 0.501227, 0.679589, 0.385797, 0.573727, 0.662389, 0.3331, 0.294587, 0.660227, 0.775829, 0.751992, 0.661942, 0.55939, 0.400898, 0.391488, 0.513648, 0.428657, 0.454915, 0.32938, 0.398248, 0.664005, 0.798851, 0.454251, 0.274098, 0.546197, 0.54681, 0.678457, 0.542063, 0.418919, 0.60669, 0.262759, 0.701618, 0.538637, 0.346579, 0.653763, 0.423667, 0.523767, 0.373283, 0.413016, 0.396886, 0.668343, 0.42781, 0.473831, 0.571544, 0.735548, 0.497131, 0.765484, 0.639013, 0.693929, 0.39937, 0.604264, 0.651721, 0.547238, 0.670515, 0.679419, 0.910002, 0.521858, 0.524355, 0.462536, 0.665092, 0.447887, 0.39088, 0.406784, 0.44779, 0.447974, 0.43593, 0.51349, 0.290297, 0.949378, 0.394497, 0.332573, 0.480812, 0.627519, 0.734334, 0.838227, 0.495876, 0.693828, 0.489663, 0.503586, 0.553262, 0.587033, 0.7129, 0.530424, 0.433562, 0.454925, 0.941566, 0.321373, 0.623163, 0.948786, 0.234331, 0.433646, 0.59143, 0.659296, 0.736087, 0.483063, 0.725373, 0.60753, 0.858753, 0.566276, 0.425227, 0.490242, 0.553602, 0.476749, 0.524636, 0.423455, 0.762701, 0.514615, 0.736033, 0.609931, 0.519239, 0.540237, 0.684064, 0.473706, 0.553777, 0.742077, 0.448974, 0.649197, 0.539336, 0.394663, 0.58283, 0.666752, 0.342027, 0.268282, 0.675696, 0.47651, 0.486568, 0.555484, 0.494054, 0.575779, 0.333816, 0.9426, 0.198261, 0.310733, 0.308342, 0.282703, 0.420463, 0.425187, 0.520056, 0.729947, 0.184457, 0.585329, 0.427573, 0.461347, 0.518526, 0.459846'"
      ]
     },
     "execution_count": 1180,
     "metadata": {},
     "output_type": "execute_result"
    }
   ],
   "source": [
    "final_0"
   ]
  }
 ],
 "metadata": {
  "kernelspec": {
   "display_name": "Python 3 (ipykernel)",
   "language": "python",
   "name": "python3"
  },
  "language_info": {
   "codemirror_mode": {
    "name": "ipython",
    "version": 3
   },
   "file_extension": ".py",
   "mimetype": "text/x-python",
   "name": "python",
   "nbconvert_exporter": "python",
   "pygments_lexer": "ipython3",
   "version": "3.8.12"
  }
 },
 "nbformat": 4,
 "nbformat_minor": 5
}
