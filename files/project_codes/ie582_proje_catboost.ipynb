{
 "cells": [
  {
   "cell_type": "code",
   "execution_count": 1,
   "id": "9de9627d",
   "metadata": {},
   "outputs": [],
   "source": [
    "##YAPILABİLECEKLER\n",
    "\n",
    "#Missing valueların bulunduğu kullanıcıların missing value olmayan başka satırları varsa\n",
    "#missing value satırları droplanabilir. (Amaç test setindeki tüm satırları tahmin etmek\n",
    "#değil, her bir unique kullanıcı için cinsiyet tahmin etmek) (OLMADI)\n",
    "\n",
    "#Kategorik değişkenler, o kategoriden kaç tane işlem yapılmış tarzında yeni değişkenlere\n",
    "#dönüştürülüp kategorik değişkenler droplanabilir.\n",
    "\n",
    "#---------------------\n",
    "\n",
    "# WE CAN USE TIMESTAMP AND ACTION VALUES TO IMPUTE MISSING PRODUCT-RELATED VALUES, then IMPUTE sellingprice with non-missing\n",
    "# columns. Lastly, we can impute product_gender_column using all the other values."
   ]
  },
  {
   "cell_type": "code",
   "execution_count": 2,
   "id": "63d83c9f",
   "metadata": {},
   "outputs": [],
   "source": [
    "##########"
   ]
  },
  {
   "cell_type": "code",
   "execution_count": 3,
   "id": "43479137",
   "metadata": {},
   "outputs": [],
   "source": [
    "# NOT: TEST DATASINDAKİ MISSING VALUELARIN NASIL ELE ALINMASI GEREKTIGINI COZ.\n",
    "\n",
    "# COMBINE THE TRAIN AND TEST, RARE ENCODE, THEN SPLIT"
   ]
  },
  {
   "cell_type": "code",
   "execution_count": 4,
   "id": "208eb5bf",
   "metadata": {},
   "outputs": [],
   "source": [
    "###################"
   ]
  },
  {
   "cell_type": "code",
   "execution_count": 5,
   "id": "aabcf61e",
   "metadata": {},
   "outputs": [],
   "source": [
    "# YAPILMASI GEREKENLER:\n",
    "# 1. Missing valueları ne yapcağına karar ver.\n",
    "# 2. Datadaki kategorikleri dummy variable'a çevir."
   ]
  },
  {
   "cell_type": "code",
   "execution_count": 6,
   "id": "94eded6a",
   "metadata": {},
   "outputs": [],
   "source": [
    "#################"
   ]
  },
  {
   "cell_type": "code",
   "execution_count": 7,
   "id": "dffdef46",
   "metadata": {},
   "outputs": [],
   "source": [
    "import pandas as pd\n",
    "import numpy as np\n",
    "import missingno as msno\n",
    "from datetime import datetime\n",
    "\n",
    "from sklearn.impute import KNNImputer\n",
    "from sklearn.ensemble import RandomForestClassifier\n",
    "from sklearn.ensemble import RandomForestRegressor\n",
    "from sklearn.preprocessing import LabelEncoder\n",
    "\n",
    "import lightgbm as lgb"
   ]
  },
  {
   "cell_type": "code",
   "execution_count": 8,
   "id": "b09e0537",
   "metadata": {},
   "outputs": [],
   "source": [
    "train = pd.read_csv('train.csv')\n",
    "test = pd.read_csv('test.csv')"
   ]
  },
  {
   "cell_type": "code",
   "execution_count": 9,
   "id": "28002580",
   "metadata": {},
   "outputs": [],
   "source": [
    "df = train.copy()\n",
    "df_test = test.copy()\n",
    "df.drop_duplicates(inplace=True) # Train set has a lot of duplicates. Since timestamp with split seconds precision can't\n",
    "# be same for different users and different actions, we drop all the duplicates."
   ]
  },
  {
   "cell_type": "code",
   "execution_count": 98,
   "id": "ad925250",
   "metadata": {},
   "outputs": [],
   "source": [
    "test_ids = test['unique_id']"
   ]
  },
  {
   "cell_type": "code",
   "execution_count": 10,
   "id": "d2e7a186",
   "metadata": {},
   "outputs": [
    {
     "data": {
      "text/plain": [
       "2077356"
      ]
     },
     "execution_count": 10,
     "metadata": {},
     "output_type": "execute_result"
    }
   ],
   "source": [
    "len(df)"
   ]
  },
  {
   "cell_type": "code",
   "execution_count": 11,
   "id": "fd87423f",
   "metadata": {},
   "outputs": [
    {
     "data": {
      "text/plain": [
       "False"
      ]
     },
     "execution_count": 11,
     "metadata": {},
     "output_type": "execute_result"
    }
   ],
   "source": [
    "df['unique_id'].isin(df_test['unique_id'].unique()).any() # Train and Test sets have different unique_id values. (Checked)"
   ]
  },
  {
   "cell_type": "code",
   "execution_count": 12,
   "id": "d3972695",
   "metadata": {
    "scrolled": true
   },
   "outputs": [
    {
     "data": {
      "text/html": [
       "<div>\n",
       "<style scoped>\n",
       "    .dataframe tbody tr th:only-of-type {\n",
       "        vertical-align: middle;\n",
       "    }\n",
       "\n",
       "    .dataframe tbody tr th {\n",
       "        vertical-align: top;\n",
       "    }\n",
       "\n",
       "    .dataframe thead th {\n",
       "        text-align: right;\n",
       "    }\n",
       "</style>\n",
       "<table border=\"1\" class=\"dataframe\">\n",
       "  <thead>\n",
       "    <tr style=\"text-align: right;\">\n",
       "      <th></th>\n",
       "      <th>time_stamp</th>\n",
       "      <th>contentid</th>\n",
       "      <th>user_action</th>\n",
       "      <th>sellingprice</th>\n",
       "      <th>product_name</th>\n",
       "      <th>brand_id</th>\n",
       "      <th>brand_name</th>\n",
       "      <th>businessunit</th>\n",
       "      <th>product_gender</th>\n",
       "      <th>category_id</th>\n",
       "      <th>Level1_Category_Id</th>\n",
       "      <th>Level1_Category_Name</th>\n",
       "      <th>Level2_Category_Id</th>\n",
       "      <th>Level2_Category_Name</th>\n",
       "      <th>Level3_Category_Id</th>\n",
       "      <th>Level3_Category_Name</th>\n",
       "      <th>gender</th>\n",
       "      <th>unique_id</th>\n",
       "      <th>type</th>\n",
       "    </tr>\n",
       "  </thead>\n",
       "  <tbody>\n",
       "    <tr>\n",
       "      <th>0</th>\n",
       "      <td>2020-12-02T22:26:14.023Z</td>\n",
       "      <td>39918893.0</td>\n",
       "      <td>favorite</td>\n",
       "      <td>3099.0</td>\n",
       "      <td>PerfectCare 600 EW6F449ST A+++ 9 KG 1400 Devir...</td>\n",
       "      <td>8511.0</td>\n",
       "      <td>Electrolux</td>\n",
       "      <td>Beyaz Eşya</td>\n",
       "      <td>Unisex</td>\n",
       "      <td>1272.0</td>\n",
       "      <td>1071.0</td>\n",
       "      <td>Elektronik</td>\n",
       "      <td>1212.0</td>\n",
       "      <td>Beyaz Eşya</td>\n",
       "      <td>1272.0</td>\n",
       "      <td>Çamaşır Makinesi</td>\n",
       "      <td>F</td>\n",
       "      <td>425</td>\n",
       "      <td>train</td>\n",
       "    </tr>\n",
       "    <tr>\n",
       "      <th>1</th>\n",
       "      <td>2020-12-08T23:15:04.603Z</td>\n",
       "      <td>3558544.0</td>\n",
       "      <td>favorite</td>\n",
       "      <td>3079.0</td>\n",
       "      <td>WW90J5475FW A+++ 1400 Devir 9 kg Çamaşır Makinesi</td>\n",
       "      <td>3228.0</td>\n",
       "      <td>Samsung</td>\n",
       "      <td>Beyaz Eşya</td>\n",
       "      <td>NaN</td>\n",
       "      <td>1272.0</td>\n",
       "      <td>1071.0</td>\n",
       "      <td>Elektronik</td>\n",
       "      <td>1212.0</td>\n",
       "      <td>Beyaz Eşya</td>\n",
       "      <td>1272.0</td>\n",
       "      <td>Çamaşır Makinesi</td>\n",
       "      <td>F</td>\n",
       "      <td>425</td>\n",
       "      <td>train</td>\n",
       "    </tr>\n",
       "    <tr>\n",
       "      <th>2</th>\n",
       "      <td>2020-12-05T16:19:01.157Z</td>\n",
       "      <td>31292729.0</td>\n",
       "      <td>favorite</td>\n",
       "      <td>3999.0</td>\n",
       "      <td>KM 9711 A++ 9 kg Çamaşır Kurutma Makinesi</td>\n",
       "      <td>10989.0</td>\n",
       "      <td>Vestel</td>\n",
       "      <td>Beyaz Eşya</td>\n",
       "      <td>Unisex</td>\n",
       "      <td>1276.0</td>\n",
       "      <td>1071.0</td>\n",
       "      <td>Elektronik</td>\n",
       "      <td>1212.0</td>\n",
       "      <td>Beyaz Eşya</td>\n",
       "      <td>1276.0</td>\n",
       "      <td>Kurutma Makinesi</td>\n",
       "      <td>F</td>\n",
       "      <td>425</td>\n",
       "      <td>train</td>\n",
       "    </tr>\n",
       "    <tr>\n",
       "      <th>3</th>\n",
       "      <td>2020-12-05T16:28:00Z</td>\n",
       "      <td>6363103.0</td>\n",
       "      <td>visit</td>\n",
       "      <td>2544.0</td>\n",
       "      <td>CMI 9710 A+++ 1000 Devir 9 kg Çamaşır Makinesi</td>\n",
       "      <td>10989.0</td>\n",
       "      <td>Vestel</td>\n",
       "      <td>Beyaz Eşya</td>\n",
       "      <td>NaN</td>\n",
       "      <td>1272.0</td>\n",
       "      <td>1071.0</td>\n",
       "      <td>Elektronik</td>\n",
       "      <td>1212.0</td>\n",
       "      <td>Beyaz Eşya</td>\n",
       "      <td>1272.0</td>\n",
       "      <td>Çamaşır Makinesi</td>\n",
       "      <td>F</td>\n",
       "      <td>425</td>\n",
       "      <td>train</td>\n",
       "    </tr>\n",
       "    <tr>\n",
       "      <th>4</th>\n",
       "      <td>2020-12-02T22:26:59Z</td>\n",
       "      <td>39918893.0</td>\n",
       "      <td>visit</td>\n",
       "      <td>3099.0</td>\n",
       "      <td>PerfectCare 600 EW6F449ST A+++ 9 KG 1400 Devir...</td>\n",
       "      <td>8511.0</td>\n",
       "      <td>Electrolux</td>\n",
       "      <td>Beyaz Eşya</td>\n",
       "      <td>Unisex</td>\n",
       "      <td>1272.0</td>\n",
       "      <td>1071.0</td>\n",
       "      <td>Elektronik</td>\n",
       "      <td>1212.0</td>\n",
       "      <td>Beyaz Eşya</td>\n",
       "      <td>1272.0</td>\n",
       "      <td>Çamaşır Makinesi</td>\n",
       "      <td>F</td>\n",
       "      <td>425</td>\n",
       "      <td>train</td>\n",
       "    </tr>\n",
       "  </tbody>\n",
       "</table>\n",
       "</div>"
      ],
      "text/plain": [
       "                 time_stamp   contentid user_action  sellingprice  \\\n",
       "0  2020-12-02T22:26:14.023Z  39918893.0    favorite        3099.0   \n",
       "1  2020-12-08T23:15:04.603Z   3558544.0    favorite        3079.0   \n",
       "2  2020-12-05T16:19:01.157Z  31292729.0    favorite        3999.0   \n",
       "3      2020-12-05T16:28:00Z   6363103.0       visit        2544.0   \n",
       "4      2020-12-02T22:26:59Z  39918893.0       visit        3099.0   \n",
       "\n",
       "                                        product_name  brand_id  brand_name  \\\n",
       "0  PerfectCare 600 EW6F449ST A+++ 9 KG 1400 Devir...    8511.0  Electrolux   \n",
       "1  WW90J5475FW A+++ 1400 Devir 9 kg Çamaşır Makinesi    3228.0     Samsung   \n",
       "2          KM 9711 A++ 9 kg Çamaşır Kurutma Makinesi   10989.0      Vestel   \n",
       "3     CMI 9710 A+++ 1000 Devir 9 kg Çamaşır Makinesi   10989.0      Vestel   \n",
       "4  PerfectCare 600 EW6F449ST A+++ 9 KG 1400 Devir...    8511.0  Electrolux   \n",
       "\n",
       "  businessunit product_gender  category_id  Level1_Category_Id  \\\n",
       "0   Beyaz Eşya         Unisex       1272.0              1071.0   \n",
       "1   Beyaz Eşya            NaN       1272.0              1071.0   \n",
       "2   Beyaz Eşya         Unisex       1276.0              1071.0   \n",
       "3   Beyaz Eşya            NaN       1272.0              1071.0   \n",
       "4   Beyaz Eşya         Unisex       1272.0              1071.0   \n",
       "\n",
       "  Level1_Category_Name  Level2_Category_Id Level2_Category_Name  \\\n",
       "0           Elektronik              1212.0           Beyaz Eşya   \n",
       "1           Elektronik              1212.0           Beyaz Eşya   \n",
       "2           Elektronik              1212.0           Beyaz Eşya   \n",
       "3           Elektronik              1212.0           Beyaz Eşya   \n",
       "4           Elektronik              1212.0           Beyaz Eşya   \n",
       "\n",
       "   Level3_Category_Id Level3_Category_Name gender  unique_id   type  \n",
       "0              1272.0     Çamaşır Makinesi      F        425  train  \n",
       "1              1272.0     Çamaşır Makinesi      F        425  train  \n",
       "2              1276.0     Kurutma Makinesi      F        425  train  \n",
       "3              1272.0     Çamaşır Makinesi      F        425  train  \n",
       "4              1272.0     Çamaşır Makinesi      F        425  train  "
      ]
     },
     "execution_count": 12,
     "metadata": {},
     "output_type": "execute_result"
    }
   ],
   "source": [
    "df.head()# unique_id = customer_id"
   ]
  },
  {
   "cell_type": "code",
   "execution_count": 13,
   "id": "df4afe90",
   "metadata": {},
   "outputs": [
    {
     "data": {
      "text/plain": [
       "brand_id\n",
       "34614.0     2\n",
       "110447.0    2\n",
       "966197.0    2\n",
       "998446.0    2\n",
       "Name: brand_name, dtype: int64"
      ]
     },
     "execution_count": 13,
     "metadata": {},
     "output_type": "execute_result"
    }
   ],
   "source": [
    "a = df.groupby('brand_id')['brand_name'].nunique() # 4 tane id 1den fazla brand_name ile eşleşmekte.\n",
    "a[a>1]"
   ]
  },
  {
   "cell_type": "code",
   "execution_count": 14,
   "id": "a8beffd1",
   "metadata": {},
   "outputs": [
    {
     "data": {
      "text/plain": [
       "Series([], Name: brand_id, dtype: int64)"
      ]
     },
     "execution_count": 14,
     "metadata": {},
     "output_type": "execute_result"
    }
   ],
   "source": [
    "a = df.groupby('brand_name')['brand_id'].nunique() # Brandname başına düşen brand_id sayısı 1.\n",
    "a[a>1]"
   ]
  },
  {
   "cell_type": "code",
   "execution_count": 15,
   "id": "0fddd267",
   "metadata": {},
   "outputs": [
    {
     "data": {
      "text/plain": [
       "33328"
      ]
     },
     "execution_count": 15,
     "metadata": {},
     "output_type": "execute_result"
    }
   ],
   "source": [
    "df['brand_name'].nunique() #33332\n",
    "df['brand_id'].nunique() #33328"
   ]
  },
  {
   "cell_type": "code",
   "execution_count": 16,
   "id": "95ed17a6",
   "metadata": {},
   "outputs": [],
   "source": [
    "# Brandname değişkeni daha eşsiz olduğu için brand_id değişkeni droplanabilir."
   ]
  },
  {
   "cell_type": "code",
   "execution_count": 17,
   "id": "6336b19f",
   "metadata": {},
   "outputs": [
    {
     "data": {
      "text/plain": [
       "True"
      ]
     },
     "execution_count": 17,
     "metadata": {},
     "output_type": "execute_result"
    }
   ],
   "source": [
    "(df['brand_name'].isnull() == df['brand_id'].isnull()).all() # brand_name ve brand_id NA değerleri\n",
    "# aynı rowlarda."
   ]
  },
  {
   "cell_type": "code",
   "execution_count": 18,
   "id": "96e1bc78",
   "metadata": {},
   "outputs": [
    {
     "data": {
      "text/plain": [
       "482796"
      ]
     },
     "execution_count": 18,
     "metadata": {},
     "output_type": "execute_result"
    }
   ],
   "source": [
    "len(df['contentid'].value_counts()) # Çok fazla sayıda kategorisi olan bir değişken. Her ürünün ayrı\n",
    "# id'si olduğu için bu normal. Bu kadar çok kategori ile iyi sonuç almak mümkün olmadığı için ve \n",
    "# mümkün olsa bile genelleme amacına hizmet etmeyeceği için bu feature datadan çıkarılmalıdır."
   ]
  },
  {
   "cell_type": "code",
   "execution_count": 19,
   "id": "25ad38f9",
   "metadata": {},
   "outputs": [
    {
     "data": {
      "text/plain": [
       "Series([], Name: Level1_Category_Name, dtype: int64)"
      ]
     },
     "execution_count": 19,
     "metadata": {},
     "output_type": "execute_result"
    }
   ],
   "source": [
    "a = df.groupby('Level1_Category_Id')['Level1_Category_Name'].nunique()\n",
    "a[a>1] # Her bir Category ID'ye 1 Category Name düşüyor. Dolayısıyla Level1_Category_Name\n",
    "# çıkarılabilir."
   ]
  },
  {
   "cell_type": "code",
   "execution_count": 20,
   "id": "0ec4fefd",
   "metadata": {},
   "outputs": [
    {
     "data": {
      "text/plain": [
       "Series([], Name: Level2_Category_Name, dtype: int64)"
      ]
     },
     "execution_count": 20,
     "metadata": {},
     "output_type": "execute_result"
    }
   ],
   "source": [
    "a = df.groupby('Level2_Category_Id')['Level2_Category_Name'].nunique()\n",
    "a[a>1] # Her bir Category ID'ye 1 Category Name düşüyor. Dolayısıyla Level2_Category_Name\n",
    "# çıkarılabilir."
   ]
  },
  {
   "cell_type": "code",
   "execution_count": 21,
   "id": "3111f04f",
   "metadata": {},
   "outputs": [
    {
     "data": {
      "text/plain": [
       "Series([], Name: Level3_Category_Name, dtype: int64)"
      ]
     },
     "execution_count": 21,
     "metadata": {},
     "output_type": "execute_result"
    }
   ],
   "source": [
    "a = df.groupby('Level3_Category_Id')['Level3_Category_Name'].nunique()\n",
    "a[a>1] # Her bir Category ID'ye 1 Category Name düşüyor. Dolayısıyla Level3_Category_Name\n",
    "# çıkarılabilir."
   ]
  },
  {
   "cell_type": "code",
   "execution_count": 22,
   "id": "6a99f797",
   "metadata": {},
   "outputs": [
    {
     "data": {
      "text/html": [
       "<div>\n",
       "<style scoped>\n",
       "    .dataframe tbody tr th:only-of-type {\n",
       "        vertical-align: middle;\n",
       "    }\n",
       "\n",
       "    .dataframe tbody tr th {\n",
       "        vertical-align: top;\n",
       "    }\n",
       "\n",
       "    .dataframe thead th {\n",
       "        text-align: right;\n",
       "    }\n",
       "</style>\n",
       "<table border=\"1\" class=\"dataframe\">\n",
       "  <thead>\n",
       "    <tr style=\"text-align: right;\">\n",
       "      <th></th>\n",
       "      <th>category_id</th>\n",
       "      <th>Level3_Category_Id</th>\n",
       "    </tr>\n",
       "  </thead>\n",
       "  <tbody>\n",
       "    <tr>\n",
       "      <th>0</th>\n",
       "      <td>1272.0</td>\n",
       "      <td>1272.0</td>\n",
       "    </tr>\n",
       "    <tr>\n",
       "      <th>1</th>\n",
       "      <td>1272.0</td>\n",
       "      <td>1272.0</td>\n",
       "    </tr>\n",
       "    <tr>\n",
       "      <th>2</th>\n",
       "      <td>1276.0</td>\n",
       "      <td>1276.0</td>\n",
       "    </tr>\n",
       "    <tr>\n",
       "      <th>3</th>\n",
       "      <td>1272.0</td>\n",
       "      <td>1272.0</td>\n",
       "    </tr>\n",
       "    <tr>\n",
       "      <th>4</th>\n",
       "      <td>1272.0</td>\n",
       "      <td>1272.0</td>\n",
       "    </tr>\n",
       "    <tr>\n",
       "      <th>...</th>\n",
       "      <td>...</td>\n",
       "      <td>...</td>\n",
       "    </tr>\n",
       "    <tr>\n",
       "      <th>5493263</th>\n",
       "      <td>864.0</td>\n",
       "      <td>864.0</td>\n",
       "    </tr>\n",
       "    <tr>\n",
       "      <th>5493264</th>\n",
       "      <td>1186.0</td>\n",
       "      <td>1186.0</td>\n",
       "    </tr>\n",
       "    <tr>\n",
       "      <th>5493265</th>\n",
       "      <td>864.0</td>\n",
       "      <td>864.0</td>\n",
       "    </tr>\n",
       "    <tr>\n",
       "      <th>5493266</th>\n",
       "      <td>975.0</td>\n",
       "      <td>975.0</td>\n",
       "    </tr>\n",
       "    <tr>\n",
       "      <th>5493267</th>\n",
       "      <td>975.0</td>\n",
       "      <td>975.0</td>\n",
       "    </tr>\n",
       "  </tbody>\n",
       "</table>\n",
       "<p>2077356 rows × 2 columns</p>\n",
       "</div>"
      ],
      "text/plain": [
       "         category_id  Level3_Category_Id\n",
       "0             1272.0              1272.0\n",
       "1             1272.0              1272.0\n",
       "2             1276.0              1276.0\n",
       "3             1272.0              1272.0\n",
       "4             1272.0              1272.0\n",
       "...              ...                 ...\n",
       "5493263        864.0               864.0\n",
       "5493264       1186.0              1186.0\n",
       "5493265        864.0               864.0\n",
       "5493266        975.0               975.0\n",
       "5493267        975.0               975.0\n",
       "\n",
       "[2077356 rows x 2 columns]"
      ]
     },
     "execution_count": 22,
     "metadata": {},
     "output_type": "execute_result"
    }
   ],
   "source": [
    "df[['category_id', 'Level3_Category_Id']] # category_id ve Level3_Category_Id aynı şeyler gibi\n",
    "# gözükmekte."
   ]
  },
  {
   "cell_type": "code",
   "execution_count": 23,
   "id": "ae26b0ff",
   "metadata": {
    "scrolled": true
   },
   "outputs": [
    {
     "data": {
      "text/plain": [
       "Level3_Category_Id\n",
       "397.0      6\n",
       "399.0      7\n",
       "400.0      6\n",
       "401.0      6\n",
       "469.0      2\n",
       "          ..\n",
       "4540.0    13\n",
       "4569.0    11\n",
       "4588.0     2\n",
       "4589.0    39\n",
       "4591.0    11\n",
       "Name: category_id, Length: 166, dtype: int64"
      ]
     },
     "execution_count": 23,
     "metadata": {},
     "output_type": "execute_result"
    }
   ],
   "source": [
    "a = df.groupby('Level3_Category_Id')['category_id'].nunique()\n",
    "a[a>1] # Level3_Category_Id başına düşen category_id sayısının birden fazla olduğu durumlar bulunmakta."
   ]
  },
  {
   "cell_type": "code",
   "execution_count": 24,
   "id": "0869eee9",
   "metadata": {},
   "outputs": [
    {
     "data": {
      "text/plain": [
       "Series([], Name: Level3_Category_Id, dtype: int64)"
      ]
     },
     "execution_count": 24,
     "metadata": {},
     "output_type": "execute_result"
    }
   ],
   "source": [
    "a = df.groupby('category_id')['Level3_Category_Id'].nunique()\n",
    "a[a>1] # category id başına düşen Level_3_Category_Id sayısı 1."
   ]
  },
  {
   "cell_type": "code",
   "execution_count": 25,
   "id": "f7f1960f",
   "metadata": {},
   "outputs": [
    {
     "data": {
      "text/plain": [
       "739"
      ]
     },
     "execution_count": 25,
     "metadata": {},
     "output_type": "execute_result"
    }
   ],
   "source": [
    "df['category_id'].nunique() #2240\n",
    "df['Level3_Category_Id'].nunique() #739"
   ]
  },
  {
   "cell_type": "code",
   "execution_count": 26,
   "id": "4bc72e06",
   "metadata": {},
   "outputs": [
    {
     "data": {
      "text/plain": [
       "True"
      ]
     },
     "execution_count": 26,
     "metadata": {},
     "output_type": "execute_result"
    }
   ],
   "source": [
    "(df['category_id'].isna() == df['Level3_Category_Id'].isna()).all() # NA oldukları rowlar aynı.\n",
    "# Dolayısıyla category_id değeri daha eşsiz olduğu için ve aynı şeylere karşılık geliyor gibi\n",
    "# gözüktükleri için (hatta category_id daha detaylı) Level3_Category_Id değeri droplanabilir."
   ]
  },
  {
   "cell_type": "code",
   "execution_count": 27,
   "id": "2516f038",
   "metadata": {},
   "outputs": [],
   "source": [
    "# Drop the columns that we decided to drop before.\n",
    "# Type column is not necessary at this point, therefore we can drop it as well.\n",
    "\n",
    "df = train.drop(['contentid', 'Level1_Category_Name', 'Level2_Category_Name', 'Level3_Category_Name',\n",
    "        'Level3_Category_Id', 'brand_id', 'type'], axis=1)\n",
    "df.drop_duplicates(inplace=True)\n",
    "df_test = test.drop(['contentid', 'Level1_Category_Name', 'Level2_Category_Name', 'Level3_Category_Name',\n",
    "        'Level3_Category_Id', 'brand_id', 'type'], axis=1)\n",
    "df_test.drop('gender', inplace=True, axis=1) # Gender column is dropped because it is the target feature and full of NA's."
   ]
  },
  {
   "cell_type": "code",
   "execution_count": 28,
   "id": "28af7f05",
   "metadata": {},
   "outputs": [
    {
     "data": {
      "text/html": [
       "<div>\n",
       "<style scoped>\n",
       "    .dataframe tbody tr th:only-of-type {\n",
       "        vertical-align: middle;\n",
       "    }\n",
       "\n",
       "    .dataframe tbody tr th {\n",
       "        vertical-align: top;\n",
       "    }\n",
       "\n",
       "    .dataframe thead th {\n",
       "        text-align: right;\n",
       "    }\n",
       "</style>\n",
       "<table border=\"1\" class=\"dataframe\">\n",
       "  <thead>\n",
       "    <tr style=\"text-align: right;\">\n",
       "      <th></th>\n",
       "      <th>time_stamp</th>\n",
       "      <th>user_action</th>\n",
       "      <th>sellingprice</th>\n",
       "      <th>product_name</th>\n",
       "      <th>brand_name</th>\n",
       "      <th>businessunit</th>\n",
       "      <th>product_gender</th>\n",
       "      <th>category_id</th>\n",
       "      <th>Level1_Category_Id</th>\n",
       "      <th>Level2_Category_Id</th>\n",
       "      <th>gender</th>\n",
       "      <th>unique_id</th>\n",
       "    </tr>\n",
       "  </thead>\n",
       "  <tbody>\n",
       "    <tr>\n",
       "      <th>0</th>\n",
       "      <td>2020-12-02T22:26:14.023Z</td>\n",
       "      <td>favorite</td>\n",
       "      <td>3099.0</td>\n",
       "      <td>PerfectCare 600 EW6F449ST A+++ 9 KG 1400 Devir...</td>\n",
       "      <td>Electrolux</td>\n",
       "      <td>Beyaz Eşya</td>\n",
       "      <td>Unisex</td>\n",
       "      <td>1272.0</td>\n",
       "      <td>1071.0</td>\n",
       "      <td>1212.0</td>\n",
       "      <td>F</td>\n",
       "      <td>425</td>\n",
       "    </tr>\n",
       "    <tr>\n",
       "      <th>1</th>\n",
       "      <td>2020-12-08T23:15:04.603Z</td>\n",
       "      <td>favorite</td>\n",
       "      <td>3079.0</td>\n",
       "      <td>WW90J5475FW A+++ 1400 Devir 9 kg Çamaşır Makinesi</td>\n",
       "      <td>Samsung</td>\n",
       "      <td>Beyaz Eşya</td>\n",
       "      <td>NaN</td>\n",
       "      <td>1272.0</td>\n",
       "      <td>1071.0</td>\n",
       "      <td>1212.0</td>\n",
       "      <td>F</td>\n",
       "      <td>425</td>\n",
       "    </tr>\n",
       "    <tr>\n",
       "      <th>2</th>\n",
       "      <td>2020-12-05T16:19:01.157Z</td>\n",
       "      <td>favorite</td>\n",
       "      <td>3999.0</td>\n",
       "      <td>KM 9711 A++ 9 kg Çamaşır Kurutma Makinesi</td>\n",
       "      <td>Vestel</td>\n",
       "      <td>Beyaz Eşya</td>\n",
       "      <td>Unisex</td>\n",
       "      <td>1276.0</td>\n",
       "      <td>1071.0</td>\n",
       "      <td>1212.0</td>\n",
       "      <td>F</td>\n",
       "      <td>425</td>\n",
       "    </tr>\n",
       "    <tr>\n",
       "      <th>3</th>\n",
       "      <td>2020-12-05T16:28:00Z</td>\n",
       "      <td>visit</td>\n",
       "      <td>2544.0</td>\n",
       "      <td>CMI 9710 A+++ 1000 Devir 9 kg Çamaşır Makinesi</td>\n",
       "      <td>Vestel</td>\n",
       "      <td>Beyaz Eşya</td>\n",
       "      <td>NaN</td>\n",
       "      <td>1272.0</td>\n",
       "      <td>1071.0</td>\n",
       "      <td>1212.0</td>\n",
       "      <td>F</td>\n",
       "      <td>425</td>\n",
       "    </tr>\n",
       "    <tr>\n",
       "      <th>4</th>\n",
       "      <td>2020-12-02T22:26:59Z</td>\n",
       "      <td>visit</td>\n",
       "      <td>3099.0</td>\n",
       "      <td>PerfectCare 600 EW6F449ST A+++ 9 KG 1400 Devir...</td>\n",
       "      <td>Electrolux</td>\n",
       "      <td>Beyaz Eşya</td>\n",
       "      <td>Unisex</td>\n",
       "      <td>1272.0</td>\n",
       "      <td>1071.0</td>\n",
       "      <td>1212.0</td>\n",
       "      <td>F</td>\n",
       "      <td>425</td>\n",
       "    </tr>\n",
       "  </tbody>\n",
       "</table>\n",
       "</div>"
      ],
      "text/plain": [
       "                 time_stamp user_action  sellingprice  \\\n",
       "0  2020-12-02T22:26:14.023Z    favorite        3099.0   \n",
       "1  2020-12-08T23:15:04.603Z    favorite        3079.0   \n",
       "2  2020-12-05T16:19:01.157Z    favorite        3999.0   \n",
       "3      2020-12-05T16:28:00Z       visit        2544.0   \n",
       "4      2020-12-02T22:26:59Z       visit        3099.0   \n",
       "\n",
       "                                        product_name  brand_name businessunit  \\\n",
       "0  PerfectCare 600 EW6F449ST A+++ 9 KG 1400 Devir...  Electrolux   Beyaz Eşya   \n",
       "1  WW90J5475FW A+++ 1400 Devir 9 kg Çamaşır Makinesi     Samsung   Beyaz Eşya   \n",
       "2          KM 9711 A++ 9 kg Çamaşır Kurutma Makinesi      Vestel   Beyaz Eşya   \n",
       "3     CMI 9710 A+++ 1000 Devir 9 kg Çamaşır Makinesi      Vestel   Beyaz Eşya   \n",
       "4  PerfectCare 600 EW6F449ST A+++ 9 KG 1400 Devir...  Electrolux   Beyaz Eşya   \n",
       "\n",
       "  product_gender  category_id  Level1_Category_Id  Level2_Category_Id gender  \\\n",
       "0         Unisex       1272.0              1071.0              1212.0      F   \n",
       "1            NaN       1272.0              1071.0              1212.0      F   \n",
       "2         Unisex       1276.0              1071.0              1212.0      F   \n",
       "3            NaN       1272.0              1071.0              1212.0      F   \n",
       "4         Unisex       1272.0              1071.0              1212.0      F   \n",
       "\n",
       "   unique_id  \n",
       "0        425  \n",
       "1        425  \n",
       "2        425  \n",
       "3        425  \n",
       "4        425  "
      ]
     },
     "execution_count": 28,
     "metadata": {},
     "output_type": "execute_result"
    }
   ],
   "source": [
    "df.head()"
   ]
  },
  {
   "cell_type": "code",
   "execution_count": 29,
   "id": "99c19e08",
   "metadata": {},
   "outputs": [
    {
     "data": {
      "text/plain": [
       "visit       1027149\n",
       "search       771374\n",
       "favorite     156204\n",
       "basket        99102\n",
       "order         23299\n",
       "Name: user_action, dtype: int64"
      ]
     },
     "execution_count": 29,
     "metadata": {},
     "output_type": "execute_result"
    }
   ],
   "source": [
    "df['user_action'].value_counts() "
   ]
  },
  {
   "cell_type": "code",
   "execution_count": 30,
   "id": "6b3130f4",
   "metadata": {},
   "outputs": [
    {
     "data": {
      "text/plain": [
       "time_stamp            False\n",
       "user_action           False\n",
       "sellingprice           True\n",
       "product_name           True\n",
       "brand_name             True\n",
       "businessunit           True\n",
       "product_gender         True\n",
       "category_id            True\n",
       "Level1_Category_Id     True\n",
       "Level2_Category_Id     True\n",
       "gender                False\n",
       "unique_id             False\n",
       "dtype: bool"
      ]
     },
     "execution_count": 30,
     "metadata": {},
     "output_type": "execute_result"
    }
   ],
   "source": [
    "df.isnull().any()"
   ]
  },
  {
   "cell_type": "code",
   "execution_count": 31,
   "id": "bbbf8416",
   "metadata": {},
   "outputs": [
    {
     "data": {
      "text/plain": [
       "2077128"
      ]
     },
     "execution_count": 31,
     "metadata": {},
     "output_type": "execute_result"
    }
   ],
   "source": [
    "len(df) #2077128"
   ]
  },
  {
   "cell_type": "code",
   "execution_count": 32,
   "id": "563b93b1",
   "metadata": {
    "scrolled": true
   },
   "outputs": [
    {
     "data": {
      "text/plain": [
       "time_stamp                 0\n",
       "user_action                0\n",
       "sellingprice           32012\n",
       "product_name            2184\n",
       "brand_name              2184\n",
       "businessunit            2184\n",
       "product_gender        234567\n",
       "category_id             2184\n",
       "Level1_Category_Id      2184\n",
       "Level2_Category_Id      2184\n",
       "gender                     0\n",
       "unique_id                  0\n",
       "dtype: int64"
      ]
     },
     "execution_count": 32,
     "metadata": {},
     "output_type": "execute_result"
    }
   ],
   "source": [
    "df.isnull().sum() # There are a lot of missing product_gender values. It is missing in roughly 12% of the data. We can't\n",
    "# drop its missing values, because it has missing values in the test data as well. We can impute it, or we can drop\n",
    "# the column. (2 Options: Impute gender and/or Drop Column). Another option is to drop all the missing values in both data\n",
    "# sets and hope that we don't lose any unique ID. (Extra Options: Drop missing values in both sets if possible)"
   ]
  },
  {
   "cell_type": "code",
   "execution_count": 33,
   "id": "e3797a3a",
   "metadata": {},
   "outputs": [
    {
     "data": {
      "text/plain": [
       "time_stamp                 0\n",
       "user_action                0\n",
       "sellingprice           41368\n",
       "product_name            2177\n",
       "brand_name              2177\n",
       "businessunit            2177\n",
       "product_gender        275570\n",
       "category_id             2177\n",
       "Level1_Category_Id      2177\n",
       "Level2_Category_Id      2177\n",
       "unique_id                  0\n",
       "dtype: int64"
      ]
     },
     "execution_count": 33,
     "metadata": {},
     "output_type": "execute_result"
    }
   ],
   "source": [
    "df_test.isnull().sum()"
   ]
  },
  {
   "cell_type": "code",
   "execution_count": 34,
   "id": "fb9dd504",
   "metadata": {},
   "outputs": [],
   "source": [
    "s = df_test.notnull().all(axis=1)"
   ]
  },
  {
   "cell_type": "code",
   "execution_count": 35,
   "id": "20ce413e",
   "metadata": {},
   "outputs": [],
   "source": [
    "notnull = s[s].index"
   ]
  },
  {
   "cell_type": "code",
   "execution_count": 36,
   "id": "59c94eaa",
   "metadata": {},
   "outputs": [
    {
     "data": {
      "text/plain": [
       "2380"
      ]
     },
     "execution_count": 36,
     "metadata": {},
     "output_type": "execute_result"
    }
   ],
   "source": [
    "len(df_test.unique_id.unique())"
   ]
  },
  {
   "cell_type": "code",
   "execution_count": 37,
   "id": "20512562",
   "metadata": {},
   "outputs": [
    {
     "data": {
      "text/plain": [
       "2331"
      ]
     },
     "execution_count": 37,
     "metadata": {},
     "output_type": "execute_result"
    }
   ],
   "source": [
    "len(df_test.loc[notnull,:].unique_id.unique()) # There are 2380-2331 = 49 unique_id values that has at least 1 missing value\n",
    "# in their features, therefore we can't directly drop rows with missing values and apply majority voting."
   ]
  },
  {
   "cell_type": "code",
   "execution_count": 38,
   "id": "b01ebdc2",
   "metadata": {
    "scrolled": true
   },
   "outputs": [
    {
     "data": {
      "text/plain": [
       "time_stamp             True\n",
       "user_action            True\n",
       "sellingprice           True\n",
       "product_name          False\n",
       "brand_name            False\n",
       "businessunit          False\n",
       "product_gender        False\n",
       "category_id           False\n",
       "Level1_Category_Id    False\n",
       "Level2_Category_Id    False\n",
       "gender                 True\n",
       "unique_id              True\n",
       "dtype: bool"
      ]
     },
     "execution_count": 38,
     "metadata": {},
     "output_type": "execute_result"
    }
   ],
   "source": [
    "df[df['product_name'].isnull()].notnull().any() #product_name, brand_name, business_unit, category_id, Level1_Category_Id\n",
    "# and Level2_Category_Id missing values are in the same rows. There are 2184 of these rows."
   ]
  },
  {
   "cell_type": "code",
   "execution_count": 39,
   "id": "68a7f6c8",
   "metadata": {
    "scrolled": true
   },
   "outputs": [
    {
     "data": {
      "text/html": [
       "<div>\n",
       "<style scoped>\n",
       "    .dataframe tbody tr th:only-of-type {\n",
       "        vertical-align: middle;\n",
       "    }\n",
       "\n",
       "    .dataframe tbody tr th {\n",
       "        vertical-align: top;\n",
       "    }\n",
       "\n",
       "    .dataframe thead th {\n",
       "        text-align: right;\n",
       "    }\n",
       "</style>\n",
       "<table border=\"1\" class=\"dataframe\">\n",
       "  <thead>\n",
       "    <tr style=\"text-align: right;\">\n",
       "      <th></th>\n",
       "      <th>time_stamp</th>\n",
       "      <th>user_action</th>\n",
       "      <th>sellingprice</th>\n",
       "      <th>product_name</th>\n",
       "      <th>brand_name</th>\n",
       "      <th>businessunit</th>\n",
       "      <th>product_gender</th>\n",
       "      <th>category_id</th>\n",
       "      <th>Level1_Category_Id</th>\n",
       "      <th>Level2_Category_Id</th>\n",
       "      <th>gender</th>\n",
       "      <th>unique_id</th>\n",
       "    </tr>\n",
       "  </thead>\n",
       "  <tbody>\n",
       "    <tr>\n",
       "      <th>10182</th>\n",
       "      <td>2020-11-27T06:40:58Z</td>\n",
       "      <td>visit</td>\n",
       "      <td>65.99</td>\n",
       "      <td>NaN</td>\n",
       "      <td>NaN</td>\n",
       "      <td>NaN</td>\n",
       "      <td>NaN</td>\n",
       "      <td>NaN</td>\n",
       "      <td>NaN</td>\n",
       "      <td>NaN</td>\n",
       "      <td>F</td>\n",
       "      <td>1983</td>\n",
       "    </tr>\n",
       "    <tr>\n",
       "      <th>17988</th>\n",
       "      <td>2020-10-21T21:52:56Z</td>\n",
       "      <td>visit</td>\n",
       "      <td>563.99</td>\n",
       "      <td>NaN</td>\n",
       "      <td>NaN</td>\n",
       "      <td>NaN</td>\n",
       "      <td>NaN</td>\n",
       "      <td>NaN</td>\n",
       "      <td>NaN</td>\n",
       "      <td>NaN</td>\n",
       "      <td>F</td>\n",
       "      <td>737</td>\n",
       "    </tr>\n",
       "    <tr>\n",
       "      <th>17989</th>\n",
       "      <td>2020-10-21T21:51:38Z</td>\n",
       "      <td>visit</td>\n",
       "      <td>563.99</td>\n",
       "      <td>NaN</td>\n",
       "      <td>NaN</td>\n",
       "      <td>NaN</td>\n",
       "      <td>NaN</td>\n",
       "      <td>NaN</td>\n",
       "      <td>NaN</td>\n",
       "      <td>NaN</td>\n",
       "      <td>F</td>\n",
       "      <td>737</td>\n",
       "    </tr>\n",
       "    <tr>\n",
       "      <th>18724</th>\n",
       "      <td>2020-10-22T19:36:40Z</td>\n",
       "      <td>visit</td>\n",
       "      <td>563.99</td>\n",
       "      <td>NaN</td>\n",
       "      <td>NaN</td>\n",
       "      <td>NaN</td>\n",
       "      <td>NaN</td>\n",
       "      <td>NaN</td>\n",
       "      <td>NaN</td>\n",
       "      <td>NaN</td>\n",
       "      <td>F</td>\n",
       "      <td>737</td>\n",
       "    </tr>\n",
       "    <tr>\n",
       "      <th>20323</th>\n",
       "      <td>2020-10-21T21:52:00Z</td>\n",
       "      <td>visit</td>\n",
       "      <td>563.99</td>\n",
       "      <td>NaN</td>\n",
       "      <td>NaN</td>\n",
       "      <td>NaN</td>\n",
       "      <td>NaN</td>\n",
       "      <td>NaN</td>\n",
       "      <td>NaN</td>\n",
       "      <td>NaN</td>\n",
       "      <td>F</td>\n",
       "      <td>737</td>\n",
       "    </tr>\n",
       "    <tr>\n",
       "      <th>...</th>\n",
       "      <td>...</td>\n",
       "      <td>...</td>\n",
       "      <td>...</td>\n",
       "      <td>...</td>\n",
       "      <td>...</td>\n",
       "      <td>...</td>\n",
       "      <td>...</td>\n",
       "      <td>...</td>\n",
       "      <td>...</td>\n",
       "      <td>...</td>\n",
       "      <td>...</td>\n",
       "      <td>...</td>\n",
       "    </tr>\n",
       "    <tr>\n",
       "      <th>5483497</th>\n",
       "      <td>2020-11-28T13:36:52Z</td>\n",
       "      <td>search</td>\n",
       "      <td>559.98</td>\n",
       "      <td>NaN</td>\n",
       "      <td>NaN</td>\n",
       "      <td>NaN</td>\n",
       "      <td>NaN</td>\n",
       "      <td>NaN</td>\n",
       "      <td>NaN</td>\n",
       "      <td>NaN</td>\n",
       "      <td>F</td>\n",
       "      <td>5457</td>\n",
       "    </tr>\n",
       "    <tr>\n",
       "      <th>5484856</th>\n",
       "      <td>2020-11-27T23:51:26Z</td>\n",
       "      <td>visit</td>\n",
       "      <td>99.90</td>\n",
       "      <td>NaN</td>\n",
       "      <td>NaN</td>\n",
       "      <td>NaN</td>\n",
       "      <td>NaN</td>\n",
       "      <td>NaN</td>\n",
       "      <td>NaN</td>\n",
       "      <td>NaN</td>\n",
       "      <td>F</td>\n",
       "      <td>3071</td>\n",
       "    </tr>\n",
       "    <tr>\n",
       "      <th>5487463</th>\n",
       "      <td>2020-11-29T10:16:38Z</td>\n",
       "      <td>basket</td>\n",
       "      <td>109.90</td>\n",
       "      <td>NaN</td>\n",
       "      <td>NaN</td>\n",
       "      <td>NaN</td>\n",
       "      <td>NaN</td>\n",
       "      <td>NaN</td>\n",
       "      <td>NaN</td>\n",
       "      <td>NaN</td>\n",
       "      <td>M</td>\n",
       "      <td>3354</td>\n",
       "    </tr>\n",
       "    <tr>\n",
       "      <th>5487465</th>\n",
       "      <td>2020-11-29T10:16:25Z</td>\n",
       "      <td>visit</td>\n",
       "      <td>109.90</td>\n",
       "      <td>NaN</td>\n",
       "      <td>NaN</td>\n",
       "      <td>NaN</td>\n",
       "      <td>NaN</td>\n",
       "      <td>NaN</td>\n",
       "      <td>NaN</td>\n",
       "      <td>NaN</td>\n",
       "      <td>M</td>\n",
       "      <td>3354</td>\n",
       "    </tr>\n",
       "    <tr>\n",
       "      <th>5487469</th>\n",
       "      <td>2020-11-29T10:19:55Z</td>\n",
       "      <td>basket</td>\n",
       "      <td>109.90</td>\n",
       "      <td>NaN</td>\n",
       "      <td>NaN</td>\n",
       "      <td>NaN</td>\n",
       "      <td>NaN</td>\n",
       "      <td>NaN</td>\n",
       "      <td>NaN</td>\n",
       "      <td>NaN</td>\n",
       "      <td>M</td>\n",
       "      <td>3354</td>\n",
       "    </tr>\n",
       "  </tbody>\n",
       "</table>\n",
       "<p>2184 rows × 12 columns</p>\n",
       "</div>"
      ],
      "text/plain": [
       "                   time_stamp user_action  sellingprice product_name  \\\n",
       "10182    2020-11-27T06:40:58Z       visit         65.99          NaN   \n",
       "17988    2020-10-21T21:52:56Z       visit        563.99          NaN   \n",
       "17989    2020-10-21T21:51:38Z       visit        563.99          NaN   \n",
       "18724    2020-10-22T19:36:40Z       visit        563.99          NaN   \n",
       "20323    2020-10-21T21:52:00Z       visit        563.99          NaN   \n",
       "...                       ...         ...           ...          ...   \n",
       "5483497  2020-11-28T13:36:52Z      search        559.98          NaN   \n",
       "5484856  2020-11-27T23:51:26Z       visit         99.90          NaN   \n",
       "5487463  2020-11-29T10:16:38Z      basket        109.90          NaN   \n",
       "5487465  2020-11-29T10:16:25Z       visit        109.90          NaN   \n",
       "5487469  2020-11-29T10:19:55Z      basket        109.90          NaN   \n",
       "\n",
       "        brand_name businessunit product_gender  category_id  \\\n",
       "10182          NaN          NaN            NaN          NaN   \n",
       "17988          NaN          NaN            NaN          NaN   \n",
       "17989          NaN          NaN            NaN          NaN   \n",
       "18724          NaN          NaN            NaN          NaN   \n",
       "20323          NaN          NaN            NaN          NaN   \n",
       "...            ...          ...            ...          ...   \n",
       "5483497        NaN          NaN            NaN          NaN   \n",
       "5484856        NaN          NaN            NaN          NaN   \n",
       "5487463        NaN          NaN            NaN          NaN   \n",
       "5487465        NaN          NaN            NaN          NaN   \n",
       "5487469        NaN          NaN            NaN          NaN   \n",
       "\n",
       "         Level1_Category_Id  Level2_Category_Id gender  unique_id  \n",
       "10182                   NaN                 NaN      F       1983  \n",
       "17988                   NaN                 NaN      F        737  \n",
       "17989                   NaN                 NaN      F        737  \n",
       "18724                   NaN                 NaN      F        737  \n",
       "20323                   NaN                 NaN      F        737  \n",
       "...                     ...                 ...    ...        ...  \n",
       "5483497                 NaN                 NaN      F       5457  \n",
       "5484856                 NaN                 NaN      F       3071  \n",
       "5487463                 NaN                 NaN      M       3354  \n",
       "5487465                 NaN                 NaN      M       3354  \n",
       "5487469                 NaN                 NaN      M       3354  \n",
       "\n",
       "[2184 rows x 12 columns]"
      ]
     },
     "execution_count": 39,
     "metadata": {},
     "output_type": "execute_result"
    }
   ],
   "source": [
    "df[~(df['product_name'].notnull())]"
   ]
  },
  {
   "cell_type": "code",
   "execution_count": 40,
   "id": "eb341436",
   "metadata": {},
   "outputs": [
    {
     "data": {
      "text/plain": [
       "visit       1100\n",
       "search       826\n",
       "basket       120\n",
       "favorite     102\n",
       "order         36\n",
       "Name: user_action, dtype: int64"
      ]
     },
     "execution_count": 40,
     "metadata": {},
     "output_type": "execute_result"
    }
   ],
   "source": [
    "df[~(df['product_name'].notnull())]['user_action'].value_counts()"
   ]
  },
  {
   "cell_type": "code",
   "execution_count": 41,
   "id": "6e3d861a",
   "metadata": {},
   "outputs": [
    {
     "data": {
      "text/plain": [
       "visit       1026049\n",
       "search       770548\n",
       "favorite     156102\n",
       "basket        98982\n",
       "order         23263\n",
       "Name: user_action, dtype: int64"
      ]
     },
     "execution_count": 41,
     "metadata": {},
     "output_type": "execute_result"
    }
   ],
   "source": [
    "df[(df['product_name'].notnull())]['user_action'].value_counts() # Missing values are not due to the nature of any action."
   ]
  },
  {
   "cell_type": "code",
   "execution_count": 42,
   "id": "168d6385",
   "metadata": {},
   "outputs": [
    {
     "data": {
      "text/plain": [
       "True"
      ]
     },
     "execution_count": 42,
     "metadata": {},
     "output_type": "execute_result"
    }
   ],
   "source": [
    "df[~(df['product_name'].notnull())]['sellingprice'].isnull().any() # True\n",
    "df[~(df['product_name'].notnull())]['product_gender'].isnull().any() # True\n",
    "# Both sellingprice and product_gender missing values overlap with product-related columns' missing values at some rows.\n",
    "# Therefore, we can't use these values to impute missing values of each other."
   ]
  },
  {
   "cell_type": "code",
   "execution_count": 43,
   "id": "8868e6a5",
   "metadata": {},
   "outputs": [],
   "source": [
    "# WE CAN USE TIMESTAMP AND ACTION VALUES TO IMPUTE MISSING PRODUCT-RELATED VALUES, then IMPUTE sellingprice with non-missing\n",
    "# columns. Lastly, we can impute product_gender_column using all the other values."
   ]
  },
  {
   "cell_type": "code",
   "execution_count": 44,
   "id": "cf5dad29",
   "metadata": {},
   "outputs": [],
   "source": [
    "#df = df[df['product_name'].notnull()]\n",
    "#df.isnull().any()\n",
    "# Removes product-related column NA values, doesn't work for this dataset (See top of the script)"
   ]
  },
  {
   "cell_type": "code",
   "execution_count": 45,
   "id": "82cd3b9a",
   "metadata": {},
   "outputs": [],
   "source": [
    "# First, lets try dropping the missing values \n",
    "\n",
    "# df.dropna(inplace=True)\n",
    "# df_test.dropna(inplace=True) # ( This can't be done because we can't drop test data rows.)"
   ]
  },
  {
   "cell_type": "code",
   "execution_count": 46,
   "id": "8bbcbd38",
   "metadata": {},
   "outputs": [],
   "source": [
    "# Convert TZ timestamp to datetime64 object\n",
    "\n",
    "df['timestamp_dt'] = df.apply(lambda x: datetime.fromisoformat(x['time_stamp'].strip('Z')), axis=1)\n",
    "df_test['timestamp_dt'] = df_test.apply(lambda x: datetime.fromisoformat(x['time_stamp'].strip('Z')), axis=1)\n",
    "\n",
    "df.drop('time_stamp', axis=1, inplace=True)\n",
    "df_test.drop('time_stamp', axis=1, inplace=True)"
   ]
  },
  {
   "cell_type": "code",
   "execution_count": 47,
   "id": "176ab96d",
   "metadata": {},
   "outputs": [
    {
     "data": {
      "text/plain": [
       "Timestamp('2020-12-09 13:29:58')"
      ]
     },
     "execution_count": 47,
     "metadata": {},
     "output_type": "execute_result"
    }
   ],
   "source": [
    "df['timestamp_dt'].min()  # 2020-10-14\n",
    "df['timestamp_dt'].max()  # 2020-12-09\n",
    "\n",
    "df_test['timestamp_dt'].min()  # 2020-10-14\n",
    "df_test['timestamp_dt'].max()  # 2020-12-09\n",
    "# Data is collected between October 14 and December 9, 2020"
   ]
  },
  {
   "cell_type": "code",
   "execution_count": 48,
   "id": "c75fd0e1",
   "metadata": {
    "scrolled": true
   },
   "outputs": [],
   "source": [
    "# I will be creating new variables month, day, day_name hour and minute. I believe that minute and day will not be \n",
    "# significant but we can decide it later.\n",
    "\n",
    "df['weekday'] = df['timestamp_dt'].apply(lambda x: x.weekday())\n",
    "#df['day'] = df['timestamp_dt'].apply(lambda x: x.day)    - Computationally expensive, creates extra 30 rows.\n",
    "df['month'] = df['timestamp_dt'].apply(lambda x: x.month)\n",
    "df['hour'] = df['timestamp_dt'].apply(lambda x: x.hour)\n",
    "#df['minute'] = df['timestamp_dt'].apply(lambda x: x.minute) - Computationally expensive, probably unimportant.\n",
    "\n",
    "df.drop(['timestamp_dt', 'unique_id'], axis=1, inplace=True) # Not needed anymore\n",
    "\n",
    "df_test['weekday'] = df_test['timestamp_dt'].apply(lambda x: x.weekday())\n",
    "#df_test['day'] = df_test['timestamp_dt'].apply(lambda x: x.day)\n",
    "df_test['month'] = df_test['timestamp_dt'].apply(lambda x: x.month)\n",
    "df_test['hour'] = df_test['timestamp_dt'].apply(lambda x: x.hour)\n",
    "#df_test['minute'] = df_test['timestamp_dt'].apply(lambda x: x.minute)\n",
    "\n",
    "df_test.drop(['timestamp_dt', 'unique_id'], axis=1, inplace=True) # Not needed anymore"
   ]
  },
  {
   "cell_type": "code",
   "execution_count": 49,
   "id": "044f6593",
   "metadata": {
    "scrolled": true
   },
   "outputs": [
    {
     "data": {
      "text/html": [
       "<div>\n",
       "<style scoped>\n",
       "    .dataframe tbody tr th:only-of-type {\n",
       "        vertical-align: middle;\n",
       "    }\n",
       "\n",
       "    .dataframe tbody tr th {\n",
       "        vertical-align: top;\n",
       "    }\n",
       "\n",
       "    .dataframe thead th {\n",
       "        text-align: right;\n",
       "    }\n",
       "</style>\n",
       "<table border=\"1\" class=\"dataframe\">\n",
       "  <thead>\n",
       "    <tr style=\"text-align: right;\">\n",
       "      <th></th>\n",
       "      <th>user_action</th>\n",
       "      <th>sellingprice</th>\n",
       "      <th>product_name</th>\n",
       "      <th>brand_name</th>\n",
       "      <th>businessunit</th>\n",
       "      <th>product_gender</th>\n",
       "      <th>category_id</th>\n",
       "      <th>Level1_Category_Id</th>\n",
       "      <th>Level2_Category_Id</th>\n",
       "      <th>gender</th>\n",
       "      <th>weekday</th>\n",
       "      <th>month</th>\n",
       "      <th>hour</th>\n",
       "    </tr>\n",
       "  </thead>\n",
       "  <tbody>\n",
       "    <tr>\n",
       "      <th>0</th>\n",
       "      <td>favorite</td>\n",
       "      <td>3099.0</td>\n",
       "      <td>PerfectCare 600 EW6F449ST A+++ 9 KG 1400 Devir...</td>\n",
       "      <td>Electrolux</td>\n",
       "      <td>Beyaz Eşya</td>\n",
       "      <td>Unisex</td>\n",
       "      <td>1272.0</td>\n",
       "      <td>1071.0</td>\n",
       "      <td>1212.0</td>\n",
       "      <td>F</td>\n",
       "      <td>2</td>\n",
       "      <td>12</td>\n",
       "      <td>22</td>\n",
       "    </tr>\n",
       "    <tr>\n",
       "      <th>1</th>\n",
       "      <td>favorite</td>\n",
       "      <td>3079.0</td>\n",
       "      <td>WW90J5475FW A+++ 1400 Devir 9 kg Çamaşır Makinesi</td>\n",
       "      <td>Samsung</td>\n",
       "      <td>Beyaz Eşya</td>\n",
       "      <td>NaN</td>\n",
       "      <td>1272.0</td>\n",
       "      <td>1071.0</td>\n",
       "      <td>1212.0</td>\n",
       "      <td>F</td>\n",
       "      <td>1</td>\n",
       "      <td>12</td>\n",
       "      <td>23</td>\n",
       "    </tr>\n",
       "    <tr>\n",
       "      <th>2</th>\n",
       "      <td>favorite</td>\n",
       "      <td>3999.0</td>\n",
       "      <td>KM 9711 A++ 9 kg Çamaşır Kurutma Makinesi</td>\n",
       "      <td>Vestel</td>\n",
       "      <td>Beyaz Eşya</td>\n",
       "      <td>Unisex</td>\n",
       "      <td>1276.0</td>\n",
       "      <td>1071.0</td>\n",
       "      <td>1212.0</td>\n",
       "      <td>F</td>\n",
       "      <td>5</td>\n",
       "      <td>12</td>\n",
       "      <td>16</td>\n",
       "    </tr>\n",
       "    <tr>\n",
       "      <th>3</th>\n",
       "      <td>visit</td>\n",
       "      <td>2544.0</td>\n",
       "      <td>CMI 9710 A+++ 1000 Devir 9 kg Çamaşır Makinesi</td>\n",
       "      <td>Vestel</td>\n",
       "      <td>Beyaz Eşya</td>\n",
       "      <td>NaN</td>\n",
       "      <td>1272.0</td>\n",
       "      <td>1071.0</td>\n",
       "      <td>1212.0</td>\n",
       "      <td>F</td>\n",
       "      <td>5</td>\n",
       "      <td>12</td>\n",
       "      <td>16</td>\n",
       "    </tr>\n",
       "    <tr>\n",
       "      <th>4</th>\n",
       "      <td>visit</td>\n",
       "      <td>3099.0</td>\n",
       "      <td>PerfectCare 600 EW6F449ST A+++ 9 KG 1400 Devir...</td>\n",
       "      <td>Electrolux</td>\n",
       "      <td>Beyaz Eşya</td>\n",
       "      <td>Unisex</td>\n",
       "      <td>1272.0</td>\n",
       "      <td>1071.0</td>\n",
       "      <td>1212.0</td>\n",
       "      <td>F</td>\n",
       "      <td>2</td>\n",
       "      <td>12</td>\n",
       "      <td>22</td>\n",
       "    </tr>\n",
       "  </tbody>\n",
       "</table>\n",
       "</div>"
      ],
      "text/plain": [
       "  user_action  sellingprice  \\\n",
       "0    favorite        3099.0   \n",
       "1    favorite        3079.0   \n",
       "2    favorite        3999.0   \n",
       "3       visit        2544.0   \n",
       "4       visit        3099.0   \n",
       "\n",
       "                                        product_name  brand_name businessunit  \\\n",
       "0  PerfectCare 600 EW6F449ST A+++ 9 KG 1400 Devir...  Electrolux   Beyaz Eşya   \n",
       "1  WW90J5475FW A+++ 1400 Devir 9 kg Çamaşır Makinesi     Samsung   Beyaz Eşya   \n",
       "2          KM 9711 A++ 9 kg Çamaşır Kurutma Makinesi      Vestel   Beyaz Eşya   \n",
       "3     CMI 9710 A+++ 1000 Devir 9 kg Çamaşır Makinesi      Vestel   Beyaz Eşya   \n",
       "4  PerfectCare 600 EW6F449ST A+++ 9 KG 1400 Devir...  Electrolux   Beyaz Eşya   \n",
       "\n",
       "  product_gender  category_id  Level1_Category_Id  Level2_Category_Id gender  \\\n",
       "0         Unisex       1272.0              1071.0              1212.0      F   \n",
       "1            NaN       1272.0              1071.0              1212.0      F   \n",
       "2         Unisex       1276.0              1071.0              1212.0      F   \n",
       "3            NaN       1272.0              1071.0              1212.0      F   \n",
       "4         Unisex       1272.0              1071.0              1212.0      F   \n",
       "\n",
       "   weekday  month  hour  \n",
       "0        2     12    22  \n",
       "1        1     12    23  \n",
       "2        5     12    16  \n",
       "3        5     12    16  \n",
       "4        2     12    22  "
      ]
     },
     "execution_count": 49,
     "metadata": {},
     "output_type": "execute_result"
    }
   ],
   "source": [
    "df.head()"
   ]
  },
  {
   "cell_type": "code",
   "execution_count": 50,
   "id": "ee879ba4",
   "metadata": {},
   "outputs": [
    {
     "data": {
      "text/plain": [
       "user_action           object\n",
       "product_name          object\n",
       "brand_name            object\n",
       "businessunit          object\n",
       "product_gender        object\n",
       "category_id           object\n",
       "Level1_Category_Id    object\n",
       "Level2_Category_Id    object\n",
       "weekday               object\n",
       "month                 object\n",
       "hour                  object\n",
       "dtype: object"
      ]
     },
     "execution_count": 50,
     "metadata": {},
     "output_type": "execute_result"
    }
   ],
   "source": [
    "df['category_id'] = df['category_id'].astype('object')\n",
    "df['Level1_Category_Id'] = df['Level1_Category_Id'].astype('object')\n",
    "df['Level2_Category_Id'] = df['Level2_Category_Id'].astype('object')\n",
    "df['weekday'] = df['weekday'].astype('object')\n",
    "df['month'] = df['month'].astype('object')\n",
    "df['hour'] = df['hour'].astype('object')\n",
    "\n",
    "sel_price_tr = df['sellingprice']\n",
    "sel_price_te = df_test['sellingprice']\n",
    "\n",
    "df_gender = df['gender']\n",
    "\n",
    "df = df.drop(['sellingprice', 'gender'], axis=1)\n",
    "df_test = df_test.drop('sellingprice', axis=1)\n",
    "\n",
    "\n",
    "df.dtypes"
   ]
  },
  {
   "cell_type": "code",
   "execution_count": 51,
   "id": "cb8482f6",
   "metadata": {},
   "outputs": [],
   "source": [
    "# Some references\n",
    "\n",
    "# https://stats.stackexchange.com/questions/440566/classification-model-with-multiple-records-per-user?rq=1\n",
    "# https://lightgbm.readthedocs.io/en/latest/Advanced-Topics.html\n",
    "# https://catboost.ai/en/docs/concepts/python-quickstart"
   ]
  },
  {
   "cell_type": "code",
   "execution_count": 52,
   "id": "a40ec61e",
   "metadata": {},
   "outputs": [],
   "source": [
    "# Need to do Rare Encoding before Label Encoding"
   ]
  },
  {
   "cell_type": "code",
   "execution_count": 53,
   "id": "e28a7eff",
   "metadata": {},
   "outputs": [],
   "source": [
    "a = df.nunique()\n",
    "b = df_test.nunique()"
   ]
  },
  {
   "cell_type": "code",
   "execution_count": 54,
   "id": "2c1cd576",
   "metadata": {},
   "outputs": [
    {
     "name": "stdout",
     "output_type": "stream",
     "text": [
      "                     Unique Values\n",
      "                     -------------\n",
      "                     train   test\n",
      "                     -------------\n",
      "user_action          5      5\n",
      "product_name         441470 239085\n",
      "brand_name           33332  23943\n",
      "businessunit         83     83\n",
      "product_gender       3      3\n",
      "category_id          2240   2022\n",
      "Level1_Category_Id   10     10\n",
      "Level2_Category_Id   95     94\n",
      "weekday              7      7\n",
      "month                3      3\n",
      "hour                 24     24\n"
     ]
    }
   ],
   "source": [
    "print(\"Unique Values\".rjust(34))\n",
    "print(\"-------------\".rjust(34))\n",
    "print(\"train\".rjust(26), \"test\".rjust(6))\n",
    "print(\"-------------\".rjust(34))\n",
    "for i in range(len(a)):\n",
    "    print(a.index[i].ljust(20), str(a[i]).ljust(6), b[i])"
   ]
  },
  {
   "cell_type": "code",
   "execution_count": 55,
   "id": "ce04ff4c",
   "metadata": {},
   "outputs": [],
   "source": [
    "# Some categorical features have different unique values in train and test. Therefore, we should label the ones that\n",
    "# are not in the intersection as \"Others\"."
   ]
  },
  {
   "cell_type": "code",
   "execution_count": 56,
   "id": "e5cb7d91",
   "metadata": {},
   "outputs": [
    {
     "data": {
      "text/plain": [
       "427659"
      ]
     },
     "execution_count": 56,
     "metadata": {},
     "output_type": "execute_result"
    }
   ],
   "source": [
    "product_name_outliers = set(df['product_name'].dropna()).union(set(df_test['product_name'].dropna()))-\\\n",
    "set(df['product_name'].dropna()).intersection(set(df_test['product_name'].dropna()))\n",
    "len(product_name_outliers)\n",
    "# Product name has around 427000 different values. This category is probably useless, considering that only\n",
    "# around 250000 of the values are common in both data sets."
   ]
  },
  {
   "cell_type": "code",
   "execution_count": 57,
   "id": "bd7b985e",
   "metadata": {},
   "outputs": [
    {
     "data": {
      "text/plain": [
       "17627"
      ]
     },
     "execution_count": 57,
     "metadata": {},
     "output_type": "execute_result"
    }
   ],
   "source": [
    "brand_name_outliers = set(df['brand_name'].dropna()).union(set(df_test['brand_name'].dropna()))-\\\n",
    "set(df['brand_name'].dropna()).intersection(set(df_test['brand_name'].dropna()))\n",
    "len(brand_name_outliers)\n",
    "# brand_name_outliers have 17627 different values. This also looks like it will not be useful. We will see."
   ]
  },
  {
   "cell_type": "code",
   "execution_count": 58,
   "id": "3152ed87",
   "metadata": {},
   "outputs": [
    {
     "data": {
      "text/plain": [
       "376"
      ]
     },
     "execution_count": 58,
     "metadata": {},
     "output_type": "execute_result"
    }
   ],
   "source": [
    "category_id_outliers = set(df['category_id'].dropna()).union(set(df_test['category_id'].dropna()))-\\\n",
    "set(df['category_id'].dropna()).intersection(set(df_test['category_id'].dropna()))\n",
    "len(category_id_outliers)\n",
    "# category_id_outliers have different values"
   ]
  },
  {
   "cell_type": "code",
   "execution_count": 59,
   "id": "74a47b73",
   "metadata": {},
   "outputs": [
    {
     "data": {
      "text/plain": [
       "{2901.0, 4530.0, 4572.0}"
      ]
     },
     "execution_count": 59,
     "metadata": {},
     "output_type": "execute_result"
    }
   ],
   "source": [
    "level2_outliers = set(df['Level2_Category_Id'].dropna()).union(set(df_test['Level2_Category_Id'].dropna()))-\\\n",
    "set(df['Level2_Category_Id'].dropna()).intersection(set(df_test['Level2_Category_Id'].dropna()))\n",
    "level2_outliers # Level2 has different levels"
   ]
  },
  {
   "cell_type": "code",
   "execution_count": 60,
   "id": "f7a9fa38",
   "metadata": {},
   "outputs": [
    {
     "data": {
      "text/plain": [
       "set()"
      ]
     },
     "execution_count": 60,
     "metadata": {},
     "output_type": "execute_result"
    }
   ],
   "source": [
    "set(df['Level1_Category_Id'].dropna()).union(set(df_test['Level1_Category_Id'].dropna()))-\\\n",
    "set(df['Level1_Category_Id'].dropna()).intersection(set(df_test['Level1_Category_Id'].dropna()))\n",
    "# Level1 is fine"
   ]
  },
  {
   "cell_type": "code",
   "execution_count": 61,
   "id": "76a38d26",
   "metadata": {},
   "outputs": [
    {
     "data": {
      "text/plain": [
       "set()"
      ]
     },
     "execution_count": 61,
     "metadata": {},
     "output_type": "execute_result"
    }
   ],
   "source": [
    "set(df['businessunit'].dropna()).union(set(df_test['businessunit'].dropna()))-\\\n",
    "set(df['businessunit'].dropna()).intersection(set(df_test['businessunit'].dropna()))\n",
    "# businessunit is fine"
   ]
  },
  {
   "cell_type": "code",
   "execution_count": 62,
   "id": "5966acd4",
   "metadata": {},
   "outputs": [],
   "source": [
    "df['type'] = 'train'\n",
    "df_test['type'] = 'test'\n",
    "combined_df = pd.concat([df, df_test])"
   ]
  },
  {
   "cell_type": "code",
   "execution_count": 63,
   "id": "7ba5cd74",
   "metadata": {},
   "outputs": [],
   "source": [
    "# Replace non-common levels with \"Other\"\n",
    "\n",
    "combined_df['product_name'] = combined_df['product_name'].apply(lambda x: \"Other\" if x in product_name_outliers else x)\n",
    "combined_df['brand_name'] = combined_df['brand_name'].apply(lambda x: \"Other\" if x in brand_name_outliers else x)\n",
    "combined_df['category_id'] = combined_df['category_id'].apply(lambda x: \"Other\" if x in category_id_outliers else x)\n",
    "combined_df['Level2_Category_Id'] = combined_df['Level2_Category_Id'].\\\n",
    "apply(lambda x: \"Other\" if x in level2_outliers else x)"
   ]
  },
  {
   "cell_type": "code",
   "execution_count": 64,
   "id": "f1b85a06",
   "metadata": {},
   "outputs": [],
   "source": [
    "df_withother = combined_df[combined_df['type']=='train']\n",
    "df_test_withother = combined_df[combined_df['type']=='test']"
   ]
  },
  {
   "cell_type": "code",
   "execution_count": 65,
   "id": "3dd5d46c",
   "metadata": {},
   "outputs": [],
   "source": [
    "a = df_withother.nunique()\n",
    "b = df_test_withother.nunique()"
   ]
  },
  {
   "cell_type": "code",
   "execution_count": 66,
   "id": "5bca6350",
   "metadata": {},
   "outputs": [
    {
     "name": "stdout",
     "output_type": "stream",
     "text": [
      "                     Unique Values\n",
      "                     -------------\n",
      "                     train   test\n",
      "                     -------------\n",
      "user_action          5      5\n",
      "product_name         126449 126449\n",
      "brand_name           19825  19825\n",
      "businessunit         83     83\n",
      "product_gender       3      3\n",
      "category_id          1944   1944\n",
      "Level1_Category_Id   10     10\n",
      "Level2_Category_Id   94     94\n",
      "weekday              7      7\n",
      "month                3      3\n",
      "hour                 24     24\n",
      "type                 1      1\n"
     ]
    }
   ],
   "source": [
    "print(\"Unique Values\".rjust(34))\n",
    "print(\"-------------\".rjust(34))\n",
    "print(\"train\".rjust(26), \"test\".rjust(6))\n",
    "print(\"-------------\".rjust(34))\n",
    "for i in range(len(a)):\n",
    "    print(a.index[i].ljust(20), str(a[i]).ljust(6), b[i])"
   ]
  },
  {
   "cell_type": "code",
   "execution_count": 67,
   "id": "2c1b664b",
   "metadata": {},
   "outputs": [],
   "source": [
    "def rare_encoder(dataframe, rare_perc):\n",
    "    temp_df = dataframe.copy()\n",
    "\n",
    "    rare_columns = [col for col in temp_df.columns if temp_df[col].dtypes == 'O'\n",
    "                    and (temp_df[col].value_counts() / len(temp_df) < rare_perc).any(axis=None)]\n",
    "\n",
    "    for var in rare_columns:\n",
    "        tmp = temp_df[var].value_counts() / len(temp_df)\n",
    "        rare_labels = tmp[tmp < rare_perc].index\n",
    "        temp_df[var] = np.where(temp_df[var].isin(rare_labels), 'Rare', temp_df[var])\n",
    "\n",
    "    return temp_df"
   ]
  },
  {
   "cell_type": "code",
   "execution_count": 68,
   "id": "d19683b9",
   "metadata": {},
   "outputs": [],
   "source": [
    "# As we see, different levels problem is solved."
   ]
  },
  {
   "cell_type": "code",
   "execution_count": 69,
   "id": "2511f379",
   "metadata": {},
   "outputs": [],
   "source": [
    "# Rare Encoding\n",
    "\n",
    "#mask_train = df.copy().isnull() # Create a mask to have nan values back after encoding\n",
    "rare_df = rare_encoder(combined_df, 0.0001)"
   ]
  },
  {
   "cell_type": "code",
   "execution_count": 70,
   "id": "fcd3dda3",
   "metadata": {},
   "outputs": [],
   "source": [
    "rare_train = rare_df[rare_df['type']=='train']\n",
    "rare_test = rare_df[rare_df['type']=='test']\n",
    "del rare_train['type']\n",
    "del rare_test['type']"
   ]
  },
  {
   "cell_type": "code",
   "execution_count": 71,
   "id": "f575d278",
   "metadata": {},
   "outputs": [
    {
     "name": "stdout",
     "output_type": "stream",
     "text": [
      "True\n",
      "True\n",
      "True\n",
      "True\n",
      "True\n",
      "True\n"
     ]
    }
   ],
   "source": [
    "# Check if the categories are same for train and test, after rare encoding\n",
    "cat_cols = ['product_name','brand_name','businessunit','category_id','Level1_Category_Id','Level2_Category_Id']\n",
    "\n",
    "for col in cat_cols:\n",
    "    a = set(rare_train[col].dropna())\n",
    "    b = set(rare_test[col].dropna())\n",
    "    print(a==b)"
   ]
  },
  {
   "cell_type": "code",
   "execution_count": 72,
   "id": "7636b7ae",
   "metadata": {},
   "outputs": [],
   "source": [
    "# We encoded the rare values as 'Rare' and train and test sets have the same levels. We are ready to go."
   ]
  },
  {
   "cell_type": "code",
   "execution_count": 73,
   "id": "ac178ae6",
   "metadata": {},
   "outputs": [
    {
     "data": {
      "text/html": [
       "<div>\n",
       "<style scoped>\n",
       "    .dataframe tbody tr th:only-of-type {\n",
       "        vertical-align: middle;\n",
       "    }\n",
       "\n",
       "    .dataframe tbody tr th {\n",
       "        vertical-align: top;\n",
       "    }\n",
       "\n",
       "    .dataframe thead th {\n",
       "        text-align: right;\n",
       "    }\n",
       "</style>\n",
       "<table border=\"1\" class=\"dataframe\">\n",
       "  <thead>\n",
       "    <tr style=\"text-align: right;\">\n",
       "      <th></th>\n",
       "      <th>user_action</th>\n",
       "      <th>product_name</th>\n",
       "      <th>brand_name</th>\n",
       "      <th>businessunit</th>\n",
       "      <th>product_gender</th>\n",
       "      <th>category_id</th>\n",
       "      <th>Level1_Category_Id</th>\n",
       "      <th>Level2_Category_Id</th>\n",
       "      <th>weekday</th>\n",
       "      <th>month</th>\n",
       "      <th>hour</th>\n",
       "    </tr>\n",
       "  </thead>\n",
       "  <tbody>\n",
       "    <tr>\n",
       "      <th>0</th>\n",
       "      <td>favorite</td>\n",
       "      <td>Rare</td>\n",
       "      <td>Rare</td>\n",
       "      <td>Beyaz Eşya</td>\n",
       "      <td>Unisex</td>\n",
       "      <td>1272.0</td>\n",
       "      <td>1071.0</td>\n",
       "      <td>1212.0</td>\n",
       "      <td>2</td>\n",
       "      <td>12</td>\n",
       "      <td>22</td>\n",
       "    </tr>\n",
       "  </tbody>\n",
       "</table>\n",
       "</div>"
      ],
      "text/plain": [
       "  user_action product_name brand_name businessunit product_gender category_id  \\\n",
       "0    favorite         Rare       Rare   Beyaz Eşya         Unisex      1272.0   \n",
       "\n",
       "  Level1_Category_Id Level2_Category_Id weekday month hour  \n",
       "0             1071.0             1212.0       2    12   22  "
      ]
     },
     "execution_count": 73,
     "metadata": {},
     "output_type": "execute_result"
    }
   ],
   "source": [
    "#df['sellingprice']=sel_price_tr\n",
    "#df_test['sellingprice'] = sel_price_te\n",
    "rare_train.head(1)"
   ]
  },
  {
   "cell_type": "code",
   "execution_count": 74,
   "id": "2a913554",
   "metadata": {},
   "outputs": [
    {
     "data": {
      "text/plain": [
       "user_action           False\n",
       "product_name           True\n",
       "brand_name             True\n",
       "businessunit           True\n",
       "product_gender         True\n",
       "category_id            True\n",
       "Level1_Category_Id     True\n",
       "Level2_Category_Id     True\n",
       "weekday               False\n",
       "month                 False\n",
       "hour                  False\n",
       "dtype: bool"
      ]
     },
     "execution_count": 74,
     "metadata": {},
     "output_type": "execute_result"
    }
   ],
   "source": [
    "rare_train.isnull().any()"
   ]
  },
  {
   "cell_type": "code",
   "execution_count": 75,
   "id": "3b65eb68",
   "metadata": {},
   "outputs": [],
   "source": [
    "a = rare_train['Level1_Category_Id']"
   ]
  },
  {
   "cell_type": "code",
   "execution_count": 76,
   "id": "8e6b38c8",
   "metadata": {},
   "outputs": [
    {
     "name": "stderr",
     "output_type": "stream",
     "text": [
      "/opt/anaconda/anaconda3/lib/python3.7/site-packages/pandas/core/frame.py:5177: SettingWithCopyWarning: \n",
      "A value is trying to be set on a copy of a slice from a DataFrame\n",
      "\n",
      "See the caveats in the documentation: https://pandas.pydata.org/pandas-docs/stable/user_guide/indexing.html#returning-a-view-versus-a-copy\n",
      "  downcast=downcast,\n",
      "/opt/anaconda/anaconda3/lib/python3.7/site-packages/pandas/core/frame.py:3636: SettingWithCopyWarning: \n",
      "A value is trying to be set on a copy of a slice from a DataFrame.\n",
      "Try using .loc[row_indexer,col_indexer] = value instead\n",
      "\n",
      "See the caveats in the documentation: https://pandas.pydata.org/pandas-docs/stable/user_guide/indexing.html#returning-a-view-versus-a-copy\n",
      "  self[k1] = value[k2]\n"
     ]
    }
   ],
   "source": [
    "mask_train = rare_train.copy().isnull() # Create a mask to have nan values back after encoding\n",
    "original_train = rare_train.copy()\n",
    "rare_train.fillna(\"kalamar\", inplace=True) # To deal with a issue due to nan-str not being comparable\n",
    "\n",
    "mask_test = rare_test.copy().isnull() # Create a mask to have nan values back after encoding\n",
    "original_test = rare_test.copy()\n",
    "rare_test.fillna(\"kalamar\", inplace=True) # To deal with a issue due to nan-str not being comparable\n",
    "\n",
    "cols = ['user_action','weekday','month','hour','product_name','brand_name','businessunit','product_gender',\n",
    "        'category_id' ,'Level1_Category_Id','Level2_Category_Id']\n",
    "rare_train[cols] = rare_train[cols].astype('str')\n",
    "rare_test[cols] = rare_test[cols].astype('str')\n",
    "\n",
    "\n",
    "encoders = {}\n",
    "\n",
    "x = 0\n",
    "\n",
    "for i in rare_train:\n",
    "    if i!=\"sellingprice\":\n",
    "        # print(i) #Debugging purposes\n",
    "        le = LabelEncoder()\n",
    "        le.fit(rare_train[i])\n",
    "        encoders[x] = le\n",
    "        x+=1\n",
    "        \n",
    "x = 0\n",
    "train_data = pd.DataFrame()\n",
    "\n",
    "for i in rare_train:\n",
    "    # print(i) # Debugging\n",
    "    if i!=\"sellingprice\":\n",
    "        le = encoders[x]\n",
    "        train_data[i] = le.transform(rare_train[i])\n",
    "        x+=1\n",
    "\n",
    "\n",
    "x = 0\n",
    "test_data = pd.DataFrame()\n",
    "for i in rare_test:\n",
    "    #print(i) # Debugging\n",
    "    if i!=\"sellingprice\":\n",
    "        le = encoders[x]\n",
    "        test_data[i] = le.transform(rare_test[i])\n",
    "        x+=1\n"
   ]
  },
  {
   "cell_type": "code",
   "execution_count": 77,
   "id": "5b049535",
   "metadata": {},
   "outputs": [],
   "source": [
    "train_data.index = rare_train.index\n",
    "test_data.index = rare_test.index\n",
    "\n",
    "final_train = train_data.where(~mask_train, original_train)\n",
    "final_test = test_data.where(~mask_test, original_test)"
   ]
  },
  {
   "cell_type": "code",
   "execution_count": 78,
   "id": "2dd1faba",
   "metadata": {},
   "outputs": [],
   "source": [
    "# CATBoost\n",
    "\n",
    "from catboost import CatBoostClassifier, Pool\n",
    "sell_tr = pd.DataFrame(sel_price_tr, columns=['sellingprice'])\n",
    "sell_te = pd.DataFrame(sel_price_te, columns=['sellingprice'])"
   ]
  },
  {
   "cell_type": "code",
   "execution_count": 79,
   "id": "a94e8ca0",
   "metadata": {},
   "outputs": [],
   "source": [
    "final_final_train = pd.concat([final_train, sel_price_tr], axis=1)\n",
    "final_final_test = pd.concat([final_test, sel_price_te], axis=1)"
   ]
  },
  {
   "cell_type": "code",
   "execution_count": 80,
   "id": "9aa00ebf",
   "metadata": {},
   "outputs": [],
   "source": [
    "cols = ['user_action','weekday','month','hour','product_name','brand_name','businessunit','product_gender',\n",
    "        'category_id' ,'Level1_Category_Id','Level2_Category_Id']\n",
    "final_final_train[cols] = final_final_train[cols].astype('str')\n",
    "final_final_test[cols] = final_final_test[cols].astype('str')"
   ]
  },
  {
   "cell_type": "code",
   "execution_count": 81,
   "id": "ee6dac2b",
   "metadata": {},
   "outputs": [],
   "source": [
    "lee = LabelEncoder()\n",
    "encoded_labels = le.fit_transform(df_gender)"
   ]
  },
  {
   "cell_type": "code",
   "execution_count": 82,
   "id": "fda27935",
   "metadata": {},
   "outputs": [],
   "source": [
    "# df_gender\n",
    "# sell_price_tr\n",
    "# sell_price_te\n",
    "\n",
    "train_data = final_final_train\n",
    "train_label = encoded_labels\n",
    "\n",
    "train_pool = Pool(train_data, \n",
    "                  train_label, \n",
    "                  cat_features=cols)\n",
    "######\n",
    "\n",
    "test_pool = Pool(final_final_test, \n",
    "                  cat_features=cols)\n"
   ]
  },
  {
   "cell_type": "code",
   "execution_count": 83,
   "id": "a5391f5a",
   "metadata": {},
   "outputs": [],
   "source": [
    "model = CatBoostClassifier(iterations=100, depth=10, learning_rate = 0.01, loss_function='Logloss', verbose=True)"
   ]
  },
  {
   "cell_type": "code",
   "execution_count": 85,
   "id": "94da25bb",
   "metadata": {},
   "outputs": [
    {
     "name": "stdout",
     "output_type": "stream",
     "text": [
      "0:\tlearn: 0.6875768\ttotal: 283ms\tremaining: 28s\n",
      "1:\tlearn: 0.6821242\ttotal: 434ms\tremaining: 21.3s\n",
      "2:\tlearn: 0.6767727\ttotal: 543ms\tremaining: 17.6s\n",
      "3:\tlearn: 0.6715391\ttotal: 669ms\tremaining: 16s\n",
      "4:\tlearn: 0.6663987\ttotal: 813ms\tremaining: 15.5s\n",
      "5:\tlearn: 0.6613653\ttotal: 932ms\tremaining: 14.6s\n",
      "6:\tlearn: 0.6564344\ttotal: 1.02s\tremaining: 13.5s\n",
      "7:\tlearn: 0.6515798\ttotal: 1.15s\tremaining: 13.2s\n",
      "8:\tlearn: 0.6468143\ttotal: 1.25s\tremaining: 12.7s\n",
      "9:\tlearn: 0.6421528\ttotal: 1.35s\tremaining: 12.2s\n",
      "10:\tlearn: 0.6375770\ttotal: 1.47s\tremaining: 11.9s\n",
      "11:\tlearn: 0.6330797\ttotal: 1.58s\tremaining: 11.6s\n",
      "12:\tlearn: 0.6286853\ttotal: 1.65s\tremaining: 11.1s\n",
      "13:\tlearn: 0.6243525\ttotal: 1.78s\tremaining: 11s\n",
      "14:\tlearn: 0.6201122\ttotal: 1.87s\tremaining: 10.6s\n",
      "15:\tlearn: 0.6159462\ttotal: 2.04s\tremaining: 10.7s\n",
      "16:\tlearn: 0.6118568\ttotal: 2.19s\tremaining: 10.7s\n",
      "17:\tlearn: 0.6078297\ttotal: 2.36s\tremaining: 10.7s\n",
      "18:\tlearn: 0.6038727\ttotal: 2.54s\tremaining: 10.8s\n",
      "19:\tlearn: 0.5999803\ttotal: 2.69s\tremaining: 10.8s\n",
      "20:\tlearn: 0.5961607\ttotal: 2.8s\tremaining: 10.6s\n",
      "21:\tlearn: 0.5924042\ttotal: 2.9s\tremaining: 10.3s\n",
      "22:\tlearn: 0.5887132\ttotal: 3.02s\tremaining: 10.1s\n",
      "23:\tlearn: 0.5850864\ttotal: 3.15s\tremaining: 9.99s\n",
      "24:\tlearn: 0.5815358\ttotal: 3.27s\tremaining: 9.81s\n",
      "25:\tlearn: 0.5780286\ttotal: 3.4s\tremaining: 9.68s\n",
      "26:\tlearn: 0.5745983\ttotal: 3.48s\tremaining: 9.41s\n",
      "27:\tlearn: 0.5712049\ttotal: 3.6s\tremaining: 9.26s\n",
      "28:\tlearn: 0.5678934\ttotal: 3.69s\tremaining: 9.05s\n",
      "29:\tlearn: 0.5646255\ttotal: 3.8s\tremaining: 8.86s\n",
      "30:\tlearn: 0.5614327\ttotal: 3.9s\tremaining: 8.67s\n",
      "31:\tlearn: 0.5582741\ttotal: 4.02s\tremaining: 8.54s\n",
      "32:\tlearn: 0.5551771\ttotal: 4.1s\tremaining: 8.33s\n",
      "33:\tlearn: 0.5521283\ttotal: 4.2s\tremaining: 8.16s\n",
      "34:\tlearn: 0.5491256\ttotal: 4.33s\tremaining: 8.04s\n",
      "35:\tlearn: 0.5461729\ttotal: 4.45s\tremaining: 7.92s\n",
      "36:\tlearn: 0.5432717\ttotal: 4.54s\tremaining: 7.73s\n",
      "37:\tlearn: 0.5404123\ttotal: 4.66s\tremaining: 7.61s\n",
      "38:\tlearn: 0.5376169\ttotal: 4.75s\tremaining: 7.44s\n",
      "39:\tlearn: 0.5348581\ttotal: 4.89s\tremaining: 7.33s\n",
      "40:\tlearn: 0.5321597\ttotal: 4.96s\tremaining: 7.14s\n",
      "41:\tlearn: 0.5294969\ttotal: 5.05s\tremaining: 6.98s\n",
      "42:\tlearn: 0.5268691\ttotal: 5.15s\tremaining: 6.83s\n",
      "43:\tlearn: 0.5242787\ttotal: 5.27s\tremaining: 6.71s\n",
      "44:\tlearn: 0.5217308\ttotal: 5.4s\tremaining: 6.59s\n",
      "45:\tlearn: 0.5192331\ttotal: 5.52s\tremaining: 6.48s\n",
      "46:\tlearn: 0.5167839\ttotal: 5.63s\tremaining: 6.35s\n",
      "47:\tlearn: 0.5143680\ttotal: 5.72s\tremaining: 6.2s\n",
      "48:\tlearn: 0.5119757\ttotal: 5.85s\tremaining: 6.09s\n",
      "49:\tlearn: 0.5096345\ttotal: 5.95s\tremaining: 5.95s\n",
      "50:\tlearn: 0.5073217\ttotal: 6.08s\tremaining: 5.84s\n",
      "51:\tlearn: 0.5050603\ttotal: 6.16s\tremaining: 5.68s\n",
      "52:\tlearn: 0.5028242\ttotal: 6.29s\tremaining: 5.58s\n",
      "53:\tlearn: 0.5006387\ttotal: 6.37s\tremaining: 5.43s\n",
      "54:\tlearn: 0.4984781\ttotal: 6.48s\tremaining: 5.3s\n",
      "55:\tlearn: 0.4963534\ttotal: 6.57s\tremaining: 5.16s\n",
      "56:\tlearn: 0.4942665\ttotal: 6.68s\tremaining: 5.04s\n",
      "57:\tlearn: 0.4922021\ttotal: 6.8s\tremaining: 4.93s\n",
      "58:\tlearn: 0.4901730\ttotal: 6.93s\tremaining: 4.82s\n",
      "59:\tlearn: 0.4881825\ttotal: 7.02s\tremaining: 4.68s\n",
      "60:\tlearn: 0.4862153\ttotal: 7.13s\tremaining: 4.56s\n",
      "61:\tlearn: 0.4842732\ttotal: 7.25s\tremaining: 4.45s\n",
      "62:\tlearn: 0.4823674\ttotal: 7.39s\tremaining: 4.34s\n",
      "63:\tlearn: 0.4804912\ttotal: 7.54s\tremaining: 4.24s\n",
      "64:\tlearn: 0.4786418\ttotal: 7.68s\tremaining: 4.13s\n",
      "65:\tlearn: 0.4768398\ttotal: 7.76s\tremaining: 4s\n",
      "66:\tlearn: 0.4750371\ttotal: 7.89s\tremaining: 3.89s\n",
      "67:\tlearn: 0.4732853\ttotal: 7.98s\tremaining: 3.76s\n",
      "68:\tlearn: 0.4715628\ttotal: 8.07s\tremaining: 3.63s\n",
      "69:\tlearn: 0.4698569\ttotal: 8.2s\tremaining: 3.51s\n",
      "70:\tlearn: 0.4681744\ttotal: 8.33s\tremaining: 3.4s\n",
      "71:\tlearn: 0.4665109\ttotal: 8.46s\tremaining: 3.29s\n",
      "72:\tlearn: 0.4648755\ttotal: 8.6s\tremaining: 3.18s\n",
      "73:\tlearn: 0.4632764\ttotal: 8.7s\tremaining: 3.06s\n",
      "74:\tlearn: 0.4616867\ttotal: 8.83s\tremaining: 2.94s\n",
      "75:\tlearn: 0.4601251\ttotal: 8.99s\tremaining: 2.84s\n",
      "76:\tlearn: 0.4586046\ttotal: 9.09s\tremaining: 2.71s\n",
      "77:\tlearn: 0.4570959\ttotal: 9.2s\tremaining: 2.6s\n",
      "78:\tlearn: 0.4556015\ttotal: 9.33s\tremaining: 2.48s\n",
      "79:\tlearn: 0.4541666\ttotal: 9.39s\tremaining: 2.35s\n",
      "80:\tlearn: 0.4527173\ttotal: 9.55s\tremaining: 2.24s\n",
      "81:\tlearn: 0.4512890\ttotal: 9.69s\tremaining: 2.13s\n",
      "82:\tlearn: 0.4498892\ttotal: 9.81s\tremaining: 2.01s\n",
      "83:\tlearn: 0.4485173\ttotal: 9.91s\tremaining: 1.89s\n",
      "84:\tlearn: 0.4471570\ttotal: 10s\tremaining: 1.77s\n",
      "85:\tlearn: 0.4458199\ttotal: 10.2s\tremaining: 1.66s\n",
      "86:\tlearn: 0.4444984\ttotal: 10.3s\tremaining: 1.54s\n",
      "87:\tlearn: 0.4432066\ttotal: 10.4s\tremaining: 1.42s\n",
      "88:\tlearn: 0.4419275\ttotal: 10.5s\tremaining: 1.3s\n",
      "89:\tlearn: 0.4406657\ttotal: 10.6s\tremaining: 1.18s\n",
      "90:\tlearn: 0.4394244\ttotal: 10.8s\tremaining: 1.06s\n",
      "91:\tlearn: 0.4382127\ttotal: 10.9s\tremaining: 945ms\n",
      "92:\tlearn: 0.4370048\ttotal: 11s\tremaining: 828ms\n",
      "93:\tlearn: 0.4358163\ttotal: 11.1s\tremaining: 711ms\n",
      "94:\tlearn: 0.4345486\ttotal: 11.3s\tremaining: 594ms\n",
      "95:\tlearn: 0.4332959\ttotal: 11.4s\tremaining: 476ms\n",
      "96:\tlearn: 0.4320624\ttotal: 11.5s\tremaining: 357ms\n",
      "97:\tlearn: 0.4308535\ttotal: 11.7s\tremaining: 239ms\n",
      "98:\tlearn: 0.4296553\ttotal: 11.9s\tremaining: 120ms\n",
      "99:\tlearn: 0.4284766\ttotal: 12s\tremaining: 0us\n"
     ]
    },
    {
     "data": {
      "text/plain": [
       "<catboost.core.CatBoostClassifier at 0x7f97b87a8790>"
      ]
     },
     "execution_count": 85,
     "metadata": {},
     "output_type": "execute_result"
    }
   ],
   "source": [
    "model.fit(train_pool)"
   ]
  },
  {
   "cell_type": "code",
   "execution_count": 86,
   "id": "0cae406e",
   "metadata": {},
   "outputs": [],
   "source": [
    "preds = model.predict(test_pool, 'Probability')"
   ]
  },
  {
   "cell_type": "code",
   "execution_count": 103,
   "id": "776b0f1b",
   "metadata": {},
   "outputs": [],
   "source": [
    "expected_id = pd.read_csv('test_ids_in_prediction.csv')"
   ]
  },
  {
   "cell_type": "code",
   "execution_count": 106,
   "id": "e68fb3bb",
   "metadata": {},
   "outputs": [
    {
     "data": {
      "text/html": [
       "<div>\n",
       "<style scoped>\n",
       "    .dataframe tbody tr th:only-of-type {\n",
       "        vertical-align: middle;\n",
       "    }\n",
       "\n",
       "    .dataframe tbody tr th {\n",
       "        vertical-align: top;\n",
       "    }\n",
       "\n",
       "    .dataframe thead th {\n",
       "        text-align: right;\n",
       "    }\n",
       "</style>\n",
       "<table border=\"1\" class=\"dataframe\">\n",
       "  <thead>\n",
       "    <tr style=\"text-align: right;\">\n",
       "      <th></th>\n",
       "      <th>unique_id</th>\n",
       "    </tr>\n",
       "  </thead>\n",
       "  <tbody>\n",
       "    <tr>\n",
       "      <th>0</th>\n",
       "      <td>9</td>\n",
       "    </tr>\n",
       "    <tr>\n",
       "      <th>1</th>\n",
       "      <td>18</td>\n",
       "    </tr>\n",
       "  </tbody>\n",
       "</table>\n",
       "</div>"
      ],
      "text/plain": [
       "   unique_id\n",
       "0          9\n",
       "1         18"
      ]
     },
     "execution_count": 106,
     "metadata": {},
     "output_type": "execute_result"
    }
   ],
   "source": [
    "expected_id.head(2)"
   ]
  },
  {
   "cell_type": "code",
   "execution_count": 136,
   "id": "0fbe38c3",
   "metadata": {},
   "outputs": [],
   "source": [
    "pred_0 = preds[:,0]\n",
    "pred_1 = preds[:,1]\n",
    "\n",
    "results_0 = pd.DataFrame({\"id\":test_ids, \"pred\":pred_0})\n",
    "results_1 = pd.DataFrame({\"id\":test_ids, \"pred\":pred_1})"
   ]
  },
  {
   "cell_type": "code",
   "execution_count": 137,
   "id": "0adfaa1d",
   "metadata": {},
   "outputs": [],
   "source": [
    "array_0 = results_0.groupby('id')['pred'].mean().values\n",
    "array_1 = results_1.groupby('id')['pred'].mean().values"
   ]
  },
  {
   "cell_type": "code",
   "execution_count": 141,
   "id": "bba11012",
   "metadata": {},
   "outputs": [],
   "source": [
    "array_0 = array_0.round(6)\n",
    "array_1 = array_1.round(6)"
   ]
  },
  {
   "cell_type": "code",
   "execution_count": 142,
   "id": "2ae71531",
   "metadata": {},
   "outputs": [],
   "source": [
    "array_0 = array_0.astype(str)\n",
    "array_1 = array_1.astype(str)"
   ]
  },
  {
   "cell_type": "code",
   "execution_count": 143,
   "id": "de184843",
   "metadata": {},
   "outputs": [],
   "source": [
    "final_0 = \", \".join(list(array_0))\n",
    "final_1 = \", \".join(list(array_1))"
   ]
  },
  {
   "cell_type": "code",
   "execution_count": 144,
   "id": "14f1f46e",
   "metadata": {},
   "outputs": [],
   "source": [
    "with open('0_prob.txt','w') as f:\n",
    "    f.write(final_0)"
   ]
  },
  {
   "cell_type": "code",
   "execution_count": 145,
   "id": "7dc03f0a",
   "metadata": {},
   "outputs": [],
   "source": [
    "with open('1_prob.txt','w') as f:\n",
    "    f.write(final_1)"
   ]
  },
  {
   "cell_type": "code",
   "execution_count": 147,
   "id": "f9388f14",
   "metadata": {},
   "outputs": [
    {
     "data": {
      "text/plain": [
       "'0.751511, 0.746846, 0.73491, 0.746456, 0.739169, 0.7675, 0.605904, 0.55, 0.73214, 0.748064, 0.577366, 0.502011, 0.737375, 0.760525, 0.737708, 0.736406, 0.605353, 0.516383, 0.744157, 0.732792, 0.774403, 0.712767, 0.728033, 0.724105, 0.749875, 0.756892, 0.767827, 0.760573, 0.751211, 0.715273, 0.755078, 0.721801, 0.766373, 0.722631, 0.766602, 0.74572, 0.653608, 0.703407, 0.759689, 0.729861, 0.726699, 0.716429, 0.758733, 0.665032, 0.747346, 0.729757, 0.74847, 0.674198, 0.757305, 0.642178, 0.554499, 0.767283, 0.679769, 0.509391, 0.636671, 0.560768, 0.712026, 0.724857, 0.728907, 0.74496, 0.716123, 0.64739, 0.487447, 0.707917, 0.765168, 0.705354, 0.757583, 0.690221, 0.69682, 0.729331, 0.755661, 0.755539, 0.737212, 0.76201, 0.714812, 0.724572, 0.674984, 0.743789, 0.771469, 0.746814, 0.634926, 0.704094, 0.697492, 0.561519, 0.753924, 0.749183, 0.699043, 0.759036, 0.753708, 0.713567, 0.736025, 0.719049, 0.707768, 0.741765, 0.654969, 0.748607, 0.752317, 0.721491, 0.605898, 0.730475, 0.705995, 0.738229, 0.734635, 0.736659, 0.685424, 0.676438, 0.651194, 0.601612, 0.708764, 0.666048, 0.738431, 0.753327, 0.724194, 0.727184, 0.69192, 0.706314, 0.684921, 0.750253, 0.750607, 0.742672, 0.746292, 0.750546, 0.64119, 0.701747, 0.739824, 0.736998, 0.772148, 0.755631, 0.51994, 0.587062, 0.756806, 0.643408, 0.602994, 0.758846, 0.72607, 0.736753, 0.716038, 0.769982, 0.735137, 0.708471, 0.673708, 0.669939, 0.753164, 0.709497, 0.674204, 0.758274, 0.678283, 0.727044, 0.54723, 0.736884, 0.702628, 0.737385, 0.717899, 0.76327, 0.677356, 0.72795, 0.763352, 0.711671, 0.746546, 0.606399, 0.740718, 0.711681, 0.739516, 0.739386, 0.721826, 0.749467, 0.710336, 0.767369, 0.739569, 0.539478, 0.729429, 0.581617, 0.699304, 0.777907, 0.744298, 0.680321, 0.724375, 0.737311, 0.74292, 0.716409, 0.65887, 0.477202, 0.726451, 0.657767, 0.649938, 0.755363, 0.73072, 0.753253, 0.771585, 0.747041, 0.734859, 0.724916, 0.721101, 0.72348, 0.770593, 0.611464, 0.726346, 0.679394, 0.723236, 0.706453, 0.700093, 0.76727, 0.769005, 0.732508, 0.723734, 0.696637, 0.626443, 0.722931, 0.480701, 0.574555, 0.752881, 0.74141, 0.621508, 0.738262, 0.755604, 0.652455, 0.7402, 0.737075, 0.69781, 0.753082, 0.69547, 0.738704, 0.647262, 0.737524, 0.737385, 0.595532, 0.627479, 0.718764, 0.635162, 0.640126, 0.589002, 0.718088, 0.692935, 0.772767, 0.611096, 0.773377, 0.768997, 0.733898, 0.746787, 0.748933, 0.59802, 0.735629, 0.744252, 0.756976, 0.720645, 0.663378, 0.661642, 0.58648, 0.745997, 0.693728, 0.687622, 0.469394, 0.741742, 0.771651, 0.486989, 0.693111, 0.755898, 0.758362, 0.621651, 0.61333, 0.728091, 0.671934, 0.662326, 0.731989, 0.731729, 0.751573, 0.653394, 0.734832, 0.753973, 0.599091, 0.722606, 0.709327, 0.725554, 0.66845, 0.741605, 0.739349, 0.727119, 0.731922, 0.743015, 0.707549, 0.764945, 0.755553, 0.531668, 0.75257, 0.614401, 0.562952, 0.750036, 0.740697, 0.701143, 0.750423, 0.640178, 0.563517, 0.62296, 0.727819, 0.672482, 0.657337, 0.662751, 0.637202, 0.587532, 0.741025, 0.745637, 0.710829, 0.743459, 0.726097, 0.764775, 0.715535, 0.729805, 0.763414, 0.768012, 0.720983, 0.755675, 0.72032, 0.548975, 0.707985, 0.735781, 0.596137, 0.754142, 0.620845, 0.707871, 0.599851, 0.741853, 0.686046, 0.633119, 0.659504, 0.74656, 0.717165, 0.647485, 0.646487, 0.692872, 0.702355, 0.665564, 0.755025, 0.627845, 0.733235, 0.639088, 0.731886, 0.736287, 0.738073, 0.51896, 0.722139, 0.737407, 0.754653, 0.708715, 0.759633, 0.731516, 0.699357, 0.745166, 0.666213, 0.725478, 0.76427, 0.580294, 0.581079, 0.774115, 0.732004, 0.664415, 0.771642, 0.70604, 0.723077, 0.756713, 0.745275, 0.764251, 0.756219, 0.556513, 0.757545, 0.706927, 0.754055, 0.601828, 0.754597, 0.711856, 0.642666, 0.740275, 0.726805, 0.753903, 0.770544, 0.695099, 0.740005, 0.735772, 0.757602, 0.671218, 0.73584, 0.736959, 0.746498, 0.585039, 0.716933, 0.755233, 0.729898, 0.554357, 0.772363, 0.786794, 0.776344, 0.623705, 0.759419, 0.650725, 0.748864, 0.716437, 0.757999, 0.767268, 0.750522, 0.751688, 0.725802, 0.709825, 0.755819, 0.74891, 0.751595, 0.746759, 0.742602, 0.418912, 0.557748, 0.693677, 0.570678, 0.566648, 0.612999, 0.676469, 0.700615, 0.766144, 0.534836, 0.701332, 0.522498, 0.676681, 0.733515, 0.767761, 0.723928, 0.732788, 0.768446, 0.512804, 0.550581, 0.638669, 0.52379, 0.730587, 0.714251, 0.726257, 0.469552, 0.614142, 0.764868, 0.69538, 0.734196, 0.734545, 0.672599, 0.636751, 0.730525, 0.485962, 0.763116, 0.746334, 0.635238, 0.732025, 0.730374, 0.640675, 0.759672, 0.544897, 0.64828, 0.712555, 0.729152, 0.605747, 0.741179, 0.74912, 0.739805, 0.772912, 0.770661, 0.745919, 0.734067, 0.764983, 0.678369, 0.728026, 0.707025, 0.726977, 0.764116, 0.617701, 0.625688, 0.592215, 0.734836, 0.689068, 0.63983, 0.538301, 0.734966, 0.68465, 0.742661, 0.676351, 0.726568, 0.602068, 0.727382, 0.58667, 0.756211, 0.778155, 0.54679, 0.61655, 0.604193, 0.71775, 0.743865, 0.753774, 0.562389, 0.527983, 0.687663, 0.641578, 0.727074, 0.695304, 0.774135, 0.748945, 0.663564, 0.65123, 0.517931, 0.771088, 0.743579, 0.740378, 0.748331, 0.532244, 0.74381, 0.69343, 0.766346, 0.724607, 0.736702, 0.758381, 0.7737, 0.700399, 0.634703, 0.66602, 0.626671, 0.516856, 0.79687, 0.713005, 0.515522, 0.678326, 0.689316, 0.623309, 0.577318, 0.746498, 0.752749, 0.738947, 0.771883, 0.754755, 0.71975, 0.512925, 0.729823, 0.666891, 0.621299, 0.770404, 0.715711, 0.674671, 0.507401, 0.7166, 0.741409, 0.591403, 0.755835, 0.620497, 0.584606, 0.718665, 0.651661, 0.536543, 0.738443, 0.677079, 0.653152, 0.741675, 0.724604, 0.679672, 0.761042, 0.705916, 0.726276, 0.473598, 0.683228, 0.66337, 0.734678, 0.776737, 0.567314, 0.663333, 0.76966, 0.59298, 0.767554, 0.736663, 0.657792, 0.613028, 0.755777, 0.754704, 0.634737, 0.519892, 0.50254, 0.755169, 0.717995, 0.651926, 0.70215, 0.763765, 0.732299, 0.757519, 0.480104, 0.740338, 0.770649, 0.629194, 0.750948, 0.7755, 0.70596, 0.750015, 0.728064, 0.681864, 0.747054, 0.720045, 0.560898, 0.726051, 0.55389, 0.772365, 0.691373, 0.622474, 0.646419, 0.73002, 0.773147, 0.641772, 0.748005, 0.640766, 0.696694, 0.626505, 0.750044, 0.77391, 0.743625, 0.739057, 0.742644, 0.516842, 0.686501, 0.508924, 0.74578, 0.709352, 0.592955, 0.479119, 0.545735, 0.737062, 0.78876, 0.71156, 0.735675, 0.750927, 0.635984, 0.537308, 0.742815, 0.727567, 0.756548, 0.723822, 0.726286, 0.678966, 0.534699, 0.753199, 0.661881, 0.581942, 0.576786, 0.719774, 0.745786, 0.750093, 0.752821, 0.754762, 0.672222, 0.727745, 0.52475, 0.670227, 0.745621, 0.752069, 0.719238, 0.7692, 0.597744, 0.55009, 0.652723, 0.732109, 0.75578, 0.734003, 0.574236, 0.738937, 0.762829, 0.720958, 0.718852, 0.62855, 0.686218, 0.62379, 0.653058, 0.738062, 0.765732, 0.774104, 0.761056, 0.552159, 0.743265, 0.684016, 0.644997, 0.708229, 0.676888, 0.774758, 0.701938, 0.641392, 0.676838, 0.68549, 0.604211, 0.605776, 0.761483, 0.720232, 0.737157, 0.561525, 0.718743, 0.75139, 0.579514, 0.588921, 0.573426, 0.730155, 0.722716, 0.733189, 0.718151, 0.743882, 0.770794, 0.645999, 0.718702, 0.767917, 0.739908, 0.657233, 0.766214, 0.738701, 0.711568, 0.725769, 0.652851, 0.766196, 0.656454, 0.721704, 0.670476, 0.732378, 0.622332, 0.718322, 0.735146, 0.748857, 0.730344, 0.650301, 0.716845, 0.719509, 0.782771, 0.755947, 0.536067, 0.73547, 0.74548, 0.612664, 0.77044, 0.548211, 0.605929, 0.749323, 0.657982, 0.6885, 0.72343, 0.723229, 0.740917, 0.762461, 0.755417, 0.753533, 0.743896, 0.733338, 0.729784, 0.673909, 0.732582, 0.749682, 0.641546, 0.639441, 0.755827, 0.692459, 0.748974, 0.732642, 0.648502, 0.689356, 0.744279, 0.636039, 0.755111, 0.76962, 0.599701, 0.663765, 0.763557, 0.774934, 0.744356, 0.59563, 0.735548, 0.772092, 0.750502, 0.725755, 0.677759, 0.737976, 0.620884, 0.586919, 0.735516, 0.758743, 0.603704, 0.642218, 0.539786, 0.589981, 0.617699, 0.718152, 0.67714, 0.779784, 0.62302, 0.730287, 0.685189, 0.762974, 0.650211, 0.597336, 0.695864, 0.768177, 0.515008, 0.462975, 0.743156, 0.683498, 0.722631, 0.638831, 0.68742, 0.736192, 0.649087, 0.772715, 0.731062, 0.665083, 0.625755, 0.72806, 0.460188, 0.720301, 0.753408, 0.697387, 0.681841, 0.761066, 0.758607, 0.763093, 0.646058, 0.705634, 0.715381, 0.644003, 0.69795, 0.7728, 0.733836, 0.726228, 0.780861, 0.752788, 0.716563, 0.745788, 0.742556, 0.731115, 0.655092, 0.713687, 0.704268, 0.652568, 0.760934, 0.739013, 0.734693, 0.70239, 0.719425, 0.665797, 0.731466, 0.689659, 0.528618, 0.702361, 0.564236, 0.765264, 0.710479, 0.761001, 0.773514, 0.740517, 0.750206, 0.750446, 0.708924, 0.749874, 0.703848, 0.691401, 0.705265, 0.684196, 0.598669, 0.648805, 0.772878, 0.723859, 0.542848, 0.736546, 0.734463, 0.737501, 0.767072, 0.723021, 0.75192, 0.649011, 0.546868, 0.569211, 0.759138, 0.697281, 0.67519, 0.773829, 0.688274, 0.763733, 0.738774, 0.658373, 0.746468, 0.74334, 0.73733, 0.581768, 0.625396, 0.599648, 0.567716, 0.750438, 0.710584, 0.709984, 0.618987, 0.757352, 0.641903, 0.655654, 0.657015, 0.762249, 0.671725, 0.564115, 0.666795, 0.756006, 0.730466, 0.73654, 0.531886, 0.634824, 0.70277, 0.612816, 0.712903, 0.707824, 0.597231, 0.616188, 0.715512, 0.595295, 0.593288, 0.607938, 0.680584, 0.580767, 0.482563, 0.778693, 0.756493, 0.794869, 0.712767, 0.762321, 0.701156, 0.622616, 0.748989, 0.719266, 0.560208, 0.750465, 0.734862, 0.707699, 0.504224, 0.729739, 0.668322, 0.650109, 0.566681, 0.737182, 0.769016, 0.775598, 0.737865, 0.624763, 0.717652, 0.743056, 0.480962, 0.740668, 0.68067, 0.7306, 0.577598, 0.613356, 0.779551, 0.73983, 0.745207, 0.721368, 0.728184, 0.729403, 0.610766, 0.726075, 0.647619, 0.544475, 0.753951, 0.72554, 0.724651, 0.749458, 0.76464, 0.773091, 0.667212, 0.769178, 0.689459, 0.690992, 0.754876, 0.725321, 0.770062, 0.747147, 0.541642, 0.762318, 0.558708, 0.63124, 0.598227, 0.582668, 0.778326, 0.764217, 0.746697, 0.735128, 0.743763, 0.728756, 0.640613, 0.768613, 0.724591, 0.733975, 0.547463, 0.775547, 0.50742, 0.723057, 0.691344, 0.729126, 0.751279, 0.746459, 0.772869, 0.774086, 0.737621, 0.605866, 0.741288, 0.739129, 0.6945, 0.735445, 0.781473, 0.731949, 0.737432, 0.689771, 0.75123, 0.737798, 0.731345, 0.65864, 0.56513, 0.745232, 0.697444, 0.511894, 0.749867, 0.70368, 0.765016, 0.73548, 0.464405, 0.671777, 0.731547, 0.631253, 0.747298, 0.527866, 0.753154, 0.6584, 0.74647, 0.525115, 0.691096, 0.604466, 0.657386, 0.635501, 0.757612, 0.710552, 0.738178, 0.75845, 0.662611, 0.723228, 0.695655, 0.682556, 0.595625, 0.76605, 0.688698, 0.578871, 0.577723, 0.620177, 0.662708, 0.53213, 0.605756, 0.745568, 0.76666, 0.780734, 0.762457, 0.765621, 0.654293, 0.752284, 0.724177, 0.749014, 0.721134, 0.739434, 0.491577, 0.704092, 0.737457, 0.727292, 0.620451, 0.744557, 0.762156, 0.725582, 0.772478, 0.734288, 0.715525, 0.772876, 0.728946, 0.733152, 0.585802, 0.754459, 0.72852, 0.686694, 0.729486, 0.72122, 0.77437, 0.631245, 0.719821, 0.646413, 0.629387, 0.606956, 0.64923, 0.690674, 0.691372, 0.633617, 0.706737, 0.670038, 0.512606, 0.638592, 0.620665, 0.717426, 0.531133, 0.639413, 0.668379, 0.725702, 0.726855, 0.610001, 0.762298, 0.680497, 0.553921, 0.470662, 0.682412, 0.702539, 0.48982, 0.653121, 0.711213, 0.611448, 0.469711, 0.601074, 0.735291, 0.746843, 0.714569, 0.633469, 0.672985, 0.494236, 0.751097, 0.722663, 0.62838, 0.530819, 0.758227, 0.688046, 0.615849, 0.722805, 0.729696, 0.57605, 0.705887, 0.752509, 0.691175, 0.587287, 0.774773, 0.5219, 0.735443, 0.632486, 0.747068, 0.765641, 0.718642, 0.759976, 0.570119, 0.674949, 0.680687, 0.707928, 0.654307, 0.747371, 0.655288, 0.743977, 0.461876, 0.704699, 0.704345, 0.721781, 0.490526, 0.729677, 0.693617, 0.733445, 0.670941, 0.764893, 0.764327, 0.600117, 0.58882, 0.646359, 0.704145, 0.762914, 0.757672, 0.681277, 0.766374, 0.713716, 0.775715, 0.730869, 0.715172, 0.648855, 0.765805, 0.500566, 0.738747, 0.698686, 0.753423, 0.617519, 0.698914, 0.510902, 0.778733, 0.735789, 0.688486, 0.643502, 0.603637, 0.74583, 0.699737, 0.758449, 0.585007, 0.749882, 0.598022, 0.535496, 0.751801, 0.530477, 0.570607, 0.68555, 0.615964, 0.752594, 0.701044, 0.705608, 0.600172, 0.675085, 0.697969, 0.692284, 0.648017, 0.704039, 0.577043, 0.690693, 0.667463, 0.740924, 0.742538, 0.778271, 0.611001, 0.774298, 0.742579, 0.753991, 0.722288, 0.749669, 0.65167, 0.636601, 0.740586, 0.717992, 0.764251, 0.724816, 0.647667, 0.466955, 0.61178, 0.653149, 0.558631, 0.637516, 0.704492, 0.496536, 0.490266, 0.711786, 0.673178, 0.740751, 0.729959, 0.632504, 0.754613, 0.602847, 0.601859, 0.531494, 0.545188, 0.743975, 0.721407, 0.558688, 0.708321, 0.713068, 0.767625, 0.702961, 0.688037, 0.722927, 0.735523, 0.723465, 0.588792, 0.69111, 0.58156, 0.724215, 0.69173, 0.718684, 0.660043, 0.751301, 0.696475, 0.772912, 0.597194, 0.634408, 0.535034, 0.562382, 0.770864, 0.770981, 0.623945, 0.721143, 0.503832, 0.649841, 0.72987, 0.729778, 0.709671, 0.500427, 0.718238, 0.691461, 0.759829, 0.763025, 0.621443, 0.712918, 0.702621, 0.659308, 0.727945, 0.666855, 0.559986, 0.771847, 0.723185, 0.714699, 0.663178, 0.60573, 0.525783, 0.507439, 0.711904, 0.614963, 0.724578, 0.743606, 0.71151, 0.789481, 0.681139, 0.590313, 0.689883, 0.582854, 0.750449, 0.608583, 0.721492, 0.525838, 0.725987, 0.73528, 0.756428, 0.517952, 0.57141, 0.7623, 0.645481, 0.728619, 0.747162, 0.6547, 0.527568, 0.687962, 0.781405, 0.76916, 0.64822, 0.763837, 0.53164, 0.603866, 0.683931, 0.686427, 0.752526, 0.653796, 0.76489, 0.710337, 0.622838, 0.68014, 0.753352, 0.654157, 0.72799, 0.676001, 0.628946, 0.608772, 0.775642, 0.607169, 0.709404, 0.499718, 0.746918, 0.782818, 0.737508, 0.745902, 0.531559, 0.771631, 0.644423, 0.64653, 0.665246, 0.686271, 0.642321, 0.671931, 0.754127, 0.63108, 0.660483, 0.778385, 0.64486, 0.548396, 0.598133, 0.739028, 0.650565, 0.605275, 0.755044, 0.528828, 0.638433, 0.754033, 0.738178, 0.676654, 0.741674, 0.743263, 0.617811, 0.598304, 0.611894, 0.6032, 0.655006, 0.571181, 0.673604, 0.678278, 0.59719, 0.645955, 0.739157, 0.614438, 0.611733, 0.473247, 0.60121, 0.679549, 0.746096, 0.685602, 0.654848, 0.62777, 0.650897, 0.690644, 0.657568, 0.659831, 0.630998, 0.667667, 0.632814, 0.613483, 0.754875, 0.635395, 0.716275, 0.661088, 0.616633, 0.606798, 0.72316, 0.639446, 0.685077, 0.64138, 0.604326, 0.658357, 0.567651, 0.683505, 0.489571, 0.65454, 0.657837, 0.501498, 0.616298, 0.604346, 0.760422, 0.71294, 0.598833, 0.692526, 0.729726, 0.63659, 0.626177, 0.655106, 0.648475, 0.582353, 0.690716, 0.753524, 0.718192, 0.621983, 0.615812, 0.604536, 0.661958, 0.684609, 0.755362, 0.654803, 0.51066, 0.629702, 0.736379, 0.64063, 0.512104, 0.564816, 0.681814, 0.693511, 0.547767, 0.557402, 0.720485, 0.665177, 0.569049, 0.610742, 0.723958, 0.632287, 0.777765, 0.773166, 0.602719, 0.556953, 0.729037, 0.536689, 0.668054, 0.606283, 0.772368, 0.685425, 0.597246, 0.667909, 0.710415, 0.709512, 0.695691, 0.754361, 0.694585, 0.647753, 0.777108, 0.470853, 0.595415, 0.752683, 0.77025, 0.733643, 0.696901, 0.629694, 0.731507, 0.735592, 0.640808, 0.736003, 0.644332, 0.780276, 0.518075, 0.756827, 0.770098, 0.648686, 0.690781, 0.681698, 0.767171, 0.58751, 0.678315, 0.647499, 0.696865, 0.765672, 0.763813, 0.659405, 0.769288, 0.712278, 0.720535, 0.781327, 0.739986, 0.692692, 0.60289, 0.511065, 0.741017, 0.473155, 0.76829, 0.519941, 0.76612, 0.703153, 0.744939, 0.726583, 0.741417, 0.780756, 0.622906, 0.695349, 0.777041, 0.748773, 0.600982, 0.521821, 0.738594, 0.588982, 0.725426, 0.777969, 0.480838, 0.753383, 0.444649, 0.45394, 0.738689, 0.463676, 0.684353, 0.760251, 0.751723, 0.756623, 0.757996, 0.487862, 0.451018, 0.552965, 0.716799, 0.494103, 0.482074, 0.434797, 0.70615, 0.545312, 0.504812, 0.780615, 0.597552, 0.742324, 0.677039, 0.769191, 0.780183, 0.490595, 0.515482, 0.674153, 0.513787, 0.772419, 0.734275, 0.763352, 0.690326, 0.580036, 0.704504, 0.704313, 0.774959, 0.698256, 0.742001, 0.769083, 0.491038, 0.764472, 0.597998, 0.64196, 0.725942, 0.505048, 0.76819, 0.503697, 0.634447, 0.769523, 0.517266, 0.783984, 0.634196, 0.782116, 0.77913, 0.736477, 0.7665, 0.513537, 0.776193, 0.570678, 0.760916, 0.716345, 0.572335, 0.693376, 0.710087, 0.769961, 0.673654, 0.792702, 0.688928, 0.523056, 0.542506, 0.561998, 0.48199, 0.711154, 0.593558, 0.454481, 0.748636, 0.736271, 0.612213, 0.703261, 0.760337, 0.526665, 0.657123, 0.741018, 0.47376, 0.745216, 0.737696, 0.748278, 0.636114, 0.746495, 0.597798, 0.699706, 0.631718, 0.527218, 0.726227, 0.624733, 0.61381, 0.421798, 0.473913, 0.713467, 0.771097, 0.725795, 0.760327, 0.769581, 0.503527, 0.749742, 0.695432, 0.418242, 0.491156, 0.587358, 0.758683, 0.738333, 0.676279, 0.778865, 0.770085, 0.755812, 0.767279, 0.750912, 0.730238, 0.555738, 0.772198, 0.722055, 0.729464, 0.772721, 0.498802, 0.482925, 0.77203, 0.757069, 0.590506, 0.742209, 0.702021, 0.779502, 0.732105, 0.76386, 0.754635, 0.758252, 0.752379, 0.774837, 0.757915, 0.735845, 0.783377, 0.510503, 0.513914, 0.675521, 0.536042, 0.767859, 0.499277, 0.780723, 0.773562, 0.530001, 0.546235, 0.794126, 0.435589, 0.773101, 0.732721, 0.749905, 0.716677, 0.76428, 0.543571, 0.481081, 0.760789, 0.779666, 0.555223, 0.767055, 0.615201, 0.557142, 0.679248, 0.58067, 0.667567, 0.777777, 0.76402, 0.592545, 0.741176, 0.745955, 0.774363, 0.693583, 0.748727, 0.619989, 0.732739, 0.766707, 0.692294, 0.754894, 0.716844, 0.759793, 0.70362, 0.766336, 0.704148, 0.782817, 0.71297, 0.631486, 0.55296, 0.544664, 0.508148, 0.530312, 0.698545, 0.786152, 0.745703, 0.494942, 0.752452, 0.774271, 0.576576, 0.744767, 0.728339, 0.564251, 0.52011, 0.494355, 0.535357, 0.723834, 0.766226, 0.76186, 0.561663, 0.745896, 0.681691, 0.693536, 0.609173, 0.474038, 0.48806, 0.580541, 0.772022, 0.620481, 0.555935, 0.786035, 0.774543, 0.545656, 0.658271, 0.635661, 0.771685, 0.479371, 0.640504, 0.681163, 0.767546, 0.65689, 0.551459, 0.552763, 0.535569, 0.594907, 0.774897, 0.732422, 0.484128, 0.725237, 0.780673, 0.768922, 0.751172, 0.470929, 0.691622, 0.533275, 0.767983, 0.783492, 0.763792, 0.767675, 0.742342, 0.686224, 0.77077, 0.739992, 0.761258, 0.717707, 0.782135, 0.717578, 0.763139, 0.747594, 0.487832, 0.562431, 0.522445, 0.574814, 0.751808, 0.593166, 0.573449, 0.736954, 0.543307, 0.72841, 0.632155, 0.564201, 0.701127, 0.562331, 0.445029, 0.748799, 0.588059, 0.686953, 0.588059, 0.693536, 0.676199, 0.619597, 0.650639, 0.707791, 0.690427, 0.683512, 0.639568, 0.709624, 0.682393, 0.651915, 0.73778, 0.680107, 0.683728, 0.711804, 0.631582, 0.711689, 0.691391, 0.702824, 0.609909, 0.725735, 0.685866, 0.710403, 0.703994, 0.69794, 0.599687, 0.698946, 0.686428, 0.719443, 0.682458, 0.691912, 0.677375, 0.68498, 0.710011, 0.565529, 0.698173, 0.722302, 0.713253, 0.480044, 0.70224, 0.644569, 0.642932, 0.653824, 0.69148, 0.695591, 0.713305, 0.683023, 0.662117, 0.514766, 0.658305, 0.628193, 0.707356, 0.741694, 0.681779, 0.687282, 0.690588, 0.714594, 0.688692, 0.433169, 0.417429, 0.472584, 0.716348, 0.618837, 0.546489, 0.734255, 0.732665, 0.744158, 0.731411, 0.726135, 0.763486, 0.736489, 0.740289, 0.752603, 0.717042, 0.732658, 0.715466, 0.730612, 0.720703, 0.738907, 0.730718, 0.740898, 0.738451, 0.680353, 0.743183, 0.740887, 0.711873, 0.705396, 0.710834, 0.735851, 0.705183, 0.694408, 0.7545, 0.735679, 0.724354, 0.592525, 0.717209, 0.779256, 0.777266, 0.751786, 0.785187, 0.76193, 0.755251, 0.696572, 0.665487, 0.690979, 0.642374, 0.742544, 0.669014, 0.679714, 0.665328, 0.764156, 0.761172, 0.560967, 0.778649, 0.523864, 0.757514, 0.727974, 0.713099, 0.566648, 0.751826, 0.410039, 0.77555, 0.525563, 0.716436, 0.771109, 0.670258, 0.497847, 0.595986, 0.719626, 0.508879, 0.766912, 0.65363, 0.552939, 0.764283, 0.504592, 0.77028, 0.571849, 0.622079, 0.774432, 0.747132, 0.435759, 0.524907, 0.735413, 0.508479, 0.706123, 0.742006, 0.692767, 0.623994, 0.762021, 0.772882, 0.782559, 0.741305, 0.652772, 0.719016, 0.7228, 0.683058, 0.447197, 0.434979, 0.57817, 0.613773, 0.73666, 0.497103, 0.623962, 0.578069, 0.480856, 0.747709, 0.704414, 0.523254, 0.666258, 0.586312, 0.689702, 0.612878, 0.54345, 0.614974, 0.588828, 0.720412, 0.597912, 0.683135, 0.739568, 0.68199, 0.712365, 0.676143, 0.687028, 0.716924, 0.671071, 0.77725, 0.637069, 0.724279, 0.673785, 0.734147, 0.670733, 0.701573, 0.631863, 0.657115, 0.674283, 0.679178, 0.648128, 0.632912, 0.660281, 0.672425, 0.680338, 0.73728, 0.762819, 0.74856, 0.780844, 0.704649, 0.750034, 0.759586, 0.768584, 0.769898, 0.700031, 0.719159, 0.724478, 0.632777, 0.676316, 0.742995, 0.783288, 0.710532, 0.630991, 0.62223, 0.655676, 0.653178, 0.683983, 0.705018, 0.655769, 0.597492, 0.588139, 0.634353, 0.68307, 0.594036, 0.664067, 0.753041, 0.75235, 0.733808, 0.73933, 0.684339, 0.641969, 0.702292, 0.701634, 0.628373, 0.718856, 0.675407, 0.666029, 0.674778, 0.716158, 0.60641, 0.637776, 0.614206, 0.704894, 0.656869, 0.586136, 0.614243, 0.661838, 0.746162, 0.655135, 0.739986, 0.758774, 0.680372, 0.685272, 0.731462, 0.705965, 0.722538, 0.652459, 0.69078, 0.73748, 0.674768, 0.712423, 0.650529, 0.738506, 0.732447, 0.704393, 0.723749, 0.724807, 0.74348, 0.635291, 0.645817, 0.639456, 0.6267, 0.690173, 0.616187, 0.686908, 0.745547, 0.653936, 0.604369, 0.717828, 0.687345, 0.701318, 0.672483, 0.509129, 0.666955, 0.656379, 0.753114, 0.77353, 0.469876, 0.439078, 0.780676, 0.726279, 0.716916, 0.675445, 0.701439, 0.580593, 0.591073, 0.602081, 0.605365, 0.599053, 0.714783, 0.601016, 0.751277, 0.452687, 0.634965, 0.425439, 0.743556, 0.767262, 0.782048, 0.456224, 0.782841, 0.503502, 0.773468, 0.665684, 0.780295, 0.776519, 0.474337, 0.790993, 0.557319, 0.693536, 0.514083, 0.700798, 0.684853, 0.561628, 0.708597, 0.683344, 0.680151, 0.68283, 0.718939, 0.702819, 0.712206, 0.695582, 0.666031, 0.74082, 0.662242, 0.647154, 0.764836, 0.751664, 0.7166, 0.785513, 0.671321, 0.7435, 0.767663, 0.705168, 0.567253, 0.466756, 0.608688, 0.783686, 0.724784, 0.565113, 0.693134, 0.545916, 0.769343, 0.700773, 0.595836, 0.608785, 0.584839, 0.587413, 0.649833, 0.66663, 0.63038, 0.70843, 0.664781, 0.681792, 0.640718, 0.740563, 0.779422, 0.794975, 0.766964, 0.747682, 0.569583, 0.599078, 0.651583, 0.611146, 0.658723, 0.586734, 0.71697, 0.676848, 0.640865, 0.697812, 0.636634, 0.599192, 0.592583, 0.71618, 0.587144, 0.733708, 0.687432, 0.736968, 0.725109, 0.743343, 0.682919, 0.757368, 0.704305, 0.568311, 0.590229, 0.770812, 0.78012, 0.600387, 0.632145, 0.635894, 0.797381, 0.425623, 0.778847, 0.736361, 0.784648, 0.620307, 0.779719, 0.795263, 0.716616, 0.793142, 0.753337, 0.793959, 0.79591, 0.588059, 0.596761, 0.588059, 0.681263, 0.693321, 0.683344, 0.615703, 0.685541, 0.696118, 0.597991, 0.403403, 0.524282, 0.780615, 0.781603, 0.410995, 0.575122, 0.650335, 0.796247, 0.459973, 0.63943, 0.532367, 0.628506, 0.607213, 0.758662, 0.77156, 0.738101, 0.498193, 0.743754, 0.702093, 0.734244, 0.750431, 0.676208, 0.729543, 0.794535, 0.768138, 0.635481, 0.618696, 0.708104, 0.602601, 0.6563, 0.658699, 0.609004, 0.648125, 0.778967, 0.431141, 0.597827, 0.597211, 0.763067, 0.694243, 0.731901, 0.733232, 0.61606, 0.526416, 0.67466, 0.729402, 0.627242, 0.780019, 0.737677, 0.744157, 0.675356, 0.669505, 0.611533, 0.733722, 0.754774, 0.669321, 0.606044, 0.622752, 0.610238, 0.600654, 0.486514, 0.455152, 0.780676, 0.596761, 0.636632, 0.633813, 0.684343, 0.682427, 0.73462, 0.795768, 0.437815, 0.676508, 0.682808, 0.660041, 0.658419, 0.731682, 0.733532, 0.643841, 0.595265, 0.780726, 0.613714, 0.536818, 0.797109, 0.622626, 0.656053, 0.631496, 0.445397, 0.773767, 0.773283, 0.594038, 0.651759, 0.781167, 0.647775, 0.59175, 0.659332, 0.630949, 0.598134, 0.430266, 0.435204, 0.542564, 0.648582, 0.733852, 0.621073, 0.407997, 0.72205, 0.665205, 0.679069, 0.756215, 0.785755, 0.606078, 0.737105, 0.732432, 0.653461, 0.681456, 0.688782, 0.504861, 0.728346, 0.775772, 0.677136, 0.731919, 0.653695, 0.656463, 0.783356, 0.595952, 0.782478, 0.795962, 0.796974, 0.797211, 0.796845, 0.674403, 0.572658, 0.647981, 0.782977, 0.548632, 0.78059, 0.403535, 0.692491, 0.639235, 0.729346'"
      ]
     },
     "execution_count": 147,
     "metadata": {},
     "output_type": "execute_result"
    }
   ],
   "source": [
    "final_0"
   ]
  },
  {
   "cell_type": "code",
   "execution_count": null,
   "id": "e5695067",
   "metadata": {},
   "outputs": [],
   "source": []
  },
  {
   "cell_type": "markdown",
   "id": "9cf0c388",
   "metadata": {},
   "source": [
    "# FILL WITH THE MOST FREQUENT"
   ]
  },
  {
   "cell_type": "code",
   "execution_count": 51,
   "id": "8e29cb54",
   "metadata": {},
   "outputs": [
    {
     "data": {
      "text/plain": [
       "user_action                                         visit\n",
       "sellingprice                                          0.0\n",
       "product_name          W - Lab Madeleb 40 Ml 8680419062398\n",
       "brand_name                                  TRENDYOLMİLLA\n",
       "businessunit                                      Kadın A\n",
       "product_gender                                      Kadın\n",
       "category_id                                         601.0\n",
       "Level1_Category_Id                                  522.0\n",
       "Level2_Category_Id                                 2871.0\n",
       "gender                                                  F\n",
       "unique_id                                            19.0\n",
       "timestamp_dt                   2020-11-13 18:21:20.017000\n",
       "weekday                                                 2\n",
       "month                                                  11\n",
       "hour                                                   21\n",
       "Name: 0, dtype: object"
      ]
     },
     "execution_count": 51,
     "metadata": {},
     "output_type": "execute_result"
    }
   ],
   "source": [
    "# FOR LIGHTGBM, WE DECIDED NOT TO IMPUTE THE MISSING VALUES.\n",
    "\n",
    "fill_values = df.mode().iloc[0]\n",
    "fill_values"
   ]
  },
  {
   "cell_type": "code",
   "execution_count": 52,
   "id": "3784d08d",
   "metadata": {},
   "outputs": [],
   "source": [
    "df = df.fillna(fill_values)\n",
    "df_test = df_test.fillna(fill_values)"
   ]
  },
  {
   "cell_type": "code",
   "execution_count": 53,
   "id": "ca2a0e5a",
   "metadata": {},
   "outputs": [
    {
     "data": {
      "text/plain": [
       "user_action                   object\n",
       "sellingprice                 float64\n",
       "product_name                  object\n",
       "brand_name                    object\n",
       "businessunit                  object\n",
       "product_gender                object\n",
       "category_id                  float64\n",
       "Level1_Category_Id           float64\n",
       "Level2_Category_Id           float64\n",
       "gender                        object\n",
       "unique_id                      int64\n",
       "timestamp_dt          datetime64[ns]\n",
       "weekday                        int64\n",
       "month                          int64\n",
       "hour                           int64\n",
       "dtype: object"
      ]
     },
     "execution_count": 53,
     "metadata": {},
     "output_type": "execute_result"
    }
   ],
   "source": [
    "df.dtypes"
   ]
  },
  {
   "cell_type": "code",
   "execution_count": 65,
   "id": "1b0846cc",
   "metadata": {},
   "outputs": [],
   "source": [
    "def rare_encoder(dataframe, rare_perc):\n",
    "    temp_df = dataframe.copy()\n",
    "\n",
    "    rare_columns = [col for col in temp_df.columns if temp_df[col].dtypes == 'O'\n",
    "                    and (temp_df[col].value_counts() / len(temp_df) < rare_perc).any(axis=None)]\n",
    "\n",
    "    for var in rare_columns:\n",
    "        tmp = temp_df[var].value_counts() / len(temp_df)\n",
    "        rare_labels = tmp[tmp < rare_perc].index\n",
    "        temp_df[var] = np.where(temp_df[var].isin(rare_labels), 'Rare', temp_df[var])\n",
    "\n",
    "    return temp_df\n",
    "\n",
    "# Rare Encoding\n",
    "\n",
    "rare_df = rare_encoder(df, 0.001)\n",
    "rare_test = rare_encoder(df_test, 0.001)"
   ]
  },
  {
   "cell_type": "code",
   "execution_count": 66,
   "id": "ba97d770",
   "metadata": {},
   "outputs": [
    {
     "name": "stdout",
     "output_type": "stream",
     "text": [
      "True\n",
      "False\n",
      "True\n",
      "False\n",
      "True\n",
      "False\n"
     ]
    }
   ],
   "source": [
    "# Check if the categories are same for train and test, after rare encoding\n",
    "\n",
    "cat_cols = ['product_name','brand_name','businessunit','category_id','Level1_Category_Id','Level2_Category_Id']\n",
    "\n",
    "for col in cat_cols:\n",
    "    a = set(rare_df[col].unique())\n",
    "    b = set(rare_test[col].unique())\n",
    "    print(a==b)"
   ]
  },
  {
   "cell_type": "code",
   "execution_count": null,
   "id": "c9f99f43",
   "metadata": {},
   "outputs": [],
   "source": []
  },
  {
   "cell_type": "code",
   "execution_count": null,
   "id": "0ded58f7",
   "metadata": {},
   "outputs": [],
   "source": []
  },
  {
   "cell_type": "code",
   "execution_count": null,
   "id": "831ed8c1",
   "metadata": {},
   "outputs": [],
   "source": []
  },
  {
   "cell_type": "code",
   "execution_count": null,
   "id": "736848ef",
   "metadata": {},
   "outputs": [],
   "source": []
  },
  {
   "cell_type": "code",
   "execution_count": null,
   "id": "5357cfa9",
   "metadata": {},
   "outputs": [],
   "source": []
  },
  {
   "cell_type": "markdown",
   "id": "2b222fa7",
   "metadata": {},
   "source": [
    "# RF IMPUTING STRATEGY"
   ]
  },
  {
   "cell_type": "code",
   "execution_count": 76,
   "id": "213f9420",
   "metadata": {},
   "outputs": [
    {
     "ename": "MemoryError",
     "evalue": "could not allocate 1808261120 bytes",
     "output_type": "error",
     "traceback": [
      "\u001b[1;31m---------------------------------------------------------------------------\u001b[0m",
      "\u001b[1;31mMemoryError\u001b[0m                               Traceback (most recent call last)",
      "\u001b[1;32m~\\AppData\\Local\\Temp/ipykernel_9132/3143936934.py\u001b[0m in \u001b[0;36m<module>\u001b[1;34m\u001b[0m\n\u001b[0;32m     13\u001b[0m \u001b[1;33m\u001b[0m\u001b[0m\n\u001b[0;32m     14\u001b[0m     \u001b[0mrf_impute\u001b[0m \u001b[1;33m=\u001b[0m \u001b[0mRandomForestClassifier\u001b[0m\u001b[1;33m(\u001b[0m\u001b[0mn_estimators\u001b[0m \u001b[1;33m=\u001b[0m \u001b[1;36m100\u001b[0m\u001b[1;33m)\u001b[0m\u001b[1;33m\u001b[0m\u001b[1;33m\u001b[0m\u001b[0m\n\u001b[1;32m---> 15\u001b[1;33m     \u001b[0mrf_impute\u001b[0m\u001b[1;33m.\u001b[0m\u001b[0mfit\u001b[0m\u001b[1;33m(\u001b[0m\u001b[0mdf_notnull_x\u001b[0m\u001b[1;33m,\u001b[0m \u001b[0mdf_notnull_y\u001b[0m\u001b[1;33m)\u001b[0m\u001b[1;33m\u001b[0m\u001b[1;33m\u001b[0m\u001b[0m\n\u001b[0m\u001b[0;32m     16\u001b[0m \u001b[1;33m\u001b[0m\u001b[0m\n\u001b[0;32m     17\u001b[0m     \u001b[0mdf_null\u001b[0m \u001b[1;33m=\u001b[0m \u001b[0mdf\u001b[0m\u001b[1;33m.\u001b[0m\u001b[0mloc\u001b[0m\u001b[1;33m[\u001b[0m\u001b[0mnull\u001b[0m\u001b[1;33m,\u001b[0m \u001b[1;33m:\u001b[0m\u001b[1;33m]\u001b[0m\u001b[1;33m\u001b[0m\u001b[1;33m\u001b[0m\u001b[0m\n",
      "\u001b[1;32mD:\\Users\\www\\anaconda3\\lib\\site-packages\\sklearn\\ensemble\\_forest.py\u001b[0m in \u001b[0;36mfit\u001b[1;34m(self, X, y, sample_weight)\u001b[0m\n\u001b[0;32m    440\u001b[0m             \u001b[1;31m# parallel_backend contexts set at a higher level,\u001b[0m\u001b[1;33m\u001b[0m\u001b[1;33m\u001b[0m\u001b[1;33m\u001b[0m\u001b[0m\n\u001b[0;32m    441\u001b[0m             \u001b[1;31m# since correctness does not rely on using threads.\u001b[0m\u001b[1;33m\u001b[0m\u001b[1;33m\u001b[0m\u001b[1;33m\u001b[0m\u001b[0m\n\u001b[1;32m--> 442\u001b[1;33m             trees = Parallel(\n\u001b[0m\u001b[0;32m    443\u001b[0m                 \u001b[0mn_jobs\u001b[0m\u001b[1;33m=\u001b[0m\u001b[0mself\u001b[0m\u001b[1;33m.\u001b[0m\u001b[0mn_jobs\u001b[0m\u001b[1;33m,\u001b[0m\u001b[1;33m\u001b[0m\u001b[1;33m\u001b[0m\u001b[0m\n\u001b[0;32m    444\u001b[0m                 \u001b[0mverbose\u001b[0m\u001b[1;33m=\u001b[0m\u001b[0mself\u001b[0m\u001b[1;33m.\u001b[0m\u001b[0mverbose\u001b[0m\u001b[1;33m,\u001b[0m\u001b[1;33m\u001b[0m\u001b[1;33m\u001b[0m\u001b[0m\n",
      "\u001b[1;32mD:\\Users\\www\\anaconda3\\lib\\site-packages\\joblib\\parallel.py\u001b[0m in \u001b[0;36m__call__\u001b[1;34m(self, iterable)\u001b[0m\n\u001b[0;32m   1044\u001b[0m                 \u001b[0mself\u001b[0m\u001b[1;33m.\u001b[0m\u001b[0m_iterating\u001b[0m \u001b[1;33m=\u001b[0m \u001b[0mself\u001b[0m\u001b[1;33m.\u001b[0m\u001b[0m_original_iterator\u001b[0m \u001b[1;32mis\u001b[0m \u001b[1;32mnot\u001b[0m \u001b[1;32mNone\u001b[0m\u001b[1;33m\u001b[0m\u001b[1;33m\u001b[0m\u001b[0m\n\u001b[0;32m   1045\u001b[0m \u001b[1;33m\u001b[0m\u001b[0m\n\u001b[1;32m-> 1046\u001b[1;33m             \u001b[1;32mwhile\u001b[0m \u001b[0mself\u001b[0m\u001b[1;33m.\u001b[0m\u001b[0mdispatch_one_batch\u001b[0m\u001b[1;33m(\u001b[0m\u001b[0miterator\u001b[0m\u001b[1;33m)\u001b[0m\u001b[1;33m:\u001b[0m\u001b[1;33m\u001b[0m\u001b[1;33m\u001b[0m\u001b[0m\n\u001b[0m\u001b[0;32m   1047\u001b[0m                 \u001b[1;32mpass\u001b[0m\u001b[1;33m\u001b[0m\u001b[1;33m\u001b[0m\u001b[0m\n\u001b[0;32m   1048\u001b[0m \u001b[1;33m\u001b[0m\u001b[0m\n",
      "\u001b[1;32mD:\\Users\\www\\anaconda3\\lib\\site-packages\\joblib\\parallel.py\u001b[0m in \u001b[0;36mdispatch_one_batch\u001b[1;34m(self, iterator)\u001b[0m\n\u001b[0;32m    859\u001b[0m                 \u001b[1;32mreturn\u001b[0m \u001b[1;32mFalse\u001b[0m\u001b[1;33m\u001b[0m\u001b[1;33m\u001b[0m\u001b[0m\n\u001b[0;32m    860\u001b[0m             \u001b[1;32melse\u001b[0m\u001b[1;33m:\u001b[0m\u001b[1;33m\u001b[0m\u001b[1;33m\u001b[0m\u001b[0m\n\u001b[1;32m--> 861\u001b[1;33m                 \u001b[0mself\u001b[0m\u001b[1;33m.\u001b[0m\u001b[0m_dispatch\u001b[0m\u001b[1;33m(\u001b[0m\u001b[0mtasks\u001b[0m\u001b[1;33m)\u001b[0m\u001b[1;33m\u001b[0m\u001b[1;33m\u001b[0m\u001b[0m\n\u001b[0m\u001b[0;32m    862\u001b[0m                 \u001b[1;32mreturn\u001b[0m \u001b[1;32mTrue\u001b[0m\u001b[1;33m\u001b[0m\u001b[1;33m\u001b[0m\u001b[0m\n\u001b[0;32m    863\u001b[0m \u001b[1;33m\u001b[0m\u001b[0m\n",
      "\u001b[1;32mD:\\Users\\www\\anaconda3\\lib\\site-packages\\joblib\\parallel.py\u001b[0m in \u001b[0;36m_dispatch\u001b[1;34m(self, batch)\u001b[0m\n\u001b[0;32m    777\u001b[0m         \u001b[1;32mwith\u001b[0m \u001b[0mself\u001b[0m\u001b[1;33m.\u001b[0m\u001b[0m_lock\u001b[0m\u001b[1;33m:\u001b[0m\u001b[1;33m\u001b[0m\u001b[1;33m\u001b[0m\u001b[0m\n\u001b[0;32m    778\u001b[0m             \u001b[0mjob_idx\u001b[0m \u001b[1;33m=\u001b[0m \u001b[0mlen\u001b[0m\u001b[1;33m(\u001b[0m\u001b[0mself\u001b[0m\u001b[1;33m.\u001b[0m\u001b[0m_jobs\u001b[0m\u001b[1;33m)\u001b[0m\u001b[1;33m\u001b[0m\u001b[1;33m\u001b[0m\u001b[0m\n\u001b[1;32m--> 779\u001b[1;33m             \u001b[0mjob\u001b[0m \u001b[1;33m=\u001b[0m \u001b[0mself\u001b[0m\u001b[1;33m.\u001b[0m\u001b[0m_backend\u001b[0m\u001b[1;33m.\u001b[0m\u001b[0mapply_async\u001b[0m\u001b[1;33m(\u001b[0m\u001b[0mbatch\u001b[0m\u001b[1;33m,\u001b[0m \u001b[0mcallback\u001b[0m\u001b[1;33m=\u001b[0m\u001b[0mcb\u001b[0m\u001b[1;33m)\u001b[0m\u001b[1;33m\u001b[0m\u001b[1;33m\u001b[0m\u001b[0m\n\u001b[0m\u001b[0;32m    780\u001b[0m             \u001b[1;31m# A job can complete so quickly than its callback is\u001b[0m\u001b[1;33m\u001b[0m\u001b[1;33m\u001b[0m\u001b[1;33m\u001b[0m\u001b[0m\n\u001b[0;32m    781\u001b[0m             \u001b[1;31m# called before we get here, causing self._jobs to\u001b[0m\u001b[1;33m\u001b[0m\u001b[1;33m\u001b[0m\u001b[1;33m\u001b[0m\u001b[0m\n",
      "\u001b[1;32mD:\\Users\\www\\anaconda3\\lib\\site-packages\\joblib\\_parallel_backends.py\u001b[0m in \u001b[0;36mapply_async\u001b[1;34m(self, func, callback)\u001b[0m\n\u001b[0;32m    206\u001b[0m     \u001b[1;32mdef\u001b[0m \u001b[0mapply_async\u001b[0m\u001b[1;33m(\u001b[0m\u001b[0mself\u001b[0m\u001b[1;33m,\u001b[0m \u001b[0mfunc\u001b[0m\u001b[1;33m,\u001b[0m \u001b[0mcallback\u001b[0m\u001b[1;33m=\u001b[0m\u001b[1;32mNone\u001b[0m\u001b[1;33m)\u001b[0m\u001b[1;33m:\u001b[0m\u001b[1;33m\u001b[0m\u001b[1;33m\u001b[0m\u001b[0m\n\u001b[0;32m    207\u001b[0m         \u001b[1;34m\"\"\"Schedule a func to be run\"\"\"\u001b[0m\u001b[1;33m\u001b[0m\u001b[1;33m\u001b[0m\u001b[0m\n\u001b[1;32m--> 208\u001b[1;33m         \u001b[0mresult\u001b[0m \u001b[1;33m=\u001b[0m \u001b[0mImmediateResult\u001b[0m\u001b[1;33m(\u001b[0m\u001b[0mfunc\u001b[0m\u001b[1;33m)\u001b[0m\u001b[1;33m\u001b[0m\u001b[1;33m\u001b[0m\u001b[0m\n\u001b[0m\u001b[0;32m    209\u001b[0m         \u001b[1;32mif\u001b[0m \u001b[0mcallback\u001b[0m\u001b[1;33m:\u001b[0m\u001b[1;33m\u001b[0m\u001b[1;33m\u001b[0m\u001b[0m\n\u001b[0;32m    210\u001b[0m             \u001b[0mcallback\u001b[0m\u001b[1;33m(\u001b[0m\u001b[0mresult\u001b[0m\u001b[1;33m)\u001b[0m\u001b[1;33m\u001b[0m\u001b[1;33m\u001b[0m\u001b[0m\n",
      "\u001b[1;32mD:\\Users\\www\\anaconda3\\lib\\site-packages\\joblib\\_parallel_backends.py\u001b[0m in \u001b[0;36m__init__\u001b[1;34m(self, batch)\u001b[0m\n\u001b[0;32m    570\u001b[0m         \u001b[1;31m# Don't delay the application, to avoid keeping the input\u001b[0m\u001b[1;33m\u001b[0m\u001b[1;33m\u001b[0m\u001b[1;33m\u001b[0m\u001b[0m\n\u001b[0;32m    571\u001b[0m         \u001b[1;31m# arguments in memory\u001b[0m\u001b[1;33m\u001b[0m\u001b[1;33m\u001b[0m\u001b[1;33m\u001b[0m\u001b[0m\n\u001b[1;32m--> 572\u001b[1;33m         \u001b[0mself\u001b[0m\u001b[1;33m.\u001b[0m\u001b[0mresults\u001b[0m \u001b[1;33m=\u001b[0m \u001b[0mbatch\u001b[0m\u001b[1;33m(\u001b[0m\u001b[1;33m)\u001b[0m\u001b[1;33m\u001b[0m\u001b[1;33m\u001b[0m\u001b[0m\n\u001b[0m\u001b[0;32m    573\u001b[0m \u001b[1;33m\u001b[0m\u001b[0m\n\u001b[0;32m    574\u001b[0m     \u001b[1;32mdef\u001b[0m \u001b[0mget\u001b[0m\u001b[1;33m(\u001b[0m\u001b[0mself\u001b[0m\u001b[1;33m)\u001b[0m\u001b[1;33m:\u001b[0m\u001b[1;33m\u001b[0m\u001b[1;33m\u001b[0m\u001b[0m\n",
      "\u001b[1;32mD:\\Users\\www\\anaconda3\\lib\\site-packages\\joblib\\parallel.py\u001b[0m in \u001b[0;36m__call__\u001b[1;34m(self)\u001b[0m\n\u001b[0;32m    260\u001b[0m         \u001b[1;31m# change the default number of processes to -1\u001b[0m\u001b[1;33m\u001b[0m\u001b[1;33m\u001b[0m\u001b[1;33m\u001b[0m\u001b[0m\n\u001b[0;32m    261\u001b[0m         \u001b[1;32mwith\u001b[0m \u001b[0mparallel_backend\u001b[0m\u001b[1;33m(\u001b[0m\u001b[0mself\u001b[0m\u001b[1;33m.\u001b[0m\u001b[0m_backend\u001b[0m\u001b[1;33m,\u001b[0m \u001b[0mn_jobs\u001b[0m\u001b[1;33m=\u001b[0m\u001b[0mself\u001b[0m\u001b[1;33m.\u001b[0m\u001b[0m_n_jobs\u001b[0m\u001b[1;33m)\u001b[0m\u001b[1;33m:\u001b[0m\u001b[1;33m\u001b[0m\u001b[1;33m\u001b[0m\u001b[0m\n\u001b[1;32m--> 262\u001b[1;33m             return [func(*args, **kwargs)\n\u001b[0m\u001b[0;32m    263\u001b[0m                     for func, args, kwargs in self.items]\n\u001b[0;32m    264\u001b[0m \u001b[1;33m\u001b[0m\u001b[0m\n",
      "\u001b[1;32mD:\\Users\\www\\anaconda3\\lib\\site-packages\\joblib\\parallel.py\u001b[0m in \u001b[0;36m<listcomp>\u001b[1;34m(.0)\u001b[0m\n\u001b[0;32m    260\u001b[0m         \u001b[1;31m# change the default number of processes to -1\u001b[0m\u001b[1;33m\u001b[0m\u001b[1;33m\u001b[0m\u001b[1;33m\u001b[0m\u001b[0m\n\u001b[0;32m    261\u001b[0m         \u001b[1;32mwith\u001b[0m \u001b[0mparallel_backend\u001b[0m\u001b[1;33m(\u001b[0m\u001b[0mself\u001b[0m\u001b[1;33m.\u001b[0m\u001b[0m_backend\u001b[0m\u001b[1;33m,\u001b[0m \u001b[0mn_jobs\u001b[0m\u001b[1;33m=\u001b[0m\u001b[0mself\u001b[0m\u001b[1;33m.\u001b[0m\u001b[0m_n_jobs\u001b[0m\u001b[1;33m)\u001b[0m\u001b[1;33m:\u001b[0m\u001b[1;33m\u001b[0m\u001b[1;33m\u001b[0m\u001b[0m\n\u001b[1;32m--> 262\u001b[1;33m             return [func(*args, **kwargs)\n\u001b[0m\u001b[0;32m    263\u001b[0m                     for func, args, kwargs in self.items]\n\u001b[0;32m    264\u001b[0m \u001b[1;33m\u001b[0m\u001b[0m\n",
      "\u001b[1;32mD:\\Users\\www\\anaconda3\\lib\\site-packages\\sklearn\\utils\\fixes.py\u001b[0m in \u001b[0;36m__call__\u001b[1;34m(self, *args, **kwargs)\u001b[0m\n\u001b[0;32m    209\u001b[0m     \u001b[1;32mdef\u001b[0m \u001b[0m__call__\u001b[0m\u001b[1;33m(\u001b[0m\u001b[0mself\u001b[0m\u001b[1;33m,\u001b[0m \u001b[1;33m*\u001b[0m\u001b[0margs\u001b[0m\u001b[1;33m,\u001b[0m \u001b[1;33m**\u001b[0m\u001b[0mkwargs\u001b[0m\u001b[1;33m)\u001b[0m\u001b[1;33m:\u001b[0m\u001b[1;33m\u001b[0m\u001b[1;33m\u001b[0m\u001b[0m\n\u001b[0;32m    210\u001b[0m         \u001b[1;32mwith\u001b[0m \u001b[0mconfig_context\u001b[0m\u001b[1;33m(\u001b[0m\u001b[1;33m**\u001b[0m\u001b[0mself\u001b[0m\u001b[1;33m.\u001b[0m\u001b[0mconfig\u001b[0m\u001b[1;33m)\u001b[0m\u001b[1;33m:\u001b[0m\u001b[1;33m\u001b[0m\u001b[1;33m\u001b[0m\u001b[0m\n\u001b[1;32m--> 211\u001b[1;33m             \u001b[1;32mreturn\u001b[0m \u001b[0mself\u001b[0m\u001b[1;33m.\u001b[0m\u001b[0mfunction\u001b[0m\u001b[1;33m(\u001b[0m\u001b[1;33m*\u001b[0m\u001b[0margs\u001b[0m\u001b[1;33m,\u001b[0m \u001b[1;33m**\u001b[0m\u001b[0mkwargs\u001b[0m\u001b[1;33m)\u001b[0m\u001b[1;33m\u001b[0m\u001b[1;33m\u001b[0m\u001b[0m\n\u001b[0m\u001b[0;32m    212\u001b[0m \u001b[1;33m\u001b[0m\u001b[0m\n\u001b[0;32m    213\u001b[0m \u001b[1;33m\u001b[0m\u001b[0m\n",
      "\u001b[1;32mD:\\Users\\www\\anaconda3\\lib\\site-packages\\sklearn\\ensemble\\_forest.py\u001b[0m in \u001b[0;36m_parallel_build_trees\u001b[1;34m(tree, forest, X, y, sample_weight, tree_idx, n_trees, verbose, class_weight, n_samples_bootstrap)\u001b[0m\n\u001b[0;32m    183\u001b[0m             \u001b[0mcurr_sample_weight\u001b[0m \u001b[1;33m*=\u001b[0m \u001b[0mcompute_sample_weight\u001b[0m\u001b[1;33m(\u001b[0m\u001b[1;34m\"balanced\"\u001b[0m\u001b[1;33m,\u001b[0m \u001b[0my\u001b[0m\u001b[1;33m,\u001b[0m \u001b[0mindices\u001b[0m\u001b[1;33m=\u001b[0m\u001b[0mindices\u001b[0m\u001b[1;33m)\u001b[0m\u001b[1;33m\u001b[0m\u001b[1;33m\u001b[0m\u001b[0m\n\u001b[0;32m    184\u001b[0m \u001b[1;33m\u001b[0m\u001b[0m\n\u001b[1;32m--> 185\u001b[1;33m         \u001b[0mtree\u001b[0m\u001b[1;33m.\u001b[0m\u001b[0mfit\u001b[0m\u001b[1;33m(\u001b[0m\u001b[0mX\u001b[0m\u001b[1;33m,\u001b[0m \u001b[0my\u001b[0m\u001b[1;33m,\u001b[0m \u001b[0msample_weight\u001b[0m\u001b[1;33m=\u001b[0m\u001b[0mcurr_sample_weight\u001b[0m\u001b[1;33m,\u001b[0m \u001b[0mcheck_input\u001b[0m\u001b[1;33m=\u001b[0m\u001b[1;32mFalse\u001b[0m\u001b[1;33m)\u001b[0m\u001b[1;33m\u001b[0m\u001b[1;33m\u001b[0m\u001b[0m\n\u001b[0m\u001b[0;32m    186\u001b[0m     \u001b[1;32melse\u001b[0m\u001b[1;33m:\u001b[0m\u001b[1;33m\u001b[0m\u001b[1;33m\u001b[0m\u001b[0m\n\u001b[0;32m    187\u001b[0m         \u001b[0mtree\u001b[0m\u001b[1;33m.\u001b[0m\u001b[0mfit\u001b[0m\u001b[1;33m(\u001b[0m\u001b[0mX\u001b[0m\u001b[1;33m,\u001b[0m \u001b[0my\u001b[0m\u001b[1;33m,\u001b[0m \u001b[0msample_weight\u001b[0m\u001b[1;33m=\u001b[0m\u001b[0msample_weight\u001b[0m\u001b[1;33m,\u001b[0m \u001b[0mcheck_input\u001b[0m\u001b[1;33m=\u001b[0m\u001b[1;32mFalse\u001b[0m\u001b[1;33m)\u001b[0m\u001b[1;33m\u001b[0m\u001b[1;33m\u001b[0m\u001b[0m\n",
      "\u001b[1;32mD:\\Users\\www\\anaconda3\\lib\\site-packages\\sklearn\\tree\\_classes.py\u001b[0m in \u001b[0;36mfit\u001b[1;34m(self, X, y, sample_weight, check_input, X_idx_sorted)\u001b[0m\n\u001b[0;32m    935\u001b[0m         \"\"\"\n\u001b[0;32m    936\u001b[0m \u001b[1;33m\u001b[0m\u001b[0m\n\u001b[1;32m--> 937\u001b[1;33m         super().fit(\n\u001b[0m\u001b[0;32m    938\u001b[0m             \u001b[0mX\u001b[0m\u001b[1;33m,\u001b[0m\u001b[1;33m\u001b[0m\u001b[1;33m\u001b[0m\u001b[0m\n\u001b[0;32m    939\u001b[0m             \u001b[0my\u001b[0m\u001b[1;33m,\u001b[0m\u001b[1;33m\u001b[0m\u001b[1;33m\u001b[0m\u001b[0m\n",
      "\u001b[1;32mD:\\Users\\www\\anaconda3\\lib\\site-packages\\sklearn\\tree\\_classes.py\u001b[0m in \u001b[0;36mfit\u001b[1;34m(self, X, y, sample_weight, check_input, X_idx_sorted)\u001b[0m\n\u001b[0;32m    418\u001b[0m             )\n\u001b[0;32m    419\u001b[0m \u001b[1;33m\u001b[0m\u001b[0m\n\u001b[1;32m--> 420\u001b[1;33m         \u001b[0mbuilder\u001b[0m\u001b[1;33m.\u001b[0m\u001b[0mbuild\u001b[0m\u001b[1;33m(\u001b[0m\u001b[0mself\u001b[0m\u001b[1;33m.\u001b[0m\u001b[0mtree_\u001b[0m\u001b[1;33m,\u001b[0m \u001b[0mX\u001b[0m\u001b[1;33m,\u001b[0m \u001b[0my\u001b[0m\u001b[1;33m,\u001b[0m \u001b[0msample_weight\u001b[0m\u001b[1;33m)\u001b[0m\u001b[1;33m\u001b[0m\u001b[1;33m\u001b[0m\u001b[0m\n\u001b[0m\u001b[0;32m    421\u001b[0m \u001b[1;33m\u001b[0m\u001b[0m\n\u001b[0;32m    422\u001b[0m         \u001b[1;32mif\u001b[0m \u001b[0mself\u001b[0m\u001b[1;33m.\u001b[0m\u001b[0mn_outputs_\u001b[0m \u001b[1;33m==\u001b[0m \u001b[1;36m1\u001b[0m \u001b[1;32mand\u001b[0m \u001b[0mis_classifier\u001b[0m\u001b[1;33m(\u001b[0m\u001b[0mself\u001b[0m\u001b[1;33m)\u001b[0m\u001b[1;33m:\u001b[0m\u001b[1;33m\u001b[0m\u001b[1;33m\u001b[0m\u001b[0m\n",
      "\u001b[1;32msklearn\\tree\\_tree.pyx\u001b[0m in \u001b[0;36msklearn.tree._tree.DepthFirstTreeBuilder.build\u001b[1;34m()\u001b[0m\n",
      "\u001b[1;32msklearn\\tree\\_tree.pyx\u001b[0m in \u001b[0;36msklearn.tree._tree.DepthFirstTreeBuilder.build\u001b[1;34m()\u001b[0m\n",
      "\u001b[1;32msklearn\\tree\\_tree.pyx\u001b[0m in \u001b[0;36msklearn.tree._tree.Tree._add_node\u001b[1;34m()\u001b[0m\n",
      "\u001b[1;32msklearn\\tree\\_tree.pyx\u001b[0m in \u001b[0;36msklearn.tree._tree.Tree._resize_c\u001b[1;34m()\u001b[0m\n",
      "\u001b[1;32msklearn\\tree\\_utils.pyx\u001b[0m in \u001b[0;36msklearn.tree._utils.safe_realloc\u001b[1;34m()\u001b[0m\n",
      "\u001b[1;31mMemoryError\u001b[0m: could not allocate 1808261120 bytes"
     ]
    }
   ],
   "source": [
    "columns = ['product_name', 'brand_name', 'businessunit', 'category_id', 'Level1_Category_Id', 'Level2_Category_Id']\n",
    "\n",
    "random_dict = {}\n",
    "\n",
    "for column in columns:\n",
    "    s = df[column].notnull()\n",
    "    null = s[~s].index\n",
    "    not_null = s[s].index\n",
    "    \n",
    "    df_notnull = df.loc[not_null, :]\n",
    "    df_notnull_x = df_notnull[['weekday','month','hour']]  #'user_action', doesn't work with RF. \n",
    "    df_notnull_y = df_notnull[column]\n",
    "    \n",
    "    rf_impute = RandomForestClassifier(n_estimators = 100)\n",
    "    rf_impute.fit(df_notnull_x, df_notnull_y)\n",
    "    \n",
    "    df_null = df.loc[null, :]\n",
    "    df_null_x = df_null[['weekday','month','hour']] #'user_action', doesn't work with RF.\n",
    "    df_null_y = rf_impute.predict(df_null_x)\n",
    "    \n",
    "    random_dict[f'{column}'] = df_null_y\n",
    "    break\n",
    "    \n",
    "# could not allocate 1808261120 bytes"
   ]
  },
  {
   "cell_type": "raw",
   "id": "bdeacf36",
   "metadata": {},
   "source": [
    "df.isnull().sum()"
   ]
  },
  {
   "cell_type": "code",
   "execution_count": null,
   "id": "40f506bb",
   "metadata": {},
   "outputs": [],
   "source": []
  },
  {
   "cell_type": "code",
   "execution_count": null,
   "id": "713801f8",
   "metadata": {},
   "outputs": [],
   "source": []
  }
 ],
 "metadata": {
  "kernelspec": {
   "display_name": "Python 3.7.7",
   "language": "python",
   "name": "python3"
  },
  "language_info": {
   "codemirror_mode": {
    "name": "ipython",
    "version": 3
   },
   "file_extension": ".py",
   "mimetype": "text/x-python",
   "name": "python",
   "nbconvert_exporter": "python",
   "pygments_lexer": "ipython3",
   "version": "3.7.7"
  }
 },
 "nbformat": 4,
 "nbformat_minor": 5
}
