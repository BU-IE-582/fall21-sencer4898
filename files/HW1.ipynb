{
 "cells": [
  {
   "cell_type": "raw",
   "metadata": {},
   "source": [
    "Import Libraries"
   ]
  },
  {
   "cell_type": "code",
   "execution_count": 60,
   "metadata": {},
   "outputs": [],
   "source": [
    "import numpy as np"
   ]
  },
  {
   "cell_type": "markdown",
   "metadata": {},
   "source": [
    "# Question 1"
   ]
  },
  {
   "cell_type": "code",
   "execution_count": 61,
   "metadata": {},
   "outputs": [],
   "source": [
    "dim_dict = {}\n",
    "fractions = {}"
   ]
  },
  {
   "cell_type": "code",
   "execution_count": 62,
   "metadata": {},
   "outputs": [],
   "source": [
    "for D in range(1,16):\n",
    "    dim_dict[D] = np.random.rand(1000,D)*2 - 1"
   ]
  },
  {
   "cell_type": "code",
   "execution_count": 63,
   "metadata": {},
   "outputs": [
    {
     "data": {
      "text/plain": [
       "array([[-0.78889326,  0.60367636],\n",
       "       [-0.94801462, -0.56242798],\n",
       "       [ 0.84748825, -0.71587244],\n",
       "       ...,\n",
       "       [ 0.37776847,  0.10210601],\n",
       "       [-0.54063405, -0.96895912],\n",
       "       [ 0.64248961,  0.47391855]])"
      ]
     },
     "execution_count": 63,
     "metadata": {},
     "output_type": "execute_result"
    }
   ],
   "source": [
    "dim_dict[2]"
   ]
  },
  {
   "cell_type": "code",
   "execution_count": null,
   "metadata": {},
   "outputs": [],
   "source": [
    "def dist_to_origin(row):\n",
    "    length = 0\n",
    "    for coordinate in row:\n",
    "        length += coordinate*coordinate\n",
    "    \n",
    "    return length**0.5"
   ]
  },
  {
   "cell_type": "code",
   "execution_count": 71,
   "metadata": {},
   "outputs": [],
   "source": [
    "for key,value in dim_dict.items():\n",
    "    dist_array = np.apply_along_axis(dist_to_origin,1,value)\n",
    "    fraction = np.sum(dist_array<=1)/len(dist_array)\n",
    "    fractions[key] = fraction"
   ]
  },
  {
   "cell_type": "code",
   "execution_count": 75,
   "metadata": {},
   "outputs": [],
   "source": [
    "import matplotlib.pyplot as plt"
   ]
  },
  {
   "cell_type": "markdown",
   "metadata": {},
   "source": [
    "# a)"
   ]
  },
  {
   "cell_type": "code",
   "execution_count": 86,
   "metadata": {},
   "outputs": [
    {
     "data": {
      "image/png": "[encoded data removed]",
      "text/plain": [
       "<Figure size 432x288 with 1 Axes>"
      ]
     },
     "metadata": {
      "needs_background": "light"
     },
     "output_type": "display_data"
    }
   ],
   "source": [
    "plt.plot(fractions.keys(),fractions.values())\n",
    "plt.xlabel(\"Dimension\")\n",
    "plt.ylabel(\"Fraction\");"
   ]
  },
  {
   "cell_type": "markdown",
   "metadata": {},
   "source": [
    "# b)"
   ]
  },
  {
   "cell_type": "markdown",
   "metadata": {},
   "source": [
    "### Volume of a unit circle := π * r^2 = c\n",
    "### Volume of a unit sphere := (4/3) * π * r^3 = s\n",
    "### c^3 / s^2 = 9π / 16 = Fraction(2)^3 / Fraction(3)^2\n",
    "### π = 16 * Fraction(2)^3 / (9* Fraction(3)^2)"
   ]
  },
  {
   "cell_type": "code",
   "execution_count": 89,
   "metadata": {},
   "outputs": [
    {
     "data": {
      "text/plain": [
       "3.0723103436842627"
      ]
     },
     "execution_count": 89,
     "metadata": {},
     "output_type": "execute_result"
    }
   ],
   "source": [
    "16*fractions[2]**3/(9*fractions[3]**2)"
   ]
  },
  {
   "cell_type": "markdown",
   "metadata": {},
   "source": [
    "### Pi is estimated as 3.0723103436842627"
   ]
  },
  {
   "cell_type": "markdown",
   "metadata": {},
   "source": [
    "# c)"
   ]
  },
  {
   "cell_type": "code",
   "execution_count": 99,
   "metadata": {},
   "outputs": [],
   "source": [
    "sizes = [500, 1000, 5000, 8000, 10000,25000, 35000, 40000,50000, 70000, 80000, 100000]\n",
    "dim_dict_2 = {}\n",
    "fractions_2 = {}"
   ]
  },
  {
   "cell_type": "code",
   "execution_count": 100,
   "metadata": {},
   "outputs": [],
   "source": [
    "for size in sizes:\n",
    "    for D in range(1,16):\n",
    "        dim_dict_2[\"{0}dim{1}size\".format(D,size)] = np.random.rand(size,D)*2 - 1"
   ]
  },
  {
   "cell_type": "code",
   "execution_count": 101,
   "metadata": {},
   "outputs": [],
   "source": [
    "for key,value in dim_dict_2.items():\n",
    "    dist_array = np.apply_along_axis(dist_to_origin,1,value)\n",
    "    fraction = np.sum(dist_array<=1)/len(dist_array)\n",
    "    fractions_2[key] = fraction"
   ]
  },
  {
   "cell_type": "code",
   "execution_count": 102,
   "metadata": {},
   "outputs": [],
   "source": [
    "pi_estimates = {}\n",
    "for size in sizes:\n",
    "    pi_estimates[size] = 16*fractions_2[\"2dim{0}size\".format(size)]**3/(9*fractions_2[\"3dim{0}size\".format(size)]**2)"
   ]
  },
  {
   "cell_type": "code",
   "execution_count": 103,
   "metadata": {},
   "outputs": [
    {
     "data": {
      "text/plain": [
       "{5000: 3.4669703119327755,\n",
       " 10000: 3.1524001523293705,\n",
       " 25000: 3.1229661883519744,\n",
       " 35000: 3.1170150052428984,\n",
       " 40000: 3.1172131349264927,\n",
       " 50000: 3.1105362183448024,\n",
       " 70000: 3.078963026219355,\n",
       " 80000: 3.1150035167327297,\n",
       " 100000: 3.1658166511320855}"
      ]
     },
     "execution_count": 103,
     "metadata": {},
     "output_type": "execute_result"
    }
   ],
   "source": [
    "pi_estimates"
   ]
  },
  {
   "cell_type": "code",
   "execution_count": 105,
   "metadata": {},
   "outputs": [
    {
     "data": {
      "image/png": "[encoded data removed]",
      "text/plain": [
       "<Figure size 432x288 with 1 Axes>"
      ]
     },
     "metadata": {
      "needs_background": "light"
     },
     "output_type": "display_data"
    }
   ],
   "source": [
    "plt.plot(pi_estimates.keys(),pi_estimates.values())\n",
    "plt.xlabel(\"Size\")\n",
    "plt.ylabel(\"Pi Estimation\");"
   ]
  },
  {
   "cell_type": "markdown",
   "metadata": {},
   "source": [
    "### As we see, estimation starts with a high variation but gets closer to and deviates around the pi as the size increases."
   ]
  },
  {
   "cell_type": "markdown",
   "metadata": {},
   "source": [
    "# d)"
   ]
  },
  {
   "cell_type": "code",
   "execution_count": 107,
   "metadata": {},
   "outputs": [],
   "source": [
    "dim_dict_3 = {}\n",
    "test_data = {}\n",
    "\n",
    "for D in range(1,16):\n",
    "    dim_dict_3[D] = np.random.rand(1000,D)*2 - 1\n",
    "\n",
    "for D in range(1,16):\n",
    "    test_data[D] = np.random.rand(100,D)*2 - 1"
   ]
  },
  {
   "cell_type": "code",
   "execution_count": 120,
   "metadata": {},
   "outputs": [],
   "source": [
    "def dist_between(x,y):\n",
    "    \n",
    "    if len(x)!=len(y):\n",
    "        print(\"Points of unequal dimension\")\n",
    "        return 0\n",
    "    \n",
    "    length = 0\n",
    "    for i in range(0,len(x)):\n",
    "        length += (x[i]-y[i])**2\n",
    "    \n",
    "    return length**0.5"
   ]
  },
  {
   "cell_type": "code",
   "execution_count": 121,
   "metadata": {},
   "outputs": [],
   "source": [
    "mean_distances = {}\n",
    "\n",
    "for D in range(1,16):\n",
    "    min_distances = []\n",
    "    \n",
    "    for point_a in test_data[D]:\n",
    "        distances_a = []\n",
    "        \n",
    "        for point_b in dim_dict_3[D]:\n",
    "            distances_a.append(dist_between(point_a, point_b))\n",
    "            \n",
    "        min_distances.append(min(distances_a))\n",
    "    \n",
    "    mean_distances[D] = np.mean(min_distances)"
   ]
  },
  {
   "cell_type": "code",
   "execution_count": 122,
   "metadata": {},
   "outputs": [
    {
     "data": {
      "text/plain": [
       "{1: 0.00086901779875463,\n",
       " 2: 0.03163927872273905,\n",
       " 3: 0.1098731786479491,\n",
       " 4: 0.22715288471666636,\n",
       " 5: 0.3784937370219549,\n",
       " 6: 0.500775654174601,\n",
       " 7: 0.653632533580176,\n",
       " 8: 0.7589005585981202,\n",
       " 9: 0.8787301918651569,\n",
       " 10: 1.0173298094241414,\n",
       " 11: 1.130987958124554,\n",
       " 12: 1.2216680353788352,\n",
       " 13: 1.4082345265155365,\n",
       " 14: 1.4979973180256565,\n",
       " 15: 1.5664759419414045}"
      ]
     },
     "execution_count": 122,
     "metadata": {},
     "output_type": "execute_result"
    }
   ],
   "source": [
    "mean_distances"
   ]
  },
  {
   "cell_type": "code",
   "execution_count": 123,
   "metadata": {},
   "outputs": [
    {
     "data": {
      "image/png": "[encoded data removed]",
      "text/plain": [
       "<Figure size 432x288 with 1 Axes>"
      ]
     },
     "metadata": {
      "needs_background": "light"
     },
     "output_type": "display_data"
    }
   ],
   "source": [
    "plt.plot(mean_distances.keys(),mean_distances.values())\n",
    "plt.xlabel(\"Dimension\")\n",
    "plt.ylabel(\"Mean Distance\");"
   ]
  },
  {
   "cell_type": "code",
   "execution_count": 125,
   "metadata": {},
   "outputs": [
    {
     "data": {
      "text/plain": [
       "0"
      ]
     },
     "execution_count": 125,
     "metadata": {},
     "output_type": "execute_result"
    }
   ],
   "source": [
    "import os\n",
    "\n",
    "os.system('jupyter nbconvert --to html Untitled.ipynb')"
   ]
  },
  {
   "cell_type": "code",
   "execution_count": null,
   "metadata": {},
   "outputs": [],
   "source": []
  }
 ],
 "metadata": {
  "kernelspec": {
   "display_name": "Python 3",
   "language": "python",
   "name": "python3"
  },
  "language_info": {
   "codemirror_mode": {
    "name": "ipython",
    "version": 3
   },
   "file_extension": ".py",
   "mimetype": "text/x-python",
   "name": "python",
   "nbconvert_exporter": "python",
   "pygments_lexer": "ipython3",
   "version": "3.8.8"
  }
 },
 "nbformat": 4,
 "nbformat_minor": 4
}
