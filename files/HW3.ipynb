{
 "cells": [
  {
   "cell_type": "code",
   "execution_count": 178,
   "id": "388cecd6",
   "metadata": {},
   "outputs": [],
   "source": [
    "# import required libraries\n",
    "\n",
    "import pandas as pd\n",
    "import numpy as np\n",
    "import seaborn as sns\n",
    "from sklearn.neighbors import KNeighborsClassifier\n",
    "from sklearn.model_selection import GridSearchCV\n",
    "from sklearn.metrics import confusion_matrix\n",
    "from sklearn.linear_model import LogisticRegression\n",
    "from sklearn.metrics import log_loss, make_scorer"
   ]
  },
  {
   "cell_type": "code",
   "execution_count": 7,
   "id": "d9dfafa2",
   "metadata": {},
   "outputs": [],
   "source": [
    "# Read Data for Train\n",
    "\n",
    "# X Train\n",
    "gesture_x_train = pd.read_csv(\"HW3-data/uWaveGestureLibrary_X_TRAIN\", header=None, sep=\" \",\n",
    "                             prefix=\"xt\", skipinitialspace=True)\n",
    "gesture_x_train.rename(columns={\"xt0\":\"class\"}, inplace=True)\n",
    "gesture_x_train[\"class\"] = gesture_x_train[\"class\"].astype(\"int\").astype(\"category\")\n",
    "\n",
    "# Y Train\n",
    "gesture_y_train = pd.read_csv(\"HW3-data/uWaveGestureLibrary_Y_TRAIN\", header=None, sep=\" \",\n",
    "                             prefix=\"yt\", skipinitialspace=True)\n",
    "gesture_y_train.rename(columns={\"yt0\":\"class\"}, inplace=True)\n",
    "gesture_y_train[\"class\"] = gesture_y_train[\"class\"].astype(\"int\").astype(\"category\")\n",
    "gesture_y_train.drop([\"class\"], axis=1, inplace=True)\n",
    "\n",
    "# Z Train\n",
    "gesture_z_train = pd.read_csv(\"HW3-data/uWaveGestureLibrary_Z_TRAIN\", header=None, sep=\" \",\n",
    "                             prefix=\"zt\", skipinitialspace=True)\n",
    "gesture_z_train.rename(columns={\"zt0\":\"class\"}, inplace=True)\n",
    "gesture_z_train[\"class\"] = gesture_z_train[\"class\"].astype(\"int\").astype(\"category\")\n",
    "gesture_z_train.drop([\"class\"], axis=1, inplace=True)"
   ]
  },
  {
   "cell_type": "code",
   "execution_count": 21,
   "id": "0ca11545",
   "metadata": {},
   "outputs": [
    {
     "data": {
      "text/html": [
       "<div>\n",
       "<style scoped>\n",
       "    .dataframe tbody tr th:only-of-type {\n",
       "        vertical-align: middle;\n",
       "    }\n",
       "\n",
       "    .dataframe tbody tr th {\n",
       "        vertical-align: top;\n",
       "    }\n",
       "\n",
       "    .dataframe thead th {\n",
       "        text-align: right;\n",
       "    }\n",
       "</style>\n",
       "<table border=\"1\" class=\"dataframe\">\n",
       "  <thead>\n",
       "    <tr style=\"text-align: right;\">\n",
       "      <th></th>\n",
       "      <th>xt1</th>\n",
       "      <th>xt2</th>\n",
       "      <th>xt3</th>\n",
       "      <th>xt4</th>\n",
       "      <th>xt5</th>\n",
       "      <th>xt6</th>\n",
       "      <th>xt7</th>\n",
       "      <th>xt8</th>\n",
       "      <th>xt9</th>\n",
       "      <th>xt10</th>\n",
       "      <th>...</th>\n",
       "      <th>zt306</th>\n",
       "      <th>zt307</th>\n",
       "      <th>zt308</th>\n",
       "      <th>zt309</th>\n",
       "      <th>zt310</th>\n",
       "      <th>zt311</th>\n",
       "      <th>zt312</th>\n",
       "      <th>zt313</th>\n",
       "      <th>zt314</th>\n",
       "      <th>zt315</th>\n",
       "    </tr>\n",
       "  </thead>\n",
       "  <tbody>\n",
       "    <tr>\n",
       "      <th>0</th>\n",
       "      <td>-0.304243</td>\n",
       "      <td>-0.304243</td>\n",
       "      <td>-0.304243</td>\n",
       "      <td>-0.304243</td>\n",
       "      <td>-0.304243</td>\n",
       "      <td>-0.304243</td>\n",
       "      <td>-0.304243</td>\n",
       "      <td>-0.304243</td>\n",
       "      <td>-0.304243</td>\n",
       "      <td>-0.304243</td>\n",
       "      <td>...</td>\n",
       "      <td>0.523217</td>\n",
       "      <td>0.513994</td>\n",
       "      <td>0.503481</td>\n",
       "      <td>0.492967</td>\n",
       "      <td>0.474522</td>\n",
       "      <td>0.456077</td>\n",
       "      <td>0.437632</td>\n",
       "      <td>0.419187</td>\n",
       "      <td>0.400743</td>\n",
       "      <td>0.382298</td>\n",
       "    </tr>\n",
       "    <tr>\n",
       "      <th>1</th>\n",
       "      <td>1.627311</td>\n",
       "      <td>1.627311</td>\n",
       "      <td>1.627311</td>\n",
       "      <td>1.627311</td>\n",
       "      <td>1.627311</td>\n",
       "      <td>1.627311</td>\n",
       "      <td>1.627311</td>\n",
       "      <td>1.627311</td>\n",
       "      <td>1.627311</td>\n",
       "      <td>1.627311</td>\n",
       "      <td>...</td>\n",
       "      <td>-0.427010</td>\n",
       "      <td>-0.427010</td>\n",
       "      <td>-0.427010</td>\n",
       "      <td>-0.427172</td>\n",
       "      <td>-0.428773</td>\n",
       "      <td>-0.440720</td>\n",
       "      <td>-0.452667</td>\n",
       "      <td>-0.464613</td>\n",
       "      <td>-0.476560</td>\n",
       "      <td>-0.488507</td>\n",
       "    </tr>\n",
       "    <tr>\n",
       "      <th>2</th>\n",
       "      <td>0.661277</td>\n",
       "      <td>0.661277</td>\n",
       "      <td>0.661277</td>\n",
       "      <td>0.661277</td>\n",
       "      <td>0.661277</td>\n",
       "      <td>0.661277</td>\n",
       "      <td>0.661277</td>\n",
       "      <td>0.661277</td>\n",
       "      <td>0.661277</td>\n",
       "      <td>0.661277</td>\n",
       "      <td>...</td>\n",
       "      <td>-0.862717</td>\n",
       "      <td>-0.862717</td>\n",
       "      <td>-0.862717</td>\n",
       "      <td>-0.862717</td>\n",
       "      <td>-0.862717</td>\n",
       "      <td>-0.862717</td>\n",
       "      <td>-0.862717</td>\n",
       "      <td>-0.862717</td>\n",
       "      <td>-0.862717</td>\n",
       "      <td>-0.862717</td>\n",
       "    </tr>\n",
       "    <tr>\n",
       "      <th>3</th>\n",
       "      <td>0.005185</td>\n",
       "      <td>0.005185</td>\n",
       "      <td>0.005185</td>\n",
       "      <td>0.005185</td>\n",
       "      <td>0.005185</td>\n",
       "      <td>0.005185</td>\n",
       "      <td>0.005185</td>\n",
       "      <td>0.005185</td>\n",
       "      <td>0.005185</td>\n",
       "      <td>0.005185</td>\n",
       "      <td>...</td>\n",
       "      <td>-0.187384</td>\n",
       "      <td>-0.123549</td>\n",
       "      <td>-0.055870</td>\n",
       "      <td>0.011808</td>\n",
       "      <td>0.079487</td>\n",
       "      <td>0.157056</td>\n",
       "      <td>0.253740</td>\n",
       "      <td>0.445503</td>\n",
       "      <td>0.648538</td>\n",
       "      <td>0.851573</td>\n",
       "    </tr>\n",
       "    <tr>\n",
       "      <th>4</th>\n",
       "      <td>1.286198</td>\n",
       "      <td>1.286198</td>\n",
       "      <td>1.286198</td>\n",
       "      <td>1.286198</td>\n",
       "      <td>1.286198</td>\n",
       "      <td>1.286198</td>\n",
       "      <td>1.286198</td>\n",
       "      <td>1.286198</td>\n",
       "      <td>1.286198</td>\n",
       "      <td>1.286198</td>\n",
       "      <td>...</td>\n",
       "      <td>1.867473</td>\n",
       "      <td>1.834319</td>\n",
       "      <td>1.756000</td>\n",
       "      <td>1.638582</td>\n",
       "      <td>1.521164</td>\n",
       "      <td>1.453266</td>\n",
       "      <td>1.515219</td>\n",
       "      <td>1.632637</td>\n",
       "      <td>1.750054</td>\n",
       "      <td>1.867473</td>\n",
       "    </tr>\n",
       "  </tbody>\n",
       "</table>\n",
       "<p>5 rows × 945 columns</p>\n",
       "</div>"
      ],
      "text/plain": [
       "        xt1       xt2       xt3       xt4       xt5       xt6       xt7  \\\n",
       "0 -0.304243 -0.304243 -0.304243 -0.304243 -0.304243 -0.304243 -0.304243   \n",
       "1  1.627311  1.627311  1.627311  1.627311  1.627311  1.627311  1.627311   \n",
       "2  0.661277  0.661277  0.661277  0.661277  0.661277  0.661277  0.661277   \n",
       "3  0.005185  0.005185  0.005185  0.005185  0.005185  0.005185  0.005185   \n",
       "4  1.286198  1.286198  1.286198  1.286198  1.286198  1.286198  1.286198   \n",
       "\n",
       "        xt8       xt9      xt10  ...     zt306     zt307     zt308     zt309  \\\n",
       "0 -0.304243 -0.304243 -0.304243  ...  0.523217  0.513994  0.503481  0.492967   \n",
       "1  1.627311  1.627311  1.627311  ... -0.427010 -0.427010 -0.427010 -0.427172   \n",
       "2  0.661277  0.661277  0.661277  ... -0.862717 -0.862717 -0.862717 -0.862717   \n",
       "3  0.005185  0.005185  0.005185  ... -0.187384 -0.123549 -0.055870  0.011808   \n",
       "4  1.286198  1.286198  1.286198  ...  1.867473  1.834319  1.756000  1.638582   \n",
       "\n",
       "      zt310     zt311     zt312     zt313     zt314     zt315  \n",
       "0  0.474522  0.456077  0.437632  0.419187  0.400743  0.382298  \n",
       "1 -0.428773 -0.440720 -0.452667 -0.464613 -0.476560 -0.488507  \n",
       "2 -0.862717 -0.862717 -0.862717 -0.862717 -0.862717 -0.862717  \n",
       "3  0.079487  0.157056  0.253740  0.445503  0.648538  0.851573  \n",
       "4  1.521164  1.453266  1.515219  1.632637  1.750054  1.867473  \n",
       "\n",
       "[5 rows x 945 columns]"
      ]
     },
     "execution_count": 21,
     "metadata": {},
     "output_type": "execute_result"
    }
   ],
   "source": [
    "# concatenate the variables for train\n",
    "concat_gesture_train = pd.concat([gesture_x_train, gesture_y_train, gesture_z_train], join=\"inner\", axis=1)\n",
    "X_train = concat_gesture_train.drop(\"class\", axis=1)\n",
    "y_train = concat_gesture_train[\"class\"]\n",
    "X_train.head()"
   ]
  },
  {
   "cell_type": "code",
   "execution_count": 4,
   "id": "8dd38da6",
   "metadata": {},
   "outputs": [],
   "source": [
    "# Read Data for Test\n",
    "\n",
    "# X Test\n",
    "gesture_x_test = pd.read_csv(\"HW3-data/uWaveGestureLibrary_X_TEST\", header=None, sep=\" \",\n",
    "                             prefix=\"xt\", skipinitialspace=True)\n",
    "gesture_x_test.rename(columns={\"xt0\":\"class\"}, inplace=True)\n",
    "gesture_x_test[\"class\"] = gesture_x_test[\"class\"].astype(\"int\").astype(\"category\")\n",
    "\n",
    "# Y Test\n",
    "gesture_y_test = pd.read_csv(\"HW3-data/uWaveGestureLibrary_Y_TEST\", header=None, sep=\" \",\n",
    "                             prefix=\"yt\", skipinitialspace=True)\n",
    "gesture_y_test.rename(columns={\"yt0\":\"class\"}, inplace=True)\n",
    "gesture_y_test[\"class\"] = gesture_y_test[\"class\"].astype(\"int\").astype(\"category\")\n",
    "gesture_y_test.drop([\"class\"], axis=1, inplace=True)\n",
    "\n",
    "# Z Test\n",
    "gesture_z_test = pd.read_csv(\"HW3-data/uWaveGestureLibrary_Z_TEST\", header=None, sep=\" \",\n",
    "                             prefix=\"zt\", skipinitialspace=True)\n",
    "gesture_z_test.rename(columns={\"zt0\":\"class\"}, inplace=True)\n",
    "gesture_z_test[\"class\"] = gesture_z_test[\"class\"].astype(\"int\").astype(\"category\")\n",
    "gesture_z_test.drop([\"class\"], axis=1, inplace=True)"
   ]
  },
  {
   "cell_type": "code",
   "execution_count": 22,
   "id": "2ae30ab2",
   "metadata": {
    "scrolled": true
   },
   "outputs": [
    {
     "data": {
      "text/html": [
       "<div>\n",
       "<style scoped>\n",
       "    .dataframe tbody tr th:only-of-type {\n",
       "        vertical-align: middle;\n",
       "    }\n",
       "\n",
       "    .dataframe tbody tr th {\n",
       "        vertical-align: top;\n",
       "    }\n",
       "\n",
       "    .dataframe thead th {\n",
       "        text-align: right;\n",
       "    }\n",
       "</style>\n",
       "<table border=\"1\" class=\"dataframe\">\n",
       "  <thead>\n",
       "    <tr style=\"text-align: right;\">\n",
       "      <th></th>\n",
       "      <th>xt1</th>\n",
       "      <th>xt2</th>\n",
       "      <th>xt3</th>\n",
       "      <th>xt4</th>\n",
       "      <th>xt5</th>\n",
       "      <th>xt6</th>\n",
       "      <th>xt7</th>\n",
       "      <th>xt8</th>\n",
       "      <th>xt9</th>\n",
       "      <th>xt10</th>\n",
       "      <th>...</th>\n",
       "      <th>zt306</th>\n",
       "      <th>zt307</th>\n",
       "      <th>zt308</th>\n",
       "      <th>zt309</th>\n",
       "      <th>zt310</th>\n",
       "      <th>zt311</th>\n",
       "      <th>zt312</th>\n",
       "      <th>zt313</th>\n",
       "      <th>zt314</th>\n",
       "      <th>zt315</th>\n",
       "    </tr>\n",
       "  </thead>\n",
       "  <tbody>\n",
       "    <tr>\n",
       "      <th>0</th>\n",
       "      <td>1.557018</td>\n",
       "      <td>1.557018</td>\n",
       "      <td>1.557018</td>\n",
       "      <td>1.557018</td>\n",
       "      <td>1.557018</td>\n",
       "      <td>1.557018</td>\n",
       "      <td>1.557018</td>\n",
       "      <td>1.557018</td>\n",
       "      <td>1.557018</td>\n",
       "      <td>1.557018</td>\n",
       "      <td>...</td>\n",
       "      <td>-0.348423</td>\n",
       "      <td>-0.348423</td>\n",
       "      <td>-0.344675</td>\n",
       "      <td>-0.340728</td>\n",
       "      <td>-0.333147</td>\n",
       "      <td>-0.325423</td>\n",
       "      <td>-0.317700</td>\n",
       "      <td>-0.309976</td>\n",
       "      <td>-0.302252</td>\n",
       "      <td>-0.294528</td>\n",
       "    </tr>\n",
       "    <tr>\n",
       "      <th>1</th>\n",
       "      <td>-0.075096</td>\n",
       "      <td>-0.075096</td>\n",
       "      <td>-0.075096</td>\n",
       "      <td>-0.075096</td>\n",
       "      <td>-0.075096</td>\n",
       "      <td>-0.075096</td>\n",
       "      <td>-0.075096</td>\n",
       "      <td>-0.075096</td>\n",
       "      <td>-0.075096</td>\n",
       "      <td>-0.075096</td>\n",
       "      <td>...</td>\n",
       "      <td>0.961350</td>\n",
       "      <td>0.849142</td>\n",
       "      <td>0.725546</td>\n",
       "      <td>0.589277</td>\n",
       "      <td>0.539075</td>\n",
       "      <td>0.515810</td>\n",
       "      <td>0.515810</td>\n",
       "      <td>0.515810</td>\n",
       "      <td>0.515810</td>\n",
       "      <td>0.515810</td>\n",
       "    </tr>\n",
       "    <tr>\n",
       "      <th>2</th>\n",
       "      <td>1.509012</td>\n",
       "      <td>1.526296</td>\n",
       "      <td>1.543580</td>\n",
       "      <td>1.560865</td>\n",
       "      <td>1.573811</td>\n",
       "      <td>1.576913</td>\n",
       "      <td>1.578592</td>\n",
       "      <td>1.578592</td>\n",
       "      <td>1.578592</td>\n",
       "      <td>1.578592</td>\n",
       "      <td>...</td>\n",
       "      <td>-0.565962</td>\n",
       "      <td>-0.475680</td>\n",
       "      <td>-0.399089</td>\n",
       "      <td>-0.344074</td>\n",
       "      <td>-0.289058</td>\n",
       "      <td>-0.234042</td>\n",
       "      <td>-0.179026</td>\n",
       "      <td>-0.124011</td>\n",
       "      <td>-0.068995</td>\n",
       "      <td>-0.013979</td>\n",
       "    </tr>\n",
       "    <tr>\n",
       "      <th>3</th>\n",
       "      <td>1.303974</td>\n",
       "      <td>1.303974</td>\n",
       "      <td>1.303974</td>\n",
       "      <td>1.303974</td>\n",
       "      <td>1.303974</td>\n",
       "      <td>1.303974</td>\n",
       "      <td>1.303974</td>\n",
       "      <td>1.303974</td>\n",
       "      <td>1.303974</td>\n",
       "      <td>1.303974</td>\n",
       "      <td>...</td>\n",
       "      <td>1.044950</td>\n",
       "      <td>1.044950</td>\n",
       "      <td>1.044950</td>\n",
       "      <td>1.044950</td>\n",
       "      <td>1.079339</td>\n",
       "      <td>1.115085</td>\n",
       "      <td>1.171001</td>\n",
       "      <td>1.227442</td>\n",
       "      <td>1.283883</td>\n",
       "      <td>1.340324</td>\n",
       "    </tr>\n",
       "    <tr>\n",
       "      <th>4</th>\n",
       "      <td>1.298089</td>\n",
       "      <td>1.298089</td>\n",
       "      <td>1.298089</td>\n",
       "      <td>1.298089</td>\n",
       "      <td>1.298089</td>\n",
       "      <td>1.298089</td>\n",
       "      <td>1.298089</td>\n",
       "      <td>1.298089</td>\n",
       "      <td>1.298089</td>\n",
       "      <td>1.298089</td>\n",
       "      <td>...</td>\n",
       "      <td>-0.693460</td>\n",
       "      <td>-0.689765</td>\n",
       "      <td>-0.686070</td>\n",
       "      <td>-0.682375</td>\n",
       "      <td>-0.678680</td>\n",
       "      <td>-0.674985</td>\n",
       "      <td>-0.671290</td>\n",
       "      <td>-0.667595</td>\n",
       "      <td>-0.663900</td>\n",
       "      <td>-0.660205</td>\n",
       "    </tr>\n",
       "  </tbody>\n",
       "</table>\n",
       "<p>5 rows × 945 columns</p>\n",
       "</div>"
      ],
      "text/plain": [
       "        xt1       xt2       xt3       xt4       xt5       xt6       xt7  \\\n",
       "0  1.557018  1.557018  1.557018  1.557018  1.557018  1.557018  1.557018   \n",
       "1 -0.075096 -0.075096 -0.075096 -0.075096 -0.075096 -0.075096 -0.075096   \n",
       "2  1.509012  1.526296  1.543580  1.560865  1.573811  1.576913  1.578592   \n",
       "3  1.303974  1.303974  1.303974  1.303974  1.303974  1.303974  1.303974   \n",
       "4  1.298089  1.298089  1.298089  1.298089  1.298089  1.298089  1.298089   \n",
       "\n",
       "        xt8       xt9      xt10  ...     zt306     zt307     zt308     zt309  \\\n",
       "0  1.557018  1.557018  1.557018  ... -0.348423 -0.348423 -0.344675 -0.340728   \n",
       "1 -0.075096 -0.075096 -0.075096  ...  0.961350  0.849142  0.725546  0.589277   \n",
       "2  1.578592  1.578592  1.578592  ... -0.565962 -0.475680 -0.399089 -0.344074   \n",
       "3  1.303974  1.303974  1.303974  ...  1.044950  1.044950  1.044950  1.044950   \n",
       "4  1.298089  1.298089  1.298089  ... -0.693460 -0.689765 -0.686070 -0.682375   \n",
       "\n",
       "      zt310     zt311     zt312     zt313     zt314     zt315  \n",
       "0 -0.333147 -0.325423 -0.317700 -0.309976 -0.302252 -0.294528  \n",
       "1  0.539075  0.515810  0.515810  0.515810  0.515810  0.515810  \n",
       "2 -0.289058 -0.234042 -0.179026 -0.124011 -0.068995 -0.013979  \n",
       "3  1.079339  1.115085  1.171001  1.227442  1.283883  1.340324  \n",
       "4 -0.678680 -0.674985 -0.671290 -0.667595 -0.663900 -0.660205  \n",
       "\n",
       "[5 rows x 945 columns]"
      ]
     },
     "execution_count": 22,
     "metadata": {},
     "output_type": "execute_result"
    }
   ],
   "source": [
    "# concatenate the variables for test\n",
    "concat_gesture_test = pd.concat([gesture_x_test, gesture_y_test, gesture_z_test], join=\"inner\", axis=1)\n",
    "X_test = concat_gesture_test.drop(\"class\", axis=1)\n",
    "y_test = concat_gesture_test[\"class\"]\n",
    "X_test.head()"
   ]
  },
  {
   "cell_type": "markdown",
   "id": "ca27830f",
   "metadata": {},
   "source": [
    "# TASK 1 - Nearest Neighbors Applications on the Gesture Data"
   ]
  },
  {
   "cell_type": "markdown",
   "id": "ca436471",
   "metadata": {},
   "source": [
    "### a) "
   ]
  },
  {
   "cell_type": "code",
   "execution_count": 14,
   "id": "65ba3466",
   "metadata": {},
   "outputs": [],
   "source": [
    "# Two distance measures will be used for the KNN:\n",
    "# Euclidean Distance, because it is the most used distance measure (default measure of the algorith)\n",
    "# Manhattan Distance, because it is said to perform better on a high dimensional data."
   ]
  },
  {
   "cell_type": "code",
   "execution_count": 34,
   "id": "f81cccca",
   "metadata": {},
   "outputs": [],
   "source": [
    "knn_l1 = KNeighborsClassifier(p=1) # n-jobs allows the computer to use all the processors.\n",
    "knn_l2 = KNeighborsClassifier(p=2) # n-jobs allows the computer to use all the processors."
   ]
  },
  {
   "cell_type": "code",
   "execution_count": 44,
   "id": "57af290e",
   "metadata": {},
   "outputs": [],
   "source": [
    "param_grid = {\"n_neighbors\": list(np.arange(1,21,1))}\n",
    "l1_cv_model = GridSearchCV(knn_l1, cv=10, n_jobs=-1, verbose=2, param_grid= param_grid)\n",
    "l2_cv_model = GridSearchCV(knn_l2, cv=10, n_jobs=-1, verbose=2, param_grid= param_grid)"
   ]
  },
  {
   "cell_type": "code",
   "execution_count": 47,
   "id": "428b369a",
   "metadata": {},
   "outputs": [
    {
     "name": "stdout",
     "output_type": "stream",
     "text": [
      "Fitting 10 folds for each of 20 candidates, totalling 200 fits\n"
     ]
    },
    {
     "data": {
      "text/plain": [
       "{'n_neighbors': 1}"
      ]
     },
     "execution_count": 47,
     "metadata": {},
     "output_type": "execute_result"
    }
   ],
   "source": [
    "l1_cv_model.fit(X_train, y_train)\n",
    "l1_cv_model.best_params_"
   ]
  },
  {
   "cell_type": "code",
   "execution_count": 48,
   "id": "0b802586",
   "metadata": {},
   "outputs": [
    {
     "name": "stdout",
     "output_type": "stream",
     "text": [
      "Fitting 10 folds for each of 20 candidates, totalling 200 fits\n"
     ]
    },
    {
     "data": {
      "text/plain": [
       "{'n_neighbors': 3}"
      ]
     },
     "execution_count": 48,
     "metadata": {},
     "output_type": "execute_result"
    }
   ],
   "source": [
    "l2_cv_model.fit(X_train, y_train)\n",
    "l2_cv_model.best_params_"
   ]
  },
  {
   "cell_type": "markdown",
   "id": "74e811c0",
   "metadata": {},
   "source": [
    "### For Manhattan Distance, k=1 gives the least error.\n",
    "### For Euclidean Distance, k=3 gives the least error."
   ]
  },
  {
   "cell_type": "markdown",
   "id": "fefc51ba",
   "metadata": {},
   "source": [
    "### b)"
   ]
  },
  {
   "cell_type": "code",
   "execution_count": 73,
   "id": "0a409a08",
   "metadata": {},
   "outputs": [],
   "source": [
    "y_pred_l1 = l1_cv_model.best_estimator_.predict(X_test)\n",
    "y_pred_l2 = l2_cv_model.best_estimator_.predict(X_test)"
   ]
  },
  {
   "cell_type": "code",
   "execution_count": 94,
   "id": "02648608",
   "metadata": {},
   "outputs": [
    {
     "name": "stdout",
     "output_type": "stream",
     "text": [
      "Confusion Matrix For KNN with l1-norm and k=1\n"
     ]
    },
    {
     "data": {
      "text/html": [
       "<div>\n",
       "<style scoped>\n",
       "    .dataframe tbody tr th:only-of-type {\n",
       "        vertical-align: middle;\n",
       "    }\n",
       "\n",
       "    .dataframe tbody tr th {\n",
       "        vertical-align: top;\n",
       "    }\n",
       "\n",
       "    .dataframe thead th {\n",
       "        text-align: right;\n",
       "    }\n",
       "</style>\n",
       "<table border=\"1\" class=\"dataframe\">\n",
       "  <thead>\n",
       "    <tr style=\"text-align: right;\">\n",
       "      <th>Predicted</th>\n",
       "      <th>1</th>\n",
       "      <th>2</th>\n",
       "      <th>3</th>\n",
       "      <th>4</th>\n",
       "      <th>5</th>\n",
       "      <th>6</th>\n",
       "      <th>7</th>\n",
       "      <th>8</th>\n",
       "    </tr>\n",
       "    <tr>\n",
       "      <th>Actual</th>\n",
       "      <th></th>\n",
       "      <th></th>\n",
       "      <th></th>\n",
       "      <th></th>\n",
       "      <th></th>\n",
       "      <th></th>\n",
       "      <th></th>\n",
       "      <th></th>\n",
       "    </tr>\n",
       "  </thead>\n",
       "  <tbody>\n",
       "    <tr>\n",
       "      <th>1</th>\n",
       "      <td>430</td>\n",
       "      <td>0</td>\n",
       "      <td>0</td>\n",
       "      <td>2</td>\n",
       "      <td>0</td>\n",
       "      <td>5</td>\n",
       "      <td>0</td>\n",
       "      <td>0</td>\n",
       "    </tr>\n",
       "    <tr>\n",
       "      <th>2</th>\n",
       "      <td>1</td>\n",
       "      <td>451</td>\n",
       "      <td>0</td>\n",
       "      <td>0</td>\n",
       "      <td>0</td>\n",
       "      <td>0</td>\n",
       "      <td>0</td>\n",
       "      <td>0</td>\n",
       "    </tr>\n",
       "    <tr>\n",
       "      <th>3</th>\n",
       "      <td>2</td>\n",
       "      <td>0</td>\n",
       "      <td>418</td>\n",
       "      <td>0</td>\n",
       "      <td>16</td>\n",
       "      <td>14</td>\n",
       "      <td>4</td>\n",
       "      <td>0</td>\n",
       "    </tr>\n",
       "    <tr>\n",
       "      <th>4</th>\n",
       "      <td>3</td>\n",
       "      <td>0</td>\n",
       "      <td>0</td>\n",
       "      <td>392</td>\n",
       "      <td>40</td>\n",
       "      <td>11</td>\n",
       "      <td>0</td>\n",
       "      <td>4</td>\n",
       "    </tr>\n",
       "    <tr>\n",
       "      <th>5</th>\n",
       "      <td>3</td>\n",
       "      <td>0</td>\n",
       "      <td>9</td>\n",
       "      <td>5</td>\n",
       "      <td>415</td>\n",
       "      <td>1</td>\n",
       "      <td>0</td>\n",
       "      <td>0</td>\n",
       "    </tr>\n",
       "    <tr>\n",
       "      <th>6</th>\n",
       "      <td>3</td>\n",
       "      <td>0</td>\n",
       "      <td>5</td>\n",
       "      <td>13</td>\n",
       "      <td>16</td>\n",
       "      <td>411</td>\n",
       "      <td>0</td>\n",
       "      <td>1</td>\n",
       "    </tr>\n",
       "    <tr>\n",
       "      <th>7</th>\n",
       "      <td>0</td>\n",
       "      <td>0</td>\n",
       "      <td>2</td>\n",
       "      <td>0</td>\n",
       "      <td>0</td>\n",
       "      <td>0</td>\n",
       "      <td>445</td>\n",
       "      <td>0</td>\n",
       "    </tr>\n",
       "    <tr>\n",
       "      <th>8</th>\n",
       "      <td>0</td>\n",
       "      <td>0</td>\n",
       "      <td>0</td>\n",
       "      <td>3</td>\n",
       "      <td>1</td>\n",
       "      <td>0</td>\n",
       "      <td>0</td>\n",
       "      <td>456</td>\n",
       "    </tr>\n",
       "  </tbody>\n",
       "</table>\n",
       "</div>"
      ],
      "text/plain": [
       "Predicted    1    2    3    4    5    6    7    8\n",
       "Actual                                           \n",
       "1          430    0    0    2    0    5    0    0\n",
       "2            1  451    0    0    0    0    0    0\n",
       "3            2    0  418    0   16   14    4    0\n",
       "4            3    0    0  392   40   11    0    4\n",
       "5            3    0    9    5  415    1    0    0\n",
       "6            3    0    5   13   16  411    0    1\n",
       "7            0    0    2    0    0    0  445    0\n",
       "8            0    0    0    3    1    0    0  456"
      ]
     },
     "execution_count": 94,
     "metadata": {},
     "output_type": "execute_result"
    }
   ],
   "source": [
    "confusion_df_l1 = pd.DataFrame({\"Actual\":y_test, \"Predicted\":y_pred_l1})\n",
    "print(\"Confusion Matrix For KNN with l1-norm and k=1\")\n",
    "c_matrix_l1 = pd.crosstab(confusion_df_l1[\"Actual\"], confusion_df_l1[\"Predicted\"])\n",
    "c_matrix_l1"
   ]
  },
  {
   "cell_type": "code",
   "execution_count": 107,
   "id": "7d9943a9",
   "metadata": {},
   "outputs": [
    {
     "name": "stdout",
     "output_type": "stream",
     "text": [
      "Accuracy Score for KNN with L1 Norm is: 0.954215522054718\n"
     ]
    }
   ],
   "source": [
    "true_pred_l1=0\n",
    "for i in range(0,8):\n",
    "    true_pred_l1+= c_matrix_l1.iloc[i].iloc[i]\n",
    "acc_score_l2 = true_pred_l1/c_matrix_l1.sum().sum()\n",
    "print(\"Accuracy Score for KNN with L1 Norm is:\", acc_score_l2)"
   ]
  },
  {
   "cell_type": "code",
   "execution_count": 105,
   "id": "5102ee22",
   "metadata": {},
   "outputs": [
    {
     "name": "stdout",
     "output_type": "stream",
     "text": [
      "Confusion Matrix For KNN with l2-norm and k=3\n"
     ]
    },
    {
     "data": {
      "text/html": [
       "<div>\n",
       "<style scoped>\n",
       "    .dataframe tbody tr th:only-of-type {\n",
       "        vertical-align: middle;\n",
       "    }\n",
       "\n",
       "    .dataframe tbody tr th {\n",
       "        vertical-align: top;\n",
       "    }\n",
       "\n",
       "    .dataframe thead th {\n",
       "        text-align: right;\n",
       "    }\n",
       "</style>\n",
       "<table border=\"1\" class=\"dataframe\">\n",
       "  <thead>\n",
       "    <tr style=\"text-align: right;\">\n",
       "      <th>Predicted</th>\n",
       "      <th>1</th>\n",
       "      <th>2</th>\n",
       "      <th>3</th>\n",
       "      <th>4</th>\n",
       "      <th>5</th>\n",
       "      <th>6</th>\n",
       "      <th>7</th>\n",
       "      <th>8</th>\n",
       "    </tr>\n",
       "    <tr>\n",
       "      <th>Actual</th>\n",
       "      <th></th>\n",
       "      <th></th>\n",
       "      <th></th>\n",
       "      <th></th>\n",
       "      <th></th>\n",
       "      <th></th>\n",
       "      <th></th>\n",
       "      <th></th>\n",
       "    </tr>\n",
       "  </thead>\n",
       "  <tbody>\n",
       "    <tr>\n",
       "      <th>1</th>\n",
       "      <td>431</td>\n",
       "      <td>0</td>\n",
       "      <td>0</td>\n",
       "      <td>2</td>\n",
       "      <td>0</td>\n",
       "      <td>4</td>\n",
       "      <td>0</td>\n",
       "      <td>0</td>\n",
       "    </tr>\n",
       "    <tr>\n",
       "      <th>2</th>\n",
       "      <td>1</td>\n",
       "      <td>449</td>\n",
       "      <td>0</td>\n",
       "      <td>0</td>\n",
       "      <td>0</td>\n",
       "      <td>0</td>\n",
       "      <td>2</td>\n",
       "      <td>0</td>\n",
       "    </tr>\n",
       "    <tr>\n",
       "      <th>3</th>\n",
       "      <td>2</td>\n",
       "      <td>0</td>\n",
       "      <td>413</td>\n",
       "      <td>0</td>\n",
       "      <td>15</td>\n",
       "      <td>20</td>\n",
       "      <td>4</td>\n",
       "      <td>0</td>\n",
       "    </tr>\n",
       "    <tr>\n",
       "      <th>4</th>\n",
       "      <td>7</td>\n",
       "      <td>0</td>\n",
       "      <td>0</td>\n",
       "      <td>370</td>\n",
       "      <td>60</td>\n",
       "      <td>6</td>\n",
       "      <td>0</td>\n",
       "      <td>7</td>\n",
       "    </tr>\n",
       "    <tr>\n",
       "      <th>5</th>\n",
       "      <td>3</td>\n",
       "      <td>0</td>\n",
       "      <td>6</td>\n",
       "      <td>1</td>\n",
       "      <td>422</td>\n",
       "      <td>1</td>\n",
       "      <td>0</td>\n",
       "      <td>0</td>\n",
       "    </tr>\n",
       "    <tr>\n",
       "      <th>6</th>\n",
       "      <td>6</td>\n",
       "      <td>0</td>\n",
       "      <td>7</td>\n",
       "      <td>15</td>\n",
       "      <td>28</td>\n",
       "      <td>392</td>\n",
       "      <td>1</td>\n",
       "      <td>0</td>\n",
       "    </tr>\n",
       "    <tr>\n",
       "      <th>7</th>\n",
       "      <td>0</td>\n",
       "      <td>0</td>\n",
       "      <td>1</td>\n",
       "      <td>0</td>\n",
       "      <td>0</td>\n",
       "      <td>0</td>\n",
       "      <td>446</td>\n",
       "      <td>0</td>\n",
       "    </tr>\n",
       "    <tr>\n",
       "      <th>8</th>\n",
       "      <td>0</td>\n",
       "      <td>0</td>\n",
       "      <td>0</td>\n",
       "      <td>1</td>\n",
       "      <td>1</td>\n",
       "      <td>0</td>\n",
       "      <td>0</td>\n",
       "      <td>458</td>\n",
       "    </tr>\n",
       "  </tbody>\n",
       "</table>\n",
       "</div>"
      ],
      "text/plain": [
       "Predicted    1    2    3    4    5    6    7    8\n",
       "Actual                                           \n",
       "1          431    0    0    2    0    4    0    0\n",
       "2            1  449    0    0    0    0    2    0\n",
       "3            2    0  413    0   15   20    4    0\n",
       "4            7    0    0  370   60    6    0    7\n",
       "5            3    0    6    1  422    1    0    0\n",
       "6            6    0    7   15   28  392    1    0\n",
       "7            0    0    1    0    0    0  446    0\n",
       "8            0    0    0    1    1    0    0  458"
      ]
     },
     "execution_count": 105,
     "metadata": {},
     "output_type": "execute_result"
    }
   ],
   "source": [
    "confusion_df_l2 = pd.DataFrame({\"Actual\":y_test, \"Predicted\":y_pred_l2})\n",
    "print(\"Confusion Matrix For KNN with l2-norm and k=3\")\n",
    "c_matrix_l2 = pd.crosstab(confusion_df_l2[\"Actual\"], confusion_df_l2[\"Predicted\"])\n",
    "c_matrix_l2"
   ]
  },
  {
   "cell_type": "code",
   "execution_count": 104,
   "id": "915de98a",
   "metadata": {},
   "outputs": [
    {
     "name": "stdout",
     "output_type": "stream",
     "text": [
      "Accuracy Score for KNN with L2 Norm is: 0.9438860971524288\n"
     ]
    }
   ],
   "source": [
    "true_pred_l2=0\n",
    "for i in range(0,8):\n",
    "    true_pred_l2+= c_matrix_l2.iloc[i].iloc[i]\n",
    "acc_score_l2 = true_pred/c_matrix_l2.sum().sum()\n",
    "print(\"Accuracy Score for KNN with L2 Norm is:\", acc_score_l2)"
   ]
  },
  {
   "cell_type": "markdown",
   "id": "d0d5d2f7",
   "metadata": {},
   "source": [
    "### c)"
   ]
  },
  {
   "cell_type": "markdown",
   "id": "7ea7773d",
   "metadata": {},
   "source": [
    "### I think that it makes more sense to weight x and y axis more than the z-axis because gestures are defined by how they accelerate at these axes (Which can be see on the Figure 1 of the HW3 instructions). Information of the z axis is more like an extra information used due to the fact that people do not present gestures perpendicular to their devices."
   ]
  },
  {
   "cell_type": "markdown",
   "id": "48f07d9e",
   "metadata": {},
   "source": [
    "# TASK 2 - Logistic Regression Applications on the Gesture Data"
   ]
  },
  {
   "cell_type": "code",
   "execution_count": 119,
   "id": "0a4327a5",
   "metadata": {},
   "outputs": [],
   "source": [
    "# Convert targets to indicate if the class is 3 or not.\n",
    "y_train_class3 = (y_train==3)*1\n",
    "y_test_class3 = (y_test==3)*1"
   ]
  },
  {
   "cell_type": "markdown",
   "id": "70552697",
   "metadata": {},
   "source": [
    "### a)"
   ]
  },
  {
   "cell_type": "code",
   "execution_count": 135,
   "id": "c34e0664",
   "metadata": {},
   "outputs": [
    {
     "data": {
      "text/plain": [
       "0.11830357142857142"
      ]
     },
     "execution_count": 135,
     "metadata": {},
     "output_type": "execute_result"
    }
   ],
   "source": [
    "# Find the ratio of Class 3 instances in the training data\n",
    "ratio_class3 = y_train_class3.sum()/len(y_train)\n",
    "ratio_class3"
   ]
  },
  {
   "cell_type": "code",
   "execution_count": 126,
   "id": "c22e1c92",
   "metadata": {},
   "outputs": [
    {
     "data": {
      "text/plain": [
       "LogisticRegression(max_iter=100000)"
      ]
     },
     "execution_count": 126,
     "metadata": {},
     "output_type": "execute_result"
    }
   ],
   "source": [
    "lr_model = LogisticRegression(max_iter=100000)\n",
    "lr_model.fit(X_train, y_train_class3)"
   ]
  },
  {
   "cell_type": "code",
   "execution_count": 146,
   "id": "126faf84",
   "metadata": {},
   "outputs": [],
   "source": [
    "y_pred_prob = lr_model.predict_proba(X_test)\n",
    "y_pred_lr = (y_pred_prob[:,1]>ratio_class3)*1"
   ]
  },
  {
   "cell_type": "code",
   "execution_count": 147,
   "id": "9c34fb00",
   "metadata": {},
   "outputs": [
    {
     "name": "stdout",
     "output_type": "stream",
     "text": [
      "Confusion Matrix For Logistic Regression on Class3\n"
     ]
    },
    {
     "data": {
      "text/html": [
       "<div>\n",
       "<style scoped>\n",
       "    .dataframe tbody tr th:only-of-type {\n",
       "        vertical-align: middle;\n",
       "    }\n",
       "\n",
       "    .dataframe tbody tr th {\n",
       "        vertical-align: top;\n",
       "    }\n",
       "\n",
       "    .dataframe thead th {\n",
       "        text-align: right;\n",
       "    }\n",
       "</style>\n",
       "<table border=\"1\" class=\"dataframe\">\n",
       "  <thead>\n",
       "    <tr style=\"text-align: right;\">\n",
       "      <th>Predicted</th>\n",
       "      <th>0</th>\n",
       "      <th>1</th>\n",
       "    </tr>\n",
       "    <tr>\n",
       "      <th>Actual</th>\n",
       "      <th></th>\n",
       "      <th></th>\n",
       "    </tr>\n",
       "  </thead>\n",
       "  <tbody>\n",
       "    <tr>\n",
       "      <th>0</th>\n",
       "      <td>2925</td>\n",
       "      <td>203</td>\n",
       "    </tr>\n",
       "    <tr>\n",
       "      <th>1</th>\n",
       "      <td>95</td>\n",
       "      <td>359</td>\n",
       "    </tr>\n",
       "  </tbody>\n",
       "</table>\n",
       "</div>"
      ],
      "text/plain": [
       "Predicted     0    1\n",
       "Actual              \n",
       "0          2925  203\n",
       "1            95  359"
      ]
     },
     "execution_count": 147,
     "metadata": {},
     "output_type": "execute_result"
    }
   ],
   "source": [
    "confusion_lr = pd.DataFrame({\"Actual\":y_test_class3, \"Predicted\":y_pred_lr})\n",
    "print(\"Confusion Matrix For Logistic Regression on Class3\")\n",
    "c_matrix_lr = pd.crosstab(confusion_lr[\"Actual\"], confusion_lr[\"Predicted\"])\n",
    "c_matrix_lr"
   ]
  },
  {
   "cell_type": "markdown",
   "id": "0232a5d0",
   "metadata": {},
   "source": [
    "### Accuracy is (2925+359)/(2925+359+203+95) = 0.917"
   ]
  },
  {
   "cell_type": "markdown",
   "id": "40cb72cf",
   "metadata": {},
   "source": [
    "### b)"
   ]
  },
  {
   "cell_type": "code",
   "execution_count": 161,
   "id": "57c8df8f",
   "metadata": {},
   "outputs": [],
   "source": [
    "lr_lasso_model = LogisticRegression(max_iter=100000, penalty='l1', solver='liblinear')"
   ]
  },
  {
   "cell_type": "code",
   "execution_count": 179,
   "id": "734b305c",
   "metadata": {},
   "outputs": [
    {
     "name": "stdout",
     "output_type": "stream",
     "text": [
      "Fitting 10 folds for each of 10 candidates, totalling 100 fits\n"
     ]
    },
    {
     "data": {
      "text/plain": [
       "GridSearchCV(cv=10, error_score='raise',\n",
       "             estimator=LogisticRegression(max_iter=100000, penalty='l1',\n",
       "                                          solver='liblinear'),\n",
       "             n_jobs=-1,\n",
       "             param_grid={'C': [0.0001, 0.001, 0.05, 0.01, 0.5, 0.1, 1, 5, 10,\n",
       "                               100]},\n",
       "             scoring=make_scorer(log_loss, greater_is_better=False, needs_proba=True),\n",
       "             verbose=2)"
      ]
     },
     "execution_count": 179,
     "metadata": {},
     "output_type": "execute_result"
    }
   ],
   "source": [
    "param_grid = {'C': [0.0001, 0.001, 0.05, 0.01, 0.5, 0.1, 1, 5, 10, 100]}\n",
    "LogLoss = make_scorer(log_loss, greater_is_better=False, needs_proba=True)\n",
    "lr_lasso_cv_model = GridSearchCV(lr_lasso_model, cv=10, n_jobs=-1, verbose=2, param_grid=param_grid, scoring=LogLoss,\n",
    "                                error_score='raise')\n",
    "lr_lasso_cv_model.fit(X_train, y_train_class3)"
   ]
  },
  {
   "cell_type": "code",
   "execution_count": 180,
   "id": "d3d9b8b2",
   "metadata": {},
   "outputs": [
    {
     "data": {
      "text/plain": [
       "{'C': 0.5}"
      ]
     },
     "execution_count": 180,
     "metadata": {},
     "output_type": "execute_result"
    }
   ],
   "source": [
    "lr_lasso_cv_model.best_params_"
   ]
  },
  {
   "cell_type": "markdown",
   "id": "8e6be798",
   "metadata": {},
   "source": [
    "### We find that best C value is 0.5 . It is defined as 'Inverse of Regularization Strength', therefore lambda= 2 is our parameter."
   ]
  },
  {
   "cell_type": "code",
   "execution_count": 183,
   "id": "7e1e3013",
   "metadata": {},
   "outputs": [],
   "source": [
    "lr_lasso_tuned = lr_lasso_cv_model.best_estimator_\n",
    "y_pred_prob = lr_lasso_tuned.predict_proba(X_test)\n",
    "y_pred_lr_lasso = (y_pred_prob[:,1]>ratio_class3)*1"
   ]
  },
  {
   "cell_type": "code",
   "execution_count": 189,
   "id": "5c725002",
   "metadata": {},
   "outputs": [
    {
     "name": "stdout",
     "output_type": "stream",
     "text": [
      "Confusion Matrix For Logistic Regression w/Lasso on Class3\n"
     ]
    },
    {
     "data": {
      "text/html": [
       "<div>\n",
       "<style scoped>\n",
       "    .dataframe tbody tr th:only-of-type {\n",
       "        vertical-align: middle;\n",
       "    }\n",
       "\n",
       "    .dataframe tbody tr th {\n",
       "        vertical-align: top;\n",
       "    }\n",
       "\n",
       "    .dataframe thead th {\n",
       "        text-align: right;\n",
       "    }\n",
       "</style>\n",
       "<table border=\"1\" class=\"dataframe\">\n",
       "  <thead>\n",
       "    <tr style=\"text-align: right;\">\n",
       "      <th>Predicted</th>\n",
       "      <th>0</th>\n",
       "      <th>1</th>\n",
       "    </tr>\n",
       "    <tr>\n",
       "      <th>Actual</th>\n",
       "      <th></th>\n",
       "      <th></th>\n",
       "    </tr>\n",
       "  </thead>\n",
       "  <tbody>\n",
       "    <tr>\n",
       "      <th>0</th>\n",
       "      <td>2873</td>\n",
       "      <td>255</td>\n",
       "    </tr>\n",
       "    <tr>\n",
       "      <th>1</th>\n",
       "      <td>32</td>\n",
       "      <td>422</td>\n",
       "    </tr>\n",
       "  </tbody>\n",
       "</table>\n",
       "</div>"
      ],
      "text/plain": [
       "Predicted     0    1\n",
       "Actual              \n",
       "0          2873  255\n",
       "1            32  422"
      ]
     },
     "execution_count": 189,
     "metadata": {},
     "output_type": "execute_result"
    }
   ],
   "source": [
    "confusion_lr_lasso = pd.DataFrame({\"Actual\":y_test_class3, \"Predicted\":y_pred_lr_lasso})\n",
    "print(\"Confusion Matrix For Logistic Regression w/Lasso on Class3\")\n",
    "c_matrix_lr_lasso = pd.crosstab(confusion_lr_lasso[\"Actual\"], confusion_lr_lasso[\"Predicted\"])\n",
    "c_matrix_lr_lasso"
   ]
  },
  {
   "cell_type": "markdown",
   "id": "71cf8ef6",
   "metadata": {},
   "source": [
    "### Accuracy is (2873+422)/(2873+422+255+32) = 0.92"
   ]
  },
  {
   "cell_type": "markdown",
   "id": "040968bd",
   "metadata": {},
   "source": [
    "### Logistic Regression model with Lasso regularization has a better accuracy score and it is better at predicting the Class3 gestures. However, Logistic Regression in part a) is better at detecting the observations that are not Class 3."
   ]
  },
  {
   "cell_type": "code",
   "execution_count": 197,
   "id": "3f46ae13",
   "metadata": {},
   "outputs": [
    {
     "data": {
      "text/html": [
       "<div>\n",
       "<style scoped>\n",
       "    .dataframe tbody tr th:only-of-type {\n",
       "        vertical-align: middle;\n",
       "    }\n",
       "\n",
       "    .dataframe tbody tr th {\n",
       "        vertical-align: top;\n",
       "    }\n",
       "\n",
       "    .dataframe thead th {\n",
       "        text-align: right;\n",
       "    }\n",
       "</style>\n",
       "<table border=\"1\" class=\"dataframe\">\n",
       "  <thead>\n",
       "    <tr style=\"text-align: right;\">\n",
       "      <th></th>\n",
       "      <th>Coef</th>\n",
       "    </tr>\n",
       "  </thead>\n",
       "  <tbody>\n",
       "    <tr>\n",
       "      <th>xt127</th>\n",
       "      <td>0.043646</td>\n",
       "    </tr>\n",
       "    <tr>\n",
       "      <th>xt128</th>\n",
       "      <td>0.020288</td>\n",
       "    </tr>\n",
       "    <tr>\n",
       "      <th>xt208</th>\n",
       "      <td>0.087571</td>\n",
       "    </tr>\n",
       "    <tr>\n",
       "      <th>xt235</th>\n",
       "      <td>0.118792</td>\n",
       "    </tr>\n",
       "    <tr>\n",
       "      <th>xt236</th>\n",
       "      <td>0.279351</td>\n",
       "    </tr>\n",
       "    <tr>\n",
       "      <th>xt237</th>\n",
       "      <td>0.373758</td>\n",
       "    </tr>\n",
       "    <tr>\n",
       "      <th>xt238</th>\n",
       "      <td>0.160198</td>\n",
       "    </tr>\n",
       "    <tr>\n",
       "      <th>xt248</th>\n",
       "      <td>0.076753</td>\n",
       "    </tr>\n",
       "    <tr>\n",
       "      <th>xt249</th>\n",
       "      <td>0.151164</td>\n",
       "    </tr>\n",
       "    <tr>\n",
       "      <th>xt258</th>\n",
       "      <td>0.399740</td>\n",
       "    </tr>\n",
       "    <tr>\n",
       "      <th>xt259</th>\n",
       "      <td>0.154430</td>\n",
       "    </tr>\n",
       "    <tr>\n",
       "      <th>xt281</th>\n",
       "      <td>0.138705</td>\n",
       "    </tr>\n",
       "    <tr>\n",
       "      <th>xt282</th>\n",
       "      <td>0.486561</td>\n",
       "    </tr>\n",
       "    <tr>\n",
       "      <th>xt286</th>\n",
       "      <td>0.046636</td>\n",
       "    </tr>\n",
       "    <tr>\n",
       "      <th>xt287</th>\n",
       "      <td>0.086346</td>\n",
       "    </tr>\n",
       "    <tr>\n",
       "      <th>xt288</th>\n",
       "      <td>0.072497</td>\n",
       "    </tr>\n",
       "    <tr>\n",
       "      <th>xt289</th>\n",
       "      <td>0.100625</td>\n",
       "    </tr>\n",
       "    <tr>\n",
       "      <th>xt290</th>\n",
       "      <td>0.130032</td>\n",
       "    </tr>\n",
       "    <tr>\n",
       "      <th>xt292</th>\n",
       "      <td>0.065540</td>\n",
       "    </tr>\n",
       "    <tr>\n",
       "      <th>xt293</th>\n",
       "      <td>0.063202</td>\n",
       "    </tr>\n",
       "    <tr>\n",
       "      <th>xt294</th>\n",
       "      <td>0.021626</td>\n",
       "    </tr>\n",
       "    <tr>\n",
       "      <th>xt295</th>\n",
       "      <td>0.034831</td>\n",
       "    </tr>\n",
       "    <tr>\n",
       "      <th>xt315</th>\n",
       "      <td>0.560191</td>\n",
       "    </tr>\n",
       "    <tr>\n",
       "      <th>yt160</th>\n",
       "      <td>0.091325</td>\n",
       "    </tr>\n",
       "    <tr>\n",
       "      <th>yt165</th>\n",
       "      <td>0.376841</td>\n",
       "    </tr>\n",
       "    <tr>\n",
       "      <th>yt166</th>\n",
       "      <td>0.825702</td>\n",
       "    </tr>\n",
       "    <tr>\n",
       "      <th>yt191</th>\n",
       "      <td>0.031495</td>\n",
       "    </tr>\n",
       "    <tr>\n",
       "      <th>yt192</th>\n",
       "      <td>0.489678</td>\n",
       "    </tr>\n",
       "    <tr>\n",
       "      <th>yt227</th>\n",
       "      <td>0.087746</td>\n",
       "    </tr>\n",
       "    <tr>\n",
       "      <th>yt228</th>\n",
       "      <td>0.102758</td>\n",
       "    </tr>\n",
       "    <tr>\n",
       "      <th>yt229</th>\n",
       "      <td>0.113664</td>\n",
       "    </tr>\n",
       "    <tr>\n",
       "      <th>yt230</th>\n",
       "      <td>0.103350</td>\n",
       "    </tr>\n",
       "    <tr>\n",
       "      <th>yt231</th>\n",
       "      <td>0.013774</td>\n",
       "    </tr>\n",
       "    <tr>\n",
       "      <th>zt87</th>\n",
       "      <td>0.001054</td>\n",
       "    </tr>\n",
       "    <tr>\n",
       "      <th>zt88</th>\n",
       "      <td>0.036045</td>\n",
       "    </tr>\n",
       "    <tr>\n",
       "      <th>zt89</th>\n",
       "      <td>0.053828</td>\n",
       "    </tr>\n",
       "    <tr>\n",
       "      <th>zt98</th>\n",
       "      <td>0.082763</td>\n",
       "    </tr>\n",
       "    <tr>\n",
       "      <th>zt99</th>\n",
       "      <td>0.234136</td>\n",
       "    </tr>\n",
       "    <tr>\n",
       "      <th>zt100</th>\n",
       "      <td>0.023146</td>\n",
       "    </tr>\n",
       "    <tr>\n",
       "      <th>zt101</th>\n",
       "      <td>0.043003</td>\n",
       "    </tr>\n",
       "    <tr>\n",
       "      <th>zt315</th>\n",
       "      <td>0.113765</td>\n",
       "    </tr>\n",
       "  </tbody>\n",
       "</table>\n",
       "</div>"
      ],
      "text/plain": [
       "           Coef\n",
       "xt127  0.043646\n",
       "xt128  0.020288\n",
       "xt208  0.087571\n",
       "xt235  0.118792\n",
       "xt236  0.279351\n",
       "xt237  0.373758\n",
       "xt238  0.160198\n",
       "xt248  0.076753\n",
       "xt249  0.151164\n",
       "xt258  0.399740\n",
       "xt259  0.154430\n",
       "xt281  0.138705\n",
       "xt282  0.486561\n",
       "xt286  0.046636\n",
       "xt287  0.086346\n",
       "xt288  0.072497\n",
       "xt289  0.100625\n",
       "xt290  0.130032\n",
       "xt292  0.065540\n",
       "xt293  0.063202\n",
       "xt294  0.021626\n",
       "xt295  0.034831\n",
       "xt315  0.560191\n",
       "yt160  0.091325\n",
       "yt165  0.376841\n",
       "yt166  0.825702\n",
       "yt191  0.031495\n",
       "yt192  0.489678\n",
       "yt227  0.087746\n",
       "yt228  0.102758\n",
       "yt229  0.113664\n",
       "yt230  0.103350\n",
       "yt231  0.013774\n",
       "zt87   0.001054\n",
       "zt88   0.036045\n",
       "zt89   0.053828\n",
       "zt98   0.082763\n",
       "zt99   0.234136\n",
       "zt100  0.023146\n",
       "zt101  0.043003\n",
       "zt315  0.113765"
      ]
     },
     "execution_count": 197,
     "metadata": {},
     "output_type": "execute_result"
    }
   ],
   "source": [
    "# Print the coefficients of the LR with Lasso penalty, ones that have positive values.\n",
    "lr_lasso_coefs = pd.DataFrame({\"Coef\":lr_lasso_tuned.coef_[0]}, index=X_train.columns)\n",
    "lr_lasso_coefs[lr_lasso_coefs[\"Coef\"]>0]"
   ]
  },
  {
   "cell_type": "markdown",
   "id": "60a1771e",
   "metadata": {},
   "source": [
    "### We see that nearly half of the significant features are from the x-axis. It makes sense because if we look at the shape of the class 3 gesture, it is a straight line from left to right. Therefore, we mostly need x-axis coordinate to define it. Also, another interesting thing is that initial timepoints are not significant (s.t. xt127, yt160 and zt87 are the earliest timepoints for the respective axes) at determining if a gesture belongs to class 3. We need y values from t=160 to t=231. In my opinion, it is because if there is no vertical movement in the middle of the gesture, it is more likely that the gesture is performed on the horizontal line (Class 3 or Class 4) and thus narrows the choice of the gestures."
   ]
  },
  {
   "cell_type": "markdown",
   "id": "973c9afa",
   "metadata": {},
   "source": [
    "### c)"
   ]
  },
  {
   "cell_type": "code",
   "execution_count": null,
   "id": "afbd2ea2",
   "metadata": {},
   "outputs": [],
   "source": []
  },
  {
   "cell_type": "code",
   "execution_count": null,
   "id": "d8ff59f3",
   "metadata": {},
   "outputs": [],
   "source": [
    "# This line is used to create html version of the notebook."
   ]
  },
  {
   "cell_type": "code",
   "execution_count": 200,
   "id": "87ae0a79",
   "metadata": {},
   "outputs": [
    {
     "data": {
      "text/plain": [
       "0"
      ]
     },
     "execution_count": 200,
     "metadata": {},
     "output_type": "execute_result"
    }
   ],
   "source": [
    "import os\n",
    "\n",
    "os.system('jupyter nbconvert --to html HW3.ipynb')"
   ]
  }
 ],
 "metadata": {
  "kernelspec": {
   "display_name": "Python 3",
   "language": "python",
   "name": "python3"
  },
  "language_info": {
   "codemirror_mode": {
    "name": "ipython",
    "version": 3
   },
   "file_extension": ".py",
   "mimetype": "text/x-python",
   "name": "python",
   "nbconvert_exporter": "python",
   "pygments_lexer": "ipython3",
   "version": "3.8.8"
  }
 },
 "nbformat": 4,
 "nbformat_minor": 5
}
