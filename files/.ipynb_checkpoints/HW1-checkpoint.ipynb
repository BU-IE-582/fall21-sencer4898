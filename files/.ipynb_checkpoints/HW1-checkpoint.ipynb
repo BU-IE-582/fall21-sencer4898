{
 "cells": [
  {
   "cell_type": "code",
   "execution_count": 1,
   "metadata": {},
   "outputs": [],
   "source": [
    "# Import required libraries\n",
    "\n",
    "import numpy as np\n",
    "import matplotlib.pyplot as plt"
   ]
  },
  {
   "cell_type": "markdown",
   "metadata": {},
   "source": [
    "# Question 1 - Curse of Dimensionality\n",
    "\n",
    "### GOALS:\n",
    "\n",
    "#### i. Comparing volume of Hypersphere to Hypercube in different dimensions\n",
    "#### ii. Calculating average distance to nearest points in different dimensions"
   ]
  },
  {
   "cell_type": "code",
   "execution_count": 4,
   "metadata": {},
   "outputs": [],
   "source": [
    "# Create 1000 points for each D-dimensional space (D ∈ [1,15]) and keep them in a dictionary. Dimension values are\n",
    "# randomly distributed between -1 and 1.\n",
    "\n",
    "dim_dict = {}\n",
    "fractions = {}\n",
    "\n",
    "for D in range(1,16):\n",
    "    dim_dict[D] = np.random.rand(1000,D)*2 - 1"
   ]
  },
  {
   "cell_type": "code",
   "execution_count": 5,
   "metadata": {},
   "outputs": [
    {
     "data": {
      "text/plain": [
       "array([[ 0.06173879, -0.01539516],\n",
       "       [ 0.16414349, -0.58061319],\n",
       "       [ 0.64981028, -0.6974711 ],\n",
       "       [-0.27005077,  0.88538023],\n",
       "       [ 0.14443135,  0.98302593],\n",
       "       [ 0.39459626, -0.99695862],\n",
       "       [ 0.81353355, -0.74330797],\n",
       "       [-0.78420691, -0.09431601],\n",
       "       [ 0.09588735, -0.05951068],\n",
       "       [-0.82719553,  0.08989904]])"
      ]
     },
     "execution_count": 5,
     "metadata": {},
     "output_type": "execute_result"
    }
   ],
   "source": [
    "# Here is how the first 10 points created in the 2D dimension looks like.\n",
    "dim_dict[2][0:10]"
   ]
  },
  {
   "cell_type": "markdown",
   "metadata": {},
   "source": [
    "### a) Fraction of points closer than 1 unit to origin"
   ]
  },
  {
   "cell_type": "code",
   "execution_count": 10,
   "metadata": {},
   "outputs": [],
   "source": [
    "# Define a function to calculate the distance of a point to the origin\n",
    "def dist_to_origin(point):\n",
    "    length = 0\n",
    "    for coordinate in point:\n",
    "        length += coordinate*coordinate\n",
    "    \n",
    "    return length**0.5"
   ]
  },
  {
   "cell_type": "code",
   "execution_count": 11,
   "metadata": {},
   "outputs": [],
   "source": [
    "# Calculate distances of the points and find the fraction of those that are closer than 1 unit\n",
    "\n",
    "for key,value in dim_dict.items():\n",
    "    dist_array = np.apply_along_axis(dist_to_origin,1,value)\n",
    "    fraction = np.sum(dist_array<=1)/len(dist_array)\n",
    "    fractions[key] = fraction"
   ]
  },
  {
   "cell_type": "code",
   "execution_count": 12,
   "metadata": {},
   "outputs": [
    {
     "data": {
      "image/png": "[encoded data removed]",
      "text/plain": [
       "<Figure size 432x288 with 1 Axes>"
      ]
     },
     "metadata": {
      "needs_background": "light"
     },
     "output_type": "display_data"
    }
   ],
   "source": [
    "# Plot the dimension - fraction graph\n",
    "\n",
    "plt.plot(fractions.keys(),fractions.values())\n",
    "plt.xlabel(\"Dimension\")\n",
    "plt.ylabel(\"Fraction\");"
   ]
  },
  {
   "cell_type": "code",
   "execution_count": 19,
   "metadata": {},
   "outputs": [],
   "source": [
    "# As we can see, fraction of the points that are closer than 1 unit to the origin decreases because the euclidian distance\n",
    "# is defined in such a way that every new dimension increases (or at least not decreases) the distance between two points."
   ]
  },
  {
   "cell_type": "markdown",
   "metadata": {},
   "source": [
    "### b) Estimation of π"
   ]
  },
  {
   "cell_type": "markdown",
   "metadata": {},
   "source": [
    "### Volume of a unit circle := π * r^2 = c\n",
    "### Volume of a unit sphere := (4/3) * π * r^3 = s\n",
    "### c^3 / s^2 = 9π / 16 = Fraction(2)^3 / Fraction(3)^2\n",
    "### π = 16 * Fraction(2)^3 / (9* Fraction(3)^2)"
   ]
  },
  {
   "cell_type": "code",
   "execution_count": 22,
   "metadata": {},
   "outputs": [
    {
     "name": "stdout",
     "output_type": "stream",
     "text": [
      "π is estimated as: 2.934009590858076\n"
     ]
    }
   ],
   "source": [
    "# Solve the above equation to find an estimation to π.\n",
    "\n",
    "pi_estimate = 16*fractions[2]**3/(9*fractions[3]**2)\n",
    "print(\"π is estimated as: \"+ str(pi_estimate))"
   ]
  },
  {
   "cell_type": "markdown",
   "metadata": {},
   "source": [
    "### c) Estimation of π with different sample sizes"
   ]
  },
  {
   "cell_type": "code",
   "execution_count": 23,
   "metadata": {},
   "outputs": [],
   "source": [
    "# Create point samples with different sample sizes and dimensions\n",
    "\n",
    "sizes = [500, 1000, 5000, 8000, 10000,25000, 35000, 40000,50000, 70000, 80000, 100000]\n",
    "dim_dict_2 = {}\n",
    "fractions_2 = {}\n",
    "\n",
    "for size in sizes:\n",
    "    for D in range(1,16):\n",
    "        dim_dict_2[\"{0}dim{1}size\".format(D,size)] = np.random.rand(size,D)*2 - 1"
   ]
  },
  {
   "cell_type": "code",
   "execution_count": 24,
   "metadata": {},
   "outputs": [],
   "source": [
    "# Calculate the fraction of points closer than 1 unit to the origin, for each point sample\n",
    "\n",
    "for key,value in dim_dict_2.items():\n",
    "    dist_array = np.apply_along_axis(dist_to_origin,1,value)\n",
    "    fraction = np.sum(dist_array<=1)/len(dist_array)\n",
    "    fractions_2[key] = fraction"
   ]
  },
  {
   "cell_type": "code",
   "execution_count": 25,
   "metadata": {},
   "outputs": [],
   "source": [
    "# Calculate the pi estimates by using fraction values of 2D and 3D for each different sample size\n",
    "\n",
    "pi_estimates = {}\n",
    "for size in sizes:\n",
    "    pi_estimates[size] = 16*fractions_2[\"2dim{0}size\".format(size)]**3/(9*fractions_2[\"3dim{0}size\".format(size)]**2)"
   ]
  },
  {
   "cell_type": "code",
   "execution_count": 26,
   "metadata": {},
   "outputs": [
    {
     "data": {
      "image/png": "[encoded data removed]",
      "text/plain": [
       "<Figure size 432x288 with 1 Axes>"
      ]
     },
     "metadata": {
      "needs_background": "light"
     },
     "output_type": "display_data"
    }
   ],
   "source": [
    "# Plot the sample_size - pi_estimate graph\n",
    "\n",
    "plt.plot(pi_estimates.keys(),pi_estimates.values())\n",
    "plt.xlabel(\"Sample Size\")\n",
    "plt.ylabel(\"Pi Estimation\");"
   ]
  },
  {
   "cell_type": "markdown",
   "metadata": {},
   "source": [
    "### As we see, estimation starts with a high variation around the real pi value, but the variation decreases as the sample size increases"
   ]
  },
  {
   "cell_type": "markdown",
   "metadata": {},
   "source": [
    "### d) Average of nearest neighbor distance values"
   ]
  },
  {
   "cell_type": "code",
   "execution_count": 27,
   "metadata": {},
   "outputs": [],
   "source": [
    "# Create D-dimensional samples and their test data, for D ∈ [1,15]\n",
    "\n",
    "dim_dict_3 = {}\n",
    "test_data = {}\n",
    "\n",
    "for D in range(1,16):\n",
    "    dim_dict_3[D] = np.random.rand(1000,D)*2 - 1\n",
    "\n",
    "for D in range(1,16):\n",
    "    test_data[D] = np.random.rand(100,D)*2 - 1"
   ]
  },
  {
   "cell_type": "code",
   "execution_count": 28,
   "metadata": {},
   "outputs": [],
   "source": [
    "# Define a function to calculate the distance between two points of the same dimension\n",
    "\n",
    "def dist_between(x,y):\n",
    "    \n",
    "    if len(x)!=len(y):\n",
    "        print(\"Points of unequal dimension\")\n",
    "        return 0\n",
    "    \n",
    "    length = 0\n",
    "    for i in range(0,len(x)):\n",
    "        length += (x[i]-y[i])**2\n",
    "    \n",
    "    return length**0.5"
   ]
  },
  {
   "cell_type": "code",
   "execution_count": 29,
   "metadata": {},
   "outputs": [],
   "source": [
    "# Calculate the mean distances to the nearest neighbors\n",
    "\n",
    "mean_distances = {}\n",
    "\n",
    "for D in range(1,16):\n",
    "    min_distances = []\n",
    "    \n",
    "    for point_a in test_data[D]:\n",
    "        distances_a = []\n",
    "        \n",
    "        for point_b in dim_dict_3[D]:\n",
    "            distances_a.append(dist_between(point_a, point_b))\n",
    "            \n",
    "        min_distances.append(min(distances_a))\n",
    "    \n",
    "    mean_distances[D] = np.mean(min_distances)"
   ]
  },
  {
   "cell_type": "code",
   "execution_count": 30,
   "metadata": {},
   "outputs": [
    {
     "data": {
      "image/png": "[encoded data removed]",
      "text/plain": [
       "<Figure size 432x288 with 1 Axes>"
      ]
     },
     "metadata": {
      "needs_background": "light"
     },
     "output_type": "display_data"
    }
   ],
   "source": [
    "# Plot the mean distances\n",
    "\n",
    "plt.plot(mean_distances.keys(),mean_distances.values())\n",
    "plt.xlabel(\"Dimension\")\n",
    "plt.ylabel(\"Mean Distance\");"
   ]
  },
  {
   "cell_type": "code",
   "execution_count": 31,
   "metadata": {},
   "outputs": [],
   "source": [
    "# Mean distance increases with dimension increase due to the interaction between euclidean distance and dimension increase."
   ]
  },
  {
   "cell_type": "markdown",
   "metadata": {},
   "source": [
    "# Question 2 - Data Manipulation on Images\n",
    "\n",
    "### GOALS:\n",
    "\n",
    "#### i. Understand the data type of the image files\n",
    "#### ii. Manipulate the image files by playing with their matrix values"
   ]
  },
  {
   "cell_type": "markdown",
   "metadata": {},
   "source": [
    "### a) Read the image"
   ]
  },
  {
   "cell_type": "code",
   "execution_count": null,
   "metadata": {},
   "outputs": [],
   "source": []
  },
  {
   "cell_type": "code",
   "execution_count": null,
   "metadata": {},
   "outputs": [],
   "source": []
  },
  {
   "cell_type": "code",
   "execution_count": null,
   "metadata": {},
   "outputs": [],
   "source": []
  },
  {
   "cell_type": "code",
   "execution_count": null,
   "metadata": {},
   "outputs": [],
   "source": []
  },
  {
   "cell_type": "code",
   "execution_count": null,
   "metadata": {},
   "outputs": [],
   "source": []
  },
  {
   "cell_type": "code",
   "execution_count": null,
   "metadata": {},
   "outputs": [],
   "source": []
  },
  {
   "cell_type": "code",
   "execution_count": null,
   "metadata": {},
   "outputs": [],
   "source": []
  },
  {
   "cell_type": "code",
   "execution_count": null,
   "metadata": {},
   "outputs": [],
   "source": []
  },
  {
   "cell_type": "code",
   "execution_count": 9,
   "metadata": {},
   "outputs": [
    {
     "data": {
      "text/plain": [
       "0"
      ]
     },
     "execution_count": 9,
     "metadata": {},
     "output_type": "execute_result"
    }
   ],
   "source": [
    "import os\n",
    "\n",
    "os.system('jupyter nbconvert --to html HW1.ipynb')"
   ]
  },
  {
   "cell_type": "code",
   "execution_count": null,
   "metadata": {},
   "outputs": [],
   "source": []
  }
 ],
 "metadata": {
  "kernelspec": {
   "display_name": "Python 3",
   "language": "python",
   "name": "python3"
  },
  "language_info": {
   "codemirror_mode": {
    "name": "ipython",
    "version": 3
   },
   "file_extension": ".py",
   "mimetype": "text/x-python",
   "name": "python",
   "nbconvert_exporter": "python",
   "pygments_lexer": "ipython3",
   "version": "3.8.8"
  }
 },
 "nbformat": 4,
 "nbformat_minor": 4
}
